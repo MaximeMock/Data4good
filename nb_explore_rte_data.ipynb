{
 "cells": [
  {
   "cell_type": "code",
   "execution_count": null,
   "metadata": {},
   "outputs": [],
   "source": [
    "import os, sys\n",
    "import pandas as pd\n",
    "import plotly.graph_objects as go\n",
    "import io\n",
    "from dateutil import parser\n",
    "import scipy\n"
   ]
  },
  {
   "cell_type": "code",
   "execution_count": null,
   "metadata": {},
   "outputs": [],
   "source": [
    "def change_col_to_point(x):\n",
    "    if type(x) is str:\n",
    "        x = x.replace(',', '.')\n",
    "        return float(x)\n",
    "    else:\n",
    "        return float(x)"
   ]
  },
  {
   "cell_type": "code",
   "execution_count": null,
   "metadata": {},
   "outputs": [],
   "source": [
    "path = os.getcwd()\n",
    "dirs = os.listdir( path +'/Data/RTE')\n",
    "dirs.sort()\n",
    "i = 0\n",
    "df_tot = []\n",
    "for file in dirs:\n",
    "    print(file)\n",
    "    df = pd.read_csv('Data/RTE/'+file,encoding=\"ISO-8859-1\", sep='\\t', low_memory=False, index_col=0, header = [0,1])\n",
    "    df= df.replace(\"*\", 0)\n",
    "    df = df.applymap(change_col_to_point)\n",
    "    df_tot.append(df)\n",
    "df = pd.concat(df_tot)"
   ]
  },
  {
   "cell_type": "code",
   "execution_count": null,
   "metadata": {},
   "outputs": [],
   "source": [
    "df"
   ]
  },
  {
   "cell_type": "code",
   "execution_count": null,
   "metadata": {},
   "outputs": [],
   "source": [
    "df_group_resourse = df.groupby(level=0, axis=1).sum()"
   ]
  },
  {
   "cell_type": "code",
   "execution_count": null,
   "metadata": {},
   "outputs": [],
   "source": [
    "df.info()"
   ]
  },
  {
   "cell_type": "code",
   "execution_count": null,
   "metadata": {},
   "outputs": [],
   "source": [
    "df_group_resourse"
   ]
  },
  {
   "cell_type": "code",
   "execution_count": null,
   "metadata": {},
   "outputs": [],
   "source": [
    "df_group_resourse.index = [i.split('-')[0] for i in df_group_resourse.index]\n",
    "    #df['Date_time'] =  pd.to_datetime(df['Date_time'], format='%Y-%m-%d-%H:%M')"
   ]
  },
  {
   "cell_type": "code",
   "execution_count": null,
   "metadata": {},
   "outputs": [],
   "source": [
    "df_group_resourse.index = pd.to_datetime(df_group_resourse.index, format='%d/%m/%Y %H:%M')\n",
    "df_group_resourse"
   ]
  },
  {
   "cell_type": "code",
   "execution_count": null,
   "metadata": {},
   "outputs": [],
   "source": [
    "df_group_resourse['Nucléaire']"
   ]
  },
  {
   "cell_type": "code",
   "execution_count": null,
   "metadata": {},
   "outputs": [],
   "source": [
    "start ='2018-01-01 00:00:00'\n",
    "end ='2023-04-25 00:00:00'\n",
    "df_group_resourse_day = pd.DataFrame(df_group_resourse,\n",
    "    index=pd.date_range(start, end, freq=\"M\")\n",
    ")"
   ]
  },
  {
   "cell_type": "code",
   "execution_count": null,
   "metadata": {},
   "outputs": [],
   "source": [
    "df_group_resourse_day['Fioul'].plot()"
   ]
  },
  {
   "cell_type": "code",
   "execution_count": null,
   "metadata": {},
   "outputs": [],
   "source": [
    "df_group_resourse_day['Gaz'].plot()"
   ]
  },
  {
   "cell_type": "code",
   "execution_count": null,
   "metadata": {},
   "outputs": [],
   "source": [
    "df_group_resourse_day['Nucléaire'].plot()"
   ]
  },
  {
   "cell_type": "code",
   "execution_count": null,
   "metadata": {},
   "outputs": [],
   "source": [
    "df_group_resourse.Gaz.rolling(700, win_type ='triang').sum().plot()\n",
    "df_group_resourse.Nucléaire.rolling(700, win_type ='triang').sum().plot()\n",
    "df_group_resourse.Fioul.rolling(700, win_type ='triang').sum().plot()"
   ]
  },
  {
   "cell_type": "code",
   "execution_count": null,
   "metadata": {},
   "outputs": [],
   "source": [
    "series_list = []\n",
    "list_resource =[\"Gaz\", \"Nucléaire\", \"Fioul\", \"Charbon\"] \n",
    "for resourse in list_resource:\n",
    "    series = df_group_resourse[resourse].rolling(700, win_type ='triang').sum()\n",
    "    series_list.append(series)\n",
    "    \n"
   ]
  },
  {
   "cell_type": "code",
   "execution_count": null,
   "metadata": {},
   "outputs": [],
   "source": [
    "def list_series_data(df, list_label):\n",
    "    for resourse in list_label:\n",
    "        series = df[resourse].rolling(700, win_type ='triang').sum()\n",
    "        series_list.append(series)\n",
    "    return series_list"
   ]
  },
  {
   "cell_type": "code",
   "execution_count": null,
   "metadata": {},
   "outputs": [],
   "source": [
    "list_series = list_series_data(df_group_resourse, list_resource)\n",
    "list_series"
   ]
  },
  {
   "cell_type": "code",
   "execution_count": null,
   "metadata": {},
   "outputs": [],
   "source": [
    "def plot_subplot_resources(list_series,list_label):\n",
    "    fig = make_subplots(rows=len(list_series), cols=1)\n",
    "    \n",
    "    for i in range(len(list_series)):\n",
    "        fig.append_trace(go.Scatter(\n",
    "            x=list_series[i].index,\n",
    "            y=list_series[i],\n",
    "            name =list_label[i],\n",
    "        ), row=i+1, col=1)\n",
    "    fig.add_vrect(x0='2020-03-11', x1='2022-02-24', line_width=0, fillcolor=\"red\", opacity=0.1, annotation_text='Crise liée au COVID-19', annotation_position='inside top left')\n",
    "    fig.add_vrect(x0='2022-02-24', x1='2023-04-25', line_width=0, fillcolor=\"blue\", opacity=0.1, annotation_text='Guerre en Ukraine', annotation_position='inside top left')\n",
    "    fig.update_layout(height=1200, width=800, title_text=\"Electricitè pour la production de different resourse\")\n",
    "    fig.show()"
   ]
  },
  {
   "cell_type": "code",
   "execution_count": null,
   "metadata": {},
   "outputs": [],
   "source": [
    "plot_subplot_resources(series_list,list_resource)"
   ]
  },
  {
   "cell_type": "code",
   "execution_count": null,
   "metadata": {},
   "outputs": [],
   "source": [
    "df_Gaz = df_group_resourse.Gaz.rolling(700, win_type ='triang').sum()\n",
    "df_nucleaire = df_group_resourse.Nucléaire.rolling(700, win_type ='triang').sum()\n",
    "df_fioul = df_group_resourse.Fioul.rolling(700, win_type ='triang').sum()\n",
    "df_charbon =df_group_resourse.Charbon.rolling(700, win_type ='triang').sum()"
   ]
  },
  {
   "cell_type": "code",
   "execution_count": null,
   "metadata": {},
   "outputs": [],
   "source": [
    "df_charbon.index[-1]"
   ]
  },
  {
   "cell_type": "code",
   "execution_count": null,
   "metadata": {},
   "outputs": [],
   "source": [
    "from plotly.subplots import make_subplots\n",
    "import plotly.graph_objects as go\n",
    "\n",
    "fig = make_subplots(rows=4, cols=1)\n",
    "\n",
    "fig.append_trace(go.Scatter(\n",
    "    x=df_Gaz.index,\n",
    "    y=df_Gaz,\n",
    "    name =\"Gaz\",\n",
    "), row=1, col=1)\n",
    "\n",
    "fig.append_trace(go.Scatter(\n",
    "    x=df_nucleaire.index,\n",
    "    y=df_nucleaire,\n",
    "    name =\"Nucleaire\",\n",
    "), row=2, col=1)\n",
    "\n",
    "fig.append_trace(go.Scatter(\n",
    "    x=df_fioul.index,\n",
    "    y=df_fioul,\n",
    "    name =\"Fioul\",\n",
    "), row=3, col=1)\n",
    "\n",
    "fig.append_trace(go.Scatter(\n",
    "    x=df_charbon.index,\n",
    "    y=df_charbon,\n",
    "    name =\"Charbon\",\n",
    "), row=4, col=1)\n",
    "\n",
    "fig.add_vrect(x0='2020-03-11', x1='2022-02-24', line_width=0, fillcolor=\"red\", opacity=0.1, annotation_text='Crise liée au COVID-19', annotation_position='inside top left')\n",
    "fig.add_vrect(x0='2022-02-24', x1='2023-04-01', line_width=0, fillcolor=\"blue\", opacity=0.1, annotation_text='Guerre en Ukraine', annotation_position='inside top left')\n",
    "fig.update_layout(height=1200, width=800, title_text=\"Electricitè pour la production de different resourse\")\n",
    "fig.show()"
   ]
  },
  {
   "cell_type": "code",
   "execution_count": null,
   "metadata": {},
   "outputs": [],
   "source": []
  }
 ],
 "metadata": {
  "kernelspec": {
   "display_name": "Python 3 (ipykernel)",
   "language": "python",
   "name": "python3"
  },
  "language_info": {
   "codemirror_mode": {
    "name": "ipython",
    "version": 3
   },
   "file_extension": ".py",
   "mimetype": "text/x-python",
   "name": "python",
   "nbconvert_exporter": "python",
   "pygments_lexer": "ipython3",
   "version": "3.9.13"
  }
 },
 "nbformat": 4,
 "nbformat_minor": 4
}
