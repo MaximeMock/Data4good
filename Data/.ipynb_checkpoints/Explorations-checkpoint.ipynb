{
 "cells": [
  {
   "cell_type": "code",
   "execution_count": null,
   "id": "6bbd03fd-d88e-49b1-8c40-7e3aaea8bf43",
   "metadata": {},
   "outputs": [],
   "source": [
    "#Imports : \n",
    "from Modules.Module import  ouverture_df, \n",
    "                            scatter_plot_2lines, \n",
    "                            scatter_plot_2lines_2y_axis, \n",
    "                            scatter_plot_2lines, \n",
    "                            plot_n_scatter_2axis"
   ]
  },
  {
   "cell_type": "code",
   "execution_count": null,
   "id": "c394f567-2ab0-49f7-a72f-13ee7b7dc4f5",
   "metadata": {},
   "outputs": [],
   "source": [
    "# Etude sur le Charbon : "
   ]
  },
  {
   "cell_type": "code",
   "execution_count": null,
   "id": "e52a82b0-8d1a-4002-8333-7314496688a7",
   "metadata": {},
   "outputs": [],
   "source": [
    "## Ouvertures des données : "
   ]
  },
  {
   "cell_type": "code",
   "execution_count": null,
   "id": "18852d5d-bf44-43d3-8f31-a350b672fca8",
   "metadata": {},
   "outputs": [],
   "source": [
    "# definition des bornes de l'étude : \n",
    "date_début = \n",
    "date_fin = \n",
    "\n",
    "\n",
    "path_prix_charbon = './Data/1.4.-Prix-menages-Bois.2023-04.csv'\n",
    "prix_charbon = ouverture_df(path_prix_charbon, date_début, date_fin)\n",
    "\n",
    "\n",
    "path_charbon = './Data/3.4.Charbon.2023-04.csv'\n",
    "charbon = ouverture_df(path_charbon, date_début, date_fin)\n",
    "\n",
    "path_synthese = './Data/4.5.-Synthese-Charbon.2023-04.csv'\n",
    "synthese = ouverture_df(path_synthese, date_début, date_fin)\n",
    "\n",
    "path_facture = './Data/5.-Facture-energetique.2023-04.csv'\n",
    "facture = ouverture_df(path_facture, date_début, date_fin)\n",
    "\n",
    "path_prixgros = './Data/6.-Prix-de-gros.2023-04.csv'\n",
    "prixgros = ouverture_df(path_prixgros, date_début, date_fin)\n",
    "\n"
   ]
  },
  {
   "cell_type": "code",
   "execution_count": 7,
   "id": "3b8633c1-fba2-4ced-82b2-e4c1ece404ee",
   "metadata": {},
   "outputs": [],
   "source": [
    "scatter_plot_2lines(x1=prix_charbon.index,\n",
    "                    y1=prix_charbon.iloc[:,1].astype(float),\n",
    "                    x2=prix_charbon.index, \n",
    "                    y2=prix_charbon.iloc[:,2].astype(float),\n",
    "                    label_1='granulés en vrac',\n",
    "                    label_2='granulés en sac',\n",
    "                    title=\"Evolution du prix du bois sur la période 2018-2022\",\n",
    "                    x_label='Temps en année',\n",
    "                    y_label='Prix en €',\n",
    "                    save=True,\n",
    "                   path_to_save='./Visualisations/evolution_prix_charbon.jpg')"
   ]
  },
  {
   "cell_type": "code",
   "execution_count": 8,
   "id": "58536d99-9e60-4c0c-807a-07f9206da9e9",
   "metadata": {
    "tags": []
   },
   "outputs": [],
   "source": [
    "scatter_plot_2lines_2y_axis(x1=charbon.index,\n",
    "                    y1=charbon.iloc[:,2].astype(float),\n",
    "                    x2=charbon.index, \n",
    "                    y2=charbon.iloc[:,3].astype(float),\n",
    "                    label_1='Importation des combustibles minéraux',\n",
    "                    label_2='Exportation des combustibles minéraux',\n",
    "                    title=\"Etude des flux de bois entre 2018 et 2022\",\n",
    "                    x_label='Temps en année',\n",
    "                    y_label='Poids en kt',\n",
    "                    save=True,\n",
    "                   path_to_save='./Visualisations/import_export_charbon_2y.jpg')"
   ]
  },
  {
   "cell_type": "code",
   "execution_count": 9,
   "id": "53ca96f5-1ba1-4c60-b4f8-cbcfc242e377",
   "metadata": {},
   "outputs": [],
   "source": [
    "scatter_plot_2lines(x1=charbon.index,\n",
    "                    y1=charbon.iloc[:,2].astype(float),\n",
    "                    x2=charbon.index, \n",
    "                    y2=charbon.iloc[:,3].astype(float),\n",
    "                    label_1='Importation des combustibles minéraux',\n",
    "                    label_2='Exportation des combustibles minéraux',\n",
    "                    title=\"Etude des flux de bois entre 2018 et 2022\",\n",
    "                    x_label='Temps en année',\n",
    "                    y_label='Poids en kt',\n",
    "                    save=True,\n",
    "                   path_to_save='./Visualisations/import_export_charbon.jpg')"
   ]
  },
  {
   "cell_type": "code",
   "execution_count": null,
   "id": "706e2241-c2a2-43f0-8b91-33ee1e65115d",
   "metadata": {},
   "outputs": [],
   "source": [
    "## Etude de l'inflation sur le prix du charbon :"
   ]
  },
  {
   "cell_type": "code",
   "execution_count": null,
   "id": "8786bc75-99bb-40d9-90fb-58546ec58726",
   "metadata": {
    "tags": []
   },
   "outputs": [],
   "source": [
    "#URL : https://www.insee.fr/fr/statistiques/4268033\n",
    "inflation = pd.read_csv('./Data/inflation_2018_2022.csv', sep='\\t', header=None)\n",
    "inflation.columns = ['Période', 'Alimentation', 'Produits manufacturés', 'Energie', 'Services', 'Tabac']\n",
    "inflation.index = pd.to_datetime(inflation.Période)\n",
    "inflation = inflation.applymap(lambda x: x.replace(' ', '').replace(',', '.'))\n",
    "inflation_energie = inflation.loc[:,'Energie'].copy()"
   ]
  },
  {
   "cell_type": "code",
   "execution_count": null,
   "id": "f34b9395-55ce-4081-b853-976bd980588e",
   "metadata": {},
   "outputs": [],
   "source": [
    "liste_inflation = []\n",
    "for idx, value in enumerate(inflation_energie):\n",
    "    if idx !=0:\n",
    "        inf = ((float(value) - float(inflation_energie.iloc[idx-1]))/float(inflation_energie.iloc[idx-1])*100)\n",
    "        liste_inflation.append(inf)\n",
    "    else :\n",
    "        liste_inflation.append(0.)\n",
    "inflation_energie = pd.concat([inflation_energie, pd.Series(liste_inflation, index=inflation_energie.index, name='Inflation')], axis=1)"
   ]
  },
  {
   "cell_type": "code",
   "execution_count": null,
   "id": "36663f5d-3624-4183-ba70-0211b9b459d7",
   "metadata": {
    "tags": []
   },
   "outputs": [],
   "source": [
    "prix_charbon_inflation = pd.concat([prix_charbon, inflation_energie.Inflation], axis=1)\n",
    "prix_charbon_inflation.iloc[:,1:5] = prix_charbon_inflation.iloc[:,1:5].astype(float)\n",
    "prix_charbon_inflation.iloc[:,1] = prix_charbon_inflation.iloc[:,1]*(100-prix_charbon_inflation.iloc[:,5].astype(float))/100\n",
    "prix_charbon_inflation.iloc[:,2] = prix_charbon_inflation.iloc[:,2]*(100-prix_charbon_inflation.iloc[:,5].astype(float))/100\n",
    "prix_charbon_inflation.iloc[:,3] = prix_charbon_inflation.iloc[:,3]*(100-prix_charbon_inflation.iloc[:,5].astype(float))/100\n",
    "prix_charbon_inflation.iloc[:,4] = prix_charbon_inflation.iloc[:,4]*(100-prix_charbon_inflation.iloc[:,5].astype(float))/100"
   ]
  },
  {
   "cell_type": "code",
   "execution_count": null,
   "id": "030d99c9-43eb-4861-ad44-449ad6693410",
   "metadata": {
    "tags": []
   },
   "outputs": [],
   "source": [
    "prix_charbon_inflation.head()"
   ]
  },
  {
   "cell_type": "code",
   "execution_count": null,
   "id": "1484f8d5-c539-4eec-b09f-5154c38567fb",
   "metadata": {},
   "outputs": [],
   "source": [
    "scatter_plot_2lines(prix_charbon_inflation.index, \n",
    "                    prix_charbon_inflation.iloc[:,1], \n",
    "                    prix_charbon_inflation.index, \n",
    "                    prix_charbon_inflation.iloc[:,2], \n",
    "                    'Granulés en vrac',\n",
    "                    'Granulés en sac', \n",
    "                    'Evolution du prix d\\'une tonne de bois corrigé par l\\'inflation', \n",
    "                    'Temps en année', \n",
    "                    'Prix en €/t', \n",
    "                    save=True, \n",
    "                    path_to_save='Prix_charbon_inflation.png')"
   ]
  },
  {
   "cell_type": "code",
   "execution_count": null,
   "id": "75d7cb77-0adf-451b-b37f-e4a533b396d0",
   "metadata": {},
   "outputs": [],
   "source": [
    "# Etude du mix énergétique en france : "
   ]
  },
  {
   "cell_type": "code",
   "execution_count": null,
   "id": "df6b750c-52ed-4bc9-85cb-25c3d166c8dc",
   "metadata": {},
   "outputs": [],
   "source": [
    "df_nuc_fr = pd.read_csv('./Data/disponibilite-du-parc-nucleaire-d-edf-sa-depuis-2002.csv', sep=';')"
   ]
  },
  {
   "cell_type": "code",
   "execution_count": null,
   "id": "cdd16bc8-4065-4821-a306-97e6efc95bb7",
   "metadata": {},
   "outputs": [],
   "source": [
    "df_nuc_fr"
   ]
  },
  {
   "cell_type": "code",
   "execution_count": null,
   "id": "db5265bd-a53a-4125-87b2-84e9da78dc70",
   "metadata": {},
   "outputs": [],
   "source": [
    "fig = go.Figure()\n",
    "fig.add_trace(go.Bar(x=df_nuc_fr.annee, y=df_nuc_fr.coefficient_de_disponibilite))\n",
    "fig.add_trace(go.Scatter(x=df_nuc_fr.annee, y=df_nuc_fr.coefficient_de_disponibilite))\n",
    "fig.show()"
   ]
  },
  {
   "cell_type": "code",
   "execution_count": null,
   "id": "8fdeba6e-efc4-409a-b6ef-ad0ae380de52",
   "metadata": {},
   "outputs": [],
   "source": [
    "mix_ener = pd.read_csv('./Data/origine-de-lelectricite-fournie-par-edf-sa.csv', sep=';')\n",
    "# Liste des années présente dans le jeu de données :\n",
    "annees = list(mix_ener.annee.unique())\n",
    "dict_ = {annee: mix_ener.loc[mix_ener.loc[:,'annee']==annee] for annee in annees}\n",
    "# _2021 = mix_ener.loc[mix_ener.loc[:,'annee']==2021]\n",
    "# _2020 = mix_ener.loc[mix_ener.loc[:,'annee']==2020]\n",
    "# _2019 = mix_ener.loc[mix_ener.loc[:,'annee']==2019]\n",
    "# _2018 = mix_ener.loc[mix_ener.loc[:,'annee']==2018]\n",
    "# _2017 = mix_ener.loc[mix_ener.loc[:,'annee']==2017]"
   ]
  },
  {
   "cell_type": "code",
   "execution_count": null,
   "id": "f5d757f6-f3a1-4d4b-b249-b2bf5caca728",
   "metadata": {},
   "outputs": [],
   "source": [
    "_2021"
   ]
  },
  {
   "cell_type": "code",
   "execution_count": null,
   "id": "bbe1e015-e168-4c34-a3a3-cdebc0ab1d61",
   "metadata": {},
   "outputs": [],
   "source": [
    "fig = go.Figure(data=[go.Pie(labels=_2021.sous_categorie, values=_2021.valeur)])\n",
    "fig.update_layout(title_text='Répartition du mix energétique pour 2021', title_x=0.5, legend_title_text = \"Légende :\", width=800, height=600,template='plotly_white')\n",
    "fig.update_traces(textfont_size=20)\n",
    "fig.show()"
   ]
  },
  {
   "cell_type": "code",
   "execution_count": null,
   "id": "8116889f-58a3-4b13-8d33-f678b19abda4",
   "metadata": {},
   "outputs": [],
   "source": [
    "fig = make_subplots()\n",
    "    \n",
    "    data=[go.Pie(labels=_2021.sous_categorie, values=_2021.valeur)]\n",
    "fig.update_layout(title_text='Répartition du mix energétique pour 2021', title_x=0.5, legend_title_text = \"Légende :\", width=800, height=600,template='plotly_white')\n",
    "fig.update_traces(textfont_size=20)\n",
    "fig.show()"
   ]
  },
  {
   "cell_type": "code",
   "execution_count": null,
   "id": "97045f71-183d-46e0-a03a-1ddae025a877",
   "metadata": {},
   "outputs": [],
   "source": []
  }
 ],
 "metadata": {
  "kernelspec": {
   "display_name": "Python 3 (ipykernel)",
   "language": "python",
   "name": "python3"
  },
  "language_info": {
   "codemirror_mode": {
    "name": "ipython",
    "version": 3
   },
   "file_extension": ".py",
   "mimetype": "text/x-python",
   "name": "python",
   "nbconvert_exporter": "python",
   "pygments_lexer": "ipython3",
   "version": "3.9.12"
  }
 },
 "nbformat": 4,
 "nbformat_minor": 5
}
