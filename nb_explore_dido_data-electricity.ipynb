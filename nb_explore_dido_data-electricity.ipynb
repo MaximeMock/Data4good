{
 "cells": [
  {
   "cell_type": "code",
   "execution_count": null,
   "id": "26508ddf",
   "metadata": {},
   "outputs": [],
   "source": [
    "import os, sys\n",
    "import pandas as pd\n",
    "import plotly.graph_objects as go\n",
    "# Open a file\n"
   ]
  },
  {
   "cell_type": "code",
   "execution_count": null,
   "id": "76775f11",
   "metadata": {},
   "outputs": [],
   "source": [
    "path = os.getcwd()\n",
    "dirs = os.listdir( path +'/Data/')\n",
    "dirs.sort()"
   ]
  },
  {
   "cell_type": "code",
   "execution_count": null,
   "id": "7822c230",
   "metadata": {},
   "outputs": [],
   "source": [
    "def read_electricity_data(date_debut, date_fin):\n",
    "    df_list = list()\n",
    "    for file in dirs:\n",
    "        \n",
    "        #print('---------------------------',file, '-------------------------')\n",
    "        \n",
    "        if 'Electricite' in file:\n",
    "            print(file)\n",
    "            df = pd.read_csv('Data/'+file,delimiter=';').drop(0).sort_values('Période')\n",
    "            #print(df[-1:])\n",
    "            df = df.loc[(df.loc[:,'Période'] >= date_debut) & (df.loc[:,'Période'] <= date_fin)].reset_index(drop=True)\n",
    "            df['Période']= pd.to_datetime(df['Période'], format='%Y-%m')\n",
    "            for column in df.columns:\n",
    "                if column!='Période':\n",
    "                    df[column] = df[column].astype(float)\n",
    "            df_list.append(df)\n",
    "    #print(len(df_list))\n",
    "    return df_list"
   ]
  },
  {
   "cell_type": "code",
   "execution_count": null,
   "id": "fdc7f6a0",
   "metadata": {},
   "outputs": [],
   "source": [
    "def plot_from_df(df,labels, title, x_title, y_title, save=False, path_to_save=''):\n",
    "    \"\"\"\n",
    "    Plots data from a Pandas DataFrame using Plotly.\n",
    "\n",
    "    Args:\n",
    "    df (pd.DataFrame): The Pandas DataFrame containing data to be plotted.\n",
    "    labels (List[str]): A list of labels for the data series to be plotted.\n",
    "    title (str): The title of the plot.\n",
    "    x_title (str): The label of the x-axis.\n",
    "    y_title (str): The label of the y-axis.\n",
    "\n",
    "    Returns:\n",
    "    None.\n",
    "    \"\"\"\n",
    "    list_columns = df.columns[1:].to_list()\n",
    "        \n",
    "    fig = go.Figure()\n",
    "    i=0\n",
    "    for column in list_columns:\n",
    "        fig.add_trace(go.Scatter(x=df.Période, y=df[column], name=labels[i]))\n",
    "        i= i+1\n",
    "    fig.add_vrect(x0='2020-03-11', x1='2022-02-24', line_width=0, fillcolor=\"red\", opacity=0.1, annotation_text='Crise liée au COVID-19', annotation_position='inside top left')\n",
    "    fig.add_vrect(x0='2022-02-24', x1='2023-04-01', line_width=0, fillcolor=\"blue\", opacity=0.1, annotation_text='Guerre en Ukraine', annotation_position='inside top left')\n",
    "    fig.update_layout(title_text=title, legend_title_text = \"Légende :\", width=1000, height=600, template='simple_white')\n",
    "    fig.update_xaxes(title_text=x_title)\n",
    "    fig.update_yaxes(title_text=y_title)\n",
    "    if not save:\n",
    "            fig.show()\n",
    "    if save:\n",
    "        fig.write_image(path_to_save)\n"
   ]
  },
  {
   "cell_type": "code",
   "execution_count": null,
   "id": "ce095d2d",
   "metadata": {},
   "outputs": [],
   "source": [
    "def plot_from_df_with_list_col(df: pd.DataFrame, list_columns: list(), labels: list(), title: str, x_title: str, y_title: str, save: bool = False, path_to_save: str = '') :\n",
    "    \"\"\"\n",
    "    Plots data from a Pandas DataFrame using Plotly.\n",
    "\n",
    "    Args:\n",
    "    df (pd.DataFrame): The Pandas DataFrame containing data to be plotted.\n",
    "    list_columns (List[str]): A list of column names to be plotted.\n",
    "    labels (List[str]): A list of labels for the data series to be plotted.\n",
    "    title (str): The title of the plot.\n",
    "    x_title (str): The label of the x-axis.\n",
    "    y_title (str): The label of the y-axis.\n",
    "    save (bool): A flag indicating whether to save the plot or display it. Default is False.\n",
    "    path_to_save (str): The path where the plot should be saved if `save` is True. Default is an empty string.\n",
    "\n",
    "    Returns:\n",
    "    None.\n",
    "    \"\"\"\n",
    "            \n",
    "    fig = go.Figure()\n",
    "    i=0\n",
    "    for column in list_columns:\n",
    "        fig.add_trace(go.Scatter(x=df.Période, y=df[column], name=labels[i]))\n",
    "        i= i+1\n",
    "    fig.add_vrect(x0='2020-03-11', x1='2022-02-24', line_width=0, fillcolor=\"red\", opacity=0.1, annotation_text='Crise liée au COVID-19', annotation_position='inside top left')\n",
    "    fig.add_vrect(x0='2022-02-24', x1='2023-04-01', line_width=0, fillcolor=\"blue\", opacity=0.1, annotation_text='Guerre en Ukraine', annotation_position='inside top left')\n",
    "    fig.update_layout(title_text=title, legend_title_text = \"Légende :\", width=1000, height=600, template='simple_white')\n",
    "    fig.update_xaxes(title_text=x_title)\n",
    "    fig.update_yaxes(title_text=y_title)\n",
    "    if not save:\n",
    "            fig.show()\n",
    "    if save:\n",
    "        fig.write_image(path_to_save)\n"
   ]
  },
  {
   "cell_type": "code",
   "execution_count": null,
   "id": "07dee72c",
   "metadata": {},
   "outputs": [],
   "source": [
    "def plot_first_column_from_df1_df2(df1: pd.DataFrame,df2: pd.DataFrame,labels: list(), title: str, x_title: str, y_title: str, correction: float(), save: bool=False, path_to_save: str=''):\n",
    "    \"\"\"\n",
    "    Plots the first column of two input dataframes on the same plot.\n",
    "\n",
    "    Args:\n",
    "    - df1 (pandas.DataFrame): First dataframe to be plotted.\n",
    "    - df2 (pandas.DataFrame): Second dataframe to be plotted.\n",
    "    - labels (list): List containing two string labels for the two dataframes.\n",
    "    - title (str): Title of the plot.\n",
    "    - x_title (str): Title of the x-axis.\n",
    "    - y_title (str): Title of the y-axis.\n",
    "    - correction (float): Factor by which to divide the first column of df1 for normalization.\n",
    "    - save (bool, optional): Whether or not to save the plot to a file. Defaults to False.\n",
    "    - path_to_save (str, optional): Path to save the plot. Only used if save is True. Defaults to ''.\n",
    "\n",
    "    Returns:\n",
    "    - None. Displays the plot or saves it to a file, depending on the save argument.\n",
    "\n",
    "    \"\"\"\n",
    "    list_columns1 = df1.columns[1:].to_list()\n",
    "    list_columns2 = df2.columns[1:].to_list()\n",
    "   \n",
    "    fig = go.Figure()\n",
    "    fig.add_trace(go.Scatter(x=df1.Période, y=df1[list_columns1[0]]/correction, name=labels[0]))\n",
    "    fig.add_trace(go.Scatter(x=df2.Période, y=df2[list_columns2[0]], name=labels[1]))\n",
    "    fig.add_vrect(x0='2020-03-11', x1='2022-02-24', line_width=0, fillcolor=\"red\", opacity=0.1, annotation_text='Crise liée au COVID-19', annotation_position='inside top left')\n",
    "    fig.add_vrect(x0='2022-02-24', x1='2023-04-01', line_width=0, fillcolor=\"blue\", opacity=0.1, annotation_text='Guerre en Ukraine', annotation_position='inside top left')\n",
    "    fig.update_layout(title_text=title, legend_title_text = \"Légende :\", width=1000, height=600, template='simple_white')\n",
    "    fig.update_xaxes(title_text=x_title)\n",
    "    fig.update_yaxes(title_text=y_title)\n",
    "    if not save:\n",
    "            fig.show()\n",
    "    if save:\n",
    "        fig.write_image(path_to_save)\n"
   ]
  },
  {
   "cell_type": "code",
   "execution_count": null,
   "id": "0abfaed8",
   "metadata": {},
   "outputs": [],
   "source": [
    "df_list = read_electricity_data(\"2018-01\",\"2023-02\")\n",
    "    \n",
    "df_price_menage_electricity = df_list[0]\n",
    "df_price_industry_electricity = df_list[1]\n",
    "df_electricity_2023 = df_list[2]\n",
    "df_summaryze_electricity = df_list[3]\n"
   ]
  },
  {
   "cell_type": "code",
   "execution_count": null,
   "id": "9de7aa0d",
   "metadata": {},
   "outputs": [],
   "source": [
    "labels = [\"toutes tranches\",\"tranches DA\", \"tranches DB\", \"tranches DC\",\"tranches DD\",\"tranches DE\"]\n",
    "title = \"Prix au détail de l'électricité TTC dans une menage sur la période 2018-2022\"\n",
    "x_title ='Temps en année'\n",
    "y_title = \"Prix au détail de l'électricité TTC (€)\"\n",
    "\n",
    "    \n",
    "plot_from_df(df_price_menage_electricity,labels, title, x_title, y_title)#, save=True, path_to_save='images/fig1.png')"
   ]
  },
  {
   "cell_type": "code",
   "execution_count": null,
   "id": "9b7b6681",
   "metadata": {},
   "outputs": [],
   "source": [
    "labels = [\"tranches IA à IF\",\"tranches IA\", \"tranches IB\", \"tranches IC\",\"tranches ID\",\"tranches IE\", \"tranches IF\",\"tranches IG\",\"toutes tranches\" ]\n",
    "title = \"Prix au détail de l'électricité hors TVA dans l'industrie sur la période 2018-2022\"\n",
    "x_title ='Temps en année'\n",
    "y_title = \"Prix au détail de l'électricité hors TVA (€)\"\n",
    "plot_from_df(df_price_industry_electricity,labels, title, x_title, y_title)#, save=True, path_to_save='images/fig2.png')"
   ]
  },
  {
   "cell_type": "code",
   "execution_count": null,
   "id": "ad33d662",
   "metadata": {},
   "outputs": [],
   "source": [
    "labels = [\"Electricite industriels\",\"Electricite dans menage\"]\n",
    "title = \"Prix au détail de l'électricité TTC dans l'industrie et dans le menage sur la période 2018-2022\"\n",
    "x_title = 'Temps en année'\n",
    "y_title = \"Prix au détail de l'électricité (€)\"\n",
    "plot_first_column_from_df1_df2(df_price_industry_electricity,df_price_menage_electricity,labels, title, x_title, y_title, 0.78)#, save=True, path_to_save='images/fig3.png')\n"
   ]
  },
  {
   "cell_type": "code",
   "execution_count": null,
   "id": "53f7e574",
   "metadata": {},
   "outputs": [],
   "source": [
    "production_net = [\"Production totale nette d'électricité (en GWh)\",\n",
    "                        \"Production nette d'électricité nucléaire (en GWh)\",\n",
    "                        \"Production nette d'électricité hydraulique (en GWh)\",\n",
    "                        \"Production nette d'électricité éolienne (en GWh)\",\n",
    "                        \"Production nette d'électricité photovoltaïque (en GWh)\",\n",
    "                        \"Production nette d'électricité thermique (en GWh)\"]\n",
    "  \n",
    "\n",
    "    \n",
    "labels=[\"totale\",\"électricité nucléaire\",\"électricité hydraulique\",\"électricité éolienne\",\"électricité photovoltaïque\",\"électricité thermique\"]\n",
    "title = \"Production nette d'électricité (GWh) sur sur la période 2018-2023\"\n",
    "x_title = 'Temps en année'\n",
    "y_title = \"Production nette d'électricité (GWh)\"\n",
    "plot_from_df_with_list_col(df_electricity_2023,production_net, labels, title, x_title, y_title)#, save=True, path_to_save='images/fig4.png')"
   ]
  },
  {
   "cell_type": "code",
   "execution_count": null,
   "id": "08221b22",
   "metadata": {},
   "outputs": [],
   "source": [
    "production = [\"1. Production (brute) d'électricité hydraulique, éolienne et photovoltaïque (en GWh)\",\n",
    "                \"1.1 Production brute d'électricité hydraulique (en GWh)\",\n",
    "                \"1.2 Production brute d'électricité éolienne (en GWh)\",\n",
    "                \"1.3 Production brute d'électricité solaire photovoltaïque (en GWh)\",\n",
    "                \"2. Production nucléaire (équivalent primaire à la production, sous forme de chaleur) (en GWh)\"]\n",
    "\n",
    "labels =[\"total: hydraulic - eolic - solar electricity \",\"hydraulic electricity\",\"eolic electricity\",\"solar electricity\",\"production nuclear\"]\n",
    "title =\"Production (brute) d'électricité renouvable (en GWh) sur la période 2018-2023\"\n",
    "x_title = 'Temps en année'\n",
    "y_title = \"Production brute d'électricité (GWh)\"\n",
    "plot_from_df_with_list_col(df_summaryze_electricity, production, labels, title, x_title, y_title)#, save=True, path_to_save='images/fig5.png')"
   ]
  },
  {
   "cell_type": "code",
   "execution_count": null,
   "id": "db42211f",
   "metadata": {},
   "outputs": [],
   "source": [
    "import_export = [\"3. Solde importateur (importations - exportations) d'électricité (en GWh)\",\n",
    "                \"3.1 Importations d'électricité (en GWh)\",\n",
    "                \"3.2 Exportations d'électricité (en GWh)\"]\n",
    "labels =[\"Total_import_export\",\"import\", \"export\"]\n",
    "title = \"Import/Export (GWh) sur la période 2018-2023\"\n",
    "x_title = 'Temps en année'\n",
    "y_title = \"Import/Export (GWh)\"\n",
    "plot_from_df_with_list_col(df_summaryze_electricity, import_export, labels, title, x_title, y_title)#, save=True, path_to_save='images/fig6.png')"
   ]
  },
  {
   "cell_type": "code",
   "execution_count": null,
   "id": "31a47a53",
   "metadata": {},
   "outputs": [],
   "source": [
    "consumption = [\"4. Consommation primaire d'énergie nucléaire, hydraulique, éolienne et photovoltaïque brute (en GWh)\",\n",
    "                \"5. Consommation d'électricité primaire et d'équivalent primaire d'électricité nucléaire CVC-CJO (en GWh)\",\n",
    "                \"6. Consommation d'électricité primaire et d'équivalent primaire d'électricité nucléaire CVS-CVC-CJO (en GWh)\"]\n",
    "labels =[\"non nucleiare\",\"nucleiare CVC-CJO\", \"nucleiare CVS-CVC-CJO\"]\n",
    "title =\"Consommation primaire d'énergie sur la période 2018-2023\"\n",
    "x_title = 'Temps en année'\n",
    "y_title = \"Consommation primaire d'énergie (GWh)\"\n",
    "plot_from_df_with_list_col(df_summaryze_electricity, consumption, labels, title, x_title, y_title)#, save=True, path_to_save='images/fig7.png')"
   ]
  },
  {
   "cell_type": "code",
   "execution_count": null,
   "id": "07272273",
   "metadata": {},
   "outputs": [],
   "source": []
  }
 ],
 "metadata": {
  "kernelspec": {
   "display_name": "Python 3 (ipykernel)",
   "language": "python",
   "name": "python3"
  },
  "language_info": {
   "codemirror_mode": {
    "name": "ipython",
    "version": 3
   },
   "file_extension": ".py",
   "mimetype": "text/x-python",
   "name": "python",
   "nbconvert_exporter": "python",
   "pygments_lexer": "ipython3",
   "version": "3.9.13"
  }
 },
 "nbformat": 4,
 "nbformat_minor": 5
}
