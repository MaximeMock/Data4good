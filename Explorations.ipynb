{
 "cells": [
  {
   "cell_type": "code",
   "execution_count": 2,
   "id": "6bbd03fd-d88e-49b1-8c40-7e3aaea8bf43",
   "metadata": {},
   "outputs": [],
   "source": [
    "#Imports : \n",
    "## Manipulation data :\n",
    "import pandas as pd\n",
    "import numpy as np\n",
    "## Général :\n",
    "import sys\n",
    "import os\n",
    "import datetime as dt\n",
    "import random\n",
    "\n",
    "## Plot et visu\n",
    "import plotly.graph_objects as go\n",
    "\n",
    "## Custom : \n",
    "from Modules.Module import ouverture_df, scatter_plot_2lines, scatter_plot_2lines_2y_axis, scatter_plot_2lines\n",
    "from Modules.Module import plot_n_scatter_2axis, read_petrole_data, BubbleCloud, barchart\n",
    "from Modules.Module import read_electricity_data, plot_from_df, plot_from_df_with_list_col, plot_first_column_from_df1_df2\n",
    "from Modules.Module import change_col_to_point, read_rte_data, list_series_data, plot_subplot_resources"
   ]
  },
  {
   "cell_type": "markdown",
   "id": "7f6e0613-7c55-4820-bd56-7d5389abd021",
   "metadata": {
    "tags": []
   },
   "source": [
    "# Etude sur le Charbon : "
   ]
  },
  {
   "cell_type": "markdown",
   "id": "0817de55-e1b2-4762-b3e4-8ebb5871d668",
   "metadata": {},
   "source": [
    "## Ouvertures des données : "
   ]
  },
  {
   "cell_type": "code",
   "execution_count": 3,
   "id": "18852d5d-bf44-43d3-8f31-a350b672fca8",
   "metadata": {},
   "outputs": [
    {
     "ename": "SyntaxError",
     "evalue": "invalid syntax (1497732047.py, line 2)",
     "output_type": "error",
     "traceback": [
      "\u001b[0;36m  Cell \u001b[0;32mIn[3], line 2\u001b[0;36m\u001b[0m\n\u001b[0;31m    date_début =\u001b[0m\n\u001b[0m                 ^\u001b[0m\n\u001b[0;31mSyntaxError\u001b[0m\u001b[0;31m:\u001b[0m invalid syntax\n"
     ]
    }
   ],
   "source": [
    "# definition des bornes de l'étude : \n",
    "date_début = \n",
    "date_fin = \n",
    "\n",
    "\n",
    "path_prix_charbon = './Data/1.4.-Prix-menages-Bois.2023-04.csv'\n",
    "prix_charbon = ouverture_df(path_prix_charbon, date_début, date_fin)\n",
    "\n",
    "\n",
    "path_charbon = './Data/3.4.Charbon.2023-04.csv'\n",
    "charbon = ouverture_df(path_charbon, date_début, date_fin)\n",
    "\n",
    "path_synthese = './Data/4.5.-Synthese-Charbon.2023-04.csv'\n",
    "synthese = ouverture_df(path_synthese, date_début, date_fin)\n",
    "\n",
    "path_facture = './Data/5.-Facture-energetique.2023-04.csv'\n",
    "facture = ouverture_df(path_facture, date_début, date_fin)\n",
    "\n",
    "path_prixgros = './Data/6.-Prix-de-gros.2023-04.csv'\n",
    "prixgros = ouverture_df(path_prixgros, date_début, date_fin)\n",
    "\n"
   ]
  },
  {
   "cell_type": "code",
   "execution_count": 4,
   "id": "3b8633c1-fba2-4ced-82b2-e4c1ece404ee",
   "metadata": {},
   "outputs": [
    {
     "ename": "NameError",
     "evalue": "name 'prix_charbon' is not defined",
     "output_type": "error",
     "traceback": [
      "\u001b[0;31m---------------------------------------------------------------------------\u001b[0m",
      "\u001b[0;31mNameError\u001b[0m                                 Traceback (most recent call last)",
      "Cell \u001b[0;32mIn[4], line 1\u001b[0m\n\u001b[0;32m----> 1\u001b[0m scatter_plot_2lines(x1\u001b[38;5;241m=\u001b[39m\u001b[43mprix_charbon\u001b[49m\u001b[38;5;241m.\u001b[39mindex,\n\u001b[1;32m      2\u001b[0m                     y1\u001b[38;5;241m=\u001b[39mprix_charbon\u001b[38;5;241m.\u001b[39miloc[:,\u001b[38;5;241m1\u001b[39m]\u001b[38;5;241m.\u001b[39mastype(\u001b[38;5;28mfloat\u001b[39m),\n\u001b[1;32m      3\u001b[0m                     x2\u001b[38;5;241m=\u001b[39mprix_charbon\u001b[38;5;241m.\u001b[39mindex, \n\u001b[1;32m      4\u001b[0m                     y2\u001b[38;5;241m=\u001b[39mprix_charbon\u001b[38;5;241m.\u001b[39miloc[:,\u001b[38;5;241m2\u001b[39m]\u001b[38;5;241m.\u001b[39mastype(\u001b[38;5;28mfloat\u001b[39m),\n\u001b[1;32m      5\u001b[0m                     label_1\u001b[38;5;241m=\u001b[39m\u001b[38;5;124m'\u001b[39m\u001b[38;5;124mgranulés en vrac\u001b[39m\u001b[38;5;124m'\u001b[39m,\n\u001b[1;32m      6\u001b[0m                     label_2\u001b[38;5;241m=\u001b[39m\u001b[38;5;124m'\u001b[39m\u001b[38;5;124mgranulés en sac\u001b[39m\u001b[38;5;124m'\u001b[39m,\n\u001b[1;32m      7\u001b[0m                     title\u001b[38;5;241m=\u001b[39m\u001b[38;5;124m\"\u001b[39m\u001b[38;5;124mEvolution du prix du bois sur la période 2018-2022\u001b[39m\u001b[38;5;124m\"\u001b[39m,\n\u001b[1;32m      8\u001b[0m                     x_label\u001b[38;5;241m=\u001b[39m\u001b[38;5;124m'\u001b[39m\u001b[38;5;124mTemps en année\u001b[39m\u001b[38;5;124m'\u001b[39m,\n\u001b[1;32m      9\u001b[0m                     y_label\u001b[38;5;241m=\u001b[39m\u001b[38;5;124m'\u001b[39m\u001b[38;5;124mPrix en €\u001b[39m\u001b[38;5;124m'\u001b[39m,\n\u001b[1;32m     10\u001b[0m                     save\u001b[38;5;241m=\u001b[39m\u001b[38;5;28;01mTrue\u001b[39;00m,\n\u001b[1;32m     11\u001b[0m                    path_to_save\u001b[38;5;241m=\u001b[39m\u001b[38;5;124m'\u001b[39m\u001b[38;5;124m./Visualisations/evolution_prix_charbon.jpg\u001b[39m\u001b[38;5;124m'\u001b[39m)\n",
      "\u001b[0;31mNameError\u001b[0m: name 'prix_charbon' is not defined"
     ]
    }
   ],
   "source": [
    "scatter_plot_2lines(x1=prix_charbon.index,\n",
    "                    y1=prix_charbon.iloc[:,1].astype(float),\n",
    "                    x2=prix_charbon.index, \n",
    "                    y2=prix_charbon.iloc[:,2].astype(float),\n",
    "                    label_1='granulés en vrac',\n",
    "                    label_2='granulés en sac',\n",
    "                    title=\"Evolution du prix du bois sur la période 2018-2022\",\n",
    "                    x_label='Temps en année',\n",
    "                    y_label='Prix en €',\n",
    "                    save=True,\n",
    "                   path_to_save='./Visualisations/evolution_prix_charbon.jpg')"
   ]
  },
  {
   "cell_type": "code",
   "execution_count": 5,
   "id": "58536d99-9e60-4c0c-807a-07f9206da9e9",
   "metadata": {
    "tags": []
   },
   "outputs": [
    {
     "ename": "NameError",
     "evalue": "name 'charbon' is not defined",
     "output_type": "error",
     "traceback": [
      "\u001b[0;31m---------------------------------------------------------------------------\u001b[0m",
      "\u001b[0;31mNameError\u001b[0m                                 Traceback (most recent call last)",
      "Cell \u001b[0;32mIn[5], line 1\u001b[0m\n\u001b[0;32m----> 1\u001b[0m scatter_plot_2lines_2y_axis(x1\u001b[38;5;241m=\u001b[39m\u001b[43mcharbon\u001b[49m\u001b[38;5;241m.\u001b[39mindex,\n\u001b[1;32m      2\u001b[0m                     y1\u001b[38;5;241m=\u001b[39mcharbon\u001b[38;5;241m.\u001b[39miloc[:,\u001b[38;5;241m2\u001b[39m]\u001b[38;5;241m.\u001b[39mastype(\u001b[38;5;28mfloat\u001b[39m),\n\u001b[1;32m      3\u001b[0m                     x2\u001b[38;5;241m=\u001b[39mcharbon\u001b[38;5;241m.\u001b[39mindex, \n\u001b[1;32m      4\u001b[0m                     y2\u001b[38;5;241m=\u001b[39mcharbon\u001b[38;5;241m.\u001b[39miloc[:,\u001b[38;5;241m3\u001b[39m]\u001b[38;5;241m.\u001b[39mastype(\u001b[38;5;28mfloat\u001b[39m),\n\u001b[1;32m      5\u001b[0m                     label_1\u001b[38;5;241m=\u001b[39m\u001b[38;5;124m'\u001b[39m\u001b[38;5;124mImportation des combustibles minéraux\u001b[39m\u001b[38;5;124m'\u001b[39m,\n\u001b[1;32m      6\u001b[0m                     label_2\u001b[38;5;241m=\u001b[39m\u001b[38;5;124m'\u001b[39m\u001b[38;5;124mExportation des combustibles minéraux\u001b[39m\u001b[38;5;124m'\u001b[39m,\n\u001b[1;32m      7\u001b[0m                     title\u001b[38;5;241m=\u001b[39m\u001b[38;5;124m\"\u001b[39m\u001b[38;5;124mEtude des flux de bois entre 2018 et 2022\u001b[39m\u001b[38;5;124m\"\u001b[39m,\n\u001b[1;32m      8\u001b[0m                     x_label\u001b[38;5;241m=\u001b[39m\u001b[38;5;124m'\u001b[39m\u001b[38;5;124mTemps en année\u001b[39m\u001b[38;5;124m'\u001b[39m,\n\u001b[1;32m      9\u001b[0m                     y_label\u001b[38;5;241m=\u001b[39m\u001b[38;5;124m'\u001b[39m\u001b[38;5;124mPoids en kt\u001b[39m\u001b[38;5;124m'\u001b[39m,\n\u001b[1;32m     10\u001b[0m                     save\u001b[38;5;241m=\u001b[39m\u001b[38;5;28;01mTrue\u001b[39;00m,\n\u001b[1;32m     11\u001b[0m                    path_to_save\u001b[38;5;241m=\u001b[39m\u001b[38;5;124m'\u001b[39m\u001b[38;5;124m./Visualisations/import_export_charbon_2y.jpg\u001b[39m\u001b[38;5;124m'\u001b[39m)\n",
      "\u001b[0;31mNameError\u001b[0m: name 'charbon' is not defined"
     ]
    }
   ],
   "source": [
    "scatter_plot_2lines_2y_axis(x1=charbon.index,\n",
    "                    y1=charbon.iloc[:,2].astype(float),\n",
    "                    x2=charbon.index, \n",
    "                    y2=charbon.iloc[:,3].astype(float),\n",
    "                    label_1='Importation des combustibles minéraux',\n",
    "                    label_2='Exportation des combustibles minéraux',\n",
    "                    title=\"Etude des flux de bois entre 2018 et 2022\",\n",
    "                    x_label='Temps en année',\n",
    "                    y_label='Poids en kt',\n",
    "                    save=True,\n",
    "                   path_to_save='./Visualisations/import_export_charbon_2y.jpg')"
   ]
  },
  {
   "cell_type": "code",
   "execution_count": 6,
   "id": "53ca96f5-1ba1-4c60-b4f8-cbcfc242e377",
   "metadata": {},
   "outputs": [
    {
     "ename": "NameError",
     "evalue": "name 'charbon' is not defined",
     "output_type": "error",
     "traceback": [
      "\u001b[0;31m---------------------------------------------------------------------------\u001b[0m",
      "\u001b[0;31mNameError\u001b[0m                                 Traceback (most recent call last)",
      "Cell \u001b[0;32mIn[6], line 1\u001b[0m\n\u001b[0;32m----> 1\u001b[0m scatter_plot_2lines(x1\u001b[38;5;241m=\u001b[39m\u001b[43mcharbon\u001b[49m\u001b[38;5;241m.\u001b[39mindex,\n\u001b[1;32m      2\u001b[0m                     y1\u001b[38;5;241m=\u001b[39mcharbon\u001b[38;5;241m.\u001b[39miloc[:,\u001b[38;5;241m2\u001b[39m]\u001b[38;5;241m.\u001b[39mastype(\u001b[38;5;28mfloat\u001b[39m),\n\u001b[1;32m      3\u001b[0m                     x2\u001b[38;5;241m=\u001b[39mcharbon\u001b[38;5;241m.\u001b[39mindex, \n\u001b[1;32m      4\u001b[0m                     y2\u001b[38;5;241m=\u001b[39mcharbon\u001b[38;5;241m.\u001b[39miloc[:,\u001b[38;5;241m3\u001b[39m]\u001b[38;5;241m.\u001b[39mastype(\u001b[38;5;28mfloat\u001b[39m),\n\u001b[1;32m      5\u001b[0m                     label_1\u001b[38;5;241m=\u001b[39m\u001b[38;5;124m'\u001b[39m\u001b[38;5;124mImportation des combustibles minéraux\u001b[39m\u001b[38;5;124m'\u001b[39m,\n\u001b[1;32m      6\u001b[0m                     label_2\u001b[38;5;241m=\u001b[39m\u001b[38;5;124m'\u001b[39m\u001b[38;5;124mExportation des combustibles minéraux\u001b[39m\u001b[38;5;124m'\u001b[39m,\n\u001b[1;32m      7\u001b[0m                     title\u001b[38;5;241m=\u001b[39m\u001b[38;5;124m\"\u001b[39m\u001b[38;5;124mEtude des flux de bois entre 2018 et 2022\u001b[39m\u001b[38;5;124m\"\u001b[39m,\n\u001b[1;32m      8\u001b[0m                     x_label\u001b[38;5;241m=\u001b[39m\u001b[38;5;124m'\u001b[39m\u001b[38;5;124mTemps en année\u001b[39m\u001b[38;5;124m'\u001b[39m,\n\u001b[1;32m      9\u001b[0m                     y_label\u001b[38;5;241m=\u001b[39m\u001b[38;5;124m'\u001b[39m\u001b[38;5;124mPoids en kt\u001b[39m\u001b[38;5;124m'\u001b[39m,\n\u001b[1;32m     10\u001b[0m                     save\u001b[38;5;241m=\u001b[39m\u001b[38;5;28;01mTrue\u001b[39;00m,\n\u001b[1;32m     11\u001b[0m                    path_to_save\u001b[38;5;241m=\u001b[39m\u001b[38;5;124m'\u001b[39m\u001b[38;5;124m./Visualisations/import_export_charbon.jpg\u001b[39m\u001b[38;5;124m'\u001b[39m)\n",
      "\u001b[0;31mNameError\u001b[0m: name 'charbon' is not defined"
     ]
    }
   ],
   "source": [
    "scatter_plot_2lines(x1=charbon.index,\n",
    "                    y1=charbon.iloc[:,2].astype(float),\n",
    "                    x2=charbon.index, \n",
    "                    y2=charbon.iloc[:,3].astype(float),\n",
    "                    label_1='Importation des combustibles minéraux',\n",
    "                    label_2='Exportation des combustibles minéraux',\n",
    "                    title=\"Etude des flux de bois entre 2018 et 2022\",\n",
    "                    x_label='Temps en année',\n",
    "                    y_label='Poids en kt',\n",
    "                    save=True,\n",
    "                   path_to_save='./Visualisations/import_export_charbon.jpg')"
   ]
  },
  {
   "cell_type": "markdown",
   "id": "bf53c86f-58ff-42d1-9694-64f90e70134f",
   "metadata": {
    "tags": []
   },
   "source": [
    "## Etude de l'inflation sur le prix du charbon :"
   ]
  },
  {
   "cell_type": "code",
   "execution_count": null,
   "id": "8786bc75-99bb-40d9-90fb-58546ec58726",
   "metadata": {
    "tags": []
   },
   "outputs": [],
   "source": [
    "#URL : https://www.insee.fr/fr/statistiques/4268033\n",
    "inflation = pd.read_csv('./Data/inflation_2018_2022.csv', sep='\\t', header=None)\n",
    "inflation.columns = ['Période', 'Alimentation', 'Produits manufacturés', 'Energie', 'Services', 'Tabac']\n",
    "inflation.index = pd.to_datetime(inflation.Période)\n",
    "inflation = inflation.applymap(lambda x: x.replace(' ', '').replace(',', '.'))\n",
    "inflation_energie = inflation.loc[:,'Energie'].copy()"
   ]
  },
  {
   "cell_type": "code",
   "execution_count": null,
   "id": "f34b9395-55ce-4081-b853-976bd980588e",
   "metadata": {},
   "outputs": [],
   "source": [
    "liste_inflation = []\n",
    "for idx, value in enumerate(inflation_energie):\n",
    "    if idx !=0:\n",
    "        inf = ((float(value) - float(inflation_energie.iloc[idx-1]))/float(inflation_energie.iloc[idx-1])*100)\n",
    "        liste_inflation.append(inf)\n",
    "    else :\n",
    "        liste_inflation.append(0.)\n",
    "inflation_energie = pd.concat([inflation_energie, pd.Series(liste_inflation, index=inflation_energie.index, name='Inflation')], axis=1)"
   ]
  },
  {
   "cell_type": "code",
   "execution_count": null,
   "id": "36663f5d-3624-4183-ba70-0211b9b459d7",
   "metadata": {
    "tags": []
   },
   "outputs": [],
   "source": [
    "prix_charbon_inflation = pd.concat([prix_charbon, inflation_energie.Inflation], axis=1)\n",
    "prix_charbon_inflation.iloc[:,1:5] = prix_charbon_inflation.iloc[:,1:5].astype(float)\n",
    "prix_charbon_inflation.iloc[:,1] = prix_charbon_inflation.iloc[:,1]*(100-prix_charbon_inflation.iloc[:,5].astype(float))/100\n",
    "prix_charbon_inflation.iloc[:,2] = prix_charbon_inflation.iloc[:,2]*(100-prix_charbon_inflation.iloc[:,5].astype(float))/100\n",
    "prix_charbon_inflation.iloc[:,3] = prix_charbon_inflation.iloc[:,3]*(100-prix_charbon_inflation.iloc[:,5].astype(float))/100\n",
    "prix_charbon_inflation.iloc[:,4] = prix_charbon_inflation.iloc[:,4]*(100-prix_charbon_inflation.iloc[:,5].astype(float))/100"
   ]
  },
  {
   "cell_type": "code",
   "execution_count": null,
   "id": "030d99c9-43eb-4861-ad44-449ad6693410",
   "metadata": {
    "tags": []
   },
   "outputs": [],
   "source": [
    "prix_charbon_inflation.head()"
   ]
  },
  {
   "cell_type": "code",
   "execution_count": null,
   "id": "1484f8d5-c539-4eec-b09f-5154c38567fb",
   "metadata": {},
   "outputs": [],
   "source": [
    "scatter_plot_2lines(prix_charbon_inflation.index, \n",
    "                    prix_charbon_inflation.iloc[:,1], \n",
    "                    prix_charbon_inflation.index, \n",
    "                    prix_charbon_inflation.iloc[:,2], \n",
    "                    'Granulés en vrac',\n",
    "                    'Granulés en sac', \n",
    "                    'Evolution du prix d\\'une tonne de bois corrigé par l\\'inflation', \n",
    "                    'Temps en année', \n",
    "                    'Prix en €/t', \n",
    "                    save=True, \n",
    "                    path_to_save='Prix_charbon_inflation.png')"
   ]
  },
  {
   "cell_type": "markdown",
   "id": "4979666c-80b1-4097-a739-82eecba891a8",
   "metadata": {},
   "source": [
    "# Etude du mix énergétique en france : "
   ]
  },
  {
   "cell_type": "code",
   "execution_count": null,
   "id": "df6b750c-52ed-4bc9-85cb-25c3d166c8dc",
   "metadata": {},
   "outputs": [],
   "source": [
    "df_nuc_fr = pd.read_csv('./Data/disponibilite-du-parc-nucleaire-d-edf-sa-depuis-2002.csv', sep=';')"
   ]
  },
  {
   "cell_type": "code",
   "execution_count": null,
   "id": "cdd16bc8-4065-4821-a306-97e6efc95bb7",
   "metadata": {},
   "outputs": [],
   "source": [
    "df_nuc_fr"
   ]
  },
  {
   "cell_type": "code",
   "execution_count": null,
   "id": "db5265bd-a53a-4125-87b2-84e9da78dc70",
   "metadata": {},
   "outputs": [],
   "source": [
    "fig = go.Figure()\n",
    "fig.add_trace(go.Bar(x=df_nuc_fr.annee, y=df_nuc_fr.coefficient_de_disponibilite))\n",
    "fig.add_trace(go.Scatter(x=df_nuc_fr.annee, y=df_nuc_fr.coefficient_de_disponibilite))\n",
    "fig.show()"
   ]
  },
  {
   "cell_type": "code",
   "execution_count": null,
   "id": "8fdeba6e-efc4-409a-b6ef-ad0ae380de52",
   "metadata": {},
   "outputs": [],
   "source": [
    "mix_ener = pd.read_csv('./Data/origine-de-lelectricite-fournie-par-edf-sa.csv', sep=';')\n",
    "# Liste des années présente dans le jeu de données :\n",
    "annees = list(mix_ener.annee.unique())\n",
    "dict_ = {annee: mix_ener.loc[mix_ener.loc[:,'annee']==annee] for annee in annees}\n",
    "# _2021 = mix_ener.loc[mix_ener.loc[:,'annee']==2021]\n",
    "# _2020 = mix_ener.loc[mix_ener.loc[:,'annee']==2020]\n",
    "# _2019 = mix_ener.loc[mix_ener.loc[:,'annee']==2019]\n",
    "# _2018 = mix_ener.loc[mix_ener.loc[:,'annee']==2018]\n",
    "# _2017 = mix_ener.loc[mix_ener.loc[:,'annee']==2017]"
   ]
  },
  {
   "cell_type": "code",
   "execution_count": null,
   "id": "f5d757f6-f3a1-4d4b-b249-b2bf5caca728",
   "metadata": {},
   "outputs": [],
   "source": [
    "_2021"
   ]
  },
  {
   "cell_type": "code",
   "execution_count": null,
   "id": "bbe1e015-e168-4c34-a3a3-cdebc0ab1d61",
   "metadata": {},
   "outputs": [],
   "source": [
    "fig = go.Figure(data=[go.Pie(labels=_2021.sous_categorie, values=_2021.valeur)])\n",
    "fig.update_layout(title_text='Répartition du mix energétique pour 2021', title_x=0.5, legend_title_text = \"Légende :\", width=800, height=600,template='plotly_white')\n",
    "fig.update_traces(textfont_size=20)\n",
    "fig.show()"
   ]
  },
  {
   "cell_type": "code",
   "execution_count": null,
   "id": "8116889f-58a3-4b13-8d33-f678b19abda4",
   "metadata": {},
   "outputs": [],
   "source": [
    "fig = make_subplots()\n",
    "    \n",
    "    data=[go.Pie(labels=_2021.sous_categorie, values=_2021.valeur)]\n",
    "fig.update_layout(title_text='Répartition du mix energétique pour 2021', title_x=0.5, legend_title_text = \"Légende :\", width=800, height=600,template='plotly_white')\n",
    "fig.update_traces(textfont_size=20)\n",
    "fig.show()"
   ]
  },
  {
   "cell_type": "markdown",
   "id": "dd9ee901-27bd-4356-a7cd-b8279bfba369",
   "metadata": {},
   "source": [
    "## Etude sur le Pétrole"
   ]
  },
  {
   "cell_type": "code",
   "execution_count": null,
   "id": "bfa53dfb-d1e8-4388-911a-807cc50a8b43",
   "metadata": {},
   "outputs": [],
   "source": [
    "import pandas as pd\n",
    "import numpy as np\n",
    "import os\n",
    "import datetime as dt\n",
    "\n",
    "import plotly.graph_objects as go\n",
    "import random\n",
    "import circlify\n",
    "import sys"
   ]
  },
  {
   "cell_type": "markdown",
   "id": "c74f3589-47e9-47a4-bb1a-f57328edfc38",
   "metadata": {},
   "source": [
    "### Conso, import, export"
   ]
  },
  {
   "cell_type": "markdown",
   "id": "eec00586-9152-469c-84a3-32c55a2eb2ff",
   "metadata": {},
   "source": [
    "#### Etude de l'évolution de la consommation, des importations, des exportations et du prix des produits pétroliers en France entre 2018 et 2023 (données: https://www.statistiques.developpement-durable.gouv.fr/catalogue?page=dataset&datasetId=631b03afb61e5c6479370169)"
   ]
  },
  {
   "cell_type": "code",
   "execution_count": null,
   "id": "828c7aaf-acb1-476c-a3fa-c0bccaf06433",
   "metadata": {},
   "outputs": [],
   "source": [
    "df_list = read_petrole_data('2018-01-01', '2023-01-01')"
   ]
  },
  {
   "cell_type": "code",
   "execution_count": null,
   "id": "05a604dd-6a25-4941-97e3-2451b165b662",
   "metadata": {},
   "outputs": [],
   "source": [
    "## Prix industriels\n",
    "df_list[1].head()"
   ]
  },
  {
   "cell_type": "code",
   "execution_count": null,
   "id": "3baa5559-0b42-458c-9d3d-45ced5145147",
   "metadata": {},
   "outputs": [],
   "source": [
    "## Synthèse pétrole\n",
    "df_list[0].head()"
   ]
  },
  {
   "cell_type": "code",
   "execution_count": null,
   "id": "99a88d85-2b0e-4273-9be3-1a21f34d2c6e",
   "metadata": {},
   "outputs": [],
   "source": [
    "## Pétrole\n",
    "df_list[2].head()"
   ]
  },
  {
   "cell_type": "code",
   "execution_count": null,
   "id": "c1a83231-e479-473c-b7c7-4280060ca25b",
   "metadata": {},
   "outputs": [],
   "source": [
    "df_list[2].info()"
   ]
  },
  {
   "cell_type": "code",
   "execution_count": null,
   "id": "166bba06-6d02-4f87-bb93-3c81f8a3e369",
   "metadata": {},
   "outputs": [],
   "source": [
    "df_list[2].columns"
   ]
  },
  {
   "cell_type": "code",
   "execution_count": null,
   "id": "71951ccb-7a7d-47b9-88b0-c90be590d235",
   "metadata": {},
   "outputs": [],
   "source": [
    "## Prix ménages\n",
    "df_list[3].head()"
   ]
  },
  {
   "cell_type": "code",
   "execution_count": null,
   "id": "78c13ea3-51ca-4e2e-b4e2-c9859d535dd1",
   "metadata": {},
   "outputs": [],
   "source": [
    "## trie des dates pour pouvoir faire les figures\n",
    "df_list[3] = df_list[3].sort_index()\n",
    "df_list[2] = df_list[2].sort_index()\n",
    "df_list[1] = df_list[1].sort_index()\n",
    "df_list[0] = df_list[0].sort_index()"
   ]
  },
  {
   "cell_type": "code",
   "execution_count": null,
   "id": "7b630afd-eb9f-4145-92bf-5c2c131d3bb5",
   "metadata": {},
   "outputs": [],
   "source": [
    "## Solde importateur de pétrole\n",
    "fig = go.Figure()\n",
    "fig.add_trace(go.Scatter(x=df_list[3].index, y=df_list[2][\"2. Solde importateur (importations - exportations) tous produits pétroliers (en kt)\"], name='Solde importateur en kt'))\n",
    "fig.update_layout(title_text=\"Evolution du solde importateur sur la période 2018-2022\", legend_title_text = \"Légende :\", width=800, height=400, template='simple_white')\n",
    "fig.update_xaxes(title_text='Temps en année')\n",
    "fig.update_yaxes(title_text='Volume en kt')\n",
    "fig.show()"
   ]
  },
  {
   "cell_type": "code",
   "execution_count": null,
   "id": "622020c9-85b7-4e11-853b-c520b1dcd14b",
   "metadata": {},
   "outputs": [],
   "source": [
    "# Vente de gazole en France\n",
    "scatter_plot_2lines(x1 = df_list[2].index, y1 = df_list[2][\"7.3 Ventes de gazole CVS-CVC-CJO (en kt)\"], label_1 = 'Vente de gazole en kt', x_label = 'Temps en année',\n",
    "                    y_label = 'Masse en kt', title = \"Evolution de la vente de gazole en France sur la période 2018-2022\")"
   ]
  },
  {
   "cell_type": "code",
   "execution_count": null,
   "id": "9b195c88-d820-4430-8bbd-a1d6b1993691",
   "metadata": {},
   "outputs": [],
   "source": [
    "# Import et export de pétrole\n",
    "scatter_plot_2lines(x1 = df_list[2].index, y1 = df_list[2][\"2.2 Exportations de produits pétroliers raffinés (en kt)\"], x2 = df_list[2].index,\n",
    "                    y2 = df_list[2][\"2.1 Importations totales de produits pétroliers (en kt)\"], label_1 = 'Exportation de produits raffinés en kt', label_2 = 'Importation de produit pétroliers en kt', x_label = 'Temps en année',\n",
    "                    y_label = 'Masse en kt', title = \"Evolution des importations et exportations de pétrole sur la période 2018-2022\")"
   ]
  },
  {
   "cell_type": "code",
   "execution_count": null,
   "id": "dc756dd8-ce10-49b5-b02a-9718042ed744",
   "metadata": {},
   "outputs": [],
   "source": [
    "# Consommation vs importation\n",
    "scatter_plot_2lines(x1 = df_list[2].index, y1 = df_list[2][\"7. Consommation totale de produits pétroliers CVS-CVC-CJO (en kt)\"], x2 = df_list[2].index,\n",
    "                    y2 = df_list[2][\"2.1 Importations totales de produits pétroliers (en kt)\"], label_1 = 'Consommation de produits pétroliers en kt', label_2 = 'Importations de produits pétroliers en kt', x_label = 'Temps en année',\n",
    "                    y_label = 'Masse en kt', title = \"Evolution de la consommation de produits pétroliers et des imports sur la période 2018-2022\")"
   ]
  },
  {
   "cell_type": "code",
   "execution_count": null,
   "id": "0c5b0f47-fff9-4cc0-9cb7-604b9a13c73b",
   "metadata": {},
   "outputs": [],
   "source": [
    "df_list[0].columns"
   ]
  },
  {
   "cell_type": "code",
   "execution_count": null,
   "id": "ad444fd9-8cf7-4ece-a3f6-7930bb5b89c3",
   "metadata": {},
   "outputs": [],
   "source": [
    "# Conso vs import en GWH\n",
    "scatter_plot_2lines(x1 = df_list[0].index, y1 = df_list[0][\"5. Consommation réelle de pétrole (brut et raffiné) (en GWh)\"], x2 = df_list[0].index,\n",
    "                    y2 = df_list[0][\"2.1 Importations de tous produits pétroliers (en GWh)\"], label_1 = 'Consommation réelle de produits pétroliers en GWh', label_2 = 'Importations de tous produits pétroliers en GWh', x_label = 'Temps en année',\n",
    "                    y_label = 'Puissance en GWh', title = \"Evolution de la consommation réelle de produits pétroliers et des imports sur la période 2018-2022\")"
   ]
  },
  {
   "cell_type": "code",
   "execution_count": null,
   "id": "baeb14c2-d682-47c2-9ab6-952fcf0e18c5",
   "metadata": {},
   "outputs": [],
   "source": [
    "## Production vs exportations\n",
    "scatter_plot_2lines(x1 = df_list[0].index, y1 = df_list[0][\"1. Production de pétrole (en GWh)\"], x2 = df_list[0].index,\n",
    "                    y2 = df_list[0][\"2.2 Exportations de produits pétroliers raffinés (en GWh)\"], label_1 = 'Production de pétrole en GWh', label_2 = 'Exportations de produits pétroliers raffinés en GWh', x_label = 'Temps en année',\n",
    "                    y_label = 'Puissance en GWh', title = \"Evolution de la production et des exportations de produits pétroliers sur la période 2018-2022\")"
   ]
  },
  {
   "cell_type": "code",
   "execution_count": null,
   "id": "66d281ac-c1d7-493e-be3a-2c07ca86b77d",
   "metadata": {},
   "outputs": [],
   "source": [
    "## Prix à la pompe du gazole et du SP95\n",
    "scatter_plot_2lines(x1 = df_list[3].index, y1 = df_list[3][\"Prix au détail d'un litre de gazole\"], label_1 = 'Prix du litre de gazole',\n",
    "                    x2 = df_list[3].index, y2 = df_list[3][\"Prix au détail d'un litre de super sans plomb 95\"], label_2 = 'Prix du litre de SP95', x_label = 'Temps en année', y_label = 'Prix en €',\n",
    "                    title = \"Evolution du prix du gazole et du SP95 sur la période 2018-2022\")"
   ]
  },
  {
   "cell_type": "code",
   "execution_count": null,
   "id": "2d7c66fc-8c90-411a-8e32-b24a4a4e7dbc",
   "metadata": {},
   "outputs": [],
   "source": [
    "scatter_plot_2lines(x1 = df_list[1].index, y1 = df_list[1][\"Prix au détail d'une tonne OL TBTS\"], label_1 = \"Prix de la tonne d'OL TBTS\",\n",
    "                    x_label = 'Temps en année', y_label = 'Prix en €',\n",
    "                    title = \"Evolution du prix de la tonne d'OL TBTS sur la période 2018-2022\")"
   ]
  },
  {
   "cell_type": "code",
   "execution_count": null,
   "id": "b27c27cb-94c5-4f37-9437-e1e5eeb55608",
   "metadata": {},
   "outputs": [],
   "source": [
    "df_list[3]"
   ]
  },
  {
   "cell_type": "markdown",
   "id": "f3ad030e-3258-4e5c-8ab4-fe2e7b5237da",
   "metadata": {},
   "source": [
    "### Provenance du pétrole importé"
   ]
  },
  {
   "cell_type": "markdown",
   "id": "bc599076-69d6-4b82-b00a-e65ab6536184",
   "metadata": {},
   "source": [
    "#### Etude de la provenance des imports de pétrole brut en France jusqu'en 2021 (données: https://www.insee.fr/fr/statistiques/2119697)"
   ]
  },
  {
   "cell_type": "code",
   "execution_count": null,
   "id": "d69402ff-bc45-48be-9b99-c38211b550c3",
   "metadata": {},
   "outputs": [],
   "source": [
    "data_imp = pd.read_csv('Data/Provenance_petrole.csv', sep = ';')\n",
    "data_imp['Provenance'][data_imp['Provenance'] == 'Russie'] = 'Dont Russie'\n",
    "data_imp['Provenance'][data_imp['Provenance'] == 'Arabie saoudite'] = 'Dont Arabie saoudite'\n",
    "data_imp.head(10)"
   ]
  },
  {
   "cell_type": "code",
   "execution_count": null,
   "id": "087d0158-2229-410e-bf19-b788997ee72c",
   "metadata": {},
   "outputs": [],
   "source": [
    "data_imp_prop = data_imp.T.rename(columns=data_imp.T.iloc[0]).iloc[1:-1]\n",
    "for c in data_imp_prop.columns[:-1]:\n",
    "    data_imp_prop[c] = data_imp_prop[c]/data_imp_prop['Importations totales']\n",
    "data_imp_prop"
   ]
  },
  {
   "cell_type": "code",
   "execution_count": null,
   "id": "49f2d4a4-847b-430b-9388-240d23a55d6c",
   "metadata": {},
   "outputs": [],
   "source": [
    "data_imp_prop.iloc[:, :-1].plot(figsize = (20,12))"
   ]
  },
  {
   "cell_type": "code",
   "execution_count": null,
   "id": "15ce6783-7b98-40aa-9443-d451f0dee50e",
   "metadata": {},
   "outputs": [],
   "source": [
    "data_imp_prop"
   ]
  },
  {
   "cell_type": "code",
   "execution_count": null,
   "id": "016af440-32f9-46a0-afa6-3c9da8032273",
   "metadata": {},
   "outputs": [],
   "source": [
    "data_imp_prop = data_imp_prop[data_imp_prop.columns[:-1]].T\n",
    "data_imp_prop"
   ]
  },
  {
   "cell_type": "code",
   "execution_count": null,
   "id": "dad1db37-c727-47e8-b7b8-da5ecae69d97",
   "metadata": {},
   "outputs": [],
   "source": [
    "barchart(data_imp_prop, '2018', '2021 (p)', 'Import 2018', 'Import 2021', \"Part des imports de pétrole brut en France selon sa Provenance en 2018 et en 2021\", 'Provenance', \"Part de l'import de pétrole brut en France (en %)\")"
   ]
  },
  {
   "cell_type": "markdown",
   "id": "d8aa17d2-39a0-4890-bafc-4d30dd359884",
   "metadata": {},
   "source": [
    "### Production pétrole brut monde"
   ]
  },
  {
   "cell_type": "markdown",
   "id": "38677dd9-4b74-4084-9781-bbf8e089472f",
   "metadata": {},
   "source": [
    "#### Etude de la production de pétrole dans le monde en fonction du pays (données: https://data.oecd.org/fr/energy/production-de-petrole-brut.htm)"
   ]
  },
  {
   "cell_type": "code",
   "execution_count": null,
   "id": "6bae6ec9-4e66-47c9-951a-787f5c193cf4",
   "metadata": {},
   "outputs": [],
   "source": [
    "data_prod = pd.read_csv('Data/Production_petrole_monde.csv', sep = ',')\n",
    "data_prod"
   ]
  },
  {
   "cell_type": "code",
   "execution_count": null,
   "id": "c4fe152f-d27f-4193-b83c-0ce2083c0f84",
   "metadata": {},
   "outputs": [],
   "source": [
    "data_prod.info()"
   ]
  },
  {
   "cell_type": "code",
   "execution_count": null,
   "id": "d0c0ea0f-afe0-48ee-8290-1f0fefe1c2c0",
   "metadata": {},
   "outputs": [],
   "source": [
    "data_prod_Rus = data_prod[data_prod['LOCATION'] == 'RUS']\n",
    "data_prod_Usa = data_prod[data_prod['LOCATION'] == 'USA']\n",
    "data_prod_Sau = data_prod[data_prod['LOCATION'] == 'SAU']\n",
    "data_prod_Irq = data_prod[data_prod['LOCATION'] == 'IRQ']\n",
    "data_prod_Chn = data_prod[data_prod['LOCATION'] == 'CHN']\n",
    "data_prod_Wld = data_prod[data_prod['LOCATION'] == 'WLD']\n",
    "data_prod_Chn"
   ]
  },
  {
   "cell_type": "code",
   "execution_count": null,
   "id": "be4c9203-b97d-4501-b390-e267611f7615",
   "metadata": {},
   "outputs": [],
   "source": [
    "fig = go.Figure()\n",
    "\n",
    "# Add traces\n",
    "fig.add_trace(go.Scatter(x=data_prod_Rus[\"TIME\"], y=data_prod_Rus['Value'],\n",
    "                    mode='lines',\n",
    "                    name='Russie'))\n",
    "fig.add_trace(go.Scatter(x=data_prod_Usa[\"TIME\"], y=data_prod_Usa['Value'],\n",
    "                    mode='lines',\n",
    "                    name='USA'))\n",
    "fig.add_trace(go.Scatter(x=data_prod_Sau[\"TIME\"], y=data_prod_Sau['Value'],\n",
    "                    mode='lines',\n",
    "                    name='Arabie Saoudite'))\n",
    "fig.add_trace(go.Scatter(x=data_prod_Irq[\"TIME\"], y=data_prod_Irq['Value'],\n",
    "                    mode='lines',\n",
    "                    name='Irak'))\n",
    "fig.add_trace(go.Scatter(x=data_prod_Chn[\"TIME\"], y=data_prod_Chn['Value'],\n",
    "                    mode='lines',\n",
    "                    name='Chine'))\n",
    "fig.add_trace(go.Scatter(x=data_prod_Wld[\"TIME\"], y=data_prod_Wld['Value'],\n",
    "                    mode='lines',\n",
    "                    name='World'))\n",
    "\n",
    "fig.show()"
   ]
  },
  {
   "cell_type": "code",
   "execution_count": null,
   "id": "db6f9ec2-24f8-4efe-88f4-948572dcf6de",
   "metadata": {},
   "outputs": [],
   "source": [
    "data_prod_2021 = data_prod[data_prod[\"TIME\"] == 2021]\n",
    "data_prod_2021.rename(columns = {'LOCATION' : 'iso_alpha'}, inplace = True)\n",
    "data_prod_2021"
   ]
  },
  {
   "cell_type": "code",
   "execution_count": null,
   "id": "2e3645f7-8d00-484c-875f-3ed2127084fb",
   "metadata": {},
   "outputs": [],
   "source": [
    "data_prod_2021.info()"
   ]
  },
  {
   "cell_type": "code",
   "execution_count": null,
   "id": "14b4dcca-f8e2-4d09-8aec-2a57dc9f6869",
   "metadata": {},
   "outputs": [],
   "source": [
    "## garde seulement les valeurs supérieures à 0\n",
    "data_prod_2021.drop(data_prod_2021[data_prod_2021['Value'] == 0].index, inplace = True)"
   ]
  },
  {
   "cell_type": "code",
   "execution_count": null,
   "id": "d8212267-ec54-432f-beda-e6e2d624cc7c",
   "metadata": {},
   "outputs": [],
   "source": [
    "data_prod_2021['iso_alpha'].unique()"
   ]
  },
  {
   "cell_type": "code",
   "execution_count": null,
   "id": "58d520d2-a1f0-40f1-a812-35f47126bb7d",
   "metadata": {},
   "outputs": [],
   "source": [
    "liste_pays = ['G20', 'WLD']"
   ]
  },
  {
   "cell_type": "code",
   "execution_count": null,
   "id": "62bba4ee-dca1-4664-8d4b-91d33745a9a7",
   "metadata": {},
   "outputs": [],
   "source": [
    "data_prod_sel = data_prod_2021[~data_prod_2021['iso_alpha'].isin(liste_pays)].sort_values('Value', ascending=False)[:20]\n",
    "data_prod_sel"
   ]
  },
  {
   "cell_type": "code",
   "execution_count": null,
   "id": "3eec25d9-a40c-410d-b01b-3af53040483d",
   "metadata": {},
   "outputs": [],
   "source": [
    "BubbleCloud(data_prod_sel, 'iso_alpha', 'Value', label_highlight = 'RUS')"
   ]
  },
  {
   "cell_type": "markdown",
   "id": "2bf2fc2f-c7da-431f-b0a0-a0b0c5d2c757",
   "metadata": {},
   "source": [
    "### Prix à l'import"
   ]
  },
  {
   "cell_type": "markdown",
   "id": "5159bff4-7091-4a35-a6b2-607e0b14d796",
   "metadata": {},
   "source": [
    "#### Etude du prix du baril de pétrole à l'import en fonction du pays (données: https://data.oecd.org/fr/energy/prix-du-petrole-brut-a-l-importation.htm)"
   ]
  },
  {
   "cell_type": "code",
   "execution_count": null,
   "id": "b91263b6-9c94-4e23-93a1-8ee0ec4e854e",
   "metadata": {},
   "outputs": [],
   "source": [
    "data_prix_imp = pd.read_csv('Data/Prix_import_France.csv', sep = ',')\n",
    "data_prix_imp_Fra =  data_prix_imp[(data_prix_imp[\"LOCATION\"] == 'FRA') & (data_prix_imp[\"TIME\"] > 2017)]\n",
    "data_prix_imp_Fra[\"DATETIME\"] =  pd.to_datetime(data_prix_imp_Fra[\"TIME\"], format = '%Y')\n",
    "data_prix_imp_Fra"
   ]
  },
  {
   "cell_type": "code",
   "execution_count": null,
   "id": "7c9d7e82-77af-4167-b506-d9831bd7d40b",
   "metadata": {},
   "outputs": [],
   "source": [
    "fig = go.Figure()\n",
    "#fig.add_trace(go.Scatter(x=df_list[1].index, y=df_list[1][\"Prix au détail de 100 kWh PCI de FOL TBTS\"].astype(float), name='Prix FOL TBTS'))\n",
    "fig.add_trace(go.Scatter(x=data_prix_imp_Fra['TIME'], y=data_prix_imp_Fra['Value'], name=\"Prix du baril de pétrole à l'import en France\"))\n",
    "fig.update_layout(title_text=\"Evolution du prix du baril de pétrole à l'import en France sur la période 2018-2022\", legend_title_text = \"Légende :\", width=800, height=400, template='simple_white')\n",
    "fig.update_xaxes(title_text='Temps en année')\n",
    "fig.update_yaxes(title_text='Prix en dollars par baril')\n",
    "fig.show()"
   ]
  },
  {
   "cell_type": "code",
   "execution_count": null,
   "id": "dc3d379a-a327-4a64-8fdf-97cc695f18ff",
   "metadata": {},
   "outputs": [],
   "source": [
    "scatter_plot_2lines(x1 = data_prix_imp_Fra['DATETIME'], y1 = data_prix_imp_Fra['Value'], label_1 = \"Prix du baril de pétrole à l'import en France\", x_label = 'Temps en année',\n",
    "                    y_label = 'Prix en dollar par baril', title = \"Evolution du prix du baril de pétrole à l'import en France sur la période 2018-2022\")"
   ]
  },
  {
   "cell_type": "markdown",
   "id": "7d0bdb53-a5fb-46e7-ae53-a8b85108f5fa",
   "metadata": {},
   "source": [
    "### Import provenant de la Russie"
   ]
  },
  {
   "cell_type": "markdown",
   "id": "778a0666-43e8-49e5-b9e4-c8fd9995e9dd",
   "metadata": {},
   "source": [
    "#### Etude de la part des imports de pétrole provenant de la Russie après février 2021 (données: https://www.iea.org/data-and-statistics/data-product/monthly-reliance-on-russian-oil-for-oecd-countries)"
   ]
  },
  {
   "cell_type": "code",
   "execution_count": null,
   "id": "dbbdbd18-9d13-4456-a461-5b55652c70c8",
   "metadata": {},
   "outputs": [],
   "source": [
    "## Import et nettoyage du tableau de la part des imports de pétrole venant de la Russie sur les imports totaux pour chaque pays de l'OCDE de Feb 2021 à Jan 2023\n",
    "## Dictionnaire de transformation de la date (mois)\n",
    "dict_transfo = {'Jan' : '01', 'Feb' : '02', 'Mar' : '03', 'Apr' : '04', 'May' : '05', 'Jun' :  '06', 'Jul' : '07', 'Aug' : '08', 'Sep' : '09', 'Oct' : '10', 'Nov' : '11', 'Dec' : '12'}\n",
    "\n",
    "data_imp_rus = pd.read_csv('../Data/Russie_imports_2022_2023.csv', sep = ';')\n",
    "data_imp_rus.set_index('Unnamed: 0', inplace = True)\n",
    "for col in data_imp_rus.columns:\n",
    "    data_imp_rus[col] = data_imp_rus[col].str.replace('%', '').astype(float)\n",
    "data_imp_rus = data_imp_rus.T\n",
    "data_imp_rus[\"Date\"] = data_imp_rus.index\n",
    "for m in dict_transfo.keys():\n",
    "    data_imp_rus[\"Date\"] = data_imp_rus[\"Date\"].str.replace(m, dict_transfo[m])\n",
    "data_imp_rus[\"Date\"] = data_imp_rus[\"Date\"].str.replace('21', '2021')\n",
    "data_imp_rus[\"Date\"] = data_imp_rus[\"Date\"].str.replace('22', '2022')\n",
    "data_imp_rus[\"Date\"] = data_imp_rus[\"Date\"].str.replace('23', '2023')\n",
    "data_imp_rus[\"Date\"] = pd.to_datetime(data_imp_rus[\"Date\"])\n",
    "data_imp_rus[\"Date\"].dt.strftime('%Y-%m-%d')\n",
    "data_imp_rus.set_index(\"Date\", inplace = True)\n",
    "data_imp_rus"
   ]
  },
  {
   "cell_type": "code",
   "execution_count": null,
   "id": "4cec3ff4-e2ea-42fe-bc97-930ada37fd46",
   "metadata": {},
   "outputs": [],
   "source": [
    "scatter_plot_2lines(x1 = data_imp_rus.index, y1 = data_imp_rus['France'], label_1 = \"Part du pétrole importé de Russie\", x_label = 'Temps en année',\n",
    "                    y_label = 'Import Russie / Import Total', title = \"Evolution de la part du pétrole importé de Russie en France sur la période 2021-2023\")"
   ]
  },
  {
   "cell_type": "markdown",
   "id": "45f1497c-6f4f-4cf2-9aae-c609a9325ed6",
   "metadata": {},
   "source": [
    "## Données totales"
   ]
  },
  {
   "cell_type": "code",
   "execution_count": null,
   "id": "0314bfe3-692e-4180-88cd-e911520df340",
   "metadata": {},
   "outputs": [],
   "source": [
    "df_tot = ouverture_df('Data/7.-Ensemble-des-series.2023-04.csv', '2018-01', '2023-01')\n",
    "df_tot.info()"
   ]
  },
  {
   "cell_type": "code",
   "execution_count": null,
   "id": "95606c9e-95c1-404f-8b23-b936c5b616da",
   "metadata": {},
   "outputs": [],
   "source": [
    "df_tot.columns"
   ]
  },
  {
   "cell_type": "code",
   "execution_count": null,
   "id": "d650fd22-c873-4b55-9f75-6eb120efa5d6",
   "metadata": {},
   "outputs": [],
   "source": [
    "scatter_plot_2lines(x1 = df_tot.index, y1 = df_tot[\"1.2 Importations de produits pétroliers (en millions d'euros CAF)\"].astype(float), label_1 = \"Import de pétrole en millions d'euros\", x_label = 'Temps en année',\n",
    "                    y_label = \"Millions d'euros\", title = \"Import de produits pétroliers (en millions d'euros) sur la période 2018-2022\")"
   ]
  },
  {
   "cell_type": "markdown",
   "id": "36516b23",
   "metadata": {},
   "source": [
    "# Investigation on Electricity from dido data"
   ]
  },
  {
   "cell_type": "code",
   "execution_count": null,
   "id": "dc9e7e5b",
   "metadata": {},
   "outputs": [],
   "source": [
    "df_list = read_electricity_data(\"2018-01\",\"2023-02\")\n",
    "    \n",
    "df_price_menage_electricity = df_list[0]\n",
    "df_price_industry_electricity = df_list[1]\n",
    "df_electricity_2023 = df_list[2]\n",
    "df_summaryze_electricity = df_list[3]"
   ]
  },
  {
   "cell_type": "code",
   "execution_count": null,
   "id": "c196e154",
   "metadata": {},
   "outputs": [],
   "source": [
    "labels = [\"toutes tranches\",\"tranches DA\", \"tranches DB\", \"tranches DC\",\"tranches DD\",\"tranches DE\"]\n",
    "title = \"Prix au détail de l'électricité TTC dans une menage sur la période 2018-2022\"\n",
    "x_title ='Temps en année'\n",
    "y_title = \"Prix au détail de l'électricité TTC (€)\"\n",
    "\n",
    "    \n",
    "plot_from_df(df_price_menage_electricity,labels, title, x_title, y_title)#, save=True, path_to_save='images/fig1.png')"
   ]
  },
  {
   "cell_type": "code",
   "execution_count": null,
   "id": "a89ad366",
   "metadata": {},
   "outputs": [],
   "source": [
    "labels = [\"tranches IA à IF\",\"tranches IA\", \"tranches IB\", \"tranches IC\",\"tranches ID\",\"tranches IE\", \"tranches IF\",\"tranches IG\",\"toutes tranches\" ]\n",
    "title = \"Prix au détail de l'électricité hors TVA dans l'industrie sur la période 2018-2022\"\n",
    "x_title ='Temps en année'\n",
    "y_title = \"Prix au détail de l'électricité hors TVA (€)\"\n",
    "plot_from_df(df_price_industry_electricity,labels, title, x_title, y_title)#, save=True, path_to_save='images/fig2.png')"
   ]
  },
  {
   "cell_type": "code",
   "execution_count": null,
   "id": "f2b8ef53",
   "metadata": {},
   "outputs": [],
   "source": [
    "labels = [\"Electricite industriels\",\"Electricite dans menage\"]\n",
    "title = \"Prix au détail de l'électricité TTC dans l'industrie et dans le menage sur la période 2018-2022\"\n",
    "x_title = 'Temps en année'\n",
    "y_title = \"Prix au détail de l'électricité (€)\"\n",
    "plot_first_column_from_df1_df2(df_price_industry_electricity,df_price_menage_electricity,labels, title, x_title, y_title, 0.78)#, save=True, path_to_save='images/fig3.png')\n"
   ]
  },
  {
   "cell_type": "code",
   "execution_count": null,
   "id": "1c50b2b7",
   "metadata": {},
   "outputs": [],
   "source": [
    "production_net = [\"Production totale nette d'électricité (en GWh)\",\n",
    "                        \"Production nette d'électricité nucléaire (en GWh)\",\n",
    "                        \"Production nette d'électricité hydraulique (en GWh)\",\n",
    "                        \"Production nette d'électricité éolienne (en GWh)\",\n",
    "                        \"Production nette d'électricité photovoltaïque (en GWh)\",\n",
    "                        \"Production nette d'électricité thermique (en GWh)\"]\n",
    "  \n",
    "\n",
    "    \n",
    "labels=[\"totale\",\"électricité nucléaire\",\"électricité hydraulique\",\"électricité éolienne\",\"électricité photovoltaïque\",\"électricité thermique\"]\n",
    "title = \"Production nette d'électricité (GWh) sur sur la période 2018-2023\"\n",
    "x_title = 'Temps en année'\n",
    "y_title = \"Production nette d'électricité (GWh)\"\n",
    "plot_from_df_with_list_col(df_electricity_2023,production_net, labels, title, x_title, y_title)#, save=True, path_to_save='images/fig4.png')"
   ]
  },
  {
   "cell_type": "code",
   "execution_count": null,
   "id": "83c62f43",
   "metadata": {},
   "outputs": [],
   "source": [
    "production = [\"1. Production (brute) d'électricité hydraulique, éolienne et photovoltaïque (en GWh)\",\n",
    "                \"1.1 Production brute d'électricité hydraulique (en GWh)\",\n",
    "                \"1.2 Production brute d'électricité éolienne (en GWh)\",\n",
    "                \"1.3 Production brute d'électricité solaire photovoltaïque (en GWh)\",\n",
    "                \"2. Production nucléaire (équivalent primaire à la production, sous forme de chaleur) (en GWh)\"]\n",
    "\n",
    "labels =[\"total: hydraulic - eolic - solar electricity \",\"hydraulic electricity\",\"eolic electricity\",\"solar electricity\",\"production nuclear\"]\n",
    "title =\"Production (brute) d'électricité renouvable (en GWh) sur la période 2018-2023\"\n",
    "x_title = 'Temps en année'\n",
    "y_title = \"Production brute d'électricité (GWh)\"\n",
    "plot_from_df_with_list_col(df_summaryze_electricity, production, labels, title, x_title, y_title)#, save=True, path_to_save='images/fig5.png')"
   ]
  },
  {
   "cell_type": "code",
   "execution_count": null,
   "id": "4d6eead2",
   "metadata": {},
   "outputs": [],
   "source": [
    "import_export = [\"3. Solde importateur (importations - exportations) d'électricité (en GWh)\",\n",
    "                \"3.1 Importations d'électricité (en GWh)\",\n",
    "                \"3.2 Exportations d'électricité (en GWh)\"]\n",
    "labels =[\"Total_import_export\",\"import\", \"export\"]\n",
    "title = \"Import/Export (GWh) sur la période 2018-2023\"\n",
    "x_title = 'Temps en année'\n",
    "y_title = \"Import/Export (GWh)\"\n",
    "plot_from_df_with_list_col(df_summaryze_electricity, import_export, labels, title, x_title, y_title)#, save=True, path_to_save='images/fig6.png')"
   ]
  },
  {
   "cell_type": "code",
   "execution_count": null,
   "id": "152172bb",
   "metadata": {},
   "outputs": [],
   "source": [
    "consumption = [\"4. Consommation primaire d'énergie nucléaire, hydraulique, éolienne et photovoltaïque brute (en GWh)\",\n",
    "                \"5. Consommation d'électricité primaire et d'équivalent primaire d'électricité nucléaire CVC-CJO (en GWh)\",\n",
    "                \"6. Consommation d'électricité primaire et d'équivalent primaire d'électricité nucléaire CVS-CVC-CJO (en GWh)\"]\n",
    "labels =[\"non nucleiare\",\"nucleiare CVC-CJO\", \"nucleiare CVS-CVC-CJO\"]\n",
    "title =\"Consommation primaire d'énergie sur la période 2018-2023\"\n",
    "x_title = 'Temps en année'\n",
    "y_title = \"Consommation primaire d'énergie (GWh)\"\n",
    "plot_from_df_with_list_col(df_summaryze_electricity, consumption, labels, title, x_title, y_title)#, save=True, path_to_save='images/fig7.png')"
   ]
  },
  {
   "cell_type": "markdown",
   "id": "2cc1546b",
   "metadata": {},
   "source": [
    "# Investigation on Electricity from RTE data\n"
   ]
  },
  {
   "cell_type": "code",
   "execution_count": null,
   "id": "4137c634",
   "metadata": {},
   "outputs": [],
   "source": [
    "df = read_rte_data()\n",
    "print(df)\n",
    "list_resource =[\"Gaz\", \"Nucléaire\", \"Fioul\", \"Charbon\"]\n",
    "list_series = list_series_data(df, list_resource)\n",
    "#print(list_series)\n",
    "plot_subplot_resources(list_series,list_resource)#, save=True, path_to_save='images/rte.png')"
   ]
  },
  {
   "cell_type": "code",
   "execution_count": null,
   "id": "f7d93f37",
   "metadata": {},
   "outputs": [],
   "source": []
  }
 ],
 "metadata": {
  "kernelspec": {
   "display_name": "Python 3 (ipykernel)",
   "language": "python",
   "name": "python3"
  },
  "language_info": {
   "codemirror_mode": {
    "name": "ipython",
    "version": 3
   },
   "file_extension": ".py",
   "mimetype": "text/x-python",
   "name": "python",
   "nbconvert_exporter": "python",
   "pygments_lexer": "ipython3",
   "version": "3.11.3"
  }
 },
 "nbformat": 4,
 "nbformat_minor": 5
}
