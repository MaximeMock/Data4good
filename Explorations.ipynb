{
 "cells": [
  {
   "cell_type": "code",
   "execution_count": 5,
   "id": "6bbd03fd-d88e-49b1-8c40-7e3aaea8bf43",
   "metadata": {},
   "outputs": [],
   "source": [
    "#Imports : \n",
    "from Modules.Module import ouverture_df, scatter_plot_2lines, scatter_plot_2lines_2y_axis, scatter_plot_2lines\n",
    "from Modules.Module import plot_n_scatter_2axis, read_petrole_data, BubbleCloud, barchart\n",
    "from Modules.Module import read_electricity_data, plot_from_df, plot_from_df_with_list_col, plot_first_column_from_df1_df2\n",
    "from Modules.Module import change_col_to_point, read_rte_data, list_series_data, plot_subplot_resources"
   ]
  },
  {
   "cell_type": "code",
   "execution_count": 6,
   "id": "c394f567-2ab0-49f7-a72f-13ee7b7dc4f5",
   "metadata": {},
   "outputs": [],
   "source": [
    "# Etude sur le Charbon : "
   ]
  },
  {
   "cell_type": "code",
   "execution_count": 7,
   "id": "e52a82b0-8d1a-4002-8333-7314496688a7",
   "metadata": {},
   "outputs": [],
   "source": [
    "## Ouvertures des données : "
   ]
  },
  {
   "cell_type": "code",
   "execution_count": 8,
   "id": "18852d5d-bf44-43d3-8f31-a350b672fca8",
   "metadata": {},
   "outputs": [
    {
     "ename": "SyntaxError",
     "evalue": "invalid syntax (1497732047.py, line 2)",
     "output_type": "error",
     "traceback": [
      "\u001b[0;36m  Input \u001b[0;32mIn [8]\u001b[0;36m\u001b[0m\n\u001b[0;31m    date_début =\u001b[0m\n\u001b[0m                 ^\u001b[0m\n\u001b[0;31mSyntaxError\u001b[0m\u001b[0;31m:\u001b[0m invalid syntax\n"
     ]
    }
   ],
   "source": [
    "# definition des bornes de l'étude : \n",
    "date_début = \n",
    "date_fin = \n",
    "\n",
    "\n",
    "path_prix_charbon = './Data/1.4.-Prix-menages-Bois.2023-04.csv'\n",
    "prix_charbon = ouverture_df(path_prix_charbon, date_début, date_fin)\n",
    "\n",
    "\n",
    "path_charbon = './Data/3.4.Charbon.2023-04.csv'\n",
    "charbon = ouverture_df(path_charbon, date_début, date_fin)\n",
    "\n",
    "path_synthese = './Data/4.5.-Synthese-Charbon.2023-04.csv'\n",
    "synthese = ouverture_df(path_synthese, date_début, date_fin)\n",
    "\n",
    "path_facture = './Data/5.-Facture-energetique.2023-04.csv'\n",
    "facture = ouverture_df(path_facture, date_début, date_fin)\n",
    "\n",
    "path_prixgros = './Data/6.-Prix-de-gros.2023-04.csv'\n",
    "prixgros = ouverture_df(path_prixgros, date_début, date_fin)\n",
    "\n"
   ]
  },
  {
   "cell_type": "code",
   "execution_count": null,
   "id": "3b8633c1-fba2-4ced-82b2-e4c1ece404ee",
   "metadata": {},
   "outputs": [],
   "source": [
    "scatter_plot_2lines(x1=prix_charbon.index,\n",
    "                    y1=prix_charbon.iloc[:,1].astype(float),\n",
    "                    x2=prix_charbon.index, \n",
    "                    y2=prix_charbon.iloc[:,2].astype(float),\n",
    "                    label_1='granulés en vrac',\n",
    "                    label_2='granulés en sac',\n",
    "                    title=\"Evolution du prix du bois sur la période 2018-2022\",\n",
    "                    x_label='Temps en année',\n",
    "                    y_label='Prix en €',\n",
    "                    save=True,\n",
    "                   path_to_save='./Visualisations/evolution_prix_charbon.jpg')"
   ]
  },
  {
   "cell_type": "code",
   "execution_count": null,
   "id": "58536d99-9e60-4c0c-807a-07f9206da9e9",
   "metadata": {
    "tags": []
   },
   "outputs": [],
   "source": [
    "scatter_plot_2lines_2y_axis(x1=charbon.index,\n",
    "                    y1=charbon.iloc[:,2].astype(float),\n",
    "                    x2=charbon.index, \n",
    "                    y2=charbon.iloc[:,3].astype(float),\n",
    "                    label_1='Importation des combustibles minéraux',\n",
    "                    label_2='Exportation des combustibles minéraux',\n",
    "                    title=\"Etude des flux de bois entre 2018 et 2022\",\n",
    "                    x_label='Temps en année',\n",
    "                    y_label='Poids en kt',\n",
    "                    save=True,\n",
    "                   path_to_save='./Visualisations/import_export_charbon_2y.jpg')"
   ]
  },
  {
   "cell_type": "code",
   "execution_count": null,
   "id": "53ca96f5-1ba1-4c60-b4f8-cbcfc242e377",
   "metadata": {},
   "outputs": [],
   "source": [
    "scatter_plot_2lines(x1=charbon.index,\n",
    "                    y1=charbon.iloc[:,2].astype(float),\n",
    "                    x2=charbon.index, \n",
    "                    y2=charbon.iloc[:,3].astype(float),\n",
    "                    label_1='Importation des combustibles minéraux',\n",
    "                    label_2='Exportation des combustibles minéraux',\n",
    "                    title=\"Etude des flux de bois entre 2018 et 2022\",\n",
    "                    x_label='Temps en année',\n",
    "                    y_label='Poids en kt',\n",
    "                    save=True,\n",
    "                   path_to_save='./Visualisations/import_export_charbon.jpg')"
   ]
  },
  {
   "cell_type": "code",
   "execution_count": null,
   "id": "706e2241-c2a2-43f0-8b91-33ee1e65115d",
   "metadata": {},
   "outputs": [],
   "source": [
    "## Etude de l'inflation sur le prix du charbon :"
   ]
  },
  {
   "cell_type": "code",
   "execution_count": null,
   "id": "8786bc75-99bb-40d9-90fb-58546ec58726",
   "metadata": {
    "tags": []
   },
   "outputs": [],
   "source": [
    "#URL : https://www.insee.fr/fr/statistiques/4268033\n",
    "inflation = pd.read_csv('./Data/inflation_2018_2022.csv', sep='\\t', header=None)\n",
    "inflation.columns = ['Période', 'Alimentation', 'Produits manufacturés', 'Energie', 'Services', 'Tabac']\n",
    "inflation.index = pd.to_datetime(inflation.Période)\n",
    "inflation = inflation.applymap(lambda x: x.replace(' ', '').replace(',', '.'))\n",
    "inflation_energie = inflation.loc[:,'Energie'].copy()"
   ]
  },
  {
   "cell_type": "code",
   "execution_count": null,
   "id": "f34b9395-55ce-4081-b853-976bd980588e",
   "metadata": {},
   "outputs": [],
   "source": [
    "liste_inflation = []\n",
    "for idx, value in enumerate(inflation_energie):\n",
    "    if idx !=0:\n",
    "        inf = ((float(value) - float(inflation_energie.iloc[idx-1]))/float(inflation_energie.iloc[idx-1])*100)\n",
    "        liste_inflation.append(inf)\n",
    "    else :\n",
    "        liste_inflation.append(0.)\n",
    "inflation_energie = pd.concat([inflation_energie, pd.Series(liste_inflation, index=inflation_energie.index, name='Inflation')], axis=1)"
   ]
  },
  {
   "cell_type": "code",
   "execution_count": null,
   "id": "36663f5d-3624-4183-ba70-0211b9b459d7",
   "metadata": {
    "tags": []
   },
   "outputs": [],
   "source": [
    "prix_charbon_inflation = pd.concat([prix_charbon, inflation_energie.Inflation], axis=1)\n",
    "prix_charbon_inflation.iloc[:,1:5] = prix_charbon_inflation.iloc[:,1:5].astype(float)\n",
    "prix_charbon_inflation.iloc[:,1] = prix_charbon_inflation.iloc[:,1]*(100-prix_charbon_inflation.iloc[:,5].astype(float))/100\n",
    "prix_charbon_inflation.iloc[:,2] = prix_charbon_inflation.iloc[:,2]*(100-prix_charbon_inflation.iloc[:,5].astype(float))/100\n",
    "prix_charbon_inflation.iloc[:,3] = prix_charbon_inflation.iloc[:,3]*(100-prix_charbon_inflation.iloc[:,5].astype(float))/100\n",
    "prix_charbon_inflation.iloc[:,4] = prix_charbon_inflation.iloc[:,4]*(100-prix_charbon_inflation.iloc[:,5].astype(float))/100"
   ]
  },
  {
   "cell_type": "code",
   "execution_count": null,
   "id": "030d99c9-43eb-4861-ad44-449ad6693410",
   "metadata": {
    "tags": []
   },
   "outputs": [],
   "source": [
    "prix_charbon_inflation.head()"
   ]
  },
  {
   "cell_type": "code",
   "execution_count": null,
   "id": "1484f8d5-c539-4eec-b09f-5154c38567fb",
   "metadata": {},
   "outputs": [],
   "source": [
    "scatter_plot_2lines(prix_charbon_inflation.index, \n",
    "                    prix_charbon_inflation.iloc[:,1], \n",
    "                    prix_charbon_inflation.index, \n",
    "                    prix_charbon_inflation.iloc[:,2], \n",
    "                    'Granulés en vrac',\n",
    "                    'Granulés en sac', \n",
    "                    'Evolution du prix d\\'une tonne de bois corrigé par l\\'inflation', \n",
    "                    'Temps en année', \n",
    "                    'Prix en €/t', \n",
    "                    save=True, \n",
    "                    path_to_save='Prix_charbon_inflation.png')"
   ]
  },
  {
   "cell_type": "code",
   "execution_count": null,
   "id": "75d7cb77-0adf-451b-b37f-e4a533b396d0",
   "metadata": {},
   "outputs": [],
   "source": [
    "# Etude du mix énergétique en france : "
   ]
  },
  {
   "cell_type": "code",
   "execution_count": null,
   "id": "df6b750c-52ed-4bc9-85cb-25c3d166c8dc",
   "metadata": {},
   "outputs": [],
   "source": [
    "df_nuc_fr = pd.read_csv('./Data/disponibilite-du-parc-nucleaire-d-edf-sa-depuis-2002.csv', sep=';')"
   ]
  },
  {
   "cell_type": "code",
   "execution_count": null,
   "id": "cdd16bc8-4065-4821-a306-97e6efc95bb7",
   "metadata": {},
   "outputs": [],
   "source": [
    "df_nuc_fr"
   ]
  },
  {
   "cell_type": "code",
   "execution_count": null,
   "id": "db5265bd-a53a-4125-87b2-84e9da78dc70",
   "metadata": {},
   "outputs": [],
   "source": [
    "fig = go.Figure()\n",
    "fig.add_trace(go.Bar(x=df_nuc_fr.annee, y=df_nuc_fr.coefficient_de_disponibilite))\n",
    "fig.add_trace(go.Scatter(x=df_nuc_fr.annee, y=df_nuc_fr.coefficient_de_disponibilite))\n",
    "fig.show()"
   ]
  },
  {
   "cell_type": "code",
   "execution_count": null,
   "id": "8fdeba6e-efc4-409a-b6ef-ad0ae380de52",
   "metadata": {},
   "outputs": [],
   "source": [
    "mix_ener = pd.read_csv('./Data/origine-de-lelectricite-fournie-par-edf-sa.csv', sep=';')\n",
    "# Liste des années présente dans le jeu de données :\n",
    "annees = list(mix_ener.annee.unique())\n",
    "dict_ = {annee: mix_ener.loc[mix_ener.loc[:,'annee']==annee] for annee in annees}\n",
    "# _2021 = mix_ener.loc[mix_ener.loc[:,'annee']==2021]\n",
    "# _2020 = mix_ener.loc[mix_ener.loc[:,'annee']==2020]\n",
    "# _2019 = mix_ener.loc[mix_ener.loc[:,'annee']==2019]\n",
    "# _2018 = mix_ener.loc[mix_ener.loc[:,'annee']==2018]\n",
    "# _2017 = mix_ener.loc[mix_ener.loc[:,'annee']==2017]"
   ]
  },
  {
   "cell_type": "code",
   "execution_count": null,
   "id": "f5d757f6-f3a1-4d4b-b249-b2bf5caca728",
   "metadata": {},
   "outputs": [],
   "source": [
    "_2021"
   ]
  },
  {
   "cell_type": "code",
   "execution_count": null,
   "id": "bbe1e015-e168-4c34-a3a3-cdebc0ab1d61",
   "metadata": {},
   "outputs": [],
   "source": [
    "fig = go.Figure(data=[go.Pie(labels=_2021.sous_categorie, values=_2021.valeur)])\n",
    "fig.update_layout(title_text='Répartition du mix energétique pour 2021', title_x=0.5, legend_title_text = \"Légende :\", width=800, height=600,template='plotly_white')\n",
    "fig.update_traces(textfont_size=20)\n",
    "fig.show()"
   ]
  },
  {
   "cell_type": "code",
   "execution_count": null,
   "id": "8116889f-58a3-4b13-8d33-f678b19abda4",
   "metadata": {},
   "outputs": [],
   "source": [
    "fig = make_subplots()\n",
    "    \n",
    "    data=[go.Pie(labels=_2021.sous_categorie, values=_2021.valeur)]\n",
    "fig.update_layout(title_text='Répartition du mix energétique pour 2021', title_x=0.5, legend_title_text = \"Légende :\", width=800, height=600,template='plotly_white')\n",
    "fig.update_traces(textfont_size=20)\n",
    "fig.show()"
   ]
  },
  {
   "cell_type": "markdown",
   "id": "dd9ee901-27bd-4356-a7cd-b8279bfba369",
   "metadata": {},
   "source": [
    "## Etude sur le Pétrole"
   ]
  },
  {
   "cell_type": "code",
   "execution_count": null,
   "id": "bfa53dfb-d1e8-4388-911a-807cc50a8b43",
   "metadata": {},
   "outputs": [],
   "source": [
    "import pandas as pd\n",
    "import numpy as np\n",
    "import os\n",
    "import datetime as dt\n",
    "import matplotlib.pyplot as plt\n",
    "import plotly.express as px\n",
    "import plotly.graph_objects as go\n",
    "import random\n",
    "import circlify\n",
    "import sys"
   ]
  },
  {
   "cell_type": "markdown",
   "id": "c74f3589-47e9-47a4-bb1a-f57328edfc38",
   "metadata": {},
   "source": [
    "### Conso, import, export"
   ]
  },
  {
   "cell_type": "markdown",
   "id": "eec00586-9152-469c-84a3-32c55a2eb2ff",
   "metadata": {},
   "source": [
    "#### Etude de l'évolution de la consommation, des importations, des exportations et du prix des produits pétroliers en France entre 2018 et 2023 (données: https://www.statistiques.developpement-durable.gouv.fr/catalogue?page=dataset&datasetId=631b03afb61e5c6479370169)"
   ]
  },
  {
   "cell_type": "code",
   "execution_count": null,
   "id": "828c7aaf-acb1-476c-a3fa-c0bccaf06433",
   "metadata": {},
   "outputs": [],
   "source": [
    "df_list = read_petrole_data('2018-01-01', '2023-01-01')"
   ]
  },
  {
   "cell_type": "code",
   "execution_count": null,
   "id": "05a604dd-6a25-4941-97e3-2451b165b662",
   "metadata": {},
   "outputs": [],
   "source": [
    "## Prix industriels\n",
    "df_list[1].head()"
   ]
  },
  {
   "cell_type": "code",
   "execution_count": null,
   "id": "3baa5559-0b42-458c-9d3d-45ced5145147",
   "metadata": {},
   "outputs": [],
   "source": [
    "## Synthèse pétrole\n",
    "df_list[0].head()"
   ]
  },
  {
   "cell_type": "code",
   "execution_count": null,
   "id": "99a88d85-2b0e-4273-9be3-1a21f34d2c6e",
   "metadata": {},
   "outputs": [],
   "source": [
    "## Pétrole\n",
    "df_list[2].head()"
   ]
  },
  {
   "cell_type": "code",
   "execution_count": null,
   "id": "c1a83231-e479-473c-b7c7-4280060ca25b",
   "metadata": {},
   "outputs": [],
   "source": [
    "df_list[2].info()"
   ]
  },
  {
   "cell_type": "code",
   "execution_count": null,
   "id": "166bba06-6d02-4f87-bb93-3c81f8a3e369",
   "metadata": {},
   "outputs": [],
   "source": [
    "df_list[2].columns"
   ]
  },
  {
   "cell_type": "code",
   "execution_count": null,
   "id": "71951ccb-7a7d-47b9-88b0-c90be590d235",
   "metadata": {},
   "outputs": [],
   "source": [
    "## Prix ménages\n",
    "df_list[3].head()"
   ]
  },
  {
   "cell_type": "code",
   "execution_count": null,
   "id": "78c13ea3-51ca-4e2e-b4e2-c9859d535dd1",
   "metadata": {},
   "outputs": [],
   "source": [
    "## trie des dates pour pouvoir faire les figures\n",
    "df_list[3] = df_list[3].sort_index()\n",
    "df_list[2] = df_list[2].sort_index()\n",
    "df_list[1] = df_list[1].sort_index()\n",
    "df_list[0] = df_list[0].sort_index()"
   ]
  },
  {
   "cell_type": "code",
   "execution_count": null,
   "id": "7b630afd-eb9f-4145-92bf-5c2c131d3bb5",
   "metadata": {},
   "outputs": [],
   "source": [
    "## Solde importateur de pétrole\n",
    "fig = go.Figure()\n",
    "fig.add_trace(go.Scatter(x=df_list[3].index, y=df_list[2][\"2. Solde importateur (importations - exportations) tous produits pétroliers (en kt)\"], name='Solde importateur en kt'))\n",
    "fig.update_layout(title_text=\"Evolution du solde importateur sur la période 2018-2022\", legend_title_text = \"Légende :\", width=800, height=400, template='simple_white')\n",
    "fig.update_xaxes(title_text='Temps en année')\n",
    "fig.update_yaxes(title_text='Volume en kt')\n",
    "fig.show()"
   ]
  },
  {
   "cell_type": "code",
   "execution_count": null,
   "id": "622020c9-85b7-4e11-853b-c520b1dcd14b",
   "metadata": {},
   "outputs": [],
   "source": [
    "# Vente de gazole en France\n",
    "scatter_plot_2lines(x1 = df_list[2].index, y1 = df_list[2][\"7.3 Ventes de gazole CVS-CVC-CJO (en kt)\"], label_1 = 'Vente de gazole en kt', x_label = 'Temps en année',\n",
    "                    y_label = 'Masse en kt', title = \"Evolution de la vente de gazole en France sur la période 2018-2022\")"
   ]
  },
  {
   "cell_type": "code",
   "execution_count": null,
   "id": "9b195c88-d820-4430-8bbd-a1d6b1993691",
   "metadata": {},
   "outputs": [],
   "source": [
    "# Import et export de pétrole\n",
    "scatter_plot_2lines(x1 = df_list[2].index, y1 = df_list[2][\"2.2 Exportations de produits pétroliers raffinés (en kt)\"], x2 = df_list[2].index,\n",
    "                    y2 = df_list[2][\"2.1 Importations totales de produits pétroliers (en kt)\"], label_1 = 'Exportation de produits raffinés en kt', label_2 = 'Importation de produit pétroliers en kt', x_label = 'Temps en année',\n",
    "                    y_label = 'Masse en kt', title = \"Evolution des importations et exportations de pétrole sur la période 2018-2022\")"
   ]
  },
  {
   "cell_type": "code",
   "execution_count": null,
   "id": "dc756dd8-ce10-49b5-b02a-9718042ed744",
   "metadata": {},
   "outputs": [],
   "source": [
    "# Consommation vs importation\n",
    "scatter_plot_2lines(x1 = df_list[2].index, y1 = df_list[2][\"7. Consommation totale de produits pétroliers CVS-CVC-CJO (en kt)\"], x2 = df_list[2].index,\n",
    "                    y2 = df_list[2][\"2.1 Importations totales de produits pétroliers (en kt)\"], label_1 = 'Consommation de produits pétroliers en kt', label_2 = 'Importations de produits pétroliers en kt', x_label = 'Temps en année',\n",
    "                    y_label = 'Masse en kt', title = \"Evolution de la consommation de produits pétroliers et des imports sur la période 2018-2022\")"
   ]
  },
  {
   "cell_type": "code",
   "execution_count": null,
   "id": "0c5b0f47-fff9-4cc0-9cb7-604b9a13c73b",
   "metadata": {},
   "outputs": [],
   "source": [
    "df_list[0].columns"
   ]
  },
  {
   "cell_type": "code",
   "execution_count": null,
   "id": "ad444fd9-8cf7-4ece-a3f6-7930bb5b89c3",
   "metadata": {},
   "outputs": [],
   "source": [
    "# Conso vs import en GWH\n",
    "scatter_plot_2lines(x1 = df_list[0].index, y1 = df_list[0][\"5. Consommation réelle de pétrole (brut et raffiné) (en GWh)\"], x2 = df_list[0].index,\n",
    "                    y2 = df_list[0][\"2.1 Importations de tous produits pétroliers (en GWh)\"], label_1 = 'Consommation réelle de produits pétroliers en GWh', label_2 = 'Importations de tous produits pétroliers en GWh', x_label = 'Temps en année',\n",
    "                    y_label = 'Puissance en GWh', title = \"Evolution de la consommation réelle de produits pétroliers et des imports sur la période 2018-2022\")"
   ]
  },
  {
   "cell_type": "code",
   "execution_count": null,
   "id": "baeb14c2-d682-47c2-9ab6-952fcf0e18c5",
   "metadata": {},
   "outputs": [],
   "source": [
    "## Production vs exportations\n",
    "scatter_plot_2lines(x1 = df_list[0].index, y1 = df_list[0][\"1. Production de pétrole (en GWh)\"], x2 = df_list[0].index,\n",
    "                    y2 = df_list[0][\"2.2 Exportations de produits pétroliers raffinés (en GWh)\"], label_1 = 'Production de pétrole en GWh', label_2 = 'Exportations de produits pétroliers raffinés en GWh', x_label = 'Temps en année',\n",
    "                    y_label = 'Puissance en GWh', title = \"Evolution de la production et des exportations de produits pétroliers sur la période 2018-2022\")"
   ]
  },
  {
   "cell_type": "code",
   "execution_count": null,
   "id": "66d281ac-c1d7-493e-be3a-2c07ca86b77d",
   "metadata": {},
   "outputs": [],
   "source": [
    "## Prix à la pompe du gazole et du SP95\n",
    "scatter_plot_2lines(x1 = df_list[3].index, y1 = df_list[3][\"Prix au détail d'un litre de gazole\"], label_1 = 'Prix du litre de gazole',\n",
    "                    x2 = df_list[3].index, y2 = df_list[3][\"Prix au détail d'un litre de super sans plomb 95\"], label_2 = 'Prix du litre de SP95', x_label = 'Temps en année', y_label = 'Prix en €',\n",
    "                    title = \"Evolution du prix du gazole et du SP95 sur la période 2018-2022\")"
   ]
  },
  {
   "cell_type": "code",
   "execution_count": null,
   "id": "2d7c66fc-8c90-411a-8e32-b24a4a4e7dbc",
   "metadata": {},
   "outputs": [],
   "source": [
    "scatter_plot_2lines(x1 = df_list[1].index, y1 = df_list[1][\"Prix au détail d'une tonne OL TBTS\"], label_1 = \"Prix de la tonne d'OL TBTS\",\n",
    "                    x_label = 'Temps en année', y_label = 'Prix en €',\n",
    "                    title = \"Evolution du prix de la tonne d'OL TBTS sur la période 2018-2022\")"
   ]
  },
  {
   "cell_type": "code",
   "execution_count": null,
   "id": "b27c27cb-94c5-4f37-9437-e1e5eeb55608",
   "metadata": {},
   "outputs": [],
   "source": [
    "df_list[3]"
   ]
  },
  {
   "cell_type": "markdown",
   "id": "f3ad030e-3258-4e5c-8ab4-fe2e7b5237da",
   "metadata": {},
   "source": [
    "### Provenance du pétrole importé"
   ]
  },
  {
   "cell_type": "markdown",
   "id": "bc599076-69d6-4b82-b00a-e65ab6536184",
   "metadata": {},
   "source": [
    "#### Etude de la provenance des imports de pétrole brut en France jusqu'en 2021 (données: https://www.insee.fr/fr/statistiques/2119697)"
   ]
  },
  {
   "cell_type": "code",
   "execution_count": null,
   "id": "d69402ff-bc45-48be-9b99-c38211b550c3",
   "metadata": {},
   "outputs": [],
   "source": [
    "data_imp = pd.read_csv('Data/Provenance_petrole.csv', sep = ';')\n",
    "data_imp['Provenance'][data_imp['Provenance'] == 'Russie'] = 'Dont Russie'\n",
    "data_imp['Provenance'][data_imp['Provenance'] == 'Arabie saoudite'] = 'Dont Arabie saoudite'\n",
    "data_imp.head(10)"
   ]
  },
  {
   "cell_type": "code",
   "execution_count": null,
   "id": "087d0158-2229-410e-bf19-b788997ee72c",
   "metadata": {},
   "outputs": [],
   "source": [
    "data_imp_prop = data_imp.T.rename(columns=data_imp.T.iloc[0]).iloc[1:-1]\n",
    "for c in data_imp_prop.columns[:-1]:\n",
    "    data_imp_prop[c] = data_imp_prop[c]/data_imp_prop['Importations totales']\n",
    "data_imp_prop"
   ]
  },
  {
   "cell_type": "code",
   "execution_count": null,
   "id": "49f2d4a4-847b-430b-9388-240d23a55d6c",
   "metadata": {},
   "outputs": [],
   "source": [
    "data_imp_prop.iloc[:, :-1].plot(figsize = (20,12))"
   ]
  },
  {
   "cell_type": "code",
   "execution_count": null,
   "id": "15ce6783-7b98-40aa-9443-d451f0dee50e",
   "metadata": {},
   "outputs": [],
   "source": [
    "data_imp_prop"
   ]
  },
  {
   "cell_type": "code",
   "execution_count": null,
   "id": "016af440-32f9-46a0-afa6-3c9da8032273",
   "metadata": {},
   "outputs": [],
   "source": [
    "data_imp_prop = data_imp_prop[data_imp_prop.columns[:-1]].T\n",
    "data_imp_prop"
   ]
  },
  {
   "cell_type": "code",
   "execution_count": null,
   "id": "dad1db37-c727-47e8-b7b8-da5ecae69d97",
   "metadata": {},
   "outputs": [],
   "source": [
    "barchart(data_imp_prop, '2018', '2021 (p)', 'Import 2018', 'Import 2021', \"Part des imports de pétrole brut en France selon sa Provenance en 2018 et en 2021\", 'Provenance', \"Part de l'import de pétrole brut en France (en %)\")"
   ]
  },
  {
   "cell_type": "markdown",
   "id": "d8aa17d2-39a0-4890-bafc-4d30dd359884",
   "metadata": {},
   "source": [
    "### Production pétrole brut monde"
   ]
  },
  {
   "cell_type": "markdown",
   "id": "38677dd9-4b74-4084-9781-bbf8e089472f",
   "metadata": {},
   "source": [
    "#### Etude de la production de pétrole dans le monde en fonction du pays (données: https://data.oecd.org/fr/energy/production-de-petrole-brut.htm)"
   ]
  },
  {
   "cell_type": "code",
   "execution_count": null,
   "id": "6bae6ec9-4e66-47c9-951a-787f5c193cf4",
   "metadata": {},
   "outputs": [],
   "source": [
    "data_prod = pd.read_csv('Data/Production_petrole_monde.csv', sep = ',')\n",
    "data_prod"
   ]
  },
  {
   "cell_type": "code",
   "execution_count": null,
   "id": "c4fe152f-d27f-4193-b83c-0ce2083c0f84",
   "metadata": {},
   "outputs": [],
   "source": [
    "data_prod.info()"
   ]
  },
  {
   "cell_type": "code",
   "execution_count": null,
   "id": "d0c0ea0f-afe0-48ee-8290-1f0fefe1c2c0",
   "metadata": {},
   "outputs": [],
   "source": [
    "data_prod_Rus = data_prod[data_prod['LOCATION'] == 'RUS']\n",
    "data_prod_Usa = data_prod[data_prod['LOCATION'] == 'USA']\n",
    "data_prod_Sau = data_prod[data_prod['LOCATION'] == 'SAU']\n",
    "data_prod_Irq = data_prod[data_prod['LOCATION'] == 'IRQ']\n",
    "data_prod_Chn = data_prod[data_prod['LOCATION'] == 'CHN']\n",
    "data_prod_Wld = data_prod[data_prod['LOCATION'] == 'WLD']\n",
    "data_prod_Chn"
   ]
  },
  {
   "cell_type": "code",
   "execution_count": null,
   "id": "be4c9203-b97d-4501-b390-e267611f7615",
   "metadata": {},
   "outputs": [],
   "source": [
    "fig = go.Figure()\n",
    "\n",
    "# Add traces\n",
    "fig.add_trace(go.Scatter(x=data_prod_Rus[\"TIME\"], y=data_prod_Rus['Value'],\n",
    "                    mode='lines',\n",
    "                    name='Russie'))\n",
    "fig.add_trace(go.Scatter(x=data_prod_Usa[\"TIME\"], y=data_prod_Usa['Value'],\n",
    "                    mode='lines',\n",
    "                    name='USA'))\n",
    "fig.add_trace(go.Scatter(x=data_prod_Sau[\"TIME\"], y=data_prod_Sau['Value'],\n",
    "                    mode='lines',\n",
    "                    name='Arabie Saoudite'))\n",
    "fig.add_trace(go.Scatter(x=data_prod_Irq[\"TIME\"], y=data_prod_Irq['Value'],\n",
    "                    mode='lines',\n",
    "                    name='Irak'))\n",
    "fig.add_trace(go.Scatter(x=data_prod_Chn[\"TIME\"], y=data_prod_Chn['Value'],\n",
    "                    mode='lines',\n",
    "                    name='Chine'))\n",
    "fig.add_trace(go.Scatter(x=data_prod_Wld[\"TIME\"], y=data_prod_Wld['Value'],\n",
    "                    mode='lines',\n",
    "                    name='World'))\n",
    "\n",
    "fig.show()"
   ]
  },
  {
   "cell_type": "code",
   "execution_count": null,
   "id": "db6f9ec2-24f8-4efe-88f4-948572dcf6de",
   "metadata": {},
   "outputs": [],
   "source": [
    "data_prod_2021 = data_prod[data_prod[\"TIME\"] == 2021]\n",
    "data_prod_2021.rename(columns = {'LOCATION' : 'iso_alpha'}, inplace = True)\n",
    "data_prod_2021"
   ]
  },
  {
   "cell_type": "code",
   "execution_count": null,
   "id": "2e3645f7-8d00-484c-875f-3ed2127084fb",
   "metadata": {},
   "outputs": [],
   "source": [
    "data_prod_2021.info()"
   ]
  },
  {
   "cell_type": "code",
   "execution_count": null,
   "id": "14b4dcca-f8e2-4d09-8aec-2a57dc9f6869",
   "metadata": {},
   "outputs": [],
   "source": [
    "## garde seulement les valeurs supérieures à 0\n",
    "data_prod_2021.drop(data_prod_2021[data_prod_2021['Value'] == 0].index, inplace = True)"
   ]
  },
  {
   "cell_type": "code",
   "execution_count": null,
   "id": "d8212267-ec54-432f-beda-e6e2d624cc7c",
   "metadata": {},
   "outputs": [],
   "source": [
    "data_prod_2021['iso_alpha'].unique()"
   ]
  },
  {
   "cell_type": "code",
   "execution_count": null,
   "id": "58d520d2-a1f0-40f1-a812-35f47126bb7d",
   "metadata": {},
   "outputs": [],
   "source": [
    "liste_pays = ['G20', 'WLD']"
   ]
  },
  {
   "cell_type": "code",
   "execution_count": null,
   "id": "62bba4ee-dca1-4664-8d4b-91d33745a9a7",
   "metadata": {},
   "outputs": [],
   "source": [
    "data_prod_sel = data_prod_2021[~data_prod_2021['iso_alpha'].isin(liste_pays)].sort_values('Value', ascending=False)[:20]\n",
    "data_prod_sel"
   ]
  },
  {
   "cell_type": "code",
   "execution_count": null,
   "id": "3eec25d9-a40c-410d-b01b-3af53040483d",
   "metadata": {},
   "outputs": [],
   "source": [
    "BubbleCloud(data_prod_sel, 'iso_alpha', 'Value', label_highlight = 'RUS')"
   ]
  },
  {
   "cell_type": "markdown",
   "id": "2bf2fc2f-c7da-431f-b0a0-a0b0c5d2c757",
   "metadata": {},
   "source": [
    "### Prix à l'import"
   ]
  },
  {
   "cell_type": "markdown",
   "id": "5159bff4-7091-4a35-a6b2-607e0b14d796",
   "metadata": {},
   "source": [
    "#### Etude du prix du baril de pétrole à l'import en fonction du pays (données: https://data.oecd.org/fr/energy/prix-du-petrole-brut-a-l-importation.htm)"
   ]
  },
  {
   "cell_type": "code",
   "execution_count": null,
   "id": "b91263b6-9c94-4e23-93a1-8ee0ec4e854e",
   "metadata": {},
   "outputs": [],
   "source": [
    "data_prix_imp = pd.read_csv('Data/Prix_import_France.csv', sep = ',')\n",
    "data_prix_imp_Fra =  data_prix_imp[(data_prix_imp[\"LOCATION\"] == 'FRA') & (data_prix_imp[\"TIME\"] > 2017)]\n",
    "data_prix_imp_Fra[\"DATETIME\"] =  pd.to_datetime(data_prix_imp_Fra[\"TIME\"], format = '%Y')\n",
    "data_prix_imp_Fra"
   ]
  },
  {
   "cell_type": "code",
   "execution_count": null,
   "id": "7c9d7e82-77af-4167-b506-d9831bd7d40b",
   "metadata": {},
   "outputs": [],
   "source": [
    "fig = go.Figure()\n",
    "#fig.add_trace(go.Scatter(x=df_list[1].index, y=df_list[1][\"Prix au détail de 100 kWh PCI de FOL TBTS\"].astype(float), name='Prix FOL TBTS'))\n",
    "fig.add_trace(go.Scatter(x=data_prix_imp_Fra['TIME'], y=data_prix_imp_Fra['Value'], name=\"Prix du baril de pétrole à l'import en France\"))\n",
    "fig.update_layout(title_text=\"Evolution du prix du baril de pétrole à l'import en France sur la période 2018-2022\", legend_title_text = \"Légende :\", width=800, height=400, template='simple_white')\n",
    "fig.update_xaxes(title_text='Temps en année')\n",
    "fig.update_yaxes(title_text='Prix en dollars par baril')\n",
    "fig.show()"
   ]
  },
  {
   "cell_type": "code",
   "execution_count": null,
   "id": "dc3d379a-a327-4a64-8fdf-97cc695f18ff",
   "metadata": {},
   "outputs": [],
   "source": [
    "scatter_plot_2lines(x1 = data_prix_imp_Fra['DATETIME'], y1 = data_prix_imp_Fra['Value'], label_1 = \"Prix du baril de pétrole à l'import en France\", x_label = 'Temps en année',\n",
    "                    y_label = 'Prix en dollar par baril', title = \"Evolution du prix du baril de pétrole à l'import en France sur la période 2018-2022\")"
   ]
  },
  {
   "cell_type": "markdown",
   "id": "7d0bdb53-a5fb-46e7-ae53-a8b85108f5fa",
   "metadata": {},
   "source": [
    "### Import provenant de la Russie"
   ]
  },
  {
   "cell_type": "markdown",
   "id": "778a0666-43e8-49e5-b9e4-c8fd9995e9dd",
   "metadata": {},
   "source": [
    "#### Etude de la part des imports de pétrole provenant de la Russie après février 2021 (données: https://www.iea.org/data-and-statistics/data-product/monthly-reliance-on-russian-oil-for-oecd-countries)"
   ]
  },
  {
   "cell_type": "code",
   "execution_count": null,
   "id": "dbbdbd18-9d13-4456-a461-5b55652c70c8",
   "metadata": {},
   "outputs": [],
   "source": [
    "## Import et nettoyage du tableau de la part des imports de pétrole venant de la Russie sur les imports totaux pour chaque pays de l'OCDE de Feb 2021 à Jan 2023\n",
    "## Dictionnaire de transformation de la date (mois)\n",
    "dict_transfo = {'Jan' : '01', 'Feb' : '02', 'Mar' : '03', 'Apr' : '04', 'May' : '05', 'Jun' :  '06', 'Jul' : '07', 'Aug' : '08', 'Sep' : '09', 'Oct' : '10', 'Nov' : '11', 'Dec' : '12'}\n",
    "\n",
    "data_imp_rus = pd.read_csv('../Data/Russie_imports_2022_2023.csv', sep = ';')\n",
    "data_imp_rus.set_index('Unnamed: 0', inplace = True)\n",
    "for col in data_imp_rus.columns:\n",
    "    data_imp_rus[col] = data_imp_rus[col].str.replace('%', '').astype(float)\n",
    "data_imp_rus = data_imp_rus.T\n",
    "data_imp_rus[\"Date\"] = data_imp_rus.index\n",
    "for m in dict_transfo.keys():\n",
    "    data_imp_rus[\"Date\"] = data_imp_rus[\"Date\"].str.replace(m, dict_transfo[m])\n",
    "data_imp_rus[\"Date\"] = data_imp_rus[\"Date\"].str.replace('21', '2021')\n",
    "data_imp_rus[\"Date\"] = data_imp_rus[\"Date\"].str.replace('22', '2022')\n",
    "data_imp_rus[\"Date\"] = data_imp_rus[\"Date\"].str.replace('23', '2023')\n",
    "data_imp_rus[\"Date\"] = pd.to_datetime(data_imp_rus[\"Date\"])\n",
    "data_imp_rus[\"Date\"].dt.strftime('%Y-%m-%d')\n",
    "data_imp_rus.set_index(\"Date\", inplace = True)\n",
    "data_imp_rus"
   ]
  },
  {
   "cell_type": "code",
   "execution_count": null,
   "id": "4cec3ff4-e2ea-42fe-bc97-930ada37fd46",
   "metadata": {},
   "outputs": [],
   "source": [
    "scatter_plot_2lines(x1 = data_imp_rus.index, y1 = data_imp_rus['France'], label_1 = \"Part du pétrole importé de Russie\", x_label = 'Temps en année',\n",
    "                    y_label = 'Import Russie / Import Total', title = \"Evolution de la part du pétrole importé de Russie en France sur la période 2021-2023\")"
   ]
  },
  {
   "cell_type": "markdown",
   "id": "45f1497c-6f4f-4cf2-9aae-c609a9325ed6",
   "metadata": {},
   "source": [
    "## Données totales"
   ]
  },
  {
   "cell_type": "code",
   "execution_count": null,
   "id": "0314bfe3-692e-4180-88cd-e911520df340",
   "metadata": {},
   "outputs": [],
   "source": [
    "df_tot = ouverture_df('Data/7.-Ensemble-des-series.2023-04.csv', '2018-01', '2023-01')\n",
    "df_tot.info()"
   ]
  },
  {
   "cell_type": "code",
   "execution_count": null,
   "id": "95606c9e-95c1-404f-8b23-b936c5b616da",
   "metadata": {},
   "outputs": [],
   "source": [
    "df_tot.columns"
   ]
  },
  {
   "cell_type": "code",
   "execution_count": null,
   "id": "d650fd22-c873-4b55-9f75-6eb120efa5d6",
   "metadata": {},
   "outputs": [],
   "source": [
    "scatter_plot_2lines(x1 = df_tot.index, y1 = df_tot[\"1.2 Importations de produits pétroliers (en millions d'euros CAF)\"].astype(float), label_1 = \"Import de pétrole en millions d'euros\", x_label = 'Temps en année',\n",
    "                    y_label = \"Millions d'euros\", title = \"Import de produits pétroliers (en millions d'euros) sur la période 2018-2022\")"
   ]
  },
  {
   "cell_type": "markdown",
   "id": "36516b23",
   "metadata": {},
   "source": [
    "# Investigation on Electricity from dido data"
   ]
  },
  {
   "cell_type": "code",
   "execution_count": null,
   "id": "dc9e7e5b",
   "metadata": {},
   "outputs": [],
   "source": [
    "df_list = read_electricity_data(\"2018-01\",\"2023-02\")\n",
    "    \n",
    "df_price_menage_electricity = df_list[0]\n",
    "df_price_industry_electricity = df_list[1]\n",
    "df_electricity_2023 = df_list[2]\n",
    "df_summaryze_electricity = df_list[3]"
   ]
  },
  {
   "cell_type": "code",
   "execution_count": null,
   "id": "c196e154",
   "metadata": {},
   "outputs": [],
   "source": [
    "labels = [\"toutes tranches\",\"tranches DA\", \"tranches DB\", \"tranches DC\",\"tranches DD\",\"tranches DE\"]\n",
    "title = \"Prix au détail de l'électricité TTC dans une menage sur la période 2018-2022\"\n",
    "x_title ='Temps en année'\n",
    "y_title = \"Prix au détail de l'électricité TTC (€)\"\n",
    "\n",
    "    \n",
    "plot_from_df(df_price_menage_electricity,labels, title, x_title, y_title)#, save=True, path_to_save='images/fig1.png')"
   ]
  },
  {
   "cell_type": "code",
   "execution_count": null,
   "id": "a89ad366",
   "metadata": {},
   "outputs": [],
   "source": [
    "labels = [\"tranches IA à IF\",\"tranches IA\", \"tranches IB\", \"tranches IC\",\"tranches ID\",\"tranches IE\", \"tranches IF\",\"tranches IG\",\"toutes tranches\" ]\n",
    "title = \"Prix au détail de l'électricité hors TVA dans l'industrie sur la période 2018-2022\"\n",
    "x_title ='Temps en année'\n",
    "y_title = \"Prix au détail de l'électricité hors TVA (€)\"\n",
    "plot_from_df(df_price_industry_electricity,labels, title, x_title, y_title)#, save=True, path_to_save='images/fig2.png')"
   ]
  },
  {
   "cell_type": "code",
   "execution_count": null,
   "id": "f2b8ef53",
   "metadata": {},
   "outputs": [],
   "source": [
    "labels = [\"Electricite industriels\",\"Electricite dans menage\"]\n",
    "title = \"Prix au détail de l'électricité TTC dans l'industrie et dans le menage sur la période 2018-2022\"\n",
    "x_title = 'Temps en année'\n",
    "y_title = \"Prix au détail de l'électricité (€)\"\n",
    "plot_first_column_from_df1_df2(df_price_industry_electricity,df_price_menage_electricity,labels, title, x_title, y_title, 0.78)#, save=True, path_to_save='images/fig3.png')\n"
   ]
  },
  {
   "cell_type": "code",
   "execution_count": null,
   "id": "1c50b2b7",
   "metadata": {},
   "outputs": [],
   "source": [
    "production_net = [\"Production totale nette d'électricité (en GWh)\",\n",
    "                        \"Production nette d'électricité nucléaire (en GWh)\",\n",
    "                        \"Production nette d'électricité hydraulique (en GWh)\",\n",
    "                        \"Production nette d'électricité éolienne (en GWh)\",\n",
    "                        \"Production nette d'électricité photovoltaïque (en GWh)\",\n",
    "                        \"Production nette d'électricité thermique (en GWh)\"]\n",
    "  \n",
    "\n",
    "    \n",
    "labels=[\"totale\",\"électricité nucléaire\",\"électricité hydraulique\",\"électricité éolienne\",\"électricité photovoltaïque\",\"électricité thermique\"]\n",
    "title = \"Production nette d'électricité (GWh) sur sur la période 2018-2023\"\n",
    "x_title = 'Temps en année'\n",
    "y_title = \"Production nette d'électricité (GWh)\"\n",
    "plot_from_df_with_list_col(df_electricity_2023,production_net, labels, title, x_title, y_title)#, save=True, path_to_save='images/fig4.png')"
   ]
  },
  {
   "cell_type": "code",
   "execution_count": null,
   "id": "83c62f43",
   "metadata": {},
   "outputs": [],
   "source": [
    "production = [\"1. Production (brute) d'électricité hydraulique, éolienne et photovoltaïque (en GWh)\",\n",
    "                \"1.1 Production brute d'électricité hydraulique (en GWh)\",\n",
    "                \"1.2 Production brute d'électricité éolienne (en GWh)\",\n",
    "                \"1.3 Production brute d'électricité solaire photovoltaïque (en GWh)\",\n",
    "                \"2. Production nucléaire (équivalent primaire à la production, sous forme de chaleur) (en GWh)\"]\n",
    "\n",
    "labels =[\"total: hydraulic - eolic - solar electricity \",\"hydraulic electricity\",\"eolic electricity\",\"solar electricity\",\"production nuclear\"]\n",
    "title =\"Production (brute) d'électricité renouvable (en GWh) sur la période 2018-2023\"\n",
    "x_title = 'Temps en année'\n",
    "y_title = \"Production brute d'électricité (GWh)\"\n",
    "plot_from_df_with_list_col(df_summaryze_electricity, production, labels, title, x_title, y_title)#, save=True, path_to_save='images/fig5.png')"
   ]
  },
  {
   "cell_type": "code",
   "execution_count": null,
   "id": "4d6eead2",
   "metadata": {},
   "outputs": [],
   "source": [
    "import_export = [\"3. Solde importateur (importations - exportations) d'électricité (en GWh)\",\n",
    "                \"3.1 Importations d'électricité (en GWh)\",\n",
    "                \"3.2 Exportations d'électricité (en GWh)\"]\n",
    "labels =[\"Total_import_export\",\"import\", \"export\"]\n",
    "title = \"Import/Export (GWh) sur la période 2018-2023\"\n",
    "x_title = 'Temps en année'\n",
    "y_title = \"Import/Export (GWh)\"\n",
    "plot_from_df_with_list_col(df_summaryze_electricity, import_export, labels, title, x_title, y_title)#, save=True, path_to_save='images/fig6.png')"
   ]
  },
  {
   "cell_type": "code",
   "execution_count": null,
   "id": "152172bb",
   "metadata": {},
   "outputs": [],
   "source": [
    "consumption = [\"4. Consommation primaire d'énergie nucléaire, hydraulique, éolienne et photovoltaïque brute (en GWh)\",\n",
    "                \"5. Consommation d'électricité primaire et d'équivalent primaire d'électricité nucléaire CVC-CJO (en GWh)\",\n",
    "                \"6. Consommation d'électricité primaire et d'équivalent primaire d'électricité nucléaire CVS-CVC-CJO (en GWh)\"]\n",
    "labels =[\"non nucleiare\",\"nucleiare CVC-CJO\", \"nucleiare CVS-CVC-CJO\"]\n",
    "title =\"Consommation primaire d'énergie sur la période 2018-2023\"\n",
    "x_title = 'Temps en année'\n",
    "y_title = \"Consommation primaire d'énergie (GWh)\"\n",
    "plot_from_df_with_list_col(df_summaryze_electricity, consumption, labels, title, x_title, y_title)#, save=True, path_to_save='images/fig7.png')"
   ]
  },
  {
   "cell_type": "markdown",
   "id": "2cc1546b",
   "metadata": {},
   "source": [
    "# Investigation on Electricity from RTE data\n"
   ]
  },
  {
   "cell_type": "code",
   "execution_count": null,
   "id": "4137c634",
   "metadata": {},
   "outputs": [],
   "source": [
    "df = read_rte_data()\n",
    "print(df)\n",
    "list_resource =[\"Gaz\", \"Nucléaire\", \"Fioul\", \"Charbon\"]\n",
    "list_series = list_series_data(df, list_resource)\n",
    "#print(list_series)\n",
    "plot_subplot_resources(list_series,list_resource)#, save=True, path_to_save='images/rte.png')"
   ]
  },
  {
   "attachments": {},
   "cell_type": "markdown",
   "id": "10b559e6",
   "metadata": {},
   "source": [
    "# Exploration Gaz"
   ]
  },
  {
   "cell_type": "code",
   "execution_count": 28,
   "id": "75e16003",
   "metadata": {},
   "outputs": [],
   "source": [
    "import Modules.Module as md\n",
    "import pandas as pd\n",
    "import plotly.graph_objects as go\n",
    "\n",
    "from plotly.subplots import make_subplots"
   ]
  },
  {
   "cell_type": "code",
   "execution_count": 10,
   "id": "f9733f47",
   "metadata": {},
   "outputs": [],
   "source": [
    "synth_ener = md.ouverture_df('Data/4.1.Synthese-toutes-energies.2023-04.csv', '2018-01-01', '2023-01-01')\n",
    "prix = md.ouverture_df('Data/6.-Prix-de-gros.2023-04.csv', '2018-01-01', '2023-01-01')\n",
    "df = md.ouverture_df('Data/7.-Ensemble-des-series.2023-04.csv', '2018-01-01', '2023-01-01')\n"
   ]
  },
  {
   "cell_type": "code",
   "execution_count": 11,
   "id": "edbb6822",
   "metadata": {},
   "outputs": [],
   "source": [
    "def convert_to_float_except_period(col):\n",
    "    if col.name == 'PERIODE':\n",
    "        return col\n",
    "    else:\n",
    "        return pd.to_numeric(col, errors='coerce')"
   ]
  },
  {
   "cell_type": "code",
   "execution_count": 14,
   "id": "8ffa80df",
   "metadata": {},
   "outputs": [],
   "source": [
    "synth_ener=synth_ener.apply(convert_to_float_except_period, axis=0)\n",
    "\n",
    "prix = prix.apply(convert_to_float_except_period)"
   ]
  },
  {
   "cell_type": "code",
   "execution_count": 15,
   "id": "2e412ff7",
   "metadata": {},
   "outputs": [
    {
     "data": {
      "application/vnd.plotly.v1+json": {
       "config": {
        "plotlyServerURL": "https://plot.ly"
       },
       "data": [
        {
         "name": "Production primaire de gaz naturel (extraction de gaz commercialisé) (en TWh PCS)",
         "type": "scatter",
         "x": [
          "2018-02",
          "2018-03",
          "2018-04",
          "2018-05",
          "2018-06",
          "2018-07",
          "2018-08",
          "2018-09",
          "2018-10",
          "2018-11",
          "2018-12",
          "2019-01",
          "2019-02",
          "2019-03",
          "2019-04",
          "2019-05",
          "2019-06",
          "2019-07",
          "2019-08",
          "2019-09",
          "2019-10",
          "2019-11",
          "2019-12",
          "2020-01",
          "2020-02",
          "2020-03",
          "2020-04",
          "2020-05",
          "2020-06",
          "2020-07",
          "2020-08",
          "2020-09",
          "2020-10",
          "2020-11",
          "2020-12",
          "2021-01",
          "2021-02",
          "2021-03",
          "2021-04",
          "2021-05",
          "2021-06",
          "2021-07",
          "2021-08",
          "2021-09",
          "2021-10",
          "2021-11",
          "2021-12",
          "2022-01",
          "2022-02",
          "2022-03",
          "2022-04",
          "2022-05",
          "2022-06",
          "2022-07",
          "2022-08",
          "2022-09",
          "2022-10",
          "2022-11",
          "2022-12",
          "2023-01"
         ],
         "y": [
          0.053,
          0.06,
          0.061,
          0.063,
          0.065,
          0.065,
          0.069,
          0.073,
          0.083,
          0.075,
          0.091,
          0.096,
          0.1,
          0.114,
          0.113,
          0.114,
          0.105,
          0.103,
          0.113,
          0.128,
          0.137,
          0.139,
          0.158,
          0.161,
          0.158,
          0.181,
          0.18,
          0.186,
          0.181,
          0.191,
          0.19,
          0.189,
          0.239,
          0.26,
          0.293,
          0.302,
          0.28,
          0.341,
          0.338,
          0.358,
          0.341,
          0.382,
          0.397,
          0.403,
          0.459,
          0.477,
          0.519,
          0.527,
          0.494,
          0.581,
          0.573,
          0.584,
          0.546,
          0.594,
          0.608,
          0.631,
          0.678,
          0.669,
          0.717,
          0.712
         ]
        }
       ],
       "layout": {
        "annotations": [
         {
          "showarrow": false,
          "text": "Crise liée au COVID-19",
          "x": "2020-03-11",
          "xanchor": "left",
          "xref": "x",
          "y": 1,
          "yanchor": "top",
          "yref": "y domain"
         },
         {
          "showarrow": false,
          "text": "Guerre en Ukraine",
          "x": "2022-02-24",
          "xanchor": "left",
          "xref": "x",
          "y": 1,
          "yanchor": "top",
          "yref": "y domain"
         }
        ],
        "height": 400,
        "legend": {
         "title": {
          "text": "Légende :"
         }
        },
        "shapes": [
         {
          "fillcolor": "red",
          "line": {
           "width": 0
          },
          "opacity": 0.1,
          "type": "rect",
          "x0": "2020-03-11",
          "x1": "2022-02-24",
          "xref": "x",
          "y0": 0,
          "y1": 1,
          "yref": "y domain"
         },
         {
          "fillcolor": "blue",
          "line": {
           "width": 0
          },
          "opacity": 0.1,
          "type": "rect",
          "x0": "2022-02-24",
          "x1": "2022-12-31",
          "xref": "x",
          "y0": 0,
          "y1": 1,
          "yref": "y domain"
         }
        ],
        "template": {
         "data": {
          "bar": [
           {
            "error_x": {
             "color": "#2a3f5f"
            },
            "error_y": {
             "color": "#2a3f5f"
            },
            "marker": {
             "line": {
              "color": "white",
              "width": 0.5
             },
             "pattern": {
              "fillmode": "overlay",
              "size": 10,
              "solidity": 0.2
             }
            },
            "type": "bar"
           }
          ],
          "barpolar": [
           {
            "marker": {
             "line": {
              "color": "white",
              "width": 0.5
             },
             "pattern": {
              "fillmode": "overlay",
              "size": 10,
              "solidity": 0.2
             }
            },
            "type": "barpolar"
           }
          ],
          "carpet": [
           {
            "aaxis": {
             "endlinecolor": "#2a3f5f",
             "gridcolor": "#C8D4E3",
             "linecolor": "#C8D4E3",
             "minorgridcolor": "#C8D4E3",
             "startlinecolor": "#2a3f5f"
            },
            "baxis": {
             "endlinecolor": "#2a3f5f",
             "gridcolor": "#C8D4E3",
             "linecolor": "#C8D4E3",
             "minorgridcolor": "#C8D4E3",
             "startlinecolor": "#2a3f5f"
            },
            "type": "carpet"
           }
          ],
          "choropleth": [
           {
            "colorbar": {
             "outlinewidth": 0,
             "ticks": ""
            },
            "type": "choropleth"
           }
          ],
          "contour": [
           {
            "colorbar": {
             "outlinewidth": 0,
             "ticks": ""
            },
            "colorscale": [
             [
              0,
              "#0d0887"
             ],
             [
              0.1111111111111111,
              "#46039f"
             ],
             [
              0.2222222222222222,
              "#7201a8"
             ],
             [
              0.3333333333333333,
              "#9c179e"
             ],
             [
              0.4444444444444444,
              "#bd3786"
             ],
             [
              0.5555555555555556,
              "#d8576b"
             ],
             [
              0.6666666666666666,
              "#ed7953"
             ],
             [
              0.7777777777777778,
              "#fb9f3a"
             ],
             [
              0.8888888888888888,
              "#fdca26"
             ],
             [
              1,
              "#f0f921"
             ]
            ],
            "type": "contour"
           }
          ],
          "contourcarpet": [
           {
            "colorbar": {
             "outlinewidth": 0,
             "ticks": ""
            },
            "type": "contourcarpet"
           }
          ],
          "heatmap": [
           {
            "colorbar": {
             "outlinewidth": 0,
             "ticks": ""
            },
            "colorscale": [
             [
              0,
              "#0d0887"
             ],
             [
              0.1111111111111111,
              "#46039f"
             ],
             [
              0.2222222222222222,
              "#7201a8"
             ],
             [
              0.3333333333333333,
              "#9c179e"
             ],
             [
              0.4444444444444444,
              "#bd3786"
             ],
             [
              0.5555555555555556,
              "#d8576b"
             ],
             [
              0.6666666666666666,
              "#ed7953"
             ],
             [
              0.7777777777777778,
              "#fb9f3a"
             ],
             [
              0.8888888888888888,
              "#fdca26"
             ],
             [
              1,
              "#f0f921"
             ]
            ],
            "type": "heatmap"
           }
          ],
          "heatmapgl": [
           {
            "colorbar": {
             "outlinewidth": 0,
             "ticks": ""
            },
            "colorscale": [
             [
              0,
              "#0d0887"
             ],
             [
              0.1111111111111111,
              "#46039f"
             ],
             [
              0.2222222222222222,
              "#7201a8"
             ],
             [
              0.3333333333333333,
              "#9c179e"
             ],
             [
              0.4444444444444444,
              "#bd3786"
             ],
             [
              0.5555555555555556,
              "#d8576b"
             ],
             [
              0.6666666666666666,
              "#ed7953"
             ],
             [
              0.7777777777777778,
              "#fb9f3a"
             ],
             [
              0.8888888888888888,
              "#fdca26"
             ],
             [
              1,
              "#f0f921"
             ]
            ],
            "type": "heatmapgl"
           }
          ],
          "histogram": [
           {
            "marker": {
             "pattern": {
              "fillmode": "overlay",
              "size": 10,
              "solidity": 0.2
             }
            },
            "type": "histogram"
           }
          ],
          "histogram2d": [
           {
            "colorbar": {
             "outlinewidth": 0,
             "ticks": ""
            },
            "colorscale": [
             [
              0,
              "#0d0887"
             ],
             [
              0.1111111111111111,
              "#46039f"
             ],
             [
              0.2222222222222222,
              "#7201a8"
             ],
             [
              0.3333333333333333,
              "#9c179e"
             ],
             [
              0.4444444444444444,
              "#bd3786"
             ],
             [
              0.5555555555555556,
              "#d8576b"
             ],
             [
              0.6666666666666666,
              "#ed7953"
             ],
             [
              0.7777777777777778,
              "#fb9f3a"
             ],
             [
              0.8888888888888888,
              "#fdca26"
             ],
             [
              1,
              "#f0f921"
             ]
            ],
            "type": "histogram2d"
           }
          ],
          "histogram2dcontour": [
           {
            "colorbar": {
             "outlinewidth": 0,
             "ticks": ""
            },
            "colorscale": [
             [
              0,
              "#0d0887"
             ],
             [
              0.1111111111111111,
              "#46039f"
             ],
             [
              0.2222222222222222,
              "#7201a8"
             ],
             [
              0.3333333333333333,
              "#9c179e"
             ],
             [
              0.4444444444444444,
              "#bd3786"
             ],
             [
              0.5555555555555556,
              "#d8576b"
             ],
             [
              0.6666666666666666,
              "#ed7953"
             ],
             [
              0.7777777777777778,
              "#fb9f3a"
             ],
             [
              0.8888888888888888,
              "#fdca26"
             ],
             [
              1,
              "#f0f921"
             ]
            ],
            "type": "histogram2dcontour"
           }
          ],
          "mesh3d": [
           {
            "colorbar": {
             "outlinewidth": 0,
             "ticks": ""
            },
            "type": "mesh3d"
           }
          ],
          "parcoords": [
           {
            "line": {
             "colorbar": {
              "outlinewidth": 0,
              "ticks": ""
             }
            },
            "type": "parcoords"
           }
          ],
          "pie": [
           {
            "automargin": true,
            "type": "pie"
           }
          ],
          "scatter": [
           {
            "marker": {
             "colorbar": {
              "outlinewidth": 0,
              "ticks": ""
             }
            },
            "type": "scatter"
           }
          ],
          "scatter3d": [
           {
            "line": {
             "colorbar": {
              "outlinewidth": 0,
              "ticks": ""
             }
            },
            "marker": {
             "colorbar": {
              "outlinewidth": 0,
              "ticks": ""
             }
            },
            "type": "scatter3d"
           }
          ],
          "scattercarpet": [
           {
            "marker": {
             "colorbar": {
              "outlinewidth": 0,
              "ticks": ""
             }
            },
            "type": "scattercarpet"
           }
          ],
          "scattergeo": [
           {
            "marker": {
             "colorbar": {
              "outlinewidth": 0,
              "ticks": ""
             }
            },
            "type": "scattergeo"
           }
          ],
          "scattergl": [
           {
            "marker": {
             "colorbar": {
              "outlinewidth": 0,
              "ticks": ""
             }
            },
            "type": "scattergl"
           }
          ],
          "scattermapbox": [
           {
            "marker": {
             "colorbar": {
              "outlinewidth": 0,
              "ticks": ""
             }
            },
            "type": "scattermapbox"
           }
          ],
          "scatterpolar": [
           {
            "marker": {
             "colorbar": {
              "outlinewidth": 0,
              "ticks": ""
             }
            },
            "type": "scatterpolar"
           }
          ],
          "scatterpolargl": [
           {
            "marker": {
             "colorbar": {
              "outlinewidth": 0,
              "ticks": ""
             }
            },
            "type": "scatterpolargl"
           }
          ],
          "scatterternary": [
           {
            "marker": {
             "colorbar": {
              "outlinewidth": 0,
              "ticks": ""
             }
            },
            "type": "scatterternary"
           }
          ],
          "surface": [
           {
            "colorbar": {
             "outlinewidth": 0,
             "ticks": ""
            },
            "colorscale": [
             [
              0,
              "#0d0887"
             ],
             [
              0.1111111111111111,
              "#46039f"
             ],
             [
              0.2222222222222222,
              "#7201a8"
             ],
             [
              0.3333333333333333,
              "#9c179e"
             ],
             [
              0.4444444444444444,
              "#bd3786"
             ],
             [
              0.5555555555555556,
              "#d8576b"
             ],
             [
              0.6666666666666666,
              "#ed7953"
             ],
             [
              0.7777777777777778,
              "#fb9f3a"
             ],
             [
              0.8888888888888888,
              "#fdca26"
             ],
             [
              1,
              "#f0f921"
             ]
            ],
            "type": "surface"
           }
          ],
          "table": [
           {
            "cells": {
             "fill": {
              "color": "#EBF0F8"
             },
             "line": {
              "color": "white"
             }
            },
            "header": {
             "fill": {
              "color": "#C8D4E3"
             },
             "line": {
              "color": "white"
             }
            },
            "type": "table"
           }
          ]
         },
         "layout": {
          "annotationdefaults": {
           "arrowcolor": "#2a3f5f",
           "arrowhead": 0,
           "arrowwidth": 1
          },
          "autotypenumbers": "strict",
          "coloraxis": {
           "colorbar": {
            "outlinewidth": 0,
            "ticks": ""
           }
          },
          "colorscale": {
           "diverging": [
            [
             0,
             "#8e0152"
            ],
            [
             0.1,
             "#c51b7d"
            ],
            [
             0.2,
             "#de77ae"
            ],
            [
             0.3,
             "#f1b6da"
            ],
            [
             0.4,
             "#fde0ef"
            ],
            [
             0.5,
             "#f7f7f7"
            ],
            [
             0.6,
             "#e6f5d0"
            ],
            [
             0.7,
             "#b8e186"
            ],
            [
             0.8,
             "#7fbc41"
            ],
            [
             0.9,
             "#4d9221"
            ],
            [
             1,
             "#276419"
            ]
           ],
           "sequential": [
            [
             0,
             "#0d0887"
            ],
            [
             0.1111111111111111,
             "#46039f"
            ],
            [
             0.2222222222222222,
             "#7201a8"
            ],
            [
             0.3333333333333333,
             "#9c179e"
            ],
            [
             0.4444444444444444,
             "#bd3786"
            ],
            [
             0.5555555555555556,
             "#d8576b"
            ],
            [
             0.6666666666666666,
             "#ed7953"
            ],
            [
             0.7777777777777778,
             "#fb9f3a"
            ],
            [
             0.8888888888888888,
             "#fdca26"
            ],
            [
             1,
             "#f0f921"
            ]
           ],
           "sequentialminus": [
            [
             0,
             "#0d0887"
            ],
            [
             0.1111111111111111,
             "#46039f"
            ],
            [
             0.2222222222222222,
             "#7201a8"
            ],
            [
             0.3333333333333333,
             "#9c179e"
            ],
            [
             0.4444444444444444,
             "#bd3786"
            ],
            [
             0.5555555555555556,
             "#d8576b"
            ],
            [
             0.6666666666666666,
             "#ed7953"
            ],
            [
             0.7777777777777778,
             "#fb9f3a"
            ],
            [
             0.8888888888888888,
             "#fdca26"
            ],
            [
             1,
             "#f0f921"
            ]
           ]
          },
          "colorway": [
           "#636efa",
           "#EF553B",
           "#00cc96",
           "#ab63fa",
           "#FFA15A",
           "#19d3f3",
           "#FF6692",
           "#B6E880",
           "#FF97FF",
           "#FECB52"
          ],
          "font": {
           "color": "#2a3f5f"
          },
          "geo": {
           "bgcolor": "white",
           "lakecolor": "white",
           "landcolor": "white",
           "showlakes": true,
           "showland": true,
           "subunitcolor": "#C8D4E3"
          },
          "hoverlabel": {
           "align": "left"
          },
          "hovermode": "closest",
          "mapbox": {
           "style": "light"
          },
          "paper_bgcolor": "white",
          "plot_bgcolor": "white",
          "polar": {
           "angularaxis": {
            "gridcolor": "#EBF0F8",
            "linecolor": "#EBF0F8",
            "ticks": ""
           },
           "bgcolor": "white",
           "radialaxis": {
            "gridcolor": "#EBF0F8",
            "linecolor": "#EBF0F8",
            "ticks": ""
           }
          },
          "scene": {
           "xaxis": {
            "backgroundcolor": "white",
            "gridcolor": "#DFE8F3",
            "gridwidth": 2,
            "linecolor": "#EBF0F8",
            "showbackground": true,
            "ticks": "",
            "zerolinecolor": "#EBF0F8"
           },
           "yaxis": {
            "backgroundcolor": "white",
            "gridcolor": "#DFE8F3",
            "gridwidth": 2,
            "linecolor": "#EBF0F8",
            "showbackground": true,
            "ticks": "",
            "zerolinecolor": "#EBF0F8"
           },
           "zaxis": {
            "backgroundcolor": "white",
            "gridcolor": "#DFE8F3",
            "gridwidth": 2,
            "linecolor": "#EBF0F8",
            "showbackground": true,
            "ticks": "",
            "zerolinecolor": "#EBF0F8"
           }
          },
          "shapedefaults": {
           "line": {
            "color": "#2a3f5f"
           }
          },
          "ternary": {
           "aaxis": {
            "gridcolor": "#DFE8F3",
            "linecolor": "#A2B1C6",
            "ticks": ""
           },
           "baxis": {
            "gridcolor": "#DFE8F3",
            "linecolor": "#A2B1C6",
            "ticks": ""
           },
           "bgcolor": "white",
           "caxis": {
            "gridcolor": "#DFE8F3",
            "linecolor": "#A2B1C6",
            "ticks": ""
           }
          },
          "title": {
           "x": 0.05
          },
          "xaxis": {
           "automargin": true,
           "gridcolor": "#EBF0F8",
           "linecolor": "#EBF0F8",
           "ticks": "",
           "title": {
            "standoff": 15
           },
           "zerolinecolor": "#EBF0F8",
           "zerolinewidth": 2
          },
          "yaxis": {
           "automargin": true,
           "gridcolor": "#EBF0F8",
           "linecolor": "#EBF0F8",
           "ticks": "",
           "title": {
            "standoff": 15
           },
           "zerolinecolor": "#EBF0F8",
           "zerolinewidth": 2
          }
         }
        },
        "title": {
         "text": "Production primaire de gaz naturel (extraction de gaz commercialisé) de 2018 à 2023",
         "x": 0.5
        },
        "width": 800,
        "xaxis": {
         "linecolor": "#000000",
         "showgrid": false,
         "showline": true,
         "title": {
          "text": "Période en année"
         }
        },
        "yaxis": {
         "linecolor": "#000000",
         "showgrid": false,
         "showline": true,
         "title": {
          "text": "Production primaire de gaz naturel (en TWh PCS)"
         }
        }
       }
      }
     },
     "metadata": {},
     "output_type": "display_data"
    }
   ],
   "source": [
    "md.scatter_plot(df['Période'], df['1. Production primaire de gaz naturel (extraction de gaz commercialisé) (en TWh PCS)'], 'Production primaire de gaz naturel (extraction de gaz commercialisé) (en TWh PCS)', 'Production primaire de gaz naturel (extraction de gaz commercialisé) de 2018 à 2023', 'Période en année', 'Production primaire de gaz naturel (en TWh PCS)')"
   ]
  },
  {
   "cell_type": "code",
   "execution_count": 16,
   "id": "47529b51",
   "metadata": {},
   "outputs": [],
   "source": [
    "prix_menage = pd.read_csv('Data/1.3.-Prix-menages-Gaz.2023-04.csv', sep=';')\n",
    "prix_industriel = pd.read_csv('Data/2.3.-Prix-industriels-Gaz.2023-04.csv', sep=';')\n",
    "gaz_nat = pd.read_csv('Data/3.2.Gaz-naturel.2023-04.csv', sep=';') \n",
    "prix_gros = pd.read_csv('Data/6.-Prix-de-gros.2023-04.csv', sep=';')\n",
    "gaz = pd.read_csv('Data/4.3.Synthese-Gaz-naturel.2023-04.csv', sep=';')"
   ]
  },
  {
   "cell_type": "code",
   "execution_count": 17,
   "id": "cd894c0e",
   "metadata": {},
   "outputs": [],
   "source": [
    "gaz_nat = gaz_nat.rename(columns=gaz_nat.iloc[0]).drop(gaz_nat.index[0])\n",
    "prix_menage = prix_menage.rename(columns=prix_menage.iloc[0]).drop(prix_menage.index[0])\n",
    "prix_gros = prix_gros.rename(columns=prix_gros.iloc[0]).drop(prix_gros.index[0])\n",
    "prix_industriel = prix_industriel.rename(columns=prix_industriel.iloc[0]).drop(prix_industriel.index[0])\n",
    "gaz = gaz.rename(columns=gaz.iloc[0]).drop(gaz.index[0])"
   ]
  },
  {
   "cell_type": "code",
   "execution_count": 18,
   "id": "1f35273c",
   "metadata": {},
   "outputs": [
    {
     "name": "stderr",
     "output_type": "stream",
     "text": [
      "/tmp/ipykernel_5761/2281417045.py:15: SettingWithCopyWarning:\n",
      "\n",
      "\n",
      "A value is trying to be set on a copy of a slice from a DataFrame.\n",
      "Try using .loc[row_indexer,col_indexer] = value instead\n",
      "\n",
      "See the caveats in the documentation: https://pandas.pydata.org/pandas-docs/stable/user_guide/indexing.html#returning-a-view-versus-a-copy\n",
      "\n",
      "/tmp/ipykernel_5761/2281417045.py:22: SettingWithCopyWarning:\n",
      "\n",
      "\n",
      "A value is trying to be set on a copy of a slice from a DataFrame.\n",
      "Try using .loc[row_indexer,col_indexer] = value instead\n",
      "\n",
      "See the caveats in the documentation: https://pandas.pydata.org/pandas-docs/stable/user_guide/indexing.html#returning-a-view-versus-a-copy\n",
      "\n",
      "/tmp/ipykernel_5761/2281417045.py:29: SettingWithCopyWarning:\n",
      "\n",
      "\n",
      "A value is trying to be set on a copy of a slice from a DataFrame.\n",
      "Try using .loc[row_indexer,col_indexer] = value instead\n",
      "\n",
      "See the caveats in the documentation: https://pandas.pydata.org/pandas-docs/stable/user_guide/indexing.html#returning-a-view-versus-a-copy\n",
      "\n"
     ]
    }
   ],
   "source": [
    "# convert \"PERIODE\" column to datetime format\n",
    "prix_industriel['PERIODE'] = pd.to_datetime(prix_industriel['PERIODE'], format='%Y-%m')\n",
    "prix_menage['PERIODE'] = pd.to_datetime(prix_menage['PERIODE'], format='%Y-%m')\n",
    "gaz_nat['PERIODE'] = pd.to_datetime(gaz_nat['PERIODE'], format='%Y-%m')\n",
    "gaz['PERIODE'] = pd.to_datetime(gaz['PERIODE'], format='%Y-%m')\n",
    "prix_gros['PERIODE'] = pd.to_datetime(prix_gros['PERIODE'], format='%Y-%m')\n",
    "\n",
    "# create datetime objects for the start and end dates\n",
    "start_date = pd.to_datetime('2018-01', format='%Y-%m')\n",
    "end_date = pd.to_datetime('2023-04', format='%Y-%m')\n",
    "\n",
    "# filter the dataframe based on the date range\n",
    "prix_industriel2 = prix_industriel[(prix_industriel['PERIODE'] >= start_date) & (prix_industriel['PERIODE'] <= end_date)]\n",
    "# convert PERIODE to string format without the day\n",
    "prix_industriel2['PERIODE'] = pd.to_datetime(prix_industriel2['PERIODE']).dt.strftime('%Y-%m')\n",
    "# sort the dataframe by the PERIODE column\n",
    "prix_industriel2 = prix_industriel2.sort_values('PERIODE')\n",
    "\n",
    "# filter the dataframe based on the date range\n",
    "prix_menage2 = prix_menage[(prix_menage['PERIODE'] >= start_date) & (prix_menage['PERIODE'] <= end_date)]\n",
    "# convert PERIODE to string format without the day\n",
    "prix_menage2['PERIODE'] = pd.to_datetime(prix_menage2['PERIODE']).dt.strftime('%Y-%m')\n",
    "# sort the dataframe by the PERIODE column\n",
    "prix_menage2 = prix_menage2.sort_values('PERIODE')\n",
    "\n",
    "# filter the dataframe based on the date range\n",
    "gaz_nat2 = gaz_nat[(gaz_nat['PERIODE'] >= start_date) & (gaz_nat['PERIODE'] <= end_date)]\n",
    "# convert PERIODE to string format without the day\n",
    "gaz_nat2['PERIODE'] = pd.to_datetime(gaz_nat2['PERIODE']).dt.strftime('%Y-%m')\n",
    "# sort the dataframe by the PERIODE column\n",
    "gaz_nat2 = gaz_nat2.sort_values('PERIODE')\n",
    "\n",
    "# filter the dataframe based on the date range\n",
    "gaz = gaz[(gaz['PERIODE'] >= start_date) & (gaz['PERIODE'] <= end_date)]\n",
    "# convert PERIODE to string format without the day\n",
    "gaz['PERIODE'] = pd.to_datetime(gaz['PERIODE']).dt.strftime('%Y-%m')\n",
    "# sort the dataframe by the PERIODE column\n",
    "gaz = gaz.sort_values('PERIODE')\n",
    "\n",
    "# filter the dataframe based on the date range\n",
    "prix_gros = prix_gros[(prix_gros['PERIODE'] >= start_date) & (prix_gros['PERIODE'] <= end_date)]\n",
    "# convert PERIODE to string format without the day\n",
    "prix_gros['PERIODE'] = pd.to_datetime(prix_gros['PERIODE']).dt.strftime('%Y-%m')\n",
    "# sort the dataframe by the PERIODE column\n",
    "prix_gros = prix_gros.sort_values('PERIODE')"
   ]
  },
  {
   "cell_type": "code",
   "execution_count": 19,
   "id": "99b1e6df",
   "metadata": {},
   "outputs": [
    {
     "data": {
      "text/html": [
       "<div>\n",
       "<style scoped>\n",
       "    .dataframe tbody tr th:only-of-type {\n",
       "        vertical-align: middle;\n",
       "    }\n",
       "\n",
       "    .dataframe tbody tr th {\n",
       "        vertical-align: top;\n",
       "    }\n",
       "\n",
       "    .dataframe thead th {\n",
       "        text-align: right;\n",
       "    }\n",
       "</style>\n",
       "<table border=\"1\" class=\"dataframe\">\n",
       "  <thead>\n",
       "    <tr style=\"text-align: right;\">\n",
       "      <th></th>\n",
       "      <th>PERIODE</th>\n",
       "      <th>PROD_GAZ_SYNT</th>\n",
       "      <th>QSOLI_GAZ_SYNT</th>\n",
       "      <th>CONSO_GAZ_SYNT</th>\n",
       "      <th>CONSO_GAZ_SYNT_COR1</th>\n",
       "      <th>CONSO_GAZ_SYNT_COR2</th>\n",
       "      <th>DJU</th>\n",
       "      <th>INDRIG</th>\n",
       "    </tr>\n",
       "  </thead>\n",
       "  <tbody>\n",
       "    <tr>\n",
       "      <th>24</th>\n",
       "      <td>2018-01</td>\n",
       "      <td>49.91</td>\n",
       "      <td>27188.962</td>\n",
       "      <td>53227.463</td>\n",
       "      <td>62985.435</td>\n",
       "      <td>36667.507</td>\n",
       "      <td>275.94</td>\n",
       "      <td>0.744</td>\n",
       "    </tr>\n",
       "    <tr>\n",
       "      <th>35</th>\n",
       "      <td>2018-02</td>\n",
       "      <td>47.58</td>\n",
       "      <td>35731.221</td>\n",
       "      <td>62880.025</td>\n",
       "      <td>53700.552</td>\n",
       "      <td>35348.322</td>\n",
       "      <td>397.119</td>\n",
       "      <td>1.242</td>\n",
       "    </tr>\n",
       "    <tr>\n",
       "      <th>29</th>\n",
       "      <td>2018-03</td>\n",
       "      <td>53.86</td>\n",
       "      <td>36069.973</td>\n",
       "      <td>52942.31</td>\n",
       "      <td>49340.449</td>\n",
       "      <td>36853.096</td>\n",
       "      <td>284.173</td>\n",
       "      <td>1.111</td>\n",
       "    </tr>\n",
       "    <tr>\n",
       "      <th>21</th>\n",
       "      <td>2018-04</td>\n",
       "      <td>54.208</td>\n",
       "      <td>31195.198</td>\n",
       "      <td>26947.653</td>\n",
       "      <td>33451.736</td>\n",
       "      <td>36686.464</td>\n",
       "      <td>109.397</td>\n",
       "      <td>0.659</td>\n",
       "    </tr>\n",
       "    <tr>\n",
       "      <th>52</th>\n",
       "      <td>2018-05</td>\n",
       "      <td>56.642</td>\n",
       "      <td>30309.715</td>\n",
       "      <td>19698.188</td>\n",
       "      <td>21563.848</td>\n",
       "      <td>34437.387</td>\n",
       "      <td>56.532</td>\n",
       "      <td>0.721</td>\n",
       "    </tr>\n",
       "    <tr>\n",
       "      <th>...</th>\n",
       "      <td>...</td>\n",
       "      <td>...</td>\n",
       "      <td>...</td>\n",
       "      <td>...</td>\n",
       "      <td>...</td>\n",
       "      <td>...</td>\n",
       "      <td>...</td>\n",
       "      <td>...</td>\n",
       "    </tr>\n",
       "    <tr>\n",
       "      <th>12</th>\n",
       "      <td>2022-10</td>\n",
       "      <td>606.98</td>\n",
       "      <td>17861.125</td>\n",
       "      <td>23386.331</td>\n",
       "      <td>30488.587</td>\n",
       "      <td>35313.892</td>\n",
       "      <td>37.95</td>\n",
       "      <td>0.305</td>\n",
       "    </tr>\n",
       "    <tr>\n",
       "      <th>14</th>\n",
       "      <td>2022-11</td>\n",
       "      <td>599.062</td>\n",
       "      <td>25520.423</td>\n",
       "      <td>36358.094</td>\n",
       "      <td>41852.945</td>\n",
       "      <td>29181.879</td>\n",
       "      <td>195.907</td>\n",
       "      <td>0.771</td>\n",
       "    </tr>\n",
       "    <tr>\n",
       "      <th>15</th>\n",
       "      <td>2022-12</td>\n",
       "      <td>641.921</td>\n",
       "      <td>29461.336</td>\n",
       "      <td>50922.795</td>\n",
       "      <td>52373.84</td>\n",
       "      <td>29186.495</td>\n",
       "      <td>339.35</td>\n",
       "      <td>0.962</td>\n",
       "    </tr>\n",
       "    <tr>\n",
       "      <th>13</th>\n",
       "      <td>2023-01</td>\n",
       "      <td>637.809</td>\n",
       "      <td>17984.429</td>\n",
       "      <td>49889.24</td>\n",
       "      <td>53401.641</td>\n",
       "      <td>27755.924</td>\n",
       "      <td>336.034</td>\n",
       "      <td>0.906</td>\n",
       "    </tr>\n",
       "    <tr>\n",
       "      <th>2</th>\n",
       "      <td>2023-02</td>\n",
       "      <td>598.134</td>\n",
       "      <td>8872.294</td>\n",
       "      <td>45224.795</td>\n",
       "      <td>47301.932</td>\n",
       "      <td>28992.14</td>\n",
       "      <td>292.236</td>\n",
       "      <td>0.914</td>\n",
       "    </tr>\n",
       "  </tbody>\n",
       "</table>\n",
       "<p>62 rows × 8 columns</p>\n",
       "</div>"
      ],
      "text/plain": [
       "    PERIODE PROD_GAZ_SYNT QSOLI_GAZ_SYNT CONSO_GAZ_SYNT CONSO_GAZ_SYNT_COR1  \\\n",
       "24  2018-01         49.91      27188.962      53227.463           62985.435   \n",
       "35  2018-02         47.58      35731.221      62880.025           53700.552   \n",
       "29  2018-03         53.86      36069.973       52942.31           49340.449   \n",
       "21  2018-04        54.208      31195.198      26947.653           33451.736   \n",
       "52  2018-05        56.642      30309.715      19698.188           21563.848   \n",
       "..      ...           ...            ...            ...                 ...   \n",
       "12  2022-10        606.98      17861.125      23386.331           30488.587   \n",
       "14  2022-11       599.062      25520.423      36358.094           41852.945   \n",
       "15  2022-12       641.921      29461.336      50922.795            52373.84   \n",
       "13  2023-01       637.809      17984.429       49889.24           53401.641   \n",
       "2   2023-02       598.134       8872.294      45224.795           47301.932   \n",
       "\n",
       "   CONSO_GAZ_SYNT_COR2      DJU INDRIG  \n",
       "24           36667.507   275.94  0.744  \n",
       "35           35348.322  397.119  1.242  \n",
       "29           36853.096  284.173  1.111  \n",
       "21           36686.464  109.397  0.659  \n",
       "52           34437.387   56.532  0.721  \n",
       "..                 ...      ...    ...  \n",
       "12           35313.892    37.95  0.305  \n",
       "14           29181.879  195.907  0.771  \n",
       "15           29186.495   339.35  0.962  \n",
       "13           27755.924  336.034  0.906  \n",
       "2             28992.14  292.236  0.914  \n",
       "\n",
       "[62 rows x 8 columns]"
      ]
     },
     "execution_count": 19,
     "metadata": {},
     "output_type": "execute_result"
    }
   ],
   "source": [
    "prix_menage2.dropna()\n",
    "prix_gros.dropna()\n",
    "prix_industriel2.dropna()\n",
    "prix_industriel2['PX_GAZ_I_TTES_TRANCHES'] = prix_industriel2['PX_GAZ_I_TTES_TRANCHES'].astype(float)\n",
    "\n",
    "prix_menage2['PX_GAZ_D_TTES_TRANCHES'] = prix_menage2['PX_GAZ_D_TTES_TRANCHES'].astype(float)\n",
    "\n",
    "gaz_nat2.dropna()\n",
    "gaz_nat2['CONSO_GAZ'] = gaz_nat2['CONSO_GAZ'].astype(float)\n",
    "\n",
    "gaz.dropna()"
   ]
  },
  {
   "cell_type": "code",
   "execution_count": 20,
   "id": "864404b6",
   "metadata": {},
   "outputs": [],
   "source": [
    "gaz_nat2 = gaz_nat2.apply(convert_to_float_except_period, axis=0)\n",
    "gaz = gaz.apply(convert_to_float_except_period, axis=0)\n",
    "\n",
    "prix_gros = prix_gros.apply(convert_to_float_except_period, axis=0)"
   ]
  },
  {
   "cell_type": "code",
   "execution_count": 25,
   "id": "1764e8d7",
   "metadata": {},
   "outputs": [
    {
     "data": {
      "application/vnd.plotly.v1+json": {
       "config": {
        "plotlyServerURL": "https://plot.ly"
       },
       "data": [
        {
         "name": "Point d'équilibrage national à Londres",
         "type": "scatter",
         "x": [
          "2018-01",
          "2018-02",
          "2018-03",
          "2018-04",
          "2018-05",
          "2018-06",
          "2018-07",
          "2018-08",
          "2018-09",
          "2018-10",
          "2018-11",
          "2018-12",
          "2019-01",
          "2019-02",
          "2019-03",
          "2019-04",
          "2019-05",
          "2019-06",
          "2019-07",
          "2019-08",
          "2019-09",
          "2019-10",
          "2019-11",
          "2019-12",
          "2020-01",
          "2020-02",
          "2020-03",
          "2020-04",
          "2020-05",
          "2020-06",
          "2020-07",
          "2020-08",
          "2020-09",
          "2020-10",
          "2020-11",
          "2020-12",
          "2021-01",
          "2021-02",
          "2021-03",
          "2021-04",
          "2021-05",
          "2021-06",
          "2021-07",
          "2021-08",
          "2021-09",
          "2021-10",
          "2021-11",
          "2021-12",
          "2022-01",
          "2022-02",
          "2022-03",
          "2022-04",
          "2022-05",
          "2022-06",
          "2022-07",
          "2022-08",
          "2022-09",
          "2022-10",
          "2022-11",
          "2022-12",
          "2023-01",
          "2023-02"
         ],
         "y": [
          19.52,
          22.89,
          24.99,
          19.91,
          21.72,
          21.38,
          22.25,
          23.86,
          28.19,
          25.78,
          25.08,
          24.32,
          22.33,
          18.45,
          15.65,
          14,
          12.35,
          10.68,
          11.23,
          10.39,
          9.6,
          10.19,
          15.2,
          12.9,
          11.23,
          9.53,
          8.75,
          5.44,
          4.48,
          5,
          5.01,
          7.69,
          11.32,
          14.43,
          14.34,
          17.3,
          22.68,
          18.03,
          17.97,
          22.07,
          26.04,
          28.72,
          36.08,
          43.89,
          62.83,
          83.5,
          80.91,
          111.25,
          82.92,
          77.15,
          122.04,
          70.54,
          37.84,
          56.36,
          98.01,
          150.8,
          100.79,
          40.06,
          52.66,
          109.42,
          59.39,
          51.44
         ]
        },
        {
         "name": "Point d'échange Gaz en France",
         "type": "scatter",
         "x": [
          "2018-01",
          "2018-02",
          "2018-03",
          "2018-04",
          "2018-05",
          "2018-06",
          "2018-07",
          "2018-08",
          "2018-09",
          "2018-10",
          "2018-11",
          "2018-12",
          "2019-01",
          "2019-02",
          "2019-03",
          "2019-04",
          "2019-05",
          "2019-06",
          "2019-07",
          "2019-08",
          "2019-09",
          "2019-10",
          "2019-11",
          "2019-12",
          "2020-01",
          "2020-02",
          "2020-03",
          "2020-04",
          "2020-05",
          "2020-06",
          "2020-07",
          "2020-08",
          "2020-09",
          "2020-10",
          "2020-11",
          "2020-12",
          "2021-01",
          "2021-02",
          "2021-03",
          "2021-04",
          "2021-05",
          "2021-06",
          "2021-07",
          "2021-08",
          "2021-09",
          "2021-10",
          "2021-11",
          "2021-12",
          "2022-01",
          "2022-02",
          "2022-03",
          "2022-04",
          "2022-05",
          "2022-06",
          "2022-07",
          "2022-08",
          "2022-09",
          "2022-10",
          "2022-11",
          "2022-12",
          "2023-01",
          "2023-02"
         ],
         "y": [
          18.67,
          22.9,
          23.01,
          19.63,
          21.58,
          21.74,
          22.05,
          23.71,
          27.71,
          25.39,
          24.6,
          23.68,
          21.89,
          18.16,
          15.72,
          14.99,
          13.32,
          10.42,
          10.91,
          10.19,
          9.56,
          10.25,
          14.6,
          12.95,
          11.1,
          9.17,
          8.41,
          6.47,
          4.57,
          5.06,
          4.77,
          7.43,
          10.71,
          13.77,
          13.69,
          16.23,
          20.84,
          17.29,
          17.43,
          20.21,
          24.77,
          28.74,
          36.04,
          43.99,
          62.75,
          83.8,
          81.15,
          109.51,
          82.76,
          77.97,
          124.37,
          89.36,
          77.58,
          96.57,
          127.24,
          158.08,
          111.4,
          51.72,
          77.51,
          108.67,
          59.22,
          50.7
         ]
        }
       ],
       "layout": {
        "annotations": [
         {
          "showarrow": false,
          "text": "Crise liée au COVID-19",
          "x": "2020-03-11",
          "xanchor": "left",
          "xref": "x",
          "y": 1,
          "yanchor": "top",
          "yref": "y domain"
         },
         {
          "showarrow": false,
          "text": "Guerre en Ukraine",
          "x": "2022-02-24",
          "xanchor": "left",
          "xref": "x",
          "y": 1,
          "yanchor": "top",
          "yref": "y domain"
         }
        ],
        "height": 400,
        "legend": {
         "title": {
          "text": "Légende :"
         }
        },
        "shapes": [
         {
          "fillcolor": "red",
          "line": {
           "width": 0
          },
          "opacity": 0.1,
          "type": "rect",
          "x0": "2020-03-11",
          "x1": "2022-02-24",
          "xref": "x",
          "y0": 0,
          "y1": 1,
          "yref": "y domain"
         },
         {
          "fillcolor": "blue",
          "line": {
           "width": 0
          },
          "opacity": 0.1,
          "type": "rect",
          "x0": "2022-02-24",
          "x1": "2022-12-31",
          "xref": "x",
          "y0": 0,
          "y1": 1,
          "yref": "y domain"
         }
        ],
        "template": {
         "data": {
          "bar": [
           {
            "error_x": {
             "color": "#2a3f5f"
            },
            "error_y": {
             "color": "#2a3f5f"
            },
            "marker": {
             "line": {
              "color": "white",
              "width": 0.5
             },
             "pattern": {
              "fillmode": "overlay",
              "size": 10,
              "solidity": 0.2
             }
            },
            "type": "bar"
           }
          ],
          "barpolar": [
           {
            "marker": {
             "line": {
              "color": "white",
              "width": 0.5
             },
             "pattern": {
              "fillmode": "overlay",
              "size": 10,
              "solidity": 0.2
             }
            },
            "type": "barpolar"
           }
          ],
          "carpet": [
           {
            "aaxis": {
             "endlinecolor": "#2a3f5f",
             "gridcolor": "#C8D4E3",
             "linecolor": "#C8D4E3",
             "minorgridcolor": "#C8D4E3",
             "startlinecolor": "#2a3f5f"
            },
            "baxis": {
             "endlinecolor": "#2a3f5f",
             "gridcolor": "#C8D4E3",
             "linecolor": "#C8D4E3",
             "minorgridcolor": "#C8D4E3",
             "startlinecolor": "#2a3f5f"
            },
            "type": "carpet"
           }
          ],
          "choropleth": [
           {
            "colorbar": {
             "outlinewidth": 0,
             "ticks": ""
            },
            "type": "choropleth"
           }
          ],
          "contour": [
           {
            "colorbar": {
             "outlinewidth": 0,
             "ticks": ""
            },
            "colorscale": [
             [
              0,
              "#0d0887"
             ],
             [
              0.1111111111111111,
              "#46039f"
             ],
             [
              0.2222222222222222,
              "#7201a8"
             ],
             [
              0.3333333333333333,
              "#9c179e"
             ],
             [
              0.4444444444444444,
              "#bd3786"
             ],
             [
              0.5555555555555556,
              "#d8576b"
             ],
             [
              0.6666666666666666,
              "#ed7953"
             ],
             [
              0.7777777777777778,
              "#fb9f3a"
             ],
             [
              0.8888888888888888,
              "#fdca26"
             ],
             [
              1,
              "#f0f921"
             ]
            ],
            "type": "contour"
           }
          ],
          "contourcarpet": [
           {
            "colorbar": {
             "outlinewidth": 0,
             "ticks": ""
            },
            "type": "contourcarpet"
           }
          ],
          "heatmap": [
           {
            "colorbar": {
             "outlinewidth": 0,
             "ticks": ""
            },
            "colorscale": [
             [
              0,
              "#0d0887"
             ],
             [
              0.1111111111111111,
              "#46039f"
             ],
             [
              0.2222222222222222,
              "#7201a8"
             ],
             [
              0.3333333333333333,
              "#9c179e"
             ],
             [
              0.4444444444444444,
              "#bd3786"
             ],
             [
              0.5555555555555556,
              "#d8576b"
             ],
             [
              0.6666666666666666,
              "#ed7953"
             ],
             [
              0.7777777777777778,
              "#fb9f3a"
             ],
             [
              0.8888888888888888,
              "#fdca26"
             ],
             [
              1,
              "#f0f921"
             ]
            ],
            "type": "heatmap"
           }
          ],
          "heatmapgl": [
           {
            "colorbar": {
             "outlinewidth": 0,
             "ticks": ""
            },
            "colorscale": [
             [
              0,
              "#0d0887"
             ],
             [
              0.1111111111111111,
              "#46039f"
             ],
             [
              0.2222222222222222,
              "#7201a8"
             ],
             [
              0.3333333333333333,
              "#9c179e"
             ],
             [
              0.4444444444444444,
              "#bd3786"
             ],
             [
              0.5555555555555556,
              "#d8576b"
             ],
             [
              0.6666666666666666,
              "#ed7953"
             ],
             [
              0.7777777777777778,
              "#fb9f3a"
             ],
             [
              0.8888888888888888,
              "#fdca26"
             ],
             [
              1,
              "#f0f921"
             ]
            ],
            "type": "heatmapgl"
           }
          ],
          "histogram": [
           {
            "marker": {
             "pattern": {
              "fillmode": "overlay",
              "size": 10,
              "solidity": 0.2
             }
            },
            "type": "histogram"
           }
          ],
          "histogram2d": [
           {
            "colorbar": {
             "outlinewidth": 0,
             "ticks": ""
            },
            "colorscale": [
             [
              0,
              "#0d0887"
             ],
             [
              0.1111111111111111,
              "#46039f"
             ],
             [
              0.2222222222222222,
              "#7201a8"
             ],
             [
              0.3333333333333333,
              "#9c179e"
             ],
             [
              0.4444444444444444,
              "#bd3786"
             ],
             [
              0.5555555555555556,
              "#d8576b"
             ],
             [
              0.6666666666666666,
              "#ed7953"
             ],
             [
              0.7777777777777778,
              "#fb9f3a"
             ],
             [
              0.8888888888888888,
              "#fdca26"
             ],
             [
              1,
              "#f0f921"
             ]
            ],
            "type": "histogram2d"
           }
          ],
          "histogram2dcontour": [
           {
            "colorbar": {
             "outlinewidth": 0,
             "ticks": ""
            },
            "colorscale": [
             [
              0,
              "#0d0887"
             ],
             [
              0.1111111111111111,
              "#46039f"
             ],
             [
              0.2222222222222222,
              "#7201a8"
             ],
             [
              0.3333333333333333,
              "#9c179e"
             ],
             [
              0.4444444444444444,
              "#bd3786"
             ],
             [
              0.5555555555555556,
              "#d8576b"
             ],
             [
              0.6666666666666666,
              "#ed7953"
             ],
             [
              0.7777777777777778,
              "#fb9f3a"
             ],
             [
              0.8888888888888888,
              "#fdca26"
             ],
             [
              1,
              "#f0f921"
             ]
            ],
            "type": "histogram2dcontour"
           }
          ],
          "mesh3d": [
           {
            "colorbar": {
             "outlinewidth": 0,
             "ticks": ""
            },
            "type": "mesh3d"
           }
          ],
          "parcoords": [
           {
            "line": {
             "colorbar": {
              "outlinewidth": 0,
              "ticks": ""
             }
            },
            "type": "parcoords"
           }
          ],
          "pie": [
           {
            "automargin": true,
            "type": "pie"
           }
          ],
          "scatter": [
           {
            "marker": {
             "colorbar": {
              "outlinewidth": 0,
              "ticks": ""
             }
            },
            "type": "scatter"
           }
          ],
          "scatter3d": [
           {
            "line": {
             "colorbar": {
              "outlinewidth": 0,
              "ticks": ""
             }
            },
            "marker": {
             "colorbar": {
              "outlinewidth": 0,
              "ticks": ""
             }
            },
            "type": "scatter3d"
           }
          ],
          "scattercarpet": [
           {
            "marker": {
             "colorbar": {
              "outlinewidth": 0,
              "ticks": ""
             }
            },
            "type": "scattercarpet"
           }
          ],
          "scattergeo": [
           {
            "marker": {
             "colorbar": {
              "outlinewidth": 0,
              "ticks": ""
             }
            },
            "type": "scattergeo"
           }
          ],
          "scattergl": [
           {
            "marker": {
             "colorbar": {
              "outlinewidth": 0,
              "ticks": ""
             }
            },
            "type": "scattergl"
           }
          ],
          "scattermapbox": [
           {
            "marker": {
             "colorbar": {
              "outlinewidth": 0,
              "ticks": ""
             }
            },
            "type": "scattermapbox"
           }
          ],
          "scatterpolar": [
           {
            "marker": {
             "colorbar": {
              "outlinewidth": 0,
              "ticks": ""
             }
            },
            "type": "scatterpolar"
           }
          ],
          "scatterpolargl": [
           {
            "marker": {
             "colorbar": {
              "outlinewidth": 0,
              "ticks": ""
             }
            },
            "type": "scatterpolargl"
           }
          ],
          "scatterternary": [
           {
            "marker": {
             "colorbar": {
              "outlinewidth": 0,
              "ticks": ""
             }
            },
            "type": "scatterternary"
           }
          ],
          "surface": [
           {
            "colorbar": {
             "outlinewidth": 0,
             "ticks": ""
            },
            "colorscale": [
             [
              0,
              "#0d0887"
             ],
             [
              0.1111111111111111,
              "#46039f"
             ],
             [
              0.2222222222222222,
              "#7201a8"
             ],
             [
              0.3333333333333333,
              "#9c179e"
             ],
             [
              0.4444444444444444,
              "#bd3786"
             ],
             [
              0.5555555555555556,
              "#d8576b"
             ],
             [
              0.6666666666666666,
              "#ed7953"
             ],
             [
              0.7777777777777778,
              "#fb9f3a"
             ],
             [
              0.8888888888888888,
              "#fdca26"
             ],
             [
              1,
              "#f0f921"
             ]
            ],
            "type": "surface"
           }
          ],
          "table": [
           {
            "cells": {
             "fill": {
              "color": "#EBF0F8"
             },
             "line": {
              "color": "white"
             }
            },
            "header": {
             "fill": {
              "color": "#C8D4E3"
             },
             "line": {
              "color": "white"
             }
            },
            "type": "table"
           }
          ]
         },
         "layout": {
          "annotationdefaults": {
           "arrowcolor": "#2a3f5f",
           "arrowhead": 0,
           "arrowwidth": 1
          },
          "autotypenumbers": "strict",
          "coloraxis": {
           "colorbar": {
            "outlinewidth": 0,
            "ticks": ""
           }
          },
          "colorscale": {
           "diverging": [
            [
             0,
             "#8e0152"
            ],
            [
             0.1,
             "#c51b7d"
            ],
            [
             0.2,
             "#de77ae"
            ],
            [
             0.3,
             "#f1b6da"
            ],
            [
             0.4,
             "#fde0ef"
            ],
            [
             0.5,
             "#f7f7f7"
            ],
            [
             0.6,
             "#e6f5d0"
            ],
            [
             0.7,
             "#b8e186"
            ],
            [
             0.8,
             "#7fbc41"
            ],
            [
             0.9,
             "#4d9221"
            ],
            [
             1,
             "#276419"
            ]
           ],
           "sequential": [
            [
             0,
             "#0d0887"
            ],
            [
             0.1111111111111111,
             "#46039f"
            ],
            [
             0.2222222222222222,
             "#7201a8"
            ],
            [
             0.3333333333333333,
             "#9c179e"
            ],
            [
             0.4444444444444444,
             "#bd3786"
            ],
            [
             0.5555555555555556,
             "#d8576b"
            ],
            [
             0.6666666666666666,
             "#ed7953"
            ],
            [
             0.7777777777777778,
             "#fb9f3a"
            ],
            [
             0.8888888888888888,
             "#fdca26"
            ],
            [
             1,
             "#f0f921"
            ]
           ],
           "sequentialminus": [
            [
             0,
             "#0d0887"
            ],
            [
             0.1111111111111111,
             "#46039f"
            ],
            [
             0.2222222222222222,
             "#7201a8"
            ],
            [
             0.3333333333333333,
             "#9c179e"
            ],
            [
             0.4444444444444444,
             "#bd3786"
            ],
            [
             0.5555555555555556,
             "#d8576b"
            ],
            [
             0.6666666666666666,
             "#ed7953"
            ],
            [
             0.7777777777777778,
             "#fb9f3a"
            ],
            [
             0.8888888888888888,
             "#fdca26"
            ],
            [
             1,
             "#f0f921"
            ]
           ]
          },
          "colorway": [
           "#636efa",
           "#EF553B",
           "#00cc96",
           "#ab63fa",
           "#FFA15A",
           "#19d3f3",
           "#FF6692",
           "#B6E880",
           "#FF97FF",
           "#FECB52"
          ],
          "font": {
           "color": "#2a3f5f"
          },
          "geo": {
           "bgcolor": "white",
           "lakecolor": "white",
           "landcolor": "white",
           "showlakes": true,
           "showland": true,
           "subunitcolor": "#C8D4E3"
          },
          "hoverlabel": {
           "align": "left"
          },
          "hovermode": "closest",
          "mapbox": {
           "style": "light"
          },
          "paper_bgcolor": "white",
          "plot_bgcolor": "white",
          "polar": {
           "angularaxis": {
            "gridcolor": "#EBF0F8",
            "linecolor": "#EBF0F8",
            "ticks": ""
           },
           "bgcolor": "white",
           "radialaxis": {
            "gridcolor": "#EBF0F8",
            "linecolor": "#EBF0F8",
            "ticks": ""
           }
          },
          "scene": {
           "xaxis": {
            "backgroundcolor": "white",
            "gridcolor": "#DFE8F3",
            "gridwidth": 2,
            "linecolor": "#EBF0F8",
            "showbackground": true,
            "ticks": "",
            "zerolinecolor": "#EBF0F8"
           },
           "yaxis": {
            "backgroundcolor": "white",
            "gridcolor": "#DFE8F3",
            "gridwidth": 2,
            "linecolor": "#EBF0F8",
            "showbackground": true,
            "ticks": "",
            "zerolinecolor": "#EBF0F8"
           },
           "zaxis": {
            "backgroundcolor": "white",
            "gridcolor": "#DFE8F3",
            "gridwidth": 2,
            "linecolor": "#EBF0F8",
            "showbackground": true,
            "ticks": "",
            "zerolinecolor": "#EBF0F8"
           }
          },
          "shapedefaults": {
           "line": {
            "color": "#2a3f5f"
           }
          },
          "ternary": {
           "aaxis": {
            "gridcolor": "#DFE8F3",
            "linecolor": "#A2B1C6",
            "ticks": ""
           },
           "baxis": {
            "gridcolor": "#DFE8F3",
            "linecolor": "#A2B1C6",
            "ticks": ""
           },
           "bgcolor": "white",
           "caxis": {
            "gridcolor": "#DFE8F3",
            "linecolor": "#A2B1C6",
            "ticks": ""
           }
          },
          "title": {
           "x": 0.05
          },
          "xaxis": {
           "automargin": true,
           "gridcolor": "#EBF0F8",
           "linecolor": "#EBF0F8",
           "ticks": "",
           "title": {
            "standoff": 15
           },
           "zerolinecolor": "#EBF0F8",
           "zerolinewidth": 2
          },
          "yaxis": {
           "automargin": true,
           "gridcolor": "#EBF0F8",
           "linecolor": "#EBF0F8",
           "ticks": "",
           "title": {
            "standoff": 15
           },
           "zerolinecolor": "#EBF0F8",
           "zerolinewidth": 2
          }
         }
        },
        "title": {
         "text": "Prix spot du gaz NBP et PEG",
         "x": 0.5
        },
        "width": 800,
        "xaxis": {
         "linecolor": "#000000",
         "showgrid": false,
         "showline": true,
         "title": {
          "text": "Période en année"
         }
        },
        "yaxis": {
         "linecolor": "#000000",
         "showgrid": false,
         "showline": true,
         "title": {
          "text": "Prix gaz (en €/MWh)"
         }
        }
       }
      }
     },
     "metadata": {},
     "output_type": "display_data"
    }
   ],
   "source": [
    "scatter_plot_2lines(prix_gros['PERIODE'], prix_gros['PRIXG_GAZ'], prix_gros['PERIODE'], prix_gros['PRIXG_GAZ_PEG'], \"Point d'équilibrage national à Londres\", \"Point d'échange Gaz en France\", 'Prix spot du gaz NBP et PEG', 'Période en année', 'Prix gaz (en €/MWh)')\n"
   ]
  },
  {
   "cell_type": "code",
   "execution_count": 26,
   "id": "1470e195",
   "metadata": {},
   "outputs": [],
   "source": [
    "df = df .apply(convert_to_float_except_period)\n"
   ]
  },
  {
   "cell_type": "code",
   "execution_count": 29,
   "id": "67e67496",
   "metadata": {},
   "outputs": [
    {
     "data": {
      "application/vnd.plotly.v1+json": {
       "config": {
        "plotlyServerURL": "https://plot.ly"
       },
       "data": [
        {
         "name": "Production primaire toutes énergies",
         "type": "scatter",
         "x": [
          "2018-02-01T00:00:00",
          "2018-03-01T00:00:00",
          "2018-04-01T00:00:00",
          "2018-05-01T00:00:00",
          "2018-06-01T00:00:00",
          "2018-07-01T00:00:00",
          "2018-08-01T00:00:00",
          "2018-09-01T00:00:00",
          "2018-10-01T00:00:00",
          "2018-11-01T00:00:00",
          "2018-12-01T00:00:00",
          "2019-01-01T00:00:00",
          "2019-02-01T00:00:00",
          "2019-03-01T00:00:00",
          "2019-04-01T00:00:00",
          "2019-05-01T00:00:00",
          "2019-06-01T00:00:00",
          "2019-07-01T00:00:00",
          "2019-08-01T00:00:00",
          "2019-09-01T00:00:00",
          "2019-10-01T00:00:00",
          "2019-11-01T00:00:00",
          "2019-12-01T00:00:00",
          "2020-01-01T00:00:00",
          "2020-02-01T00:00:00",
          "2020-03-01T00:00:00",
          "2020-04-01T00:00:00",
          "2020-05-01T00:00:00",
          "2020-06-01T00:00:00",
          "2020-07-01T00:00:00",
          "2020-08-01T00:00:00",
          "2020-09-01T00:00:00",
          "2020-10-01T00:00:00",
          "2020-11-01T00:00:00",
          "2020-12-01T00:00:00",
          "2021-01-01T00:00:00",
          "2021-02-01T00:00:00",
          "2021-03-01T00:00:00",
          "2021-04-01T00:00:00",
          "2021-05-01T00:00:00",
          "2021-06-01T00:00:00",
          "2021-07-01T00:00:00",
          "2021-08-01T00:00:00",
          "2021-09-01T00:00:00",
          "2021-10-01T00:00:00",
          "2021-11-01T00:00:00",
          "2021-12-01T00:00:00",
          "2022-01-01T00:00:00",
          "2022-02-01T00:00:00",
          "2022-03-01T00:00:00",
          "2022-04-01T00:00:00",
          "2022-05-01T00:00:00",
          "2022-06-01T00:00:00",
          "2022-07-01T00:00:00",
          "2022-08-01T00:00:00",
          "2022-09-01T00:00:00",
          "2022-10-01T00:00:00",
          "2022-11-01T00:00:00",
          "2022-12-01T00:00:00",
          "2023-01-01T00:00:00"
         ],
         "xaxis": "x",
         "y": [
          126643.404,
          125312.715,
          108606.392,
          108986.748,
          102651.927,
          104515.783,
          95164.03,
          102849.614,
          107965.397,
          112170.695,
          133537.718,
          136794.016,
          123643.754,
          124638.032,
          110017.844,
          110956.907,
          101147.793,
          101685.625,
          96595.068,
          95436.037,
          102035.643,
          104579.106,
          119506.744,
          130785.997,
          119601.215,
          111690.748,
          95349.561,
          91266.796,
          79658.479,
          81736.625,
          81970.293,
          77607.583,
          101529.85,
          109789.78,
          121061.509,
          130961.743,
          109333.494,
          112754.228,
          96351.371,
          100950.184,
          98682.084,
          101939.842,
          102625.137,
          100398.111,
          106377.231,
          105190.752,
          111829.421,
          122961.103,
          105948.665,
          96478.151,
          81491.983,
          76433.649,
          73799.12,
          69545.719,
          66802.983,
          66367.317,
          74112.388,
          80134.222,
          100712.637,
          112651.31
         ],
         "yaxis": "y"
        },
        {
         "name": "Nucléaire",
         "type": "scatter",
         "x": [
          "2018-02-01T00:00:00",
          "2018-03-01T00:00:00",
          "2018-04-01T00:00:00",
          "2018-05-01T00:00:00",
          "2018-06-01T00:00:00",
          "2018-07-01T00:00:00",
          "2018-08-01T00:00:00",
          "2018-09-01T00:00:00",
          "2018-10-01T00:00:00",
          "2018-11-01T00:00:00",
          "2018-12-01T00:00:00",
          "2019-01-01T00:00:00",
          "2019-02-01T00:00:00",
          "2019-03-01T00:00:00",
          "2019-04-01T00:00:00",
          "2019-05-01T00:00:00",
          "2019-06-01T00:00:00",
          "2019-07-01T00:00:00",
          "2019-08-01T00:00:00",
          "2019-09-01T00:00:00",
          "2019-10-01T00:00:00",
          "2019-11-01T00:00:00",
          "2019-12-01T00:00:00",
          "2020-01-01T00:00:00",
          "2020-02-01T00:00:00",
          "2020-03-01T00:00:00",
          "2020-04-01T00:00:00",
          "2020-05-01T00:00:00",
          "2020-06-01T00:00:00",
          "2020-07-01T00:00:00",
          "2020-08-01T00:00:00",
          "2020-09-01T00:00:00",
          "2020-10-01T00:00:00",
          "2020-11-01T00:00:00",
          "2020-12-01T00:00:00",
          "2021-01-01T00:00:00",
          "2021-02-01T00:00:00",
          "2021-03-01T00:00:00",
          "2021-04-01T00:00:00",
          "2021-05-01T00:00:00",
          "2021-06-01T00:00:00",
          "2021-07-01T00:00:00",
          "2021-08-01T00:00:00",
          "2021-09-01T00:00:00",
          "2021-10-01T00:00:00",
          "2021-11-01T00:00:00",
          "2021-12-01T00:00:00",
          "2022-01-01T00:00:00",
          "2022-02-01T00:00:00",
          "2022-03-01T00:00:00",
          "2022-04-01T00:00:00",
          "2022-05-01T00:00:00",
          "2022-06-01T00:00:00",
          "2022-07-01T00:00:00",
          "2022-08-01T00:00:00",
          "2022-09-01T00:00:00",
          "2022-10-01T00:00:00",
          "2022-11-01T00:00:00",
          "2022-12-01T00:00:00",
          "2023-01-01T00:00:00"
         ],
         "xaxis": "x",
         "y": [
          115269.05,
          113291.108,
          97451.631,
          97495.218,
          91391.126,
          95721.776,
          87546.408,
          96104.598,
          100772.212,
          103937.521,
          123406.02,
          127358.574,
          114250.763,
          112901.594,
          101109.583,
          100989.601,
          91228.342,
          93226.276,
          88794.004,
          88010.441,
          92959.701,
          93100.702,
          105413.8,
          118755.941,
          105638.334,
          97714.37,
          85870.559,
          79563.073,
          68777.753,
          72325.808,
          73715.969,
          69877.497,
          90211.446,
          100429.253,
          109533.554,
          118085.182,
          96487.993,
          100674.872,
          86700.855,
          87953.999,
          88324.864,
          91149.167,
          93107.481,
          92746.184,
          97571.431,
          96607.449,
          100376.851,
          111862.4,
          94127.124,
          85750.867,
          69785.579,
          65809.978,
          64482.038,
          60385.593,
          58554.054,
          58600.02,
          65057.226,
          69562.288,
          89307.744,
          98262.049
         ],
         "yaxis": "y"
        },
        {
         "name": "Electricité hydraulique, éolienne et photovoltaïque",
         "type": "scatter",
         "x": [
          "2018-02-01T00:00:00",
          "2018-03-01T00:00:00",
          "2018-04-01T00:00:00",
          "2018-05-01T00:00:00",
          "2018-06-01T00:00:00",
          "2018-07-01T00:00:00",
          "2018-08-01T00:00:00",
          "2018-09-01T00:00:00",
          "2018-10-01T00:00:00",
          "2018-11-01T00:00:00",
          "2018-12-01T00:00:00",
          "2019-01-01T00:00:00",
          "2019-02-01T00:00:00",
          "2019-03-01T00:00:00",
          "2019-04-01T00:00:00",
          "2019-05-01T00:00:00",
          "2019-06-01T00:00:00",
          "2019-07-01T00:00:00",
          "2019-08-01T00:00:00",
          "2019-09-01T00:00:00",
          "2019-10-01T00:00:00",
          "2019-11-01T00:00:00",
          "2019-12-01T00:00:00",
          "2020-01-01T00:00:00",
          "2020-02-01T00:00:00",
          "2020-03-01T00:00:00",
          "2020-04-01T00:00:00",
          "2020-05-01T00:00:00",
          "2020-06-01T00:00:00",
          "2020-07-01T00:00:00",
          "2020-08-01T00:00:00",
          "2020-09-01T00:00:00",
          "2020-10-01T00:00:00",
          "2020-11-01T00:00:00",
          "2020-12-01T00:00:00",
          "2021-01-01T00:00:00",
          "2021-02-01T00:00:00",
          "2021-03-01T00:00:00",
          "2021-04-01T00:00:00",
          "2021-05-01T00:00:00",
          "2021-06-01T00:00:00",
          "2021-07-01T00:00:00",
          "2021-08-01T00:00:00",
          "2021-09-01T00:00:00",
          "2021-10-01T00:00:00",
          "2021-11-01T00:00:00",
          "2021-12-01T00:00:00",
          "2022-01-01T00:00:00",
          "2022-02-01T00:00:00",
          "2022-03-01T00:00:00",
          "2022-04-01T00:00:00",
          "2022-05-01T00:00:00",
          "2022-06-01T00:00:00",
          "2022-07-01T00:00:00",
          "2022-08-01T00:00:00",
          "2022-09-01T00:00:00",
          "2022-10-01T00:00:00",
          "2022-11-01T00:00:00",
          "2022-12-01T00:00:00",
          "2023-01-01T00:00:00"
         ],
         "xaxis": "x2",
         "y": [
          10653.397,
          11189.7,
          10337.624,
          10671.96,
          10445.233,
          7969.217,
          6792.018,
          5937.977,
          6338.871,
          7432.013,
          9299.894,
          8597.852,
          8609.079,
          10883.329,
          8085.094,
          9280.815,
          9229.01,
          7770.406,
          6943.857,
          6590.046,
          8184.5,
          10636.552,
          13240.107,
          11177.262,
          13136.665,
          13118.562,
          8865.305,
          11135.949,
          10121.005,
          8580.939,
          7397.305,
          6890.107,
          10410.188,
          8481.001,
          10607.199,
          11932.678,
          11993.947,
          11116.317,
          8703.899,
          12012.751,
          9412.421,
          9808.014,
          8511.013,
          6667.631,
          7886.924,
          7554.463,
          10365.377,
          10002.843,
          10815.212,
          9572.787,
          10591.585,
          9487.685,
          8238.64,
          8067.817,
          7172.356,
          6678.958,
          7890.988,
          9422.527,
          10188.398,
          13170.312
         ],
         "yaxis": "y2"
        },
        {
         "name": "Pétrole",
         "type": "scatter",
         "x": [
          "2018-02-01T00:00:00",
          "2018-03-01T00:00:00",
          "2018-04-01T00:00:00",
          "2018-05-01T00:00:00",
          "2018-06-01T00:00:00",
          "2018-07-01T00:00:00",
          "2018-08-01T00:00:00",
          "2018-09-01T00:00:00",
          "2018-10-01T00:00:00",
          "2018-11-01T00:00:00",
          "2018-12-01T00:00:00",
          "2019-01-01T00:00:00",
          "2019-02-01T00:00:00",
          "2019-03-01T00:00:00",
          "2019-04-01T00:00:00",
          "2019-05-01T00:00:00",
          "2019-06-01T00:00:00",
          "2019-07-01T00:00:00",
          "2019-08-01T00:00:00",
          "2019-09-01T00:00:00",
          "2019-10-01T00:00:00",
          "2019-11-01T00:00:00",
          "2019-12-01T00:00:00",
          "2020-01-01T00:00:00",
          "2020-02-01T00:00:00",
          "2020-03-01T00:00:00",
          "2020-04-01T00:00:00",
          "2020-05-01T00:00:00",
          "2020-06-01T00:00:00",
          "2020-07-01T00:00:00",
          "2020-08-01T00:00:00",
          "2020-09-01T00:00:00",
          "2020-10-01T00:00:00",
          "2020-11-01T00:00:00",
          "2020-12-01T00:00:00",
          "2021-01-01T00:00:00",
          "2021-02-01T00:00:00",
          "2021-03-01T00:00:00",
          "2021-04-01T00:00:00",
          "2021-05-01T00:00:00",
          "2021-06-01T00:00:00",
          "2021-07-01T00:00:00",
          "2021-08-01T00:00:00",
          "2021-09-01T00:00:00",
          "2021-10-01T00:00:00",
          "2021-11-01T00:00:00",
          "2021-12-01T00:00:00",
          "2022-01-01T00:00:00",
          "2022-02-01T00:00:00",
          "2022-03-01T00:00:00",
          "2022-04-01T00:00:00",
          "2022-05-01T00:00:00",
          "2022-06-01T00:00:00",
          "2022-07-01T00:00:00",
          "2022-08-01T00:00:00",
          "2022-09-01T00:00:00",
          "2022-10-01T00:00:00",
          "2022-11-01T00:00:00",
          "2022-12-01T00:00:00",
          "2023-01-01T00:00:00"
         ],
         "xaxis": "x3",
         "y": [
          673.377,
          778.047,
          762.928,
          762.928,
          757.729,
          767.01,
          763.393,
          742.006,
          779.617,
          733.574,
          750.275,
          751.659,
          694.311,
          751.019,
          722.223,
          584.698,
          596.619,
          596.619,
          755.95,
          720.839,
          768.743,
          717.652,
          711.07,
          708.491,
          684.779,
          695.812,
          452.636,
          401.085,
          597.658,
          659.146,
          686.454,
          670.598,
          694.017,
          646.973,
          658.079,
          673.491,
          601.002,
          657.69,
          644.212,
          662.733,
          639.352,
          640.627,
          650.894,
          623.321,
          508.113,
          601.679,
          622.434,
          623.661,
          563.59,
          634.333,
          602.05,
          612.834,
          589.512,
          560.082,
          532.486,
          523.092,
          557.195,
          550.345,
          574.574,
          581.14
         ],
         "yaxis": "y3"
        },
        {
         "name": "Gaz naturel",
         "type": "scatter",
         "x": [
          "2018-02-01T00:00:00",
          "2018-03-01T00:00:00",
          "2018-04-01T00:00:00",
          "2018-05-01T00:00:00",
          "2018-06-01T00:00:00",
          "2018-07-01T00:00:00",
          "2018-08-01T00:00:00",
          "2018-09-01T00:00:00",
          "2018-10-01T00:00:00",
          "2018-11-01T00:00:00",
          "2018-12-01T00:00:00",
          "2019-01-01T00:00:00",
          "2019-02-01T00:00:00",
          "2019-03-01T00:00:00",
          "2019-04-01T00:00:00",
          "2019-05-01T00:00:00",
          "2019-06-01T00:00:00",
          "2019-07-01T00:00:00",
          "2019-08-01T00:00:00",
          "2019-09-01T00:00:00",
          "2019-10-01T00:00:00",
          "2019-11-01T00:00:00",
          "2019-12-01T00:00:00",
          "2020-01-01T00:00:00",
          "2020-02-01T00:00:00",
          "2020-03-01T00:00:00",
          "2020-04-01T00:00:00",
          "2020-05-01T00:00:00",
          "2020-06-01T00:00:00",
          "2020-07-01T00:00:00",
          "2020-08-01T00:00:00",
          "2020-09-01T00:00:00",
          "2020-10-01T00:00:00",
          "2020-11-01T00:00:00",
          "2020-12-01T00:00:00",
          "2021-01-01T00:00:00",
          "2021-02-01T00:00:00",
          "2021-03-01T00:00:00",
          "2021-04-01T00:00:00",
          "2021-05-01T00:00:00",
          "2021-06-01T00:00:00",
          "2021-07-01T00:00:00",
          "2021-08-01T00:00:00",
          "2021-09-01T00:00:00",
          "2021-10-01T00:00:00",
          "2021-11-01T00:00:00",
          "2021-12-01T00:00:00",
          "2022-01-01T00:00:00",
          "2022-02-01T00:00:00",
          "2022-03-01T00:00:00",
          "2022-04-01T00:00:00",
          "2022-05-01T00:00:00",
          "2022-06-01T00:00:00",
          "2022-07-01T00:00:00",
          "2022-08-01T00:00:00",
          "2022-09-01T00:00:00",
          "2022-10-01T00:00:00",
          "2022-11-01T00:00:00",
          "2022-12-01T00:00:00",
          "2023-01-01T00:00:00"
         ],
         "xaxis": "x3",
         "y": [
          47.58,
          53.86,
          54.208,
          56.642,
          57.839,
          57.78,
          62.211,
          65.033,
          74.697,
          67.587,
          81.529,
          85.931,
          89.601,
          102.091,
          100.943,
          101.793,
          93.822,
          92.323,
          101.256,
          114.712,
          122.7,
          124.2,
          141.767,
          144.302,
          141.437,
          162.004,
          161.06,
          166.689,
          162.063,
          170.733,
          170.565,
          169.381,
          214.199,
          232.553,
          262.677,
          270.392,
          250.553,
          305.349,
          302.405,
          320.7,
          305.448,
          342.034,
          355.749,
          360.975,
          410.763,
          427.161,
          464.759,
          472.199,
          442.74,
          520.164,
          512.769,
          523.152,
          488.93,
          532.227,
          544.087,
          565.246,
          606.98,
          599.062,
          641.921,
          637.809
         ],
         "yaxis": "y3"
        },
        {
         "name": "Combustibles minéraux solides",
         "type": "scatter",
         "x": [
          "2018-02-01T00:00:00",
          "2018-03-01T00:00:00",
          "2018-04-01T00:00:00",
          "2018-05-01T00:00:00",
          "2018-06-01T00:00:00",
          "2018-07-01T00:00:00",
          "2018-08-01T00:00:00",
          "2018-09-01T00:00:00",
          "2018-10-01T00:00:00",
          "2018-11-01T00:00:00",
          "2018-12-01T00:00:00",
          "2019-01-01T00:00:00",
          "2019-02-01T00:00:00",
          "2019-03-01T00:00:00",
          "2019-04-01T00:00:00",
          "2019-05-01T00:00:00",
          "2019-06-01T00:00:00",
          "2019-07-01T00:00:00",
          "2019-08-01T00:00:00",
          "2019-09-01T00:00:00",
          "2019-10-01T00:00:00",
          "2019-11-01T00:00:00",
          "2019-12-01T00:00:00",
          "2020-01-01T00:00:00",
          "2020-02-01T00:00:00",
          "2020-03-01T00:00:00",
          "2020-04-01T00:00:00",
          "2020-05-01T00:00:00",
          "2020-06-01T00:00:00",
          "2020-07-01T00:00:00",
          "2020-08-01T00:00:00",
          "2020-09-01T00:00:00",
          "2020-10-01T00:00:00",
          "2020-11-01T00:00:00",
          "2020-12-01T00:00:00",
          "2021-01-01T00:00:00",
          "2021-02-01T00:00:00",
          "2021-03-01T00:00:00",
          "2021-04-01T00:00:00",
          "2021-05-01T00:00:00",
          "2021-06-01T00:00:00",
          "2021-07-01T00:00:00",
          "2021-08-01T00:00:00",
          "2021-09-01T00:00:00",
          "2021-10-01T00:00:00",
          "2021-11-01T00:00:00",
          "2021-12-01T00:00:00",
          "2022-01-01T00:00:00",
          "2022-02-01T00:00:00",
          "2022-03-01T00:00:00",
          "2022-04-01T00:00:00",
          "2022-05-01T00:00:00",
          "2022-06-01T00:00:00",
          "2022-07-01T00:00:00",
          "2022-08-01T00:00:00",
          "2022-09-01T00:00:00",
          "2022-10-01T00:00:00",
          "2022-11-01T00:00:00",
          "2022-12-01T00:00:00",
          "2023-01-01T00:00:00"
         ],
         "xaxis": "x3",
         "y": [
          0,
          0,
          0,
          0,
          0,
          0,
          0,
          0,
          0,
          0,
          0,
          0,
          0,
          0,
          0,
          0,
          0,
          0,
          0,
          0,
          0,
          0,
          0,
          0,
          0,
          0,
          0,
          0,
          0,
          0,
          0,
          0,
          0,
          0,
          0,
          0,
          0,
          0,
          0,
          0,
          0,
          0,
          0,
          0,
          0,
          0,
          0,
          0,
          0,
          0,
          0,
          0,
          0,
          0,
          0,
          0,
          0,
          0,
          0,
          0
         ],
         "yaxis": "y3"
        }
       ],
       "layout": {
        "annotations": [
         {
          "showarrow": false,
          "text": "Crise liée au COVID-19",
          "x": "2020-03-11",
          "xanchor": "left",
          "xref": "x",
          "y": 1,
          "yanchor": "top",
          "yref": "y domain"
         },
         {
          "showarrow": false,
          "text": "Crise liée au COVID-19",
          "x": "2020-03-11",
          "xanchor": "left",
          "xref": "x2",
          "y": 1,
          "yanchor": "top",
          "yref": "y2 domain"
         },
         {
          "showarrow": false,
          "text": "Crise liée au COVID-19",
          "x": "2020-03-11",
          "xanchor": "left",
          "xref": "x3",
          "y": 1,
          "yanchor": "top",
          "yref": "y3 domain"
         },
         {
          "showarrow": false,
          "text": "Guerre en Ukraine",
          "x": "2022-02-24",
          "xanchor": "left",
          "xref": "x",
          "y": 1,
          "yanchor": "top",
          "yref": "y domain"
         },
         {
          "showarrow": false,
          "text": "Guerre en Ukraine",
          "x": "2022-02-24",
          "xanchor": "left",
          "xref": "x2",
          "y": 1,
          "yanchor": "top",
          "yref": "y2 domain"
         },
         {
          "showarrow": false,
          "text": "Guerre en Ukraine",
          "x": "2022-02-24",
          "xanchor": "left",
          "xref": "x3",
          "y": 1,
          "yanchor": "top",
          "yref": "y3 domain"
         }
        ],
        "height": 600,
        "legend": {
         "font": {
          "size": 20
         },
         "title": {
          "text": "Légende :"
         }
        },
        "shapes": [
         {
          "fillcolor": "red",
          "line": {
           "width": 0
          },
          "opacity": 0.1,
          "type": "rect",
          "x0": "2020-03-11",
          "x1": "2022-02-24",
          "xref": "x",
          "y0": 0,
          "y1": 1,
          "yref": "y domain"
         },
         {
          "fillcolor": "red",
          "line": {
           "width": 0
          },
          "opacity": 0.1,
          "type": "rect",
          "x0": "2020-03-11",
          "x1": "2022-02-24",
          "xref": "x2",
          "y0": 0,
          "y1": 1,
          "yref": "y2 domain"
         },
         {
          "fillcolor": "red",
          "line": {
           "width": 0
          },
          "opacity": 0.1,
          "type": "rect",
          "x0": "2020-03-11",
          "x1": "2022-02-24",
          "xref": "x3",
          "y0": 0,
          "y1": 1,
          "yref": "y3 domain"
         },
         {
          "fillcolor": "blue",
          "line": {
           "width": 0
          },
          "opacity": 0.1,
          "type": "rect",
          "x0": "2022-02-24",
          "x1": "2023-04-01",
          "xref": "x",
          "y0": 0,
          "y1": 1,
          "yref": "y domain"
         },
         {
          "fillcolor": "blue",
          "line": {
           "width": 0
          },
          "opacity": 0.1,
          "type": "rect",
          "x0": "2022-02-24",
          "x1": "2023-04-01",
          "xref": "x2",
          "y0": 0,
          "y1": 1,
          "yref": "y2 domain"
         },
         {
          "fillcolor": "blue",
          "line": {
           "width": 0
          },
          "opacity": 0.1,
          "type": "rect",
          "x0": "2022-02-24",
          "x1": "2023-04-01",
          "xref": "x3",
          "y0": 0,
          "y1": 1,
          "yref": "y3 domain"
         }
        ],
        "template": {
         "data": {
          "bar": [
           {
            "error_x": {
             "color": "rgb(36,36,36)"
            },
            "error_y": {
             "color": "rgb(36,36,36)"
            },
            "marker": {
             "line": {
              "color": "white",
              "width": 0.5
             },
             "pattern": {
              "fillmode": "overlay",
              "size": 10,
              "solidity": 0.2
             }
            },
            "type": "bar"
           }
          ],
          "barpolar": [
           {
            "marker": {
             "line": {
              "color": "white",
              "width": 0.5
             },
             "pattern": {
              "fillmode": "overlay",
              "size": 10,
              "solidity": 0.2
             }
            },
            "type": "barpolar"
           }
          ],
          "carpet": [
           {
            "aaxis": {
             "endlinecolor": "rgb(36,36,36)",
             "gridcolor": "white",
             "linecolor": "white",
             "minorgridcolor": "white",
             "startlinecolor": "rgb(36,36,36)"
            },
            "baxis": {
             "endlinecolor": "rgb(36,36,36)",
             "gridcolor": "white",
             "linecolor": "white",
             "minorgridcolor": "white",
             "startlinecolor": "rgb(36,36,36)"
            },
            "type": "carpet"
           }
          ],
          "choropleth": [
           {
            "colorbar": {
             "outlinewidth": 1,
             "tickcolor": "rgb(36,36,36)",
             "ticks": "outside"
            },
            "type": "choropleth"
           }
          ],
          "contour": [
           {
            "colorbar": {
             "outlinewidth": 1,
             "tickcolor": "rgb(36,36,36)",
             "ticks": "outside"
            },
            "colorscale": [
             [
              0,
              "#440154"
             ],
             [
              0.1111111111111111,
              "#482878"
             ],
             [
              0.2222222222222222,
              "#3e4989"
             ],
             [
              0.3333333333333333,
              "#31688e"
             ],
             [
              0.4444444444444444,
              "#26828e"
             ],
             [
              0.5555555555555556,
              "#1f9e89"
             ],
             [
              0.6666666666666666,
              "#35b779"
             ],
             [
              0.7777777777777778,
              "#6ece58"
             ],
             [
              0.8888888888888888,
              "#b5de2b"
             ],
             [
              1,
              "#fde725"
             ]
            ],
            "type": "contour"
           }
          ],
          "contourcarpet": [
           {
            "colorbar": {
             "outlinewidth": 1,
             "tickcolor": "rgb(36,36,36)",
             "ticks": "outside"
            },
            "type": "contourcarpet"
           }
          ],
          "heatmap": [
           {
            "colorbar": {
             "outlinewidth": 1,
             "tickcolor": "rgb(36,36,36)",
             "ticks": "outside"
            },
            "colorscale": [
             [
              0,
              "#440154"
             ],
             [
              0.1111111111111111,
              "#482878"
             ],
             [
              0.2222222222222222,
              "#3e4989"
             ],
             [
              0.3333333333333333,
              "#31688e"
             ],
             [
              0.4444444444444444,
              "#26828e"
             ],
             [
              0.5555555555555556,
              "#1f9e89"
             ],
             [
              0.6666666666666666,
              "#35b779"
             ],
             [
              0.7777777777777778,
              "#6ece58"
             ],
             [
              0.8888888888888888,
              "#b5de2b"
             ],
             [
              1,
              "#fde725"
             ]
            ],
            "type": "heatmap"
           }
          ],
          "heatmapgl": [
           {
            "colorbar": {
             "outlinewidth": 1,
             "tickcolor": "rgb(36,36,36)",
             "ticks": "outside"
            },
            "colorscale": [
             [
              0,
              "#440154"
             ],
             [
              0.1111111111111111,
              "#482878"
             ],
             [
              0.2222222222222222,
              "#3e4989"
             ],
             [
              0.3333333333333333,
              "#31688e"
             ],
             [
              0.4444444444444444,
              "#26828e"
             ],
             [
              0.5555555555555556,
              "#1f9e89"
             ],
             [
              0.6666666666666666,
              "#35b779"
             ],
             [
              0.7777777777777778,
              "#6ece58"
             ],
             [
              0.8888888888888888,
              "#b5de2b"
             ],
             [
              1,
              "#fde725"
             ]
            ],
            "type": "heatmapgl"
           }
          ],
          "histogram": [
           {
            "marker": {
             "line": {
              "color": "white",
              "width": 0.6
             }
            },
            "type": "histogram"
           }
          ],
          "histogram2d": [
           {
            "colorbar": {
             "outlinewidth": 1,
             "tickcolor": "rgb(36,36,36)",
             "ticks": "outside"
            },
            "colorscale": [
             [
              0,
              "#440154"
             ],
             [
              0.1111111111111111,
              "#482878"
             ],
             [
              0.2222222222222222,
              "#3e4989"
             ],
             [
              0.3333333333333333,
              "#31688e"
             ],
             [
              0.4444444444444444,
              "#26828e"
             ],
             [
              0.5555555555555556,
              "#1f9e89"
             ],
             [
              0.6666666666666666,
              "#35b779"
             ],
             [
              0.7777777777777778,
              "#6ece58"
             ],
             [
              0.8888888888888888,
              "#b5de2b"
             ],
             [
              1,
              "#fde725"
             ]
            ],
            "type": "histogram2d"
           }
          ],
          "histogram2dcontour": [
           {
            "colorbar": {
             "outlinewidth": 1,
             "tickcolor": "rgb(36,36,36)",
             "ticks": "outside"
            },
            "colorscale": [
             [
              0,
              "#440154"
             ],
             [
              0.1111111111111111,
              "#482878"
             ],
             [
              0.2222222222222222,
              "#3e4989"
             ],
             [
              0.3333333333333333,
              "#31688e"
             ],
             [
              0.4444444444444444,
              "#26828e"
             ],
             [
              0.5555555555555556,
              "#1f9e89"
             ],
             [
              0.6666666666666666,
              "#35b779"
             ],
             [
              0.7777777777777778,
              "#6ece58"
             ],
             [
              0.8888888888888888,
              "#b5de2b"
             ],
             [
              1,
              "#fde725"
             ]
            ],
            "type": "histogram2dcontour"
           }
          ],
          "mesh3d": [
           {
            "colorbar": {
             "outlinewidth": 1,
             "tickcolor": "rgb(36,36,36)",
             "ticks": "outside"
            },
            "type": "mesh3d"
           }
          ],
          "parcoords": [
           {
            "line": {
             "colorbar": {
              "outlinewidth": 1,
              "tickcolor": "rgb(36,36,36)",
              "ticks": "outside"
             }
            },
            "type": "parcoords"
           }
          ],
          "pie": [
           {
            "automargin": true,
            "type": "pie"
           }
          ],
          "scatter": [
           {
            "marker": {
             "colorbar": {
              "outlinewidth": 1,
              "tickcolor": "rgb(36,36,36)",
              "ticks": "outside"
             }
            },
            "type": "scatter"
           }
          ],
          "scatter3d": [
           {
            "line": {
             "colorbar": {
              "outlinewidth": 1,
              "tickcolor": "rgb(36,36,36)",
              "ticks": "outside"
             }
            },
            "marker": {
             "colorbar": {
              "outlinewidth": 1,
              "tickcolor": "rgb(36,36,36)",
              "ticks": "outside"
             }
            },
            "type": "scatter3d"
           }
          ],
          "scattercarpet": [
           {
            "marker": {
             "colorbar": {
              "outlinewidth": 1,
              "tickcolor": "rgb(36,36,36)",
              "ticks": "outside"
             }
            },
            "type": "scattercarpet"
           }
          ],
          "scattergeo": [
           {
            "marker": {
             "colorbar": {
              "outlinewidth": 1,
              "tickcolor": "rgb(36,36,36)",
              "ticks": "outside"
             }
            },
            "type": "scattergeo"
           }
          ],
          "scattergl": [
           {
            "marker": {
             "colorbar": {
              "outlinewidth": 1,
              "tickcolor": "rgb(36,36,36)",
              "ticks": "outside"
             }
            },
            "type": "scattergl"
           }
          ],
          "scattermapbox": [
           {
            "marker": {
             "colorbar": {
              "outlinewidth": 1,
              "tickcolor": "rgb(36,36,36)",
              "ticks": "outside"
             }
            },
            "type": "scattermapbox"
           }
          ],
          "scatterpolar": [
           {
            "marker": {
             "colorbar": {
              "outlinewidth": 1,
              "tickcolor": "rgb(36,36,36)",
              "ticks": "outside"
             }
            },
            "type": "scatterpolar"
           }
          ],
          "scatterpolargl": [
           {
            "marker": {
             "colorbar": {
              "outlinewidth": 1,
              "tickcolor": "rgb(36,36,36)",
              "ticks": "outside"
             }
            },
            "type": "scatterpolargl"
           }
          ],
          "scatterternary": [
           {
            "marker": {
             "colorbar": {
              "outlinewidth": 1,
              "tickcolor": "rgb(36,36,36)",
              "ticks": "outside"
             }
            },
            "type": "scatterternary"
           }
          ],
          "surface": [
           {
            "colorbar": {
             "outlinewidth": 1,
             "tickcolor": "rgb(36,36,36)",
             "ticks": "outside"
            },
            "colorscale": [
             [
              0,
              "#440154"
             ],
             [
              0.1111111111111111,
              "#482878"
             ],
             [
              0.2222222222222222,
              "#3e4989"
             ],
             [
              0.3333333333333333,
              "#31688e"
             ],
             [
              0.4444444444444444,
              "#26828e"
             ],
             [
              0.5555555555555556,
              "#1f9e89"
             ],
             [
              0.6666666666666666,
              "#35b779"
             ],
             [
              0.7777777777777778,
              "#6ece58"
             ],
             [
              0.8888888888888888,
              "#b5de2b"
             ],
             [
              1,
              "#fde725"
             ]
            ],
            "type": "surface"
           }
          ],
          "table": [
           {
            "cells": {
             "fill": {
              "color": "rgb(237,237,237)"
             },
             "line": {
              "color": "white"
             }
            },
            "header": {
             "fill": {
              "color": "rgb(217,217,217)"
             },
             "line": {
              "color": "white"
             }
            },
            "type": "table"
           }
          ]
         },
         "layout": {
          "annotationdefaults": {
           "arrowhead": 0,
           "arrowwidth": 1
          },
          "autotypenumbers": "strict",
          "coloraxis": {
           "colorbar": {
            "outlinewidth": 1,
            "tickcolor": "rgb(36,36,36)",
            "ticks": "outside"
           }
          },
          "colorscale": {
           "diverging": [
            [
             0,
             "rgb(103,0,31)"
            ],
            [
             0.1,
             "rgb(178,24,43)"
            ],
            [
             0.2,
             "rgb(214,96,77)"
            ],
            [
             0.3,
             "rgb(244,165,130)"
            ],
            [
             0.4,
             "rgb(253,219,199)"
            ],
            [
             0.5,
             "rgb(247,247,247)"
            ],
            [
             0.6,
             "rgb(209,229,240)"
            ],
            [
             0.7,
             "rgb(146,197,222)"
            ],
            [
             0.8,
             "rgb(67,147,195)"
            ],
            [
             0.9,
             "rgb(33,102,172)"
            ],
            [
             1,
             "rgb(5,48,97)"
            ]
           ],
           "sequential": [
            [
             0,
             "#440154"
            ],
            [
             0.1111111111111111,
             "#482878"
            ],
            [
             0.2222222222222222,
             "#3e4989"
            ],
            [
             0.3333333333333333,
             "#31688e"
            ],
            [
             0.4444444444444444,
             "#26828e"
            ],
            [
             0.5555555555555556,
             "#1f9e89"
            ],
            [
             0.6666666666666666,
             "#35b779"
            ],
            [
             0.7777777777777778,
             "#6ece58"
            ],
            [
             0.8888888888888888,
             "#b5de2b"
            ],
            [
             1,
             "#fde725"
            ]
           ],
           "sequentialminus": [
            [
             0,
             "#440154"
            ],
            [
             0.1111111111111111,
             "#482878"
            ],
            [
             0.2222222222222222,
             "#3e4989"
            ],
            [
             0.3333333333333333,
             "#31688e"
            ],
            [
             0.4444444444444444,
             "#26828e"
            ],
            [
             0.5555555555555556,
             "#1f9e89"
            ],
            [
             0.6666666666666666,
             "#35b779"
            ],
            [
             0.7777777777777778,
             "#6ece58"
            ],
            [
             0.8888888888888888,
             "#b5de2b"
            ],
            [
             1,
             "#fde725"
            ]
           ]
          },
          "colorway": [
           "#1F77B4",
           "#FF7F0E",
           "#2CA02C",
           "#D62728",
           "#9467BD",
           "#8C564B",
           "#E377C2",
           "#7F7F7F",
           "#BCBD22",
           "#17BECF"
          ],
          "font": {
           "color": "rgb(36,36,36)"
          },
          "geo": {
           "bgcolor": "white",
           "lakecolor": "white",
           "landcolor": "white",
           "showlakes": true,
           "showland": true,
           "subunitcolor": "white"
          },
          "hoverlabel": {
           "align": "left"
          },
          "hovermode": "closest",
          "mapbox": {
           "style": "light"
          },
          "paper_bgcolor": "white",
          "plot_bgcolor": "white",
          "polar": {
           "angularaxis": {
            "gridcolor": "rgb(232,232,232)",
            "linecolor": "rgb(36,36,36)",
            "showgrid": false,
            "showline": true,
            "ticks": "outside"
           },
           "bgcolor": "white",
           "radialaxis": {
            "gridcolor": "rgb(232,232,232)",
            "linecolor": "rgb(36,36,36)",
            "showgrid": false,
            "showline": true,
            "ticks": "outside"
           }
          },
          "scene": {
           "xaxis": {
            "backgroundcolor": "white",
            "gridcolor": "rgb(232,232,232)",
            "gridwidth": 2,
            "linecolor": "rgb(36,36,36)",
            "showbackground": true,
            "showgrid": false,
            "showline": true,
            "ticks": "outside",
            "zeroline": false,
            "zerolinecolor": "rgb(36,36,36)"
           },
           "yaxis": {
            "backgroundcolor": "white",
            "gridcolor": "rgb(232,232,232)",
            "gridwidth": 2,
            "linecolor": "rgb(36,36,36)",
            "showbackground": true,
            "showgrid": false,
            "showline": true,
            "ticks": "outside",
            "zeroline": false,
            "zerolinecolor": "rgb(36,36,36)"
           },
           "zaxis": {
            "backgroundcolor": "white",
            "gridcolor": "rgb(232,232,232)",
            "gridwidth": 2,
            "linecolor": "rgb(36,36,36)",
            "showbackground": true,
            "showgrid": false,
            "showline": true,
            "ticks": "outside",
            "zeroline": false,
            "zerolinecolor": "rgb(36,36,36)"
           }
          },
          "shapedefaults": {
           "fillcolor": "black",
           "line": {
            "width": 0
           },
           "opacity": 0.3
          },
          "ternary": {
           "aaxis": {
            "gridcolor": "rgb(232,232,232)",
            "linecolor": "rgb(36,36,36)",
            "showgrid": false,
            "showline": true,
            "ticks": "outside"
           },
           "baxis": {
            "gridcolor": "rgb(232,232,232)",
            "linecolor": "rgb(36,36,36)",
            "showgrid": false,
            "showline": true,
            "ticks": "outside"
           },
           "bgcolor": "white",
           "caxis": {
            "gridcolor": "rgb(232,232,232)",
            "linecolor": "rgb(36,36,36)",
            "showgrid": false,
            "showline": true,
            "ticks": "outside"
           }
          },
          "title": {
           "x": 0.05
          },
          "xaxis": {
           "automargin": true,
           "gridcolor": "rgb(232,232,232)",
           "linecolor": "rgb(36,36,36)",
           "showgrid": false,
           "showline": true,
           "ticks": "outside",
           "title": {
            "standoff": 15
           },
           "zeroline": false,
           "zerolinecolor": "rgb(36,36,36)"
          },
          "yaxis": {
           "automargin": true,
           "gridcolor": "rgb(232,232,232)",
           "linecolor": "rgb(36,36,36)",
           "showgrid": false,
           "showline": true,
           "ticks": "outside",
           "title": {
            "standoff": 15
           },
           "zeroline": false,
           "zerolinecolor": "rgb(36,36,36)"
          }
         }
        },
        "title": {
         "font": {
          "size": 24
         },
         "text": "Production d'énergies de 2018 à 2023",
         "x": 0.5,
         "xanchor": "center",
         "y": 0.95,
         "yanchor": "top"
        },
        "width": 1500,
        "xaxis": {
         "anchor": "y",
         "domain": [
          0,
          1
         ],
         "matches": "x3",
         "showticklabels": false
        },
        "xaxis2": {
         "anchor": "y2",
         "domain": [
          0,
          1
         ],
         "matches": "x3",
         "showticklabels": false
        },
        "xaxis3": {
         "anchor": "y3",
         "domain": [
          0,
          1
         ],
         "title": {
          "text": "Période en année"
         }
        },
        "yaxis": {
         "anchor": "x",
         "domain": [
          0.7333333333333333,
          1
         ]
        },
        "yaxis2": {
         "anchor": "x2",
         "domain": [
          0.36666666666666664,
          0.6333333333333333
         ],
         "title": {
          "text": "Production d'énergies (en GWh)"
         }
        },
        "yaxis3": {
         "anchor": "x3",
         "domain": [
          0,
          0.26666666666666666
         ]
        }
       }
      }
     },
     "metadata": {},
     "output_type": "display_data"
    }
   ],
   "source": [
    "\n",
    "\n",
    "fig = make_subplots(rows=3, cols=1, shared_xaxes=True)\n",
    "\n",
    "fig.add_trace(go.Scatter(x=synth_ener.index, y=synth_ener['1. Production primaire toutes énergies (en GWh)'], name='Production primaire toutes énergies'), row=1, col=1)\n",
    "fig.add_trace(go.Scatter(x=synth_ener.index, y=synth_ener['1.4 Production nucléaire (équivalent primaire à la production, sous forme de chaleur) (en GWh)'], name='Nucléaire'), row=1, col=1)\n",
    "fig.add_trace(go.Scatter(x=synth_ener.index, y=synth_ener[\"1.5 Production (brute) d'électricité hydraulique, éolienne et photovoltaïque (en GWh)\"], name=\"Electricité hydraulique, éolienne et photovoltaïque\"), row=2, col=1)\n",
    "fig.add_trace(go.Scatter(x=synth_ener.index, y=synth_ener['1.2 Production de pétrole (en GWh)'], name='Pétrole'), row=3, col=1)\n",
    "fig.add_trace(go.Scatter(x=synth_ener.index, y=synth_ener['1.3 Production de gaz naturel (extraction de gaz commercialisé) (en GWh)'], name='Gaz naturel'), row=3, col=1)\n",
    "fig.add_trace(go.Scatter(x=synth_ener.index, y=synth_ener['1.1 Production de combustibles minéraux solides (en GWh)'], name='Combustibles minéraux solides'), row=3, col=1)\n",
    "\n",
    "fig.update_yaxes(title_text=\"Production d'énergies (en GWh)\", row=2, col=1)\n",
    "fig.add_vrect(x0='2020-03-11', x1='2022-02-24', line_width=0, fillcolor=\"red\", opacity=0.1, annotation_text='Crise liée au COVID-19', annotation_position='inside top left')\n",
    "fig.add_vrect(x0='2022-02-24', x1='2023-04-01', line_width=0, fillcolor=\"blue\", opacity=0.1, annotation_text='Guerre en Ukraine', annotation_position='inside top left')\n",
    "\n",
    "fig.update_layout(title={\n",
    "        'text': \"Production d'énergies de 2018 à 2023\",\n",
    "        'y':0.95,\n",
    "        'x':0.5,\n",
    "        'xanchor': 'center',\n",
    "        'yanchor': 'top'},\n",
    "        legend_title_text = \"Légende :\", width=1500, height=600, template='simple_white',legend_font_size=20, title_font_size=24)\n",
    "fig.update_xaxes(title_text=\"Période en année\", row=3, col=1)\n",
    "\n",
    "\n",
    "\n",
    "fig.show()"
   ]
  },
  {
   "cell_type": "code",
   "execution_count": 30,
   "id": "d0e9b61e",
   "metadata": {},
   "outputs": [
    {
     "data": {
      "application/vnd.plotly.v1+json": {
       "config": {
        "plotlyServerURL": "https://plot.ly"
       },
       "data": [
        {
         "name": "Toutes énergies",
         "type": "scatter",
         "x": [
          "2018-02-01T00:00:00",
          "2018-03-01T00:00:00",
          "2018-04-01T00:00:00",
          "2018-05-01T00:00:00",
          "2018-06-01T00:00:00",
          "2018-07-01T00:00:00",
          "2018-08-01T00:00:00",
          "2018-09-01T00:00:00",
          "2018-10-01T00:00:00",
          "2018-11-01T00:00:00",
          "2018-12-01T00:00:00",
          "2019-01-01T00:00:00",
          "2019-02-01T00:00:00",
          "2019-03-01T00:00:00",
          "2019-04-01T00:00:00",
          "2019-05-01T00:00:00",
          "2019-06-01T00:00:00",
          "2019-07-01T00:00:00",
          "2019-08-01T00:00:00",
          "2019-09-01T00:00:00",
          "2019-10-01T00:00:00",
          "2019-11-01T00:00:00",
          "2019-12-01T00:00:00",
          "2020-01-01T00:00:00",
          "2020-02-01T00:00:00",
          "2020-03-01T00:00:00",
          "2020-04-01T00:00:00",
          "2020-05-01T00:00:00",
          "2020-06-01T00:00:00",
          "2020-07-01T00:00:00",
          "2020-08-01T00:00:00",
          "2020-09-01T00:00:00",
          "2020-10-01T00:00:00",
          "2020-11-01T00:00:00",
          "2020-12-01T00:00:00",
          "2021-01-01T00:00:00",
          "2021-02-01T00:00:00",
          "2021-03-01T00:00:00",
          "2021-04-01T00:00:00",
          "2021-05-01T00:00:00",
          "2021-06-01T00:00:00",
          "2021-07-01T00:00:00",
          "2021-08-01T00:00:00",
          "2021-09-01T00:00:00",
          "2021-10-01T00:00:00",
          "2021-11-01T00:00:00",
          "2021-12-01T00:00:00",
          "2022-01-01T00:00:00",
          "2022-02-01T00:00:00",
          "2022-03-01T00:00:00",
          "2022-04-01T00:00:00",
          "2022-05-01T00:00:00",
          "2022-06-01T00:00:00",
          "2022-07-01T00:00:00",
          "2022-08-01T00:00:00",
          "2022-09-01T00:00:00",
          "2022-10-01T00:00:00",
          "2022-11-01T00:00:00",
          "2022-12-01T00:00:00",
          "2023-01-01T00:00:00"
         ],
         "xaxis": "x",
         "y": [
          136069.66,
          138986.848,
          136660.216,
          135015,
          134963.155,
          141596.847,
          141101.119,
          132703.768,
          149563.013,
          135628.042,
          139983.268,
          144477.928,
          128583.085,
          153692.845,
          143642.09,
          143585.409,
          126630.026,
          137071.415,
          135439.093,
          113770.448,
          136373.682,
          137799.979,
          127542.967,
          117276.77,
          111452.608,
          122199.761,
          104086.103,
          119653.347,
          109907.022,
          109687.436,
          109287.552,
          107135.688,
          116933.198,
          109894.632,
          102095.609,
          120975.169,
          103219.911,
          125373.134,
          120255.156,
          121654.012,
          114000.683,
          116832.43,
          125317.971,
          103818.99,
          121445.14,
          122162.778,
          123243.491,
          128715.046,
          107770.307,
          135382.623,
          125607.484,
          131452.745,
          112850.079,
          134519.825,
          121969.655,
          112718.408,
          119459.291,
          118634.88,
          130454.327,
          119636.337
         ],
         "yaxis": "y"
        },
        {
         "name": "Tous produits pétroliers",
         "type": "scatter",
         "x": [
          "2018-02-01T00:00:00",
          "2018-03-01T00:00:00",
          "2018-04-01T00:00:00",
          "2018-05-01T00:00:00",
          "2018-06-01T00:00:00",
          "2018-07-01T00:00:00",
          "2018-08-01T00:00:00",
          "2018-09-01T00:00:00",
          "2018-10-01T00:00:00",
          "2018-11-01T00:00:00",
          "2018-12-01T00:00:00",
          "2019-01-01T00:00:00",
          "2019-02-01T00:00:00",
          "2019-03-01T00:00:00",
          "2019-04-01T00:00:00",
          "2019-05-01T00:00:00",
          "2019-06-01T00:00:00",
          "2019-07-01T00:00:00",
          "2019-08-01T00:00:00",
          "2019-09-01T00:00:00",
          "2019-10-01T00:00:00",
          "2019-11-01T00:00:00",
          "2019-12-01T00:00:00",
          "2020-01-01T00:00:00",
          "2020-02-01T00:00:00",
          "2020-03-01T00:00:00",
          "2020-04-01T00:00:00",
          "2020-05-01T00:00:00",
          "2020-06-01T00:00:00",
          "2020-07-01T00:00:00",
          "2020-08-01T00:00:00",
          "2020-09-01T00:00:00",
          "2020-10-01T00:00:00",
          "2020-11-01T00:00:00",
          "2020-12-01T00:00:00",
          "2021-01-01T00:00:00",
          "2021-02-01T00:00:00",
          "2021-03-01T00:00:00",
          "2021-04-01T00:00:00",
          "2021-05-01T00:00:00",
          "2021-06-01T00:00:00",
          "2021-07-01T00:00:00",
          "2021-08-01T00:00:00",
          "2021-09-01T00:00:00",
          "2021-10-01T00:00:00",
          "2021-11-01T00:00:00",
          "2021-12-01T00:00:00",
          "2022-01-01T00:00:00",
          "2022-02-01T00:00:00",
          "2022-03-01T00:00:00",
          "2022-04-01T00:00:00",
          "2022-05-01T00:00:00",
          "2022-06-01T00:00:00",
          "2022-07-01T00:00:00",
          "2022-08-01T00:00:00",
          "2022-09-01T00:00:00",
          "2022-10-01T00:00:00",
          "2022-11-01T00:00:00",
          "2022-12-01T00:00:00",
          "2023-01-01T00:00:00"
         ],
         "xaxis": "x",
         "y": [
          86499.48,
          90310.371,
          93540.086,
          87021.258,
          91158.779,
          93202.11,
          93884.716,
          89878.259,
          101234.771,
          83584.899,
          92630.377,
          101193.686,
          88864.135,
          100560.479,
          87310.48,
          95112.43,
          85328.922,
          93614.31,
          94212.856,
          81077.315,
          94494.748,
          83638.258,
          74584.457,
          88433.753,
          79679.696,
          81875.999,
          53409.794,
          70636.834,
          75178.992,
          75416.371,
          76893.866,
          73100.959,
          74973.941,
          69286.559,
          62261.007,
          79627.658,
          68872.579,
          71994.425,
          72533.216,
          72906.983,
          75393.179,
          76429.115,
          83394.058,
          69173.864,
          81022.422,
          83199.171,
          78318.415,
          81230.615,
          70245.846,
          79154.504,
          71689.091,
          80661.098,
          73340.528,
          86313.328,
          80663.482,
          75905.819,
          82922.651,
          77737.519,
          84465.251,
          85423.487
         ],
         "yaxis": "y"
        },
        {
         "name": "Gaz naturel",
         "type": "scatter",
         "x": [
          "2018-02-01T00:00:00",
          "2018-03-01T00:00:00",
          "2018-04-01T00:00:00",
          "2018-05-01T00:00:00",
          "2018-06-01T00:00:00",
          "2018-07-01T00:00:00",
          "2018-08-01T00:00:00",
          "2018-09-01T00:00:00",
          "2018-10-01T00:00:00",
          "2018-11-01T00:00:00",
          "2018-12-01T00:00:00",
          "2019-01-01T00:00:00",
          "2019-02-01T00:00:00",
          "2019-03-01T00:00:00",
          "2019-04-01T00:00:00",
          "2019-05-01T00:00:00",
          "2019-06-01T00:00:00",
          "2019-07-01T00:00:00",
          "2019-08-01T00:00:00",
          "2019-09-01T00:00:00",
          "2019-10-01T00:00:00",
          "2019-11-01T00:00:00",
          "2019-12-01T00:00:00",
          "2020-01-01T00:00:00",
          "2020-02-01T00:00:00",
          "2020-03-01T00:00:00",
          "2020-04-01T00:00:00",
          "2020-05-01T00:00:00",
          "2020-06-01T00:00:00",
          "2020-07-01T00:00:00",
          "2020-08-01T00:00:00",
          "2020-09-01T00:00:00",
          "2020-10-01T00:00:00",
          "2020-11-01T00:00:00",
          "2020-12-01T00:00:00",
          "2021-01-01T00:00:00",
          "2021-02-01T00:00:00",
          "2021-03-01T00:00:00",
          "2021-04-01T00:00:00",
          "2021-05-01T00:00:00",
          "2021-06-01T00:00:00",
          "2021-07-01T00:00:00",
          "2021-08-01T00:00:00",
          "2021-09-01T00:00:00",
          "2021-10-01T00:00:00",
          "2021-11-01T00:00:00",
          "2021-12-01T00:00:00",
          "2022-01-01T00:00:00",
          "2022-02-01T00:00:00",
          "2022-03-01T00:00:00",
          "2022-04-01T00:00:00",
          "2022-05-01T00:00:00",
          "2022-06-01T00:00:00",
          "2022-07-01T00:00:00",
          "2022-08-01T00:00:00",
          "2022-09-01T00:00:00",
          "2022-10-01T00:00:00",
          "2022-11-01T00:00:00",
          "2022-12-01T00:00:00",
          "2023-01-01T00:00:00"
         ],
         "xaxis": "x2",
         "y": [
          38744.887,
          39319.106,
          35983.168,
          38601.042,
          34603.218,
          39603.735,
          36317.594,
          34546.922,
          37567.167,
          41079.551,
          37502.685,
          34385.795,
          31693.166,
          44962.554,
          48207.841,
          41955.122,
          35846.086,
          34823.403,
          33434.891,
          25445.428,
          32471.229,
          45134.041,
          44783.466,
          23353.295,
          25442.657,
          34895.726,
          45856.395,
          44155.239,
          30241.716,
          25691.379,
          28378.953,
          23910.885,
          36133.892,
          33134.168,
          31384.601,
          31907.846,
          27632.438,
          43530.008,
          38358.099,
          42948.687,
          31344.814,
          34789.056,
          35060.044,
          28213.552,
          33002.37,
          29609.619,
          35502.174,
          34442.068,
          30709.984,
          44733,
          43593.553,
          42828.059,
          29580.367,
          37385.601,
          30576.07,
          26781.176,
          26268.347,
          32150.581,
          35557.877,
          24791.227
         ],
         "yaxis": "y2"
        },
        {
         "name": "Combustibles minéraux solides",
         "type": "scatter",
         "x": [
          "2018-02-01T00:00:00",
          "2018-03-01T00:00:00",
          "2018-04-01T00:00:00",
          "2018-05-01T00:00:00",
          "2018-06-01T00:00:00",
          "2018-07-01T00:00:00",
          "2018-08-01T00:00:00",
          "2018-09-01T00:00:00",
          "2018-10-01T00:00:00",
          "2018-11-01T00:00:00",
          "2018-12-01T00:00:00",
          "2019-01-01T00:00:00",
          "2019-02-01T00:00:00",
          "2019-03-01T00:00:00",
          "2019-04-01T00:00:00",
          "2019-05-01T00:00:00",
          "2019-06-01T00:00:00",
          "2019-07-01T00:00:00",
          "2019-08-01T00:00:00",
          "2019-09-01T00:00:00",
          "2019-10-01T00:00:00",
          "2019-11-01T00:00:00",
          "2019-12-01T00:00:00",
          "2020-01-01T00:00:00",
          "2020-02-01T00:00:00",
          "2020-03-01T00:00:00",
          "2020-04-01T00:00:00",
          "2020-05-01T00:00:00",
          "2020-06-01T00:00:00",
          "2020-07-01T00:00:00",
          "2020-08-01T00:00:00",
          "2020-09-01T00:00:00",
          "2020-10-01T00:00:00",
          "2020-11-01T00:00:00",
          "2020-12-01T00:00:00",
          "2021-01-01T00:00:00",
          "2021-02-01T00:00:00",
          "2021-03-01T00:00:00",
          "2021-04-01T00:00:00",
          "2021-05-01T00:00:00",
          "2021-06-01T00:00:00",
          "2021-07-01T00:00:00",
          "2021-08-01T00:00:00",
          "2021-09-01T00:00:00",
          "2021-10-01T00:00:00",
          "2021-11-01T00:00:00",
          "2021-12-01T00:00:00",
          "2022-01-01T00:00:00",
          "2022-02-01T00:00:00",
          "2022-03-01T00:00:00",
          "2022-04-01T00:00:00",
          "2022-05-01T00:00:00",
          "2022-06-01T00:00:00",
          "2022-07-01T00:00:00",
          "2022-08-01T00:00:00",
          "2022-09-01T00:00:00",
          "2022-10-01T00:00:00",
          "2022-11-01T00:00:00",
          "2022-12-01T00:00:00",
          "2023-01-01T00:00:00"
         ],
         "xaxis": "x3",
         "y": [
          8709.616,
          7442.413,
          6489.45,
          8999.224,
          8992.167,
          8062.776,
          9724.055,
          7574.533,
          9711.252,
          8894.963,
          8618.02,
          6153.903,
          7064.296,
          7520.194,
          7071.707,
          6274.344,
          5129.864,
          7742.155,
          6994.358,
          6169.394,
          8114.793,
          6212.911,
          6166.419,
          3972.86,
          5855.863,
          4449.06,
          4081.657,
          4305.493,
          3265.56,
          6292.669,
          1941.761,
          6927.155,
          3967.071,
          6055.69,
          5926.677,
          6149.346,
          4412.698,
          7509.419,
          6563.766,
          4584.759,
          6572.998,
          4872.358,
          6403.68,
          5790.263,
          6381.466,
          5731.998,
          4902.408,
          8934.08,
          4489.192,
          7464.131,
          6535.333,
          4879.832,
          6116.022,
          5339.82,
          5606.485,
          4562.34,
          6153.5,
          3936.295,
          4801.955,
          5415.183
         ],
         "yaxis": "y3"
        },
        {
         "name": "Electricité",
         "type": "scatter",
         "x": [
          "2018-02-01T00:00:00",
          "2018-03-01T00:00:00",
          "2018-04-01T00:00:00",
          "2018-05-01T00:00:00",
          "2018-06-01T00:00:00",
          "2018-07-01T00:00:00",
          "2018-08-01T00:00:00",
          "2018-09-01T00:00:00",
          "2018-10-01T00:00:00",
          "2018-11-01T00:00:00",
          "2018-12-01T00:00:00",
          "2019-01-01T00:00:00",
          "2019-02-01T00:00:00",
          "2019-03-01T00:00:00",
          "2019-04-01T00:00:00",
          "2019-05-01T00:00:00",
          "2019-06-01T00:00:00",
          "2019-07-01T00:00:00",
          "2019-08-01T00:00:00",
          "2019-09-01T00:00:00",
          "2019-10-01T00:00:00",
          "2019-11-01T00:00:00",
          "2019-12-01T00:00:00",
          "2020-01-01T00:00:00",
          "2020-02-01T00:00:00",
          "2020-03-01T00:00:00",
          "2020-04-01T00:00:00",
          "2020-05-01T00:00:00",
          "2020-06-01T00:00:00",
          "2020-07-01T00:00:00",
          "2020-08-01T00:00:00",
          "2020-09-01T00:00:00",
          "2020-10-01T00:00:00",
          "2020-11-01T00:00:00",
          "2020-12-01T00:00:00",
          "2021-01-01T00:00:00",
          "2021-02-01T00:00:00",
          "2021-03-01T00:00:00",
          "2021-04-01T00:00:00",
          "2021-05-01T00:00:00",
          "2021-06-01T00:00:00",
          "2021-07-01T00:00:00",
          "2021-08-01T00:00:00",
          "2021-09-01T00:00:00",
          "2021-10-01T00:00:00",
          "2021-11-01T00:00:00",
          "2021-12-01T00:00:00",
          "2022-01-01T00:00:00",
          "2022-02-01T00:00:00",
          "2022-03-01T00:00:00",
          "2022-04-01T00:00:00",
          "2022-05-01T00:00:00",
          "2022-06-01T00:00:00",
          "2022-07-01T00:00:00",
          "2022-08-01T00:00:00",
          "2022-09-01T00:00:00",
          "2022-10-01T00:00:00",
          "2022-11-01T00:00:00",
          "2022-12-01T00:00:00",
          "2023-01-01T00:00:00"
         ],
         "xaxis": "x3",
         "y": [
          2115.676,
          1914.957,
          647.513,
          393.475,
          208.992,
          728.226,
          1174.754,
          704.055,
          1049.823,
          2068.629,
          1232.186,
          2744.544,
          961.489,
          649.618,
          1052.061,
          243.513,
          325.155,
          891.546,
          796.987,
          1078.312,
          1292.912,
          2814.769,
          2008.625,
          1516.862,
          474.392,
          978.975,
          738.257,
          555.781,
          1220.755,
          2287.017,
          2072.972,
          3196.689,
          1858.294,
          1418.214,
          2523.323,
          3290.319,
          2302.195,
          2339.282,
          2800.074,
          1213.582,
          689.691,
          741.902,
          460.189,
          641.311,
          1038.882,
          3621.99,
          4520.495,
          4108.283,
          2325.285,
          4030.988,
          3789.507,
          3083.756,
          3813.163,
          5481.076,
          5123.618,
          5469.073,
          4114.793,
          4810.486,
          5629.246,
          4006.44
         ],
         "yaxis": "y3"
        }
       ],
       "layout": {
        "annotations": [
         {
          "showarrow": false,
          "text": "Crise liée au COVID-19",
          "x": "2020-03-11",
          "xanchor": "left",
          "xref": "x",
          "y": 1,
          "yanchor": "top",
          "yref": "y domain"
         },
         {
          "showarrow": false,
          "text": "Crise liée au COVID-19",
          "x": "2020-03-11",
          "xanchor": "left",
          "xref": "x2",
          "y": 1,
          "yanchor": "top",
          "yref": "y2 domain"
         },
         {
          "showarrow": false,
          "text": "Crise liée au COVID-19",
          "x": "2020-03-11",
          "xanchor": "left",
          "xref": "x3",
          "y": 1,
          "yanchor": "top",
          "yref": "y3 domain"
         },
         {
          "showarrow": false,
          "text": "Guerre en Ukraine",
          "x": "2022-02-24",
          "xanchor": "left",
          "xref": "x",
          "y": 1,
          "yanchor": "top",
          "yref": "y domain"
         },
         {
          "showarrow": false,
          "text": "Guerre en Ukraine",
          "x": "2022-02-24",
          "xanchor": "left",
          "xref": "x2",
          "y": 1,
          "yanchor": "top",
          "yref": "y2 domain"
         },
         {
          "showarrow": false,
          "text": "Guerre en Ukraine",
          "x": "2022-02-24",
          "xanchor": "left",
          "xref": "x3",
          "y": 1,
          "yanchor": "top",
          "yref": "y3 domain"
         }
        ],
        "height": 600,
        "legend": {
         "font": {
          "size": 24
         },
         "title": {
          "text": "Légende :"
         }
        },
        "shapes": [
         {
          "fillcolor": "red",
          "line": {
           "width": 0
          },
          "opacity": 0.1,
          "type": "rect",
          "x0": "2020-03-11",
          "x1": "2022-02-24",
          "xref": "x",
          "y0": 0,
          "y1": 1,
          "yref": "y domain"
         },
         {
          "fillcolor": "red",
          "line": {
           "width": 0
          },
          "opacity": 0.1,
          "type": "rect",
          "x0": "2020-03-11",
          "x1": "2022-02-24",
          "xref": "x2",
          "y0": 0,
          "y1": 1,
          "yref": "y2 domain"
         },
         {
          "fillcolor": "red",
          "line": {
           "width": 0
          },
          "opacity": 0.1,
          "type": "rect",
          "x0": "2020-03-11",
          "x1": "2022-02-24",
          "xref": "x3",
          "y0": 0,
          "y1": 1,
          "yref": "y3 domain"
         },
         {
          "fillcolor": "blue",
          "line": {
           "width": 0
          },
          "opacity": 0.1,
          "type": "rect",
          "x0": "2022-02-24",
          "x1": "2023-04-01",
          "xref": "x",
          "y0": 0,
          "y1": 1,
          "yref": "y domain"
         },
         {
          "fillcolor": "blue",
          "line": {
           "width": 0
          },
          "opacity": 0.1,
          "type": "rect",
          "x0": "2022-02-24",
          "x1": "2023-04-01",
          "xref": "x2",
          "y0": 0,
          "y1": 1,
          "yref": "y2 domain"
         },
         {
          "fillcolor": "blue",
          "line": {
           "width": 0
          },
          "opacity": 0.1,
          "type": "rect",
          "x0": "2022-02-24",
          "x1": "2023-04-01",
          "xref": "x3",
          "y0": 0,
          "y1": 1,
          "yref": "y3 domain"
         }
        ],
        "template": {
         "data": {
          "bar": [
           {
            "error_x": {
             "color": "rgb(36,36,36)"
            },
            "error_y": {
             "color": "rgb(36,36,36)"
            },
            "marker": {
             "line": {
              "color": "white",
              "width": 0.5
             },
             "pattern": {
              "fillmode": "overlay",
              "size": 10,
              "solidity": 0.2
             }
            },
            "type": "bar"
           }
          ],
          "barpolar": [
           {
            "marker": {
             "line": {
              "color": "white",
              "width": 0.5
             },
             "pattern": {
              "fillmode": "overlay",
              "size": 10,
              "solidity": 0.2
             }
            },
            "type": "barpolar"
           }
          ],
          "carpet": [
           {
            "aaxis": {
             "endlinecolor": "rgb(36,36,36)",
             "gridcolor": "white",
             "linecolor": "white",
             "minorgridcolor": "white",
             "startlinecolor": "rgb(36,36,36)"
            },
            "baxis": {
             "endlinecolor": "rgb(36,36,36)",
             "gridcolor": "white",
             "linecolor": "white",
             "minorgridcolor": "white",
             "startlinecolor": "rgb(36,36,36)"
            },
            "type": "carpet"
           }
          ],
          "choropleth": [
           {
            "colorbar": {
             "outlinewidth": 1,
             "tickcolor": "rgb(36,36,36)",
             "ticks": "outside"
            },
            "type": "choropleth"
           }
          ],
          "contour": [
           {
            "colorbar": {
             "outlinewidth": 1,
             "tickcolor": "rgb(36,36,36)",
             "ticks": "outside"
            },
            "colorscale": [
             [
              0,
              "#440154"
             ],
             [
              0.1111111111111111,
              "#482878"
             ],
             [
              0.2222222222222222,
              "#3e4989"
             ],
             [
              0.3333333333333333,
              "#31688e"
             ],
             [
              0.4444444444444444,
              "#26828e"
             ],
             [
              0.5555555555555556,
              "#1f9e89"
             ],
             [
              0.6666666666666666,
              "#35b779"
             ],
             [
              0.7777777777777778,
              "#6ece58"
             ],
             [
              0.8888888888888888,
              "#b5de2b"
             ],
             [
              1,
              "#fde725"
             ]
            ],
            "type": "contour"
           }
          ],
          "contourcarpet": [
           {
            "colorbar": {
             "outlinewidth": 1,
             "tickcolor": "rgb(36,36,36)",
             "ticks": "outside"
            },
            "type": "contourcarpet"
           }
          ],
          "heatmap": [
           {
            "colorbar": {
             "outlinewidth": 1,
             "tickcolor": "rgb(36,36,36)",
             "ticks": "outside"
            },
            "colorscale": [
             [
              0,
              "#440154"
             ],
             [
              0.1111111111111111,
              "#482878"
             ],
             [
              0.2222222222222222,
              "#3e4989"
             ],
             [
              0.3333333333333333,
              "#31688e"
             ],
             [
              0.4444444444444444,
              "#26828e"
             ],
             [
              0.5555555555555556,
              "#1f9e89"
             ],
             [
              0.6666666666666666,
              "#35b779"
             ],
             [
              0.7777777777777778,
              "#6ece58"
             ],
             [
              0.8888888888888888,
              "#b5de2b"
             ],
             [
              1,
              "#fde725"
             ]
            ],
            "type": "heatmap"
           }
          ],
          "heatmapgl": [
           {
            "colorbar": {
             "outlinewidth": 1,
             "tickcolor": "rgb(36,36,36)",
             "ticks": "outside"
            },
            "colorscale": [
             [
              0,
              "#440154"
             ],
             [
              0.1111111111111111,
              "#482878"
             ],
             [
              0.2222222222222222,
              "#3e4989"
             ],
             [
              0.3333333333333333,
              "#31688e"
             ],
             [
              0.4444444444444444,
              "#26828e"
             ],
             [
              0.5555555555555556,
              "#1f9e89"
             ],
             [
              0.6666666666666666,
              "#35b779"
             ],
             [
              0.7777777777777778,
              "#6ece58"
             ],
             [
              0.8888888888888888,
              "#b5de2b"
             ],
             [
              1,
              "#fde725"
             ]
            ],
            "type": "heatmapgl"
           }
          ],
          "histogram": [
           {
            "marker": {
             "line": {
              "color": "white",
              "width": 0.6
             }
            },
            "type": "histogram"
           }
          ],
          "histogram2d": [
           {
            "colorbar": {
             "outlinewidth": 1,
             "tickcolor": "rgb(36,36,36)",
             "ticks": "outside"
            },
            "colorscale": [
             [
              0,
              "#440154"
             ],
             [
              0.1111111111111111,
              "#482878"
             ],
             [
              0.2222222222222222,
              "#3e4989"
             ],
             [
              0.3333333333333333,
              "#31688e"
             ],
             [
              0.4444444444444444,
              "#26828e"
             ],
             [
              0.5555555555555556,
              "#1f9e89"
             ],
             [
              0.6666666666666666,
              "#35b779"
             ],
             [
              0.7777777777777778,
              "#6ece58"
             ],
             [
              0.8888888888888888,
              "#b5de2b"
             ],
             [
              1,
              "#fde725"
             ]
            ],
            "type": "histogram2d"
           }
          ],
          "histogram2dcontour": [
           {
            "colorbar": {
             "outlinewidth": 1,
             "tickcolor": "rgb(36,36,36)",
             "ticks": "outside"
            },
            "colorscale": [
             [
              0,
              "#440154"
             ],
             [
              0.1111111111111111,
              "#482878"
             ],
             [
              0.2222222222222222,
              "#3e4989"
             ],
             [
              0.3333333333333333,
              "#31688e"
             ],
             [
              0.4444444444444444,
              "#26828e"
             ],
             [
              0.5555555555555556,
              "#1f9e89"
             ],
             [
              0.6666666666666666,
              "#35b779"
             ],
             [
              0.7777777777777778,
              "#6ece58"
             ],
             [
              0.8888888888888888,
              "#b5de2b"
             ],
             [
              1,
              "#fde725"
             ]
            ],
            "type": "histogram2dcontour"
           }
          ],
          "mesh3d": [
           {
            "colorbar": {
             "outlinewidth": 1,
             "tickcolor": "rgb(36,36,36)",
             "ticks": "outside"
            },
            "type": "mesh3d"
           }
          ],
          "parcoords": [
           {
            "line": {
             "colorbar": {
              "outlinewidth": 1,
              "tickcolor": "rgb(36,36,36)",
              "ticks": "outside"
             }
            },
            "type": "parcoords"
           }
          ],
          "pie": [
           {
            "automargin": true,
            "type": "pie"
           }
          ],
          "scatter": [
           {
            "marker": {
             "colorbar": {
              "outlinewidth": 1,
              "tickcolor": "rgb(36,36,36)",
              "ticks": "outside"
             }
            },
            "type": "scatter"
           }
          ],
          "scatter3d": [
           {
            "line": {
             "colorbar": {
              "outlinewidth": 1,
              "tickcolor": "rgb(36,36,36)",
              "ticks": "outside"
             }
            },
            "marker": {
             "colorbar": {
              "outlinewidth": 1,
              "tickcolor": "rgb(36,36,36)",
              "ticks": "outside"
             }
            },
            "type": "scatter3d"
           }
          ],
          "scattercarpet": [
           {
            "marker": {
             "colorbar": {
              "outlinewidth": 1,
              "tickcolor": "rgb(36,36,36)",
              "ticks": "outside"
             }
            },
            "type": "scattercarpet"
           }
          ],
          "scattergeo": [
           {
            "marker": {
             "colorbar": {
              "outlinewidth": 1,
              "tickcolor": "rgb(36,36,36)",
              "ticks": "outside"
             }
            },
            "type": "scattergeo"
           }
          ],
          "scattergl": [
           {
            "marker": {
             "colorbar": {
              "outlinewidth": 1,
              "tickcolor": "rgb(36,36,36)",
              "ticks": "outside"
             }
            },
            "type": "scattergl"
           }
          ],
          "scattermapbox": [
           {
            "marker": {
             "colorbar": {
              "outlinewidth": 1,
              "tickcolor": "rgb(36,36,36)",
              "ticks": "outside"
             }
            },
            "type": "scattermapbox"
           }
          ],
          "scatterpolar": [
           {
            "marker": {
             "colorbar": {
              "outlinewidth": 1,
              "tickcolor": "rgb(36,36,36)",
              "ticks": "outside"
             }
            },
            "type": "scatterpolar"
           }
          ],
          "scatterpolargl": [
           {
            "marker": {
             "colorbar": {
              "outlinewidth": 1,
              "tickcolor": "rgb(36,36,36)",
              "ticks": "outside"
             }
            },
            "type": "scatterpolargl"
           }
          ],
          "scatterternary": [
           {
            "marker": {
             "colorbar": {
              "outlinewidth": 1,
              "tickcolor": "rgb(36,36,36)",
              "ticks": "outside"
             }
            },
            "type": "scatterternary"
           }
          ],
          "surface": [
           {
            "colorbar": {
             "outlinewidth": 1,
             "tickcolor": "rgb(36,36,36)",
             "ticks": "outside"
            },
            "colorscale": [
             [
              0,
              "#440154"
             ],
             [
              0.1111111111111111,
              "#482878"
             ],
             [
              0.2222222222222222,
              "#3e4989"
             ],
             [
              0.3333333333333333,
              "#31688e"
             ],
             [
              0.4444444444444444,
              "#26828e"
             ],
             [
              0.5555555555555556,
              "#1f9e89"
             ],
             [
              0.6666666666666666,
              "#35b779"
             ],
             [
              0.7777777777777778,
              "#6ece58"
             ],
             [
              0.8888888888888888,
              "#b5de2b"
             ],
             [
              1,
              "#fde725"
             ]
            ],
            "type": "surface"
           }
          ],
          "table": [
           {
            "cells": {
             "fill": {
              "color": "rgb(237,237,237)"
             },
             "line": {
              "color": "white"
             }
            },
            "header": {
             "fill": {
              "color": "rgb(217,217,217)"
             },
             "line": {
              "color": "white"
             }
            },
            "type": "table"
           }
          ]
         },
         "layout": {
          "annotationdefaults": {
           "arrowhead": 0,
           "arrowwidth": 1
          },
          "autotypenumbers": "strict",
          "coloraxis": {
           "colorbar": {
            "outlinewidth": 1,
            "tickcolor": "rgb(36,36,36)",
            "ticks": "outside"
           }
          },
          "colorscale": {
           "diverging": [
            [
             0,
             "rgb(103,0,31)"
            ],
            [
             0.1,
             "rgb(178,24,43)"
            ],
            [
             0.2,
             "rgb(214,96,77)"
            ],
            [
             0.3,
             "rgb(244,165,130)"
            ],
            [
             0.4,
             "rgb(253,219,199)"
            ],
            [
             0.5,
             "rgb(247,247,247)"
            ],
            [
             0.6,
             "rgb(209,229,240)"
            ],
            [
             0.7,
             "rgb(146,197,222)"
            ],
            [
             0.8,
             "rgb(67,147,195)"
            ],
            [
             0.9,
             "rgb(33,102,172)"
            ],
            [
             1,
             "rgb(5,48,97)"
            ]
           ],
           "sequential": [
            [
             0,
             "#440154"
            ],
            [
             0.1111111111111111,
             "#482878"
            ],
            [
             0.2222222222222222,
             "#3e4989"
            ],
            [
             0.3333333333333333,
             "#31688e"
            ],
            [
             0.4444444444444444,
             "#26828e"
            ],
            [
             0.5555555555555556,
             "#1f9e89"
            ],
            [
             0.6666666666666666,
             "#35b779"
            ],
            [
             0.7777777777777778,
             "#6ece58"
            ],
            [
             0.8888888888888888,
             "#b5de2b"
            ],
            [
             1,
             "#fde725"
            ]
           ],
           "sequentialminus": [
            [
             0,
             "#440154"
            ],
            [
             0.1111111111111111,
             "#482878"
            ],
            [
             0.2222222222222222,
             "#3e4989"
            ],
            [
             0.3333333333333333,
             "#31688e"
            ],
            [
             0.4444444444444444,
             "#26828e"
            ],
            [
             0.5555555555555556,
             "#1f9e89"
            ],
            [
             0.6666666666666666,
             "#35b779"
            ],
            [
             0.7777777777777778,
             "#6ece58"
            ],
            [
             0.8888888888888888,
             "#b5de2b"
            ],
            [
             1,
             "#fde725"
            ]
           ]
          },
          "colorway": [
           "#1F77B4",
           "#FF7F0E",
           "#2CA02C",
           "#D62728",
           "#9467BD",
           "#8C564B",
           "#E377C2",
           "#7F7F7F",
           "#BCBD22",
           "#17BECF"
          ],
          "font": {
           "color": "rgb(36,36,36)"
          },
          "geo": {
           "bgcolor": "white",
           "lakecolor": "white",
           "landcolor": "white",
           "showlakes": true,
           "showland": true,
           "subunitcolor": "white"
          },
          "hoverlabel": {
           "align": "left"
          },
          "hovermode": "closest",
          "mapbox": {
           "style": "light"
          },
          "paper_bgcolor": "white",
          "plot_bgcolor": "white",
          "polar": {
           "angularaxis": {
            "gridcolor": "rgb(232,232,232)",
            "linecolor": "rgb(36,36,36)",
            "showgrid": false,
            "showline": true,
            "ticks": "outside"
           },
           "bgcolor": "white",
           "radialaxis": {
            "gridcolor": "rgb(232,232,232)",
            "linecolor": "rgb(36,36,36)",
            "showgrid": false,
            "showline": true,
            "ticks": "outside"
           }
          },
          "scene": {
           "xaxis": {
            "backgroundcolor": "white",
            "gridcolor": "rgb(232,232,232)",
            "gridwidth": 2,
            "linecolor": "rgb(36,36,36)",
            "showbackground": true,
            "showgrid": false,
            "showline": true,
            "ticks": "outside",
            "zeroline": false,
            "zerolinecolor": "rgb(36,36,36)"
           },
           "yaxis": {
            "backgroundcolor": "white",
            "gridcolor": "rgb(232,232,232)",
            "gridwidth": 2,
            "linecolor": "rgb(36,36,36)",
            "showbackground": true,
            "showgrid": false,
            "showline": true,
            "ticks": "outside",
            "zeroline": false,
            "zerolinecolor": "rgb(36,36,36)"
           },
           "zaxis": {
            "backgroundcolor": "white",
            "gridcolor": "rgb(232,232,232)",
            "gridwidth": 2,
            "linecolor": "rgb(36,36,36)",
            "showbackground": true,
            "showgrid": false,
            "showline": true,
            "ticks": "outside",
            "zeroline": false,
            "zerolinecolor": "rgb(36,36,36)"
           }
          },
          "shapedefaults": {
           "fillcolor": "black",
           "line": {
            "width": 0
           },
           "opacity": 0.3
          },
          "ternary": {
           "aaxis": {
            "gridcolor": "rgb(232,232,232)",
            "linecolor": "rgb(36,36,36)",
            "showgrid": false,
            "showline": true,
            "ticks": "outside"
           },
           "baxis": {
            "gridcolor": "rgb(232,232,232)",
            "linecolor": "rgb(36,36,36)",
            "showgrid": false,
            "showline": true,
            "ticks": "outside"
           },
           "bgcolor": "white",
           "caxis": {
            "gridcolor": "rgb(232,232,232)",
            "linecolor": "rgb(36,36,36)",
            "showgrid": false,
            "showline": true,
            "ticks": "outside"
           }
          },
          "title": {
           "x": 0.05
          },
          "xaxis": {
           "automargin": true,
           "gridcolor": "rgb(232,232,232)",
           "linecolor": "rgb(36,36,36)",
           "showgrid": false,
           "showline": true,
           "ticks": "outside",
           "title": {
            "standoff": 15
           },
           "zeroline": false,
           "zerolinecolor": "rgb(36,36,36)"
          },
          "yaxis": {
           "automargin": true,
           "gridcolor": "rgb(232,232,232)",
           "linecolor": "rgb(36,36,36)",
           "showgrid": false,
           "showline": true,
           "ticks": "outside",
           "title": {
            "standoff": 15
           },
           "zeroline": false,
           "zerolinecolor": "rgb(36,36,36)"
          }
         }
        },
        "title": {
         "font": {
          "size": 24
         },
         "text": "Importation d'énergies de 2018 à 2023",
         "x": 0.5,
         "xanchor": "center",
         "y": 0.95,
         "yanchor": "top"
        },
        "width": 1000,
        "xaxis": {
         "anchor": "y",
         "domain": [
          0,
          1
         ],
         "matches": "x3",
         "showticklabels": false
        },
        "xaxis2": {
         "anchor": "y2",
         "domain": [
          0,
          1
         ],
         "matches": "x3",
         "showticklabels": false
        },
        "xaxis3": {
         "anchor": "y3",
         "domain": [
          0,
          1
         ],
         "title": {
          "text": "Période en année"
         }
        },
        "yaxis": {
         "anchor": "x",
         "domain": [
          0.7333333333333333,
          1
         ]
        },
        "yaxis2": {
         "anchor": "x2",
         "domain": [
          0.36666666666666664,
          0.6333333333333333
         ],
         "title": {
          "text": "Importation d'énergies (en GWh)"
         }
        },
        "yaxis3": {
         "anchor": "x3",
         "domain": [
          0,
          0.26666666666666666
         ]
        }
       }
      }
     },
     "metadata": {},
     "output_type": "display_data"
    }
   ],
   "source": [
    "\n",
    "fig = make_subplots(rows=3, cols=1, shared_xaxes=True)\n",
    "\n",
    "fig.add_trace(go.Scatter(x=synth_ener.index, y=synth_ener['2.1 Importations toutes énergies (en GWh)'], name='Toutes énergies'), row=1, col=1)\n",
    "fig.add_trace(go.Scatter(x=synth_ener.index, y=synth_ener[\"2.1.2 Importations de tous produits pétroliers (en GWh)\"], name=\"Tous produits pétroliers\"), row=1, col=1)\n",
    "fig.add_trace(go.Scatter(x=synth_ener.index, y=synth_ener['2.1.3 Importations de gaz naturel (en GWh)'], name='Gaz naturel'), row=2, col=1)\n",
    "\n",
    "fig.add_trace(go.Scatter(x=synth_ener.index, y=synth_ener['2.1.1 Importations de combustibles minéraux solides (en GWh)'], name='Combustibles minéraux solides'), row=3, col=1)\n",
    "fig.add_trace(go.Scatter(x=synth_ener.index, y=synth_ener[\"2.1.4 Importations d'électricité (en GWh)\"], name=\"Electricité\"), row=3, col=1)\n",
    "\n",
    "fig.add_vrect(x0='2020-03-11', x1='2022-02-24', line_width=0, fillcolor=\"red\", opacity=0.1, annotation_text='Crise liée au COVID-19', annotation_position='inside top left')\n",
    "fig.add_vrect(x0='2022-02-24', x1='2023-04-01', line_width=0, fillcolor=\"blue\", opacity=0.1, annotation_text='Guerre en Ukraine', annotation_position='inside top left')\n",
    "   \n",
    "\n",
    "\n",
    "fig.update_yaxes(title_text=\"Importation d'énergies (en GWh)\", row=2, col=1)\n",
    "fig.update_xaxes(title_text=\"Période en année\", row=3, col=1)\n",
    "\n",
    "\n",
    "fig.update_layout(title={\n",
    "        'text': \"Importation d'énergies de 2018 à 2023\",\n",
    "        'y':0.95,\n",
    "        'x':0.5,\n",
    "        'xanchor': 'center',\n",
    "        'yanchor': 'top'},\n",
    "        legend_title_text = \"Légende :\", width=1000, height=600, template='simple_white',legend_font_size=24, title_font_size=24)\n",
    "\n",
    "fig.show()\n"
   ]
  },
  {
   "cell_type": "code",
   "execution_count": 31,
   "id": "6f67b0a0",
   "metadata": {},
   "outputs": [
    {
     "data": {
      "application/vnd.plotly.v1+json": {
       "config": {
        "plotlyServerURL": "https://plot.ly"
       },
       "data": [
        {
         "name": "Toutes énergies",
         "type": "scatter",
         "x": [
          "2018-02-01T00:00:00",
          "2018-03-01T00:00:00",
          "2018-04-01T00:00:00",
          "2018-05-01T00:00:00",
          "2018-06-01T00:00:00",
          "2018-07-01T00:00:00",
          "2018-08-01T00:00:00",
          "2018-09-01T00:00:00",
          "2018-10-01T00:00:00",
          "2018-11-01T00:00:00",
          "2018-12-01T00:00:00",
          "2019-01-01T00:00:00",
          "2019-02-01T00:00:00",
          "2019-03-01T00:00:00",
          "2019-04-01T00:00:00",
          "2019-05-01T00:00:00",
          "2019-06-01T00:00:00",
          "2019-07-01T00:00:00",
          "2019-08-01T00:00:00",
          "2019-09-01T00:00:00",
          "2019-10-01T00:00:00",
          "2019-11-01T00:00:00",
          "2019-12-01T00:00:00",
          "2020-01-01T00:00:00",
          "2020-02-01T00:00:00",
          "2020-03-01T00:00:00",
          "2020-04-01T00:00:00",
          "2020-05-01T00:00:00",
          "2020-06-01T00:00:00",
          "2020-07-01T00:00:00",
          "2020-08-01T00:00:00",
          "2020-09-01T00:00:00",
          "2020-10-01T00:00:00",
          "2020-11-01T00:00:00",
          "2020-12-01T00:00:00",
          "2021-01-01T00:00:00",
          "2021-02-01T00:00:00",
          "2021-03-01T00:00:00",
          "2021-04-01T00:00:00",
          "2021-05-01T00:00:00",
          "2021-06-01T00:00:00",
          "2021-07-01T00:00:00",
          "2021-08-01T00:00:00",
          "2021-09-01T00:00:00",
          "2021-10-01T00:00:00",
          "2021-11-01T00:00:00",
          "2021-12-01T00:00:00",
          "2022-01-01T00:00:00",
          "2022-02-01T00:00:00",
          "2022-03-01T00:00:00",
          "2022-04-01T00:00:00",
          "2022-05-01T00:00:00",
          "2022-06-01T00:00:00",
          "2022-07-01T00:00:00",
          "2022-08-01T00:00:00",
          "2022-09-01T00:00:00",
          "2022-10-01T00:00:00",
          "2022-11-01T00:00:00",
          "2022-12-01T00:00:00",
          "2023-01-01T00:00:00"
         ],
         "xaxis": "x",
         "y": [
          26529.555,
          27100.148,
          28028,
          32430.082,
          27484.277,
          28869.591,
          26783.851,
          26016.761,
          28004.977,
          21909.576,
          32603.913,
          25706.576,
          32616.191,
          33479.352,
          30197.396,
          30575.168,
          27450.417,
          30413.151,
          27723.79,
          27507.758,
          26100.488,
          22131.825,
          23163.775,
          24221.929,
          26185.582,
          25216.644,
          24033.743,
          21358.336,
          21176.344,
          23761.375,
          20941.084,
          19728.94,
          18449.421,
          22458.284,
          20806.877,
          17818.775,
          18303.244,
          19841.107,
          20766.421,
          17379.175,
          18290.262,
          20989.695,
          23887.254,
          20108.696,
          20421.863,
          20527.469,
          24647.33,
          22249.786,
          19155.903,
          19889.174,
          21245.171,
          23565.515,
          19913.396,
          22030.419,
          23679.967,
          22588.979,
          21895.096,
          20238.154,
          27429.415,
          24819.047
         ],
         "yaxis": "y"
        },
        {
         "name": " Gaz naturel",
         "type": "scatter",
         "x": [
          "2018-02-01T00:00:00",
          "2018-03-01T00:00:00",
          "2018-04-01T00:00:00",
          "2018-05-01T00:00:00",
          "2018-06-01T00:00:00",
          "2018-07-01T00:00:00",
          "2018-08-01T00:00:00",
          "2018-09-01T00:00:00",
          "2018-10-01T00:00:00",
          "2018-11-01T00:00:00",
          "2018-12-01T00:00:00",
          "2019-01-01T00:00:00",
          "2019-02-01T00:00:00",
          "2019-03-01T00:00:00",
          "2019-04-01T00:00:00",
          "2019-05-01T00:00:00",
          "2019-06-01T00:00:00",
          "2019-07-01T00:00:00",
          "2019-08-01T00:00:00",
          "2019-09-01T00:00:00",
          "2019-10-01T00:00:00",
          "2019-11-01T00:00:00",
          "2019-12-01T00:00:00",
          "2020-01-01T00:00:00",
          "2020-02-01T00:00:00",
          "2020-03-01T00:00:00",
          "2020-04-01T00:00:00",
          "2020-05-01T00:00:00",
          "2020-06-01T00:00:00",
          "2020-07-01T00:00:00",
          "2020-08-01T00:00:00",
          "2020-09-01T00:00:00",
          "2020-10-01T00:00:00",
          "2020-11-01T00:00:00",
          "2020-12-01T00:00:00",
          "2021-01-01T00:00:00",
          "2021-02-01T00:00:00",
          "2021-03-01T00:00:00",
          "2021-04-01T00:00:00",
          "2021-05-01T00:00:00",
          "2021-06-01T00:00:00",
          "2021-07-01T00:00:00",
          "2021-08-01T00:00:00",
          "2021-09-01T00:00:00",
          "2021-10-01T00:00:00",
          "2021-11-01T00:00:00",
          "2021-12-01T00:00:00",
          "2022-01-01T00:00:00",
          "2022-02-01T00:00:00",
          "2022-03-01T00:00:00",
          "2022-04-01T00:00:00",
          "2022-05-01T00:00:00",
          "2022-06-01T00:00:00",
          "2022-07-01T00:00:00",
          "2022-08-01T00:00:00",
          "2022-09-01T00:00:00",
          "2022-10-01T00:00:00",
          "2022-11-01T00:00:00",
          "2022-12-01T00:00:00",
          "2023-01-01T00:00:00"
         ],
         "xaxis": "x2",
         "y": [
          3013.666,
          3249.133,
          4787.969,
          8291.327,
          4841.856,
          1416.428,
          2136.711,
          2963.4,
          1556.888,
          1706.509,
          3200.41,
          5866.12,
          6636.953,
          8280.533,
          8201.398,
          8313.633,
          7103.112,
          8101.603,
          6497.38,
          2932.606,
          7535.665,
          3600.528,
          3611.319,
          6627.864,
          6759.306,
          6238.65,
          6401.901,
          6784.849,
          6275.542,
          7641.192,
          6912.108,
          5700.061,
          2201.329,
          737.453,
          2691.641,
          3795.696,
          2205.165,
          1061.589,
          4687.728,
          1206.981,
          1634.184,
          2054.603,
          1569.001,
          4454.651,
          2690.005,
          4249.908,
          6098.841,
          7463.65,
          5208.697,
          3231.429,
          6538.681,
          6975.168,
          3424.549,
          6480.994,
          8751.485,
          7480.752,
          8407.222,
          6630.157,
          6096.541,
          6806.798
         ],
         "yaxis": "y2"
        },
        {
         "name": "Electricité",
         "type": "scatter",
         "x": [
          "2018-02-01T00:00:00",
          "2018-03-01T00:00:00",
          "2018-04-01T00:00:00",
          "2018-05-01T00:00:00",
          "2018-06-01T00:00:00",
          "2018-07-01T00:00:00",
          "2018-08-01T00:00:00",
          "2018-09-01T00:00:00",
          "2018-10-01T00:00:00",
          "2018-11-01T00:00:00",
          "2018-12-01T00:00:00",
          "2019-01-01T00:00:00",
          "2019-02-01T00:00:00",
          "2019-03-01T00:00:00",
          "2019-04-01T00:00:00",
          "2019-05-01T00:00:00",
          "2019-06-01T00:00:00",
          "2019-07-01T00:00:00",
          "2019-08-01T00:00:00",
          "2019-09-01T00:00:00",
          "2019-10-01T00:00:00",
          "2019-11-01T00:00:00",
          "2019-12-01T00:00:00",
          "2020-01-01T00:00:00",
          "2020-02-01T00:00:00",
          "2020-03-01T00:00:00",
          "2020-04-01T00:00:00",
          "2020-05-01T00:00:00",
          "2020-06-01T00:00:00",
          "2020-07-01T00:00:00",
          "2020-08-01T00:00:00",
          "2020-09-01T00:00:00",
          "2020-10-01T00:00:00",
          "2020-11-01T00:00:00",
          "2020-12-01T00:00:00",
          "2021-01-01T00:00:00",
          "2021-02-01T00:00:00",
          "2021-03-01T00:00:00",
          "2021-04-01T00:00:00",
          "2021-05-01T00:00:00",
          "2021-06-01T00:00:00",
          "2021-07-01T00:00:00",
          "2021-08-01T00:00:00",
          "2021-09-01T00:00:00",
          "2021-10-01T00:00:00",
          "2021-11-01T00:00:00",
          "2021-12-01T00:00:00",
          "2022-01-01T00:00:00",
          "2022-02-01T00:00:00",
          "2022-03-01T00:00:00",
          "2022-04-01T00:00:00",
          "2022-05-01T00:00:00",
          "2022-06-01T00:00:00",
          "2022-07-01T00:00:00",
          "2022-08-01T00:00:00",
          "2022-09-01T00:00:00",
          "2022-10-01T00:00:00",
          "2022-11-01T00:00:00",
          "2022-12-01T00:00:00",
          "2023-01-01T00:00:00"
         ],
         "xaxis": "x2",
         "y": [
          5244.378,
          5308.989,
          6457.708,
          8473.224,
          7811.139,
          6991.204,
          5531.001,
          6309.139,
          5630.977,
          3993.146,
          6475.793,
          4078.593,
          6487.639,
          7442.772,
          5511.504,
          7716.616,
          7452.055,
          6515.093,
          6373.907,
          5972.353,
          5575.405,
          4202.904,
          5578.329,
          6034.29,
          7225.521,
          6972.373,
          6431.631,
          6949.883,
          4542.239,
          3587.938,
          3814.451,
          2644.65,
          4696.97,
          6197.034,
          4967.644,
          5280.331,
          5711.921,
          5563.934,
          4245.545,
          7133.223,
          7541.151,
          8062.97,
          8102.135,
          6429.534,
          5344.07,
          2822.222,
          2583.4,
          3112.343,
          4169.724,
          3035.9,
          2702.519,
          3704.602,
          2749.701,
          2265.09,
          1909.311,
          2150.238,
          3839.128,
          3733.151,
          3738.515,
          5345.374
         ],
         "yaxis": "y2"
        },
        {
         "name": "Produits pétroliers raffinés",
         "type": "scatter",
         "x": [
          "2018-02-01T00:00:00",
          "2018-03-01T00:00:00",
          "2018-04-01T00:00:00",
          "2018-05-01T00:00:00",
          "2018-06-01T00:00:00",
          "2018-07-01T00:00:00",
          "2018-08-01T00:00:00",
          "2018-09-01T00:00:00",
          "2018-10-01T00:00:00",
          "2018-11-01T00:00:00",
          "2018-12-01T00:00:00",
          "2019-01-01T00:00:00",
          "2019-02-01T00:00:00",
          "2019-03-01T00:00:00",
          "2019-04-01T00:00:00",
          "2019-05-01T00:00:00",
          "2019-06-01T00:00:00",
          "2019-07-01T00:00:00",
          "2019-08-01T00:00:00",
          "2019-09-01T00:00:00",
          "2019-10-01T00:00:00",
          "2019-11-01T00:00:00",
          "2019-12-01T00:00:00",
          "2020-01-01T00:00:00",
          "2020-02-01T00:00:00",
          "2020-03-01T00:00:00",
          "2020-04-01T00:00:00",
          "2020-05-01T00:00:00",
          "2020-06-01T00:00:00",
          "2020-07-01T00:00:00",
          "2020-08-01T00:00:00",
          "2020-09-01T00:00:00",
          "2020-10-01T00:00:00",
          "2020-11-01T00:00:00",
          "2020-12-01T00:00:00",
          "2021-01-01T00:00:00",
          "2021-02-01T00:00:00",
          "2021-03-01T00:00:00",
          "2021-04-01T00:00:00",
          "2021-05-01T00:00:00",
          "2021-06-01T00:00:00",
          "2021-07-01T00:00:00",
          "2021-08-01T00:00:00",
          "2021-09-01T00:00:00",
          "2021-10-01T00:00:00",
          "2021-11-01T00:00:00",
          "2021-12-01T00:00:00",
          "2022-01-01T00:00:00",
          "2022-02-01T00:00:00",
          "2022-03-01T00:00:00",
          "2022-04-01T00:00:00",
          "2022-05-01T00:00:00",
          "2022-06-01T00:00:00",
          "2022-07-01T00:00:00",
          "2022-08-01T00:00:00",
          "2022-09-01T00:00:00",
          "2022-10-01T00:00:00",
          "2022-11-01T00:00:00",
          "2022-12-01T00:00:00",
          "2023-01-01T00:00:00"
         ],
         "xaxis": "x3",
         "y": [
          1569.86,
          1592.908,
          1442.129,
          1345.888,
          1274.092,
          1758.306,
          1642.425,
          1436.622,
          1776.305,
          1377.487,
          1971.129,
          1354.753,
          1674.973,
          1525.951,
          1416.727,
          1248.931,
          1107.644,
          1345.999,
          1238.686,
          1574.853,
          1092.076,
          1231.047,
          1200.482,
          989.815,
          1043.878,
          1031.831,
          925.137,
          655.25,
          879.69,
          1074.099,
          866.515,
          975.147,
          984.68,
          1327.022,
          1076.737,
          751.047,
          867.806,
          1068.678,
          989.701,
          773.563,
          776.163,
          929.853,
          1221.81,
          755.984,
          1051.952,
          1156.099,
          1242.905,
          941.521,
          828.81,
          1152.089,
          1031.453,
          1105.694,
          1180.397,
          1139.786,
          1118.498,
          1111.787,
          821.952,
          848.493,
          1511.76,
          1056.361
         ],
         "yaxis": "y3"
        },
        {
         "name": "Combustibles minéraux solides",
         "type": "scatter",
         "x": [
          "2018-02-01T00:00:00",
          "2018-03-01T00:00:00",
          "2018-04-01T00:00:00",
          "2018-05-01T00:00:00",
          "2018-06-01T00:00:00",
          "2018-07-01T00:00:00",
          "2018-08-01T00:00:00",
          "2018-09-01T00:00:00",
          "2018-10-01T00:00:00",
          "2018-11-01T00:00:00",
          "2018-12-01T00:00:00",
          "2019-01-01T00:00:00",
          "2019-02-01T00:00:00",
          "2019-03-01T00:00:00",
          "2019-04-01T00:00:00",
          "2019-05-01T00:00:00",
          "2019-06-01T00:00:00",
          "2019-07-01T00:00:00",
          "2019-08-01T00:00:00",
          "2019-09-01T00:00:00",
          "2019-10-01T00:00:00",
          "2019-11-01T00:00:00",
          "2019-12-01T00:00:00",
          "2020-01-01T00:00:00",
          "2020-02-01T00:00:00",
          "2020-03-01T00:00:00",
          "2020-04-01T00:00:00",
          "2020-05-01T00:00:00",
          "2020-06-01T00:00:00",
          "2020-07-01T00:00:00",
          "2020-08-01T00:00:00",
          "2020-09-01T00:00:00",
          "2020-10-01T00:00:00",
          "2020-11-01T00:00:00",
          "2020-12-01T00:00:00",
          "2021-01-01T00:00:00",
          "2021-02-01T00:00:00",
          "2021-03-01T00:00:00",
          "2021-04-01T00:00:00",
          "2021-05-01T00:00:00",
          "2021-06-01T00:00:00",
          "2021-07-01T00:00:00",
          "2021-08-01T00:00:00",
          "2021-09-01T00:00:00",
          "2021-10-01T00:00:00",
          "2021-11-01T00:00:00",
          "2021-12-01T00:00:00",
          "2022-01-01T00:00:00",
          "2022-02-01T00:00:00",
          "2022-03-01T00:00:00",
          "2022-04-01T00:00:00",
          "2022-05-01T00:00:00",
          "2022-06-01T00:00:00",
          "2022-07-01T00:00:00",
          "2022-08-01T00:00:00",
          "2022-09-01T00:00:00",
          "2022-10-01T00:00:00",
          "2022-11-01T00:00:00",
          "2022-12-01T00:00:00",
          "2023-01-01T00:00:00"
         ],
         "xaxis": "x3",
         "y": [
          14.035,
          16.51,
          10.359,
          12.856,
          13.587,
          12.856,
          14.74,
          36.308,
          158.685,
          189.745,
          3.476,
          6.08,
          11.669,
          9.241,
          7.965,
          19.855,
          13.346,
          142.483,
          446.588,
          287.261,
          288.571,
          11.314,
          12.524,
          48.23,
          60.456,
          5.424,
          440.871,
          3.046,
          127.772,
          40.476,
          136.951,
          43.266,
          99.298,
          90.537,
          625.14,
          8.074,
          293.579,
          786.859,
          322.929,
          42.434,
          88.15,
          57.927,
          6.473,
          432.412,
          153.583,
          9.913,
          1510.103,
          723.906,
          138.427,
          223.047,
          8.169,
          26.523,
          11.126,
          28.627,
          11.033,
          27.9,
          89.443,
          6.867,
          12.593,
          381.392
         ],
         "yaxis": "y3"
        }
       ],
       "layout": {
        "annotations": [
         {
          "showarrow": false,
          "text": "Crise liée au COVID-19",
          "x": "2020-03-11",
          "xanchor": "left",
          "xref": "x",
          "y": 1,
          "yanchor": "top",
          "yref": "y domain"
         },
         {
          "showarrow": false,
          "text": "Crise liée au COVID-19",
          "x": "2020-03-11",
          "xanchor": "left",
          "xref": "x2",
          "y": 1,
          "yanchor": "top",
          "yref": "y2 domain"
         },
         {
          "showarrow": false,
          "text": "Crise liée au COVID-19",
          "x": "2020-03-11",
          "xanchor": "left",
          "xref": "x3",
          "y": 1,
          "yanchor": "top",
          "yref": "y3 domain"
         },
         {
          "showarrow": false,
          "text": "Guerre en Ukraine",
          "x": "2022-02-24",
          "xanchor": "left",
          "xref": "x",
          "y": 1,
          "yanchor": "top",
          "yref": "y domain"
         },
         {
          "showarrow": false,
          "text": "Guerre en Ukraine",
          "x": "2022-02-24",
          "xanchor": "left",
          "xref": "x2",
          "y": 1,
          "yanchor": "top",
          "yref": "y2 domain"
         },
         {
          "showarrow": false,
          "text": "Guerre en Ukraine",
          "x": "2022-02-24",
          "xanchor": "left",
          "xref": "x3",
          "y": 1,
          "yanchor": "top",
          "yref": "y3 domain"
         }
        ],
        "height": 600,
        "legend": {
         "font": {
          "size": 24
         },
         "title": {
          "text": "Légende :"
         }
        },
        "shapes": [
         {
          "fillcolor": "red",
          "line": {
           "width": 0
          },
          "opacity": 0.1,
          "type": "rect",
          "x0": "2020-03-11",
          "x1": "2022-02-24",
          "xref": "x",
          "y0": 0,
          "y1": 1,
          "yref": "y domain"
         },
         {
          "fillcolor": "red",
          "line": {
           "width": 0
          },
          "opacity": 0.1,
          "type": "rect",
          "x0": "2020-03-11",
          "x1": "2022-02-24",
          "xref": "x2",
          "y0": 0,
          "y1": 1,
          "yref": "y2 domain"
         },
         {
          "fillcolor": "red",
          "line": {
           "width": 0
          },
          "opacity": 0.1,
          "type": "rect",
          "x0": "2020-03-11",
          "x1": "2022-02-24",
          "xref": "x3",
          "y0": 0,
          "y1": 1,
          "yref": "y3 domain"
         },
         {
          "fillcolor": "blue",
          "line": {
           "width": 0
          },
          "opacity": 0.1,
          "type": "rect",
          "x0": "2022-02-24",
          "x1": "2023-04-01",
          "xref": "x",
          "y0": 0,
          "y1": 1,
          "yref": "y domain"
         },
         {
          "fillcolor": "blue",
          "line": {
           "width": 0
          },
          "opacity": 0.1,
          "type": "rect",
          "x0": "2022-02-24",
          "x1": "2023-04-01",
          "xref": "x2",
          "y0": 0,
          "y1": 1,
          "yref": "y2 domain"
         },
         {
          "fillcolor": "blue",
          "line": {
           "width": 0
          },
          "opacity": 0.1,
          "type": "rect",
          "x0": "2022-02-24",
          "x1": "2023-04-01",
          "xref": "x3",
          "y0": 0,
          "y1": 1,
          "yref": "y3 domain"
         }
        ],
        "template": {
         "data": {
          "bar": [
           {
            "error_x": {
             "color": "rgb(36,36,36)"
            },
            "error_y": {
             "color": "rgb(36,36,36)"
            },
            "marker": {
             "line": {
              "color": "white",
              "width": 0.5
             },
             "pattern": {
              "fillmode": "overlay",
              "size": 10,
              "solidity": 0.2
             }
            },
            "type": "bar"
           }
          ],
          "barpolar": [
           {
            "marker": {
             "line": {
              "color": "white",
              "width": 0.5
             },
             "pattern": {
              "fillmode": "overlay",
              "size": 10,
              "solidity": 0.2
             }
            },
            "type": "barpolar"
           }
          ],
          "carpet": [
           {
            "aaxis": {
             "endlinecolor": "rgb(36,36,36)",
             "gridcolor": "white",
             "linecolor": "white",
             "minorgridcolor": "white",
             "startlinecolor": "rgb(36,36,36)"
            },
            "baxis": {
             "endlinecolor": "rgb(36,36,36)",
             "gridcolor": "white",
             "linecolor": "white",
             "minorgridcolor": "white",
             "startlinecolor": "rgb(36,36,36)"
            },
            "type": "carpet"
           }
          ],
          "choropleth": [
           {
            "colorbar": {
             "outlinewidth": 1,
             "tickcolor": "rgb(36,36,36)",
             "ticks": "outside"
            },
            "type": "choropleth"
           }
          ],
          "contour": [
           {
            "colorbar": {
             "outlinewidth": 1,
             "tickcolor": "rgb(36,36,36)",
             "ticks": "outside"
            },
            "colorscale": [
             [
              0,
              "#440154"
             ],
             [
              0.1111111111111111,
              "#482878"
             ],
             [
              0.2222222222222222,
              "#3e4989"
             ],
             [
              0.3333333333333333,
              "#31688e"
             ],
             [
              0.4444444444444444,
              "#26828e"
             ],
             [
              0.5555555555555556,
              "#1f9e89"
             ],
             [
              0.6666666666666666,
              "#35b779"
             ],
             [
              0.7777777777777778,
              "#6ece58"
             ],
             [
              0.8888888888888888,
              "#b5de2b"
             ],
             [
              1,
              "#fde725"
             ]
            ],
            "type": "contour"
           }
          ],
          "contourcarpet": [
           {
            "colorbar": {
             "outlinewidth": 1,
             "tickcolor": "rgb(36,36,36)",
             "ticks": "outside"
            },
            "type": "contourcarpet"
           }
          ],
          "heatmap": [
           {
            "colorbar": {
             "outlinewidth": 1,
             "tickcolor": "rgb(36,36,36)",
             "ticks": "outside"
            },
            "colorscale": [
             [
              0,
              "#440154"
             ],
             [
              0.1111111111111111,
              "#482878"
             ],
             [
              0.2222222222222222,
              "#3e4989"
             ],
             [
              0.3333333333333333,
              "#31688e"
             ],
             [
              0.4444444444444444,
              "#26828e"
             ],
             [
              0.5555555555555556,
              "#1f9e89"
             ],
             [
              0.6666666666666666,
              "#35b779"
             ],
             [
              0.7777777777777778,
              "#6ece58"
             ],
             [
              0.8888888888888888,
              "#b5de2b"
             ],
             [
              1,
              "#fde725"
             ]
            ],
            "type": "heatmap"
           }
          ],
          "heatmapgl": [
           {
            "colorbar": {
             "outlinewidth": 1,
             "tickcolor": "rgb(36,36,36)",
             "ticks": "outside"
            },
            "colorscale": [
             [
              0,
              "#440154"
             ],
             [
              0.1111111111111111,
              "#482878"
             ],
             [
              0.2222222222222222,
              "#3e4989"
             ],
             [
              0.3333333333333333,
              "#31688e"
             ],
             [
              0.4444444444444444,
              "#26828e"
             ],
             [
              0.5555555555555556,
              "#1f9e89"
             ],
             [
              0.6666666666666666,
              "#35b779"
             ],
             [
              0.7777777777777778,
              "#6ece58"
             ],
             [
              0.8888888888888888,
              "#b5de2b"
             ],
             [
              1,
              "#fde725"
             ]
            ],
            "type": "heatmapgl"
           }
          ],
          "histogram": [
           {
            "marker": {
             "line": {
              "color": "white",
              "width": 0.6
             }
            },
            "type": "histogram"
           }
          ],
          "histogram2d": [
           {
            "colorbar": {
             "outlinewidth": 1,
             "tickcolor": "rgb(36,36,36)",
             "ticks": "outside"
            },
            "colorscale": [
             [
              0,
              "#440154"
             ],
             [
              0.1111111111111111,
              "#482878"
             ],
             [
              0.2222222222222222,
              "#3e4989"
             ],
             [
              0.3333333333333333,
              "#31688e"
             ],
             [
              0.4444444444444444,
              "#26828e"
             ],
             [
              0.5555555555555556,
              "#1f9e89"
             ],
             [
              0.6666666666666666,
              "#35b779"
             ],
             [
              0.7777777777777778,
              "#6ece58"
             ],
             [
              0.8888888888888888,
              "#b5de2b"
             ],
             [
              1,
              "#fde725"
             ]
            ],
            "type": "histogram2d"
           }
          ],
          "histogram2dcontour": [
           {
            "colorbar": {
             "outlinewidth": 1,
             "tickcolor": "rgb(36,36,36)",
             "ticks": "outside"
            },
            "colorscale": [
             [
              0,
              "#440154"
             ],
             [
              0.1111111111111111,
              "#482878"
             ],
             [
              0.2222222222222222,
              "#3e4989"
             ],
             [
              0.3333333333333333,
              "#31688e"
             ],
             [
              0.4444444444444444,
              "#26828e"
             ],
             [
              0.5555555555555556,
              "#1f9e89"
             ],
             [
              0.6666666666666666,
              "#35b779"
             ],
             [
              0.7777777777777778,
              "#6ece58"
             ],
             [
              0.8888888888888888,
              "#b5de2b"
             ],
             [
              1,
              "#fde725"
             ]
            ],
            "type": "histogram2dcontour"
           }
          ],
          "mesh3d": [
           {
            "colorbar": {
             "outlinewidth": 1,
             "tickcolor": "rgb(36,36,36)",
             "ticks": "outside"
            },
            "type": "mesh3d"
           }
          ],
          "parcoords": [
           {
            "line": {
             "colorbar": {
              "outlinewidth": 1,
              "tickcolor": "rgb(36,36,36)",
              "ticks": "outside"
             }
            },
            "type": "parcoords"
           }
          ],
          "pie": [
           {
            "automargin": true,
            "type": "pie"
           }
          ],
          "scatter": [
           {
            "marker": {
             "colorbar": {
              "outlinewidth": 1,
              "tickcolor": "rgb(36,36,36)",
              "ticks": "outside"
             }
            },
            "type": "scatter"
           }
          ],
          "scatter3d": [
           {
            "line": {
             "colorbar": {
              "outlinewidth": 1,
              "tickcolor": "rgb(36,36,36)",
              "ticks": "outside"
             }
            },
            "marker": {
             "colorbar": {
              "outlinewidth": 1,
              "tickcolor": "rgb(36,36,36)",
              "ticks": "outside"
             }
            },
            "type": "scatter3d"
           }
          ],
          "scattercarpet": [
           {
            "marker": {
             "colorbar": {
              "outlinewidth": 1,
              "tickcolor": "rgb(36,36,36)",
              "ticks": "outside"
             }
            },
            "type": "scattercarpet"
           }
          ],
          "scattergeo": [
           {
            "marker": {
             "colorbar": {
              "outlinewidth": 1,
              "tickcolor": "rgb(36,36,36)",
              "ticks": "outside"
             }
            },
            "type": "scattergeo"
           }
          ],
          "scattergl": [
           {
            "marker": {
             "colorbar": {
              "outlinewidth": 1,
              "tickcolor": "rgb(36,36,36)",
              "ticks": "outside"
             }
            },
            "type": "scattergl"
           }
          ],
          "scattermapbox": [
           {
            "marker": {
             "colorbar": {
              "outlinewidth": 1,
              "tickcolor": "rgb(36,36,36)",
              "ticks": "outside"
             }
            },
            "type": "scattermapbox"
           }
          ],
          "scatterpolar": [
           {
            "marker": {
             "colorbar": {
              "outlinewidth": 1,
              "tickcolor": "rgb(36,36,36)",
              "ticks": "outside"
             }
            },
            "type": "scatterpolar"
           }
          ],
          "scatterpolargl": [
           {
            "marker": {
             "colorbar": {
              "outlinewidth": 1,
              "tickcolor": "rgb(36,36,36)",
              "ticks": "outside"
             }
            },
            "type": "scatterpolargl"
           }
          ],
          "scatterternary": [
           {
            "marker": {
             "colorbar": {
              "outlinewidth": 1,
              "tickcolor": "rgb(36,36,36)",
              "ticks": "outside"
             }
            },
            "type": "scatterternary"
           }
          ],
          "surface": [
           {
            "colorbar": {
             "outlinewidth": 1,
             "tickcolor": "rgb(36,36,36)",
             "ticks": "outside"
            },
            "colorscale": [
             [
              0,
              "#440154"
             ],
             [
              0.1111111111111111,
              "#482878"
             ],
             [
              0.2222222222222222,
              "#3e4989"
             ],
             [
              0.3333333333333333,
              "#31688e"
             ],
             [
              0.4444444444444444,
              "#26828e"
             ],
             [
              0.5555555555555556,
              "#1f9e89"
             ],
             [
              0.6666666666666666,
              "#35b779"
             ],
             [
              0.7777777777777778,
              "#6ece58"
             ],
             [
              0.8888888888888888,
              "#b5de2b"
             ],
             [
              1,
              "#fde725"
             ]
            ],
            "type": "surface"
           }
          ],
          "table": [
           {
            "cells": {
             "fill": {
              "color": "rgb(237,237,237)"
             },
             "line": {
              "color": "white"
             }
            },
            "header": {
             "fill": {
              "color": "rgb(217,217,217)"
             },
             "line": {
              "color": "white"
             }
            },
            "type": "table"
           }
          ]
         },
         "layout": {
          "annotationdefaults": {
           "arrowhead": 0,
           "arrowwidth": 1
          },
          "autotypenumbers": "strict",
          "coloraxis": {
           "colorbar": {
            "outlinewidth": 1,
            "tickcolor": "rgb(36,36,36)",
            "ticks": "outside"
           }
          },
          "colorscale": {
           "diverging": [
            [
             0,
             "rgb(103,0,31)"
            ],
            [
             0.1,
             "rgb(178,24,43)"
            ],
            [
             0.2,
             "rgb(214,96,77)"
            ],
            [
             0.3,
             "rgb(244,165,130)"
            ],
            [
             0.4,
             "rgb(253,219,199)"
            ],
            [
             0.5,
             "rgb(247,247,247)"
            ],
            [
             0.6,
             "rgb(209,229,240)"
            ],
            [
             0.7,
             "rgb(146,197,222)"
            ],
            [
             0.8,
             "rgb(67,147,195)"
            ],
            [
             0.9,
             "rgb(33,102,172)"
            ],
            [
             1,
             "rgb(5,48,97)"
            ]
           ],
           "sequential": [
            [
             0,
             "#440154"
            ],
            [
             0.1111111111111111,
             "#482878"
            ],
            [
             0.2222222222222222,
             "#3e4989"
            ],
            [
             0.3333333333333333,
             "#31688e"
            ],
            [
             0.4444444444444444,
             "#26828e"
            ],
            [
             0.5555555555555556,
             "#1f9e89"
            ],
            [
             0.6666666666666666,
             "#35b779"
            ],
            [
             0.7777777777777778,
             "#6ece58"
            ],
            [
             0.8888888888888888,
             "#b5de2b"
            ],
            [
             1,
             "#fde725"
            ]
           ],
           "sequentialminus": [
            [
             0,
             "#440154"
            ],
            [
             0.1111111111111111,
             "#482878"
            ],
            [
             0.2222222222222222,
             "#3e4989"
            ],
            [
             0.3333333333333333,
             "#31688e"
            ],
            [
             0.4444444444444444,
             "#26828e"
            ],
            [
             0.5555555555555556,
             "#1f9e89"
            ],
            [
             0.6666666666666666,
             "#35b779"
            ],
            [
             0.7777777777777778,
             "#6ece58"
            ],
            [
             0.8888888888888888,
             "#b5de2b"
            ],
            [
             1,
             "#fde725"
            ]
           ]
          },
          "colorway": [
           "#1F77B4",
           "#FF7F0E",
           "#2CA02C",
           "#D62728",
           "#9467BD",
           "#8C564B",
           "#E377C2",
           "#7F7F7F",
           "#BCBD22",
           "#17BECF"
          ],
          "font": {
           "color": "rgb(36,36,36)"
          },
          "geo": {
           "bgcolor": "white",
           "lakecolor": "white",
           "landcolor": "white",
           "showlakes": true,
           "showland": true,
           "subunitcolor": "white"
          },
          "hoverlabel": {
           "align": "left"
          },
          "hovermode": "closest",
          "mapbox": {
           "style": "light"
          },
          "paper_bgcolor": "white",
          "plot_bgcolor": "white",
          "polar": {
           "angularaxis": {
            "gridcolor": "rgb(232,232,232)",
            "linecolor": "rgb(36,36,36)",
            "showgrid": false,
            "showline": true,
            "ticks": "outside"
           },
           "bgcolor": "white",
           "radialaxis": {
            "gridcolor": "rgb(232,232,232)",
            "linecolor": "rgb(36,36,36)",
            "showgrid": false,
            "showline": true,
            "ticks": "outside"
           }
          },
          "scene": {
           "xaxis": {
            "backgroundcolor": "white",
            "gridcolor": "rgb(232,232,232)",
            "gridwidth": 2,
            "linecolor": "rgb(36,36,36)",
            "showbackground": true,
            "showgrid": false,
            "showline": true,
            "ticks": "outside",
            "zeroline": false,
            "zerolinecolor": "rgb(36,36,36)"
           },
           "yaxis": {
            "backgroundcolor": "white",
            "gridcolor": "rgb(232,232,232)",
            "gridwidth": 2,
            "linecolor": "rgb(36,36,36)",
            "showbackground": true,
            "showgrid": false,
            "showline": true,
            "ticks": "outside",
            "zeroline": false,
            "zerolinecolor": "rgb(36,36,36)"
           },
           "zaxis": {
            "backgroundcolor": "white",
            "gridcolor": "rgb(232,232,232)",
            "gridwidth": 2,
            "linecolor": "rgb(36,36,36)",
            "showbackground": true,
            "showgrid": false,
            "showline": true,
            "ticks": "outside",
            "zeroline": false,
            "zerolinecolor": "rgb(36,36,36)"
           }
          },
          "shapedefaults": {
           "fillcolor": "black",
           "line": {
            "width": 0
           },
           "opacity": 0.3
          },
          "ternary": {
           "aaxis": {
            "gridcolor": "rgb(232,232,232)",
            "linecolor": "rgb(36,36,36)",
            "showgrid": false,
            "showline": true,
            "ticks": "outside"
           },
           "baxis": {
            "gridcolor": "rgb(232,232,232)",
            "linecolor": "rgb(36,36,36)",
            "showgrid": false,
            "showline": true,
            "ticks": "outside"
           },
           "bgcolor": "white",
           "caxis": {
            "gridcolor": "rgb(232,232,232)",
            "linecolor": "rgb(36,36,36)",
            "showgrid": false,
            "showline": true,
            "ticks": "outside"
           }
          },
          "title": {
           "x": 0.05
          },
          "xaxis": {
           "automargin": true,
           "gridcolor": "rgb(232,232,232)",
           "linecolor": "rgb(36,36,36)",
           "showgrid": false,
           "showline": true,
           "ticks": "outside",
           "title": {
            "standoff": 15
           },
           "zeroline": false,
           "zerolinecolor": "rgb(36,36,36)"
          },
          "yaxis": {
           "automargin": true,
           "gridcolor": "rgb(232,232,232)",
           "linecolor": "rgb(36,36,36)",
           "showgrid": false,
           "showline": true,
           "ticks": "outside",
           "title": {
            "standoff": 15
           },
           "zeroline": false,
           "zerolinecolor": "rgb(36,36,36)"
          }
         }
        },
        "title": {
         "font": {
          "size": 24
         },
         "text": "Exportations d'énergies de 2018 à 2023",
         "x": 0.5,
         "xanchor": "center",
         "y": 0.95,
         "yanchor": "top"
        },
        "width": 1000,
        "xaxis": {
         "anchor": "y",
         "domain": [
          0,
          1
         ],
         "matches": "x3",
         "showticklabels": false
        },
        "xaxis2": {
         "anchor": "y2",
         "domain": [
          0,
          1
         ],
         "matches": "x3",
         "showticklabels": false
        },
        "xaxis3": {
         "anchor": "y3",
         "domain": [
          0,
          1
         ]
        },
        "yaxis": {
         "anchor": "x",
         "domain": [
          0.7333333333333333,
          1
         ]
        },
        "yaxis2": {
         "anchor": "x2",
         "domain": [
          0.36666666666666664,
          0.6333333333333333
         ],
         "title": {
          "text": "Exportations d'énergies (en GWh)"
         }
        },
        "yaxis3": {
         "anchor": "x3",
         "domain": [
          0,
          0.26666666666666666
         ]
        }
       }
      }
     },
     "metadata": {},
     "output_type": "display_data"
    }
   ],
   "source": [
    "fig = make_subplots(rows=3, cols=1, shared_xaxes=True)\n",
    "\n",
    "fig.add_trace(go.Scatter(x=synth_ener.index, y=synth_ener['2.2 Exportations toutes énergies (en GWh)'], name='Toutes énergies'), row=1, col=1)\n",
    "fig.add_trace(go.Scatter(x=synth_ener.index, y=synth_ener['2.2.3 Exportations de gaz naturel (en GWh)'], name=' Gaz naturel'), row=2, col=1)\n",
    "fig.add_trace(go.Scatter(x=synth_ener.index, y=synth_ener[\"2.2.4 Exportations d'électricité (en GWh)\"], name=\"Electricité\"), row=2, col=1)\n",
    "fig.add_trace(go.Scatter(x=synth_ener.index, y=synth_ener[\"2.2.2 Exportations de produits pétroliers raffinés (en GWh)\"], name=\"Produits pétroliers raffinés\"), row=3, col=1)\n",
    "fig.add_trace(go.Scatter(x=synth_ener.index, y=synth_ener['2.2.1 Exportation de combustibles minéraux solides (en GWh)'], name='Combustibles minéraux solides'), row=3, col=1)\n",
    "\n",
    "fig.add_vrect(x0='2020-03-11', x1='2022-02-24', line_width=0, fillcolor=\"red\", opacity=0.1, annotation_text='Crise liée au COVID-19', annotation_position='inside top left')\n",
    "fig.add_vrect(x0='2022-02-24', x1='2023-04-01', line_width=0, fillcolor=\"blue\", opacity=0.1, annotation_text='Guerre en Ukraine', annotation_position='inside top left')\n",
    "   \n",
    "fig.update_yaxes(title_text=\"Exportations d'énergies (en GWh)\", row=2, col=1)\n",
    "fig.update_layout(title={\n",
    "        'text': \"Exportations d'énergies de 2018 à 2023\",\n",
    "        'y':0.95,\n",
    "        'x':0.5,\n",
    "        'xanchor': 'center',\n",
    "        'yanchor': 'top'},\n",
    "        legend_title_text = \"Légende :\", width=1000, height=600, template='simple_white',legend_font_size=24, title_font_size=24)\n",
    "\n",
    "fig.show()"
   ]
  },
  {
   "cell_type": "code",
   "execution_count": 32,
   "id": "8f3bff83",
   "metadata": {},
   "outputs": [
    {
     "data": {
      "application/vnd.plotly.v1+json": {
       "config": {
        "plotlyServerURL": "https://plot.ly"
       },
       "data": [
        {
         "name": "Pétrole brut",
         "type": "scatter",
         "x": [
          "2018-02-01T00:00:00",
          "2018-03-01T00:00:00",
          "2018-04-01T00:00:00",
          "2018-05-01T00:00:00",
          "2018-06-01T00:00:00",
          "2018-07-01T00:00:00",
          "2018-08-01T00:00:00",
          "2018-09-01T00:00:00",
          "2018-10-01T00:00:00",
          "2018-11-01T00:00:00",
          "2018-12-01T00:00:00",
          "2019-01-01T00:00:00",
          "2019-02-01T00:00:00",
          "2019-03-01T00:00:00",
          "2019-04-01T00:00:00",
          "2019-05-01T00:00:00",
          "2019-06-01T00:00:00",
          "2019-07-01T00:00:00",
          "2019-08-01T00:00:00",
          "2019-09-01T00:00:00",
          "2019-10-01T00:00:00",
          "2019-11-01T00:00:00",
          "2019-12-01T00:00:00",
          "2020-01-01T00:00:00",
          "2020-02-01T00:00:00",
          "2020-03-01T00:00:00",
          "2020-04-01T00:00:00",
          "2020-05-01T00:00:00",
          "2020-06-01T00:00:00",
          "2020-07-01T00:00:00",
          "2020-08-01T00:00:00",
          "2020-09-01T00:00:00",
          "2020-10-01T00:00:00",
          "2020-11-01T00:00:00",
          "2020-12-01T00:00:00",
          "2021-01-01T00:00:00",
          "2021-02-01T00:00:00",
          "2021-03-01T00:00:00",
          "2021-04-01T00:00:00",
          "2021-05-01T00:00:00",
          "2021-06-01T00:00:00",
          "2021-07-01T00:00:00",
          "2021-08-01T00:00:00",
          "2021-09-01T00:00:00",
          "2021-10-01T00:00:00",
          "2021-11-01T00:00:00",
          "2021-12-01T00:00:00",
          "2022-01-01T00:00:00",
          "2022-02-01T00:00:00",
          "2022-03-01T00:00:00",
          "2022-04-01T00:00:00",
          "2022-05-01T00:00:00",
          "2022-06-01T00:00:00",
          "2022-07-01T00:00:00",
          "2022-08-01T00:00:00",
          "2022-09-01T00:00:00",
          "2022-10-01T00:00:00",
          "2022-11-01T00:00:00",
          "2022-12-01T00:00:00",
          "2023-01-01T00:00:00"
         ],
         "y": [
          415.48,
          407.9,
          420.88,
          451.7,
          488.66,
          476.9,
          469.04,
          496.92,
          521.74,
          482.61,
          411.06,
          389.74,
          418.54,
          442.58,
          464.05,
          473.64,
          452.28,
          436.05,
          413.45,
          426.13,
          430.36,
          435.09,
          464.71,
          461.11,
          403.82,
          285.66,
          171.61,
          189.8,
          246.23,
          299.21,
          300.23,
          273.49,
          270.14,
          276.84,
          322.69,
          344.68,
          381.33,
          415.03,
          415.05,
          426.77,
          440.6,
          470.89,
          468.19,
          486.89,
          537.76,
          544.08,
          526.37,
          586.78,
          658.52,
          772.84,
          785.54,
          813.84,
          884.06,
          846.04,
          798.14,
          763.09,
          756.23,
          762.57,
          687.19,
          659.32
         ]
        },
        {
         "name": "charbon",
         "type": "scatter",
         "x": [
          "2018-02-01T00:00:00",
          "2018-03-01T00:00:00",
          "2018-04-01T00:00:00",
          "2018-05-01T00:00:00",
          "2018-06-01T00:00:00",
          "2018-07-01T00:00:00",
          "2018-08-01T00:00:00",
          "2018-09-01T00:00:00",
          "2018-10-01T00:00:00",
          "2018-11-01T00:00:00",
          "2018-12-01T00:00:00",
          "2019-01-01T00:00:00",
          "2019-02-01T00:00:00",
          "2019-03-01T00:00:00",
          "2019-04-01T00:00:00",
          "2019-05-01T00:00:00",
          "2019-06-01T00:00:00",
          "2019-07-01T00:00:00",
          "2019-08-01T00:00:00",
          "2019-09-01T00:00:00",
          "2019-10-01T00:00:00",
          "2019-11-01T00:00:00",
          "2019-12-01T00:00:00",
          "2020-01-01T00:00:00",
          "2020-02-01T00:00:00",
          "2020-03-01T00:00:00",
          "2020-04-01T00:00:00",
          "2020-05-01T00:00:00",
          "2020-06-01T00:00:00",
          "2020-07-01T00:00:00",
          "2020-08-01T00:00:00",
          "2020-09-01T00:00:00",
          "2020-10-01T00:00:00",
          "2020-11-01T00:00:00",
          "2020-12-01T00:00:00",
          "2021-01-01T00:00:00",
          "2021-02-01T00:00:00",
          "2021-03-01T00:00:00",
          "2021-04-01T00:00:00",
          "2021-05-01T00:00:00",
          "2021-06-01T00:00:00",
          "2021-07-01T00:00:00",
          "2021-08-01T00:00:00",
          "2021-09-01T00:00:00",
          "2021-10-01T00:00:00",
          "2021-11-01T00:00:00",
          "2021-12-01T00:00:00",
          "2022-01-01T00:00:00",
          "2022-02-01T00:00:00",
          "2022-03-01T00:00:00",
          "2022-04-01T00:00:00",
          "2022-05-01T00:00:00",
          "2022-06-01T00:00:00",
          "2022-07-01T00:00:00",
          "2022-08-01T00:00:00",
          "2022-09-01T00:00:00",
          "2022-10-01T00:00:00",
          "2022-11-01T00:00:00",
          "2022-12-01T00:00:00",
          "2023-01-01T00:00:00"
         ],
         "y": [
          131.65,
          153.41,
          173.71,
          122.16,
          152.66,
          125.72,
          128.88,
          137.4,
          122.78,
          127.48,
          134.86,
          140.67,
          171.84,
          159.1,
          164.05,
          155.86,
          141.18,
          139.41,
          149.41,
          155.94,
          139.38,
          126.3,
          126.67,
          115.63,
          137.33,
          117.27,
          127.09,
          138.76,
          101.37,
          110.36,
          91.16,
          90.3,
          87.07,
          92.29,
          111.96,
          109.61,
          144.51,
          122.35,
          127.55,
          115.22,
          132.69,
          132.42,
          143.39,
          157.43,
          205.5,
          223.18,
          194.78,
          297.66,
          271.85,
          311.72,
          395.58,
          400.38,
          448.45,
          408.34,
          392.78,
          384.25,
          336.41,
          343.59,
          329.69,
          341.06
         ]
        }
       ],
       "layout": {
        "annotations": [
         {
          "showarrow": false,
          "text": "Crise liée au COVID-19",
          "x": "2020-03-11",
          "xanchor": "left",
          "xref": "x",
          "y": 1,
          "yanchor": "top",
          "yref": "y domain"
         },
         {
          "showarrow": false,
          "text": "Guerre en Ukraine",
          "x": "2022-02-24",
          "xanchor": "left",
          "xref": "x",
          "y": 1,
          "yanchor": "top",
          "yref": "y domain"
         }
        ],
        "height": 400,
        "legend": {
         "title": {
          "text": "Légende :"
         }
        },
        "shapes": [
         {
          "fillcolor": "red",
          "line": {
           "width": 0
          },
          "opacity": 0.1,
          "type": "rect",
          "x0": "2020-03-11",
          "x1": "2022-02-24",
          "xref": "x",
          "y0": 0,
          "y1": 1,
          "yref": "y domain"
         },
         {
          "fillcolor": "blue",
          "line": {
           "width": 0
          },
          "opacity": 0.1,
          "type": "rect",
          "x0": "2022-02-24",
          "x1": "2022-12-31",
          "xref": "x",
          "y0": 0,
          "y1": 1,
          "yref": "y domain"
         }
        ],
        "template": {
         "data": {
          "bar": [
           {
            "error_x": {
             "color": "#2a3f5f"
            },
            "error_y": {
             "color": "#2a3f5f"
            },
            "marker": {
             "line": {
              "color": "white",
              "width": 0.5
             },
             "pattern": {
              "fillmode": "overlay",
              "size": 10,
              "solidity": 0.2
             }
            },
            "type": "bar"
           }
          ],
          "barpolar": [
           {
            "marker": {
             "line": {
              "color": "white",
              "width": 0.5
             },
             "pattern": {
              "fillmode": "overlay",
              "size": 10,
              "solidity": 0.2
             }
            },
            "type": "barpolar"
           }
          ],
          "carpet": [
           {
            "aaxis": {
             "endlinecolor": "#2a3f5f",
             "gridcolor": "#C8D4E3",
             "linecolor": "#C8D4E3",
             "minorgridcolor": "#C8D4E3",
             "startlinecolor": "#2a3f5f"
            },
            "baxis": {
             "endlinecolor": "#2a3f5f",
             "gridcolor": "#C8D4E3",
             "linecolor": "#C8D4E3",
             "minorgridcolor": "#C8D4E3",
             "startlinecolor": "#2a3f5f"
            },
            "type": "carpet"
           }
          ],
          "choropleth": [
           {
            "colorbar": {
             "outlinewidth": 0,
             "ticks": ""
            },
            "type": "choropleth"
           }
          ],
          "contour": [
           {
            "colorbar": {
             "outlinewidth": 0,
             "ticks": ""
            },
            "colorscale": [
             [
              0,
              "#0d0887"
             ],
             [
              0.1111111111111111,
              "#46039f"
             ],
             [
              0.2222222222222222,
              "#7201a8"
             ],
             [
              0.3333333333333333,
              "#9c179e"
             ],
             [
              0.4444444444444444,
              "#bd3786"
             ],
             [
              0.5555555555555556,
              "#d8576b"
             ],
             [
              0.6666666666666666,
              "#ed7953"
             ],
             [
              0.7777777777777778,
              "#fb9f3a"
             ],
             [
              0.8888888888888888,
              "#fdca26"
             ],
             [
              1,
              "#f0f921"
             ]
            ],
            "type": "contour"
           }
          ],
          "contourcarpet": [
           {
            "colorbar": {
             "outlinewidth": 0,
             "ticks": ""
            },
            "type": "contourcarpet"
           }
          ],
          "heatmap": [
           {
            "colorbar": {
             "outlinewidth": 0,
             "ticks": ""
            },
            "colorscale": [
             [
              0,
              "#0d0887"
             ],
             [
              0.1111111111111111,
              "#46039f"
             ],
             [
              0.2222222222222222,
              "#7201a8"
             ],
             [
              0.3333333333333333,
              "#9c179e"
             ],
             [
              0.4444444444444444,
              "#bd3786"
             ],
             [
              0.5555555555555556,
              "#d8576b"
             ],
             [
              0.6666666666666666,
              "#ed7953"
             ],
             [
              0.7777777777777778,
              "#fb9f3a"
             ],
             [
              0.8888888888888888,
              "#fdca26"
             ],
             [
              1,
              "#f0f921"
             ]
            ],
            "type": "heatmap"
           }
          ],
          "heatmapgl": [
           {
            "colorbar": {
             "outlinewidth": 0,
             "ticks": ""
            },
            "colorscale": [
             [
              0,
              "#0d0887"
             ],
             [
              0.1111111111111111,
              "#46039f"
             ],
             [
              0.2222222222222222,
              "#7201a8"
             ],
             [
              0.3333333333333333,
              "#9c179e"
             ],
             [
              0.4444444444444444,
              "#bd3786"
             ],
             [
              0.5555555555555556,
              "#d8576b"
             ],
             [
              0.6666666666666666,
              "#ed7953"
             ],
             [
              0.7777777777777778,
              "#fb9f3a"
             ],
             [
              0.8888888888888888,
              "#fdca26"
             ],
             [
              1,
              "#f0f921"
             ]
            ],
            "type": "heatmapgl"
           }
          ],
          "histogram": [
           {
            "marker": {
             "pattern": {
              "fillmode": "overlay",
              "size": 10,
              "solidity": 0.2
             }
            },
            "type": "histogram"
           }
          ],
          "histogram2d": [
           {
            "colorbar": {
             "outlinewidth": 0,
             "ticks": ""
            },
            "colorscale": [
             [
              0,
              "#0d0887"
             ],
             [
              0.1111111111111111,
              "#46039f"
             ],
             [
              0.2222222222222222,
              "#7201a8"
             ],
             [
              0.3333333333333333,
              "#9c179e"
             ],
             [
              0.4444444444444444,
              "#bd3786"
             ],
             [
              0.5555555555555556,
              "#d8576b"
             ],
             [
              0.6666666666666666,
              "#ed7953"
             ],
             [
              0.7777777777777778,
              "#fb9f3a"
             ],
             [
              0.8888888888888888,
              "#fdca26"
             ],
             [
              1,
              "#f0f921"
             ]
            ],
            "type": "histogram2d"
           }
          ],
          "histogram2dcontour": [
           {
            "colorbar": {
             "outlinewidth": 0,
             "ticks": ""
            },
            "colorscale": [
             [
              0,
              "#0d0887"
             ],
             [
              0.1111111111111111,
              "#46039f"
             ],
             [
              0.2222222222222222,
              "#7201a8"
             ],
             [
              0.3333333333333333,
              "#9c179e"
             ],
             [
              0.4444444444444444,
              "#bd3786"
             ],
             [
              0.5555555555555556,
              "#d8576b"
             ],
             [
              0.6666666666666666,
              "#ed7953"
             ],
             [
              0.7777777777777778,
              "#fb9f3a"
             ],
             [
              0.8888888888888888,
              "#fdca26"
             ],
             [
              1,
              "#f0f921"
             ]
            ],
            "type": "histogram2dcontour"
           }
          ],
          "mesh3d": [
           {
            "colorbar": {
             "outlinewidth": 0,
             "ticks": ""
            },
            "type": "mesh3d"
           }
          ],
          "parcoords": [
           {
            "line": {
             "colorbar": {
              "outlinewidth": 0,
              "ticks": ""
             }
            },
            "type": "parcoords"
           }
          ],
          "pie": [
           {
            "automargin": true,
            "type": "pie"
           }
          ],
          "scatter": [
           {
            "marker": {
             "colorbar": {
              "outlinewidth": 0,
              "ticks": ""
             }
            },
            "type": "scatter"
           }
          ],
          "scatter3d": [
           {
            "line": {
             "colorbar": {
              "outlinewidth": 0,
              "ticks": ""
             }
            },
            "marker": {
             "colorbar": {
              "outlinewidth": 0,
              "ticks": ""
             }
            },
            "type": "scatter3d"
           }
          ],
          "scattercarpet": [
           {
            "marker": {
             "colorbar": {
              "outlinewidth": 0,
              "ticks": ""
             }
            },
            "type": "scattercarpet"
           }
          ],
          "scattergeo": [
           {
            "marker": {
             "colorbar": {
              "outlinewidth": 0,
              "ticks": ""
             }
            },
            "type": "scattergeo"
           }
          ],
          "scattergl": [
           {
            "marker": {
             "colorbar": {
              "outlinewidth": 0,
              "ticks": ""
             }
            },
            "type": "scattergl"
           }
          ],
          "scattermapbox": [
           {
            "marker": {
             "colorbar": {
              "outlinewidth": 0,
              "ticks": ""
             }
            },
            "type": "scattermapbox"
           }
          ],
          "scatterpolar": [
           {
            "marker": {
             "colorbar": {
              "outlinewidth": 0,
              "ticks": ""
             }
            },
            "type": "scatterpolar"
           }
          ],
          "scatterpolargl": [
           {
            "marker": {
             "colorbar": {
              "outlinewidth": 0,
              "ticks": ""
             }
            },
            "type": "scatterpolargl"
           }
          ],
          "scatterternary": [
           {
            "marker": {
             "colorbar": {
              "outlinewidth": 0,
              "ticks": ""
             }
            },
            "type": "scatterternary"
           }
          ],
          "surface": [
           {
            "colorbar": {
             "outlinewidth": 0,
             "ticks": ""
            },
            "colorscale": [
             [
              0,
              "#0d0887"
             ],
             [
              0.1111111111111111,
              "#46039f"
             ],
             [
              0.2222222222222222,
              "#7201a8"
             ],
             [
              0.3333333333333333,
              "#9c179e"
             ],
             [
              0.4444444444444444,
              "#bd3786"
             ],
             [
              0.5555555555555556,
              "#d8576b"
             ],
             [
              0.6666666666666666,
              "#ed7953"
             ],
             [
              0.7777777777777778,
              "#fb9f3a"
             ],
             [
              0.8888888888888888,
              "#fdca26"
             ],
             [
              1,
              "#f0f921"
             ]
            ],
            "type": "surface"
           }
          ],
          "table": [
           {
            "cells": {
             "fill": {
              "color": "#EBF0F8"
             },
             "line": {
              "color": "white"
             }
            },
            "header": {
             "fill": {
              "color": "#C8D4E3"
             },
             "line": {
              "color": "white"
             }
            },
            "type": "table"
           }
          ]
         },
         "layout": {
          "annotationdefaults": {
           "arrowcolor": "#2a3f5f",
           "arrowhead": 0,
           "arrowwidth": 1
          },
          "autotypenumbers": "strict",
          "coloraxis": {
           "colorbar": {
            "outlinewidth": 0,
            "ticks": ""
           }
          },
          "colorscale": {
           "diverging": [
            [
             0,
             "#8e0152"
            ],
            [
             0.1,
             "#c51b7d"
            ],
            [
             0.2,
             "#de77ae"
            ],
            [
             0.3,
             "#f1b6da"
            ],
            [
             0.4,
             "#fde0ef"
            ],
            [
             0.5,
             "#f7f7f7"
            ],
            [
             0.6,
             "#e6f5d0"
            ],
            [
             0.7,
             "#b8e186"
            ],
            [
             0.8,
             "#7fbc41"
            ],
            [
             0.9,
             "#4d9221"
            ],
            [
             1,
             "#276419"
            ]
           ],
           "sequential": [
            [
             0,
             "#0d0887"
            ],
            [
             0.1111111111111111,
             "#46039f"
            ],
            [
             0.2222222222222222,
             "#7201a8"
            ],
            [
             0.3333333333333333,
             "#9c179e"
            ],
            [
             0.4444444444444444,
             "#bd3786"
            ],
            [
             0.5555555555555556,
             "#d8576b"
            ],
            [
             0.6666666666666666,
             "#ed7953"
            ],
            [
             0.7777777777777778,
             "#fb9f3a"
            ],
            [
             0.8888888888888888,
             "#fdca26"
            ],
            [
             1,
             "#f0f921"
            ]
           ],
           "sequentialminus": [
            [
             0,
             "#0d0887"
            ],
            [
             0.1111111111111111,
             "#46039f"
            ],
            [
             0.2222222222222222,
             "#7201a8"
            ],
            [
             0.3333333333333333,
             "#9c179e"
            ],
            [
             0.4444444444444444,
             "#bd3786"
            ],
            [
             0.5555555555555556,
             "#d8576b"
            ],
            [
             0.6666666666666666,
             "#ed7953"
            ],
            [
             0.7777777777777778,
             "#fb9f3a"
            ],
            [
             0.8888888888888888,
             "#fdca26"
            ],
            [
             1,
             "#f0f921"
            ]
           ]
          },
          "colorway": [
           "#636efa",
           "#EF553B",
           "#00cc96",
           "#ab63fa",
           "#FFA15A",
           "#19d3f3",
           "#FF6692",
           "#B6E880",
           "#FF97FF",
           "#FECB52"
          ],
          "font": {
           "color": "#2a3f5f"
          },
          "geo": {
           "bgcolor": "white",
           "lakecolor": "white",
           "landcolor": "white",
           "showlakes": true,
           "showland": true,
           "subunitcolor": "#C8D4E3"
          },
          "hoverlabel": {
           "align": "left"
          },
          "hovermode": "closest",
          "mapbox": {
           "style": "light"
          },
          "paper_bgcolor": "white",
          "plot_bgcolor": "white",
          "polar": {
           "angularaxis": {
            "gridcolor": "#EBF0F8",
            "linecolor": "#EBF0F8",
            "ticks": ""
           },
           "bgcolor": "white",
           "radialaxis": {
            "gridcolor": "#EBF0F8",
            "linecolor": "#EBF0F8",
            "ticks": ""
           }
          },
          "scene": {
           "xaxis": {
            "backgroundcolor": "white",
            "gridcolor": "#DFE8F3",
            "gridwidth": 2,
            "linecolor": "#EBF0F8",
            "showbackground": true,
            "ticks": "",
            "zerolinecolor": "#EBF0F8"
           },
           "yaxis": {
            "backgroundcolor": "white",
            "gridcolor": "#DFE8F3",
            "gridwidth": 2,
            "linecolor": "#EBF0F8",
            "showbackground": true,
            "ticks": "",
            "zerolinecolor": "#EBF0F8"
           },
           "zaxis": {
            "backgroundcolor": "white",
            "gridcolor": "#DFE8F3",
            "gridwidth": 2,
            "linecolor": "#EBF0F8",
            "showbackground": true,
            "ticks": "",
            "zerolinecolor": "#EBF0F8"
           }
          },
          "shapedefaults": {
           "line": {
            "color": "#2a3f5f"
           }
          },
          "ternary": {
           "aaxis": {
            "gridcolor": "#DFE8F3",
            "linecolor": "#A2B1C6",
            "ticks": ""
           },
           "baxis": {
            "gridcolor": "#DFE8F3",
            "linecolor": "#A2B1C6",
            "ticks": ""
           },
           "bgcolor": "white",
           "caxis": {
            "gridcolor": "#DFE8F3",
            "linecolor": "#A2B1C6",
            "ticks": ""
           }
          },
          "title": {
           "x": 0.05
          },
          "xaxis": {
           "automargin": true,
           "gridcolor": "#EBF0F8",
           "linecolor": "#EBF0F8",
           "ticks": "",
           "title": {
            "standoff": 15
           },
           "zerolinecolor": "#EBF0F8",
           "zerolinewidth": 2
          },
          "yaxis": {
           "automargin": true,
           "gridcolor": "#EBF0F8",
           "linecolor": "#EBF0F8",
           "ticks": "",
           "title": {
            "standoff": 15
           },
           "zerolinecolor": "#EBF0F8",
           "zerolinewidth": 2
          }
         }
        },
        "title": {
         "text": "Prix moyen du pétrole et du charbon de 2018 à 2023",
         "x": 0.5
        },
        "width": 800,
        "xaxis": {
         "linecolor": "#000000",
         "showgrid": false,
         "showline": true,
         "title": {
          "text": "Période en année"
         }
        },
        "yaxis": {
         "linecolor": "#000000",
         "range": [
          0,
          972.4659999999999
         ],
         "showgrid": false,
         "showline": true,
         "title": {
          "text": "Prix moyen (en €/t)"
         }
        }
       }
      }
     },
     "metadata": {},
     "output_type": "display_data"
    }
   ],
   "source": [
    "md.scatter_plot_2lines(df.index, df[\"Prix moyen du pétrole brut importé (en euro/t)\"], 'Pétrole brut', 'Période en année' , 'Prix moyen (en €/t)', 'Prix moyen du pétrole et du charbon de 2018 à 2023', df.index, df['Prix moyen du charbon importé (en euro/t)'], 'charbon' )"
   ]
  },
  {
   "cell_type": "code",
   "execution_count": 33,
   "id": "c6bd1e71",
   "metadata": {},
   "outputs": [
    {
     "data": {
      "application/vnd.plotly.v1+json": {
       "config": {
        "plotlyServerURL": "https://plot.ly"
       },
       "data": [
        {
         "name": "Electricité Epex spot France",
         "type": "scatter",
         "x": [
          "2018-02-01T00:00:00",
          "2018-03-01T00:00:00",
          "2018-04-01T00:00:00",
          "2018-05-01T00:00:00",
          "2018-06-01T00:00:00",
          "2018-07-01T00:00:00",
          "2018-08-01T00:00:00",
          "2018-09-01T00:00:00",
          "2018-10-01T00:00:00",
          "2018-11-01T00:00:00",
          "2018-12-01T00:00:00",
          "2019-01-01T00:00:00",
          "2019-02-01T00:00:00",
          "2019-03-01T00:00:00",
          "2019-04-01T00:00:00",
          "2019-05-01T00:00:00",
          "2019-06-01T00:00:00",
          "2019-07-01T00:00:00",
          "2019-08-01T00:00:00",
          "2019-09-01T00:00:00",
          "2019-10-01T00:00:00",
          "2019-11-01T00:00:00",
          "2019-12-01T00:00:00",
          "2020-01-01T00:00:00",
          "2020-02-01T00:00:00",
          "2020-03-01T00:00:00",
          "2020-04-01T00:00:00",
          "2020-05-01T00:00:00",
          "2020-06-01T00:00:00",
          "2020-07-01T00:00:00",
          "2020-08-01T00:00:00",
          "2020-09-01T00:00:00",
          "2020-10-01T00:00:00",
          "2020-11-01T00:00:00",
          "2020-12-01T00:00:00",
          "2021-01-01T00:00:00",
          "2021-02-01T00:00:00",
          "2021-03-01T00:00:00",
          "2021-04-01T00:00:00",
          "2021-05-01T00:00:00",
          "2021-06-01T00:00:00",
          "2021-07-01T00:00:00",
          "2021-08-01T00:00:00",
          "2021-09-01T00:00:00",
          "2021-10-01T00:00:00",
          "2021-11-01T00:00:00",
          "2021-12-01T00:00:00",
          "2022-01-01T00:00:00",
          "2022-02-01T00:00:00",
          "2022-03-01T00:00:00",
          "2022-04-01T00:00:00",
          "2022-05-01T00:00:00",
          "2022-06-01T00:00:00",
          "2022-07-01T00:00:00",
          "2022-08-01T00:00:00",
          "2022-09-01T00:00:00",
          "2022-10-01T00:00:00",
          "2022-11-01T00:00:00",
          "2022-12-01T00:00:00",
          "2023-01-01T00:00:00"
         ],
         "y": [
          48.7,
          48.26,
          33.6,
          34.42,
          42.32,
          51.41,
          58.4,
          61.97,
          65.65,
          67.81,
          54.9,
          61.15,
          46.62,
          33.85,
          38.08,
          37.21,
          29.26,
          37.66,
          33.39,
          35.54,
          38.61,
          45.94,
          36.46,
          38.01,
          26.25,
          23.81,
          13.45,
          14.86,
          25.79,
          33.41,
          36.75,
          47.2,
          38.11,
          40.11,
          48.42,
          59.48,
          49.01,
          50.18,
          63.1,
          55.28,
          73.51,
          78.37,
          77.3,
          134.43,
          172.57,
          217.06,
          274.67,
          211.42,
          185.55,
          295.09,
          233.1,
          197.43,
          248.4,
          400.87,
          492.49,
          394.7,
          178.97,
          243.43,
          270.89,
          132.1
         ]
        },
        {
         "name": "gaz",
         "type": "scatter",
         "x": [
          "2018-02-01T00:00:00",
          "2018-03-01T00:00:00",
          "2018-04-01T00:00:00",
          "2018-05-01T00:00:00",
          "2018-06-01T00:00:00",
          "2018-07-01T00:00:00",
          "2018-08-01T00:00:00",
          "2018-09-01T00:00:00",
          "2018-10-01T00:00:00",
          "2018-11-01T00:00:00",
          "2018-12-01T00:00:00",
          "2019-01-01T00:00:00",
          "2019-02-01T00:00:00",
          "2019-03-01T00:00:00",
          "2019-04-01T00:00:00",
          "2019-05-01T00:00:00",
          "2019-06-01T00:00:00",
          "2019-07-01T00:00:00",
          "2019-08-01T00:00:00",
          "2019-09-01T00:00:00",
          "2019-10-01T00:00:00",
          "2019-11-01T00:00:00",
          "2019-12-01T00:00:00",
          "2020-01-01T00:00:00",
          "2020-02-01T00:00:00",
          "2020-03-01T00:00:00",
          "2020-04-01T00:00:00",
          "2020-05-01T00:00:00",
          "2020-06-01T00:00:00",
          "2020-07-01T00:00:00",
          "2020-08-01T00:00:00",
          "2020-09-01T00:00:00",
          "2020-10-01T00:00:00",
          "2020-11-01T00:00:00",
          "2020-12-01T00:00:00",
          "2021-01-01T00:00:00",
          "2021-02-01T00:00:00",
          "2021-03-01T00:00:00",
          "2021-04-01T00:00:00",
          "2021-05-01T00:00:00",
          "2021-06-01T00:00:00",
          "2021-07-01T00:00:00",
          "2021-08-01T00:00:00",
          "2021-09-01T00:00:00",
          "2021-10-01T00:00:00",
          "2021-11-01T00:00:00",
          "2021-12-01T00:00:00",
          "2022-01-01T00:00:00",
          "2022-02-01T00:00:00",
          "2022-03-01T00:00:00",
          "2022-04-01T00:00:00",
          "2022-05-01T00:00:00",
          "2022-06-01T00:00:00",
          "2022-07-01T00:00:00",
          "2022-08-01T00:00:00",
          "2022-09-01T00:00:00",
          "2022-10-01T00:00:00",
          "2022-11-01T00:00:00",
          "2022-12-01T00:00:00",
          "2023-01-01T00:00:00"
         ],
         "y": [
          22.9,
          23.01,
          19.63,
          21.58,
          21.74,
          22.05,
          23.71,
          27.71,
          25.39,
          24.6,
          23.68,
          21.89,
          18.16,
          15.72,
          14.99,
          13.32,
          10.42,
          10.91,
          10.19,
          9.56,
          10.25,
          14.6,
          12.95,
          11.1,
          9.17,
          8.41,
          6.47,
          4.57,
          5.06,
          4.77,
          7.43,
          10.71,
          13.77,
          13.69,
          16.23,
          20.84,
          17.29,
          17.43,
          20.21,
          24.77,
          28.74,
          36.04,
          43.99,
          62.75,
          83.8,
          81.15,
          109.51,
          82.76,
          77.97,
          124.37,
          89.36,
          77.58,
          96.57,
          127.24,
          158.08,
          111.4,
          51.72,
          77.51,
          108.67,
          59.22
         ]
        }
       ],
       "layout": {
        "annotations": [
         {
          "showarrow": false,
          "text": "Crise liée au COVID-19",
          "x": "2020-03-11",
          "xanchor": "left",
          "xref": "x",
          "y": 1,
          "yanchor": "top",
          "yref": "y domain"
         },
         {
          "showarrow": false,
          "text": "Guerre en Ukraine",
          "x": "2022-02-24",
          "xanchor": "left",
          "xref": "x",
          "y": 1,
          "yanchor": "top",
          "yref": "y domain"
         }
        ],
        "height": 400,
        "legend": {
         "title": {
          "text": "Légende :"
         }
        },
        "shapes": [
         {
          "fillcolor": "red",
          "line": {
           "width": 0
          },
          "opacity": 0.1,
          "type": "rect",
          "x0": "2020-03-11",
          "x1": "2022-02-24",
          "xref": "x",
          "y0": 0,
          "y1": 1,
          "yref": "y domain"
         },
         {
          "fillcolor": "blue",
          "line": {
           "width": 0
          },
          "opacity": 0.1,
          "type": "rect",
          "x0": "2022-02-24",
          "x1": "2022-12-31",
          "xref": "x",
          "y0": 0,
          "y1": 1,
          "yref": "y domain"
         }
        ],
        "template": {
         "data": {
          "bar": [
           {
            "error_x": {
             "color": "#2a3f5f"
            },
            "error_y": {
             "color": "#2a3f5f"
            },
            "marker": {
             "line": {
              "color": "white",
              "width": 0.5
             },
             "pattern": {
              "fillmode": "overlay",
              "size": 10,
              "solidity": 0.2
             }
            },
            "type": "bar"
           }
          ],
          "barpolar": [
           {
            "marker": {
             "line": {
              "color": "white",
              "width": 0.5
             },
             "pattern": {
              "fillmode": "overlay",
              "size": 10,
              "solidity": 0.2
             }
            },
            "type": "barpolar"
           }
          ],
          "carpet": [
           {
            "aaxis": {
             "endlinecolor": "#2a3f5f",
             "gridcolor": "#C8D4E3",
             "linecolor": "#C8D4E3",
             "minorgridcolor": "#C8D4E3",
             "startlinecolor": "#2a3f5f"
            },
            "baxis": {
             "endlinecolor": "#2a3f5f",
             "gridcolor": "#C8D4E3",
             "linecolor": "#C8D4E3",
             "minorgridcolor": "#C8D4E3",
             "startlinecolor": "#2a3f5f"
            },
            "type": "carpet"
           }
          ],
          "choropleth": [
           {
            "colorbar": {
             "outlinewidth": 0,
             "ticks": ""
            },
            "type": "choropleth"
           }
          ],
          "contour": [
           {
            "colorbar": {
             "outlinewidth": 0,
             "ticks": ""
            },
            "colorscale": [
             [
              0,
              "#0d0887"
             ],
             [
              0.1111111111111111,
              "#46039f"
             ],
             [
              0.2222222222222222,
              "#7201a8"
             ],
             [
              0.3333333333333333,
              "#9c179e"
             ],
             [
              0.4444444444444444,
              "#bd3786"
             ],
             [
              0.5555555555555556,
              "#d8576b"
             ],
             [
              0.6666666666666666,
              "#ed7953"
             ],
             [
              0.7777777777777778,
              "#fb9f3a"
             ],
             [
              0.8888888888888888,
              "#fdca26"
             ],
             [
              1,
              "#f0f921"
             ]
            ],
            "type": "contour"
           }
          ],
          "contourcarpet": [
           {
            "colorbar": {
             "outlinewidth": 0,
             "ticks": ""
            },
            "type": "contourcarpet"
           }
          ],
          "heatmap": [
           {
            "colorbar": {
             "outlinewidth": 0,
             "ticks": ""
            },
            "colorscale": [
             [
              0,
              "#0d0887"
             ],
             [
              0.1111111111111111,
              "#46039f"
             ],
             [
              0.2222222222222222,
              "#7201a8"
             ],
             [
              0.3333333333333333,
              "#9c179e"
             ],
             [
              0.4444444444444444,
              "#bd3786"
             ],
             [
              0.5555555555555556,
              "#d8576b"
             ],
             [
              0.6666666666666666,
              "#ed7953"
             ],
             [
              0.7777777777777778,
              "#fb9f3a"
             ],
             [
              0.8888888888888888,
              "#fdca26"
             ],
             [
              1,
              "#f0f921"
             ]
            ],
            "type": "heatmap"
           }
          ],
          "heatmapgl": [
           {
            "colorbar": {
             "outlinewidth": 0,
             "ticks": ""
            },
            "colorscale": [
             [
              0,
              "#0d0887"
             ],
             [
              0.1111111111111111,
              "#46039f"
             ],
             [
              0.2222222222222222,
              "#7201a8"
             ],
             [
              0.3333333333333333,
              "#9c179e"
             ],
             [
              0.4444444444444444,
              "#bd3786"
             ],
             [
              0.5555555555555556,
              "#d8576b"
             ],
             [
              0.6666666666666666,
              "#ed7953"
             ],
             [
              0.7777777777777778,
              "#fb9f3a"
             ],
             [
              0.8888888888888888,
              "#fdca26"
             ],
             [
              1,
              "#f0f921"
             ]
            ],
            "type": "heatmapgl"
           }
          ],
          "histogram": [
           {
            "marker": {
             "pattern": {
              "fillmode": "overlay",
              "size": 10,
              "solidity": 0.2
             }
            },
            "type": "histogram"
           }
          ],
          "histogram2d": [
           {
            "colorbar": {
             "outlinewidth": 0,
             "ticks": ""
            },
            "colorscale": [
             [
              0,
              "#0d0887"
             ],
             [
              0.1111111111111111,
              "#46039f"
             ],
             [
              0.2222222222222222,
              "#7201a8"
             ],
             [
              0.3333333333333333,
              "#9c179e"
             ],
             [
              0.4444444444444444,
              "#bd3786"
             ],
             [
              0.5555555555555556,
              "#d8576b"
             ],
             [
              0.6666666666666666,
              "#ed7953"
             ],
             [
              0.7777777777777778,
              "#fb9f3a"
             ],
             [
              0.8888888888888888,
              "#fdca26"
             ],
             [
              1,
              "#f0f921"
             ]
            ],
            "type": "histogram2d"
           }
          ],
          "histogram2dcontour": [
           {
            "colorbar": {
             "outlinewidth": 0,
             "ticks": ""
            },
            "colorscale": [
             [
              0,
              "#0d0887"
             ],
             [
              0.1111111111111111,
              "#46039f"
             ],
             [
              0.2222222222222222,
              "#7201a8"
             ],
             [
              0.3333333333333333,
              "#9c179e"
             ],
             [
              0.4444444444444444,
              "#bd3786"
             ],
             [
              0.5555555555555556,
              "#d8576b"
             ],
             [
              0.6666666666666666,
              "#ed7953"
             ],
             [
              0.7777777777777778,
              "#fb9f3a"
             ],
             [
              0.8888888888888888,
              "#fdca26"
             ],
             [
              1,
              "#f0f921"
             ]
            ],
            "type": "histogram2dcontour"
           }
          ],
          "mesh3d": [
           {
            "colorbar": {
             "outlinewidth": 0,
             "ticks": ""
            },
            "type": "mesh3d"
           }
          ],
          "parcoords": [
           {
            "line": {
             "colorbar": {
              "outlinewidth": 0,
              "ticks": ""
             }
            },
            "type": "parcoords"
           }
          ],
          "pie": [
           {
            "automargin": true,
            "type": "pie"
           }
          ],
          "scatter": [
           {
            "marker": {
             "colorbar": {
              "outlinewidth": 0,
              "ticks": ""
             }
            },
            "type": "scatter"
           }
          ],
          "scatter3d": [
           {
            "line": {
             "colorbar": {
              "outlinewidth": 0,
              "ticks": ""
             }
            },
            "marker": {
             "colorbar": {
              "outlinewidth": 0,
              "ticks": ""
             }
            },
            "type": "scatter3d"
           }
          ],
          "scattercarpet": [
           {
            "marker": {
             "colorbar": {
              "outlinewidth": 0,
              "ticks": ""
             }
            },
            "type": "scattercarpet"
           }
          ],
          "scattergeo": [
           {
            "marker": {
             "colorbar": {
              "outlinewidth": 0,
              "ticks": ""
             }
            },
            "type": "scattergeo"
           }
          ],
          "scattergl": [
           {
            "marker": {
             "colorbar": {
              "outlinewidth": 0,
              "ticks": ""
             }
            },
            "type": "scattergl"
           }
          ],
          "scattermapbox": [
           {
            "marker": {
             "colorbar": {
              "outlinewidth": 0,
              "ticks": ""
             }
            },
            "type": "scattermapbox"
           }
          ],
          "scatterpolar": [
           {
            "marker": {
             "colorbar": {
              "outlinewidth": 0,
              "ticks": ""
             }
            },
            "type": "scatterpolar"
           }
          ],
          "scatterpolargl": [
           {
            "marker": {
             "colorbar": {
              "outlinewidth": 0,
              "ticks": ""
             }
            },
            "type": "scatterpolargl"
           }
          ],
          "scatterternary": [
           {
            "marker": {
             "colorbar": {
              "outlinewidth": 0,
              "ticks": ""
             }
            },
            "type": "scatterternary"
           }
          ],
          "surface": [
           {
            "colorbar": {
             "outlinewidth": 0,
             "ticks": ""
            },
            "colorscale": [
             [
              0,
              "#0d0887"
             ],
             [
              0.1111111111111111,
              "#46039f"
             ],
             [
              0.2222222222222222,
              "#7201a8"
             ],
             [
              0.3333333333333333,
              "#9c179e"
             ],
             [
              0.4444444444444444,
              "#bd3786"
             ],
             [
              0.5555555555555556,
              "#d8576b"
             ],
             [
              0.6666666666666666,
              "#ed7953"
             ],
             [
              0.7777777777777778,
              "#fb9f3a"
             ],
             [
              0.8888888888888888,
              "#fdca26"
             ],
             [
              1,
              "#f0f921"
             ]
            ],
            "type": "surface"
           }
          ],
          "table": [
           {
            "cells": {
             "fill": {
              "color": "#EBF0F8"
             },
             "line": {
              "color": "white"
             }
            },
            "header": {
             "fill": {
              "color": "#C8D4E3"
             },
             "line": {
              "color": "white"
             }
            },
            "type": "table"
           }
          ]
         },
         "layout": {
          "annotationdefaults": {
           "arrowcolor": "#2a3f5f",
           "arrowhead": 0,
           "arrowwidth": 1
          },
          "autotypenumbers": "strict",
          "coloraxis": {
           "colorbar": {
            "outlinewidth": 0,
            "ticks": ""
           }
          },
          "colorscale": {
           "diverging": [
            [
             0,
             "#8e0152"
            ],
            [
             0.1,
             "#c51b7d"
            ],
            [
             0.2,
             "#de77ae"
            ],
            [
             0.3,
             "#f1b6da"
            ],
            [
             0.4,
             "#fde0ef"
            ],
            [
             0.5,
             "#f7f7f7"
            ],
            [
             0.6,
             "#e6f5d0"
            ],
            [
             0.7,
             "#b8e186"
            ],
            [
             0.8,
             "#7fbc41"
            ],
            [
             0.9,
             "#4d9221"
            ],
            [
             1,
             "#276419"
            ]
           ],
           "sequential": [
            [
             0,
             "#0d0887"
            ],
            [
             0.1111111111111111,
             "#46039f"
            ],
            [
             0.2222222222222222,
             "#7201a8"
            ],
            [
             0.3333333333333333,
             "#9c179e"
            ],
            [
             0.4444444444444444,
             "#bd3786"
            ],
            [
             0.5555555555555556,
             "#d8576b"
            ],
            [
             0.6666666666666666,
             "#ed7953"
            ],
            [
             0.7777777777777778,
             "#fb9f3a"
            ],
            [
             0.8888888888888888,
             "#fdca26"
            ],
            [
             1,
             "#f0f921"
            ]
           ],
           "sequentialminus": [
            [
             0,
             "#0d0887"
            ],
            [
             0.1111111111111111,
             "#46039f"
            ],
            [
             0.2222222222222222,
             "#7201a8"
            ],
            [
             0.3333333333333333,
             "#9c179e"
            ],
            [
             0.4444444444444444,
             "#bd3786"
            ],
            [
             0.5555555555555556,
             "#d8576b"
            ],
            [
             0.6666666666666666,
             "#ed7953"
            ],
            [
             0.7777777777777778,
             "#fb9f3a"
            ],
            [
             0.8888888888888888,
             "#fdca26"
            ],
            [
             1,
             "#f0f921"
            ]
           ]
          },
          "colorway": [
           "#636efa",
           "#EF553B",
           "#00cc96",
           "#ab63fa",
           "#FFA15A",
           "#19d3f3",
           "#FF6692",
           "#B6E880",
           "#FF97FF",
           "#FECB52"
          ],
          "font": {
           "color": "#2a3f5f"
          },
          "geo": {
           "bgcolor": "white",
           "lakecolor": "white",
           "landcolor": "white",
           "showlakes": true,
           "showland": true,
           "subunitcolor": "#C8D4E3"
          },
          "hoverlabel": {
           "align": "left"
          },
          "hovermode": "closest",
          "mapbox": {
           "style": "light"
          },
          "paper_bgcolor": "white",
          "plot_bgcolor": "white",
          "polar": {
           "angularaxis": {
            "gridcolor": "#EBF0F8",
            "linecolor": "#EBF0F8",
            "ticks": ""
           },
           "bgcolor": "white",
           "radialaxis": {
            "gridcolor": "#EBF0F8",
            "linecolor": "#EBF0F8",
            "ticks": ""
           }
          },
          "scene": {
           "xaxis": {
            "backgroundcolor": "white",
            "gridcolor": "#DFE8F3",
            "gridwidth": 2,
            "linecolor": "#EBF0F8",
            "showbackground": true,
            "ticks": "",
            "zerolinecolor": "#EBF0F8"
           },
           "yaxis": {
            "backgroundcolor": "white",
            "gridcolor": "#DFE8F3",
            "gridwidth": 2,
            "linecolor": "#EBF0F8",
            "showbackground": true,
            "ticks": "",
            "zerolinecolor": "#EBF0F8"
           },
           "zaxis": {
            "backgroundcolor": "white",
            "gridcolor": "#DFE8F3",
            "gridwidth": 2,
            "linecolor": "#EBF0F8",
            "showbackground": true,
            "ticks": "",
            "zerolinecolor": "#EBF0F8"
           }
          },
          "shapedefaults": {
           "line": {
            "color": "#2a3f5f"
           }
          },
          "ternary": {
           "aaxis": {
            "gridcolor": "#DFE8F3",
            "linecolor": "#A2B1C6",
            "ticks": ""
           },
           "baxis": {
            "gridcolor": "#DFE8F3",
            "linecolor": "#A2B1C6",
            "ticks": ""
           },
           "bgcolor": "white",
           "caxis": {
            "gridcolor": "#DFE8F3",
            "linecolor": "#A2B1C6",
            "ticks": ""
           }
          },
          "title": {
           "x": 0.05
          },
          "xaxis": {
           "automargin": true,
           "gridcolor": "#EBF0F8",
           "linecolor": "#EBF0F8",
           "ticks": "",
           "title": {
            "standoff": 15
           },
           "zerolinecolor": "#EBF0F8",
           "zerolinewidth": 2
          },
          "yaxis": {
           "automargin": true,
           "gridcolor": "#EBF0F8",
           "linecolor": "#EBF0F8",
           "ticks": "",
           "title": {
            "standoff": 15
           },
           "zerolinecolor": "#EBF0F8",
           "zerolinewidth": 2
          }
         }
        },
        "title": {
         "text": "Prix moyen de l'électricité et du gaz de 2018 à 2023",
         "x": 0.5
        },
        "width": 800,
        "xaxis": {
         "linecolor": "#000000",
         "showgrid": false,
         "showline": true,
         "title": {
          "text": "Période en année"
         }
        },
        "yaxis": {
         "linecolor": "#000000",
         "range": [
          0,
          541.739
         ],
         "showgrid": false,
         "showline": true,
         "title": {
          "text": "Prix moyen (en €/MWh)"
         }
        }
       }
      }
     },
     "metadata": {},
     "output_type": "display_data"
    }
   ],
   "source": [
    "md.scatter_plot_2lines(prix.index, prix[\"Prix baseload mensuel moyen de l'électricité Epex spot France (en €/MWh)\"], 'Electricité Epex spot France', 'Période en année' , 'Prix moyen (en €/MWh)', \"Prix moyen de l'électricité et du gaz de 2018 à 2023\", prix.index, prix[\"Prix spot du gaz PEG (point échange gaz) en France (en €/MWh)\"], 'gaz' )"
   ]
  },
  {
   "cell_type": "code",
   "execution_count": 34,
   "id": "3e3271ee",
   "metadata": {},
   "outputs": [
    {
     "data": {
      "application/vnd.plotly.v1+json": {
       "config": {
        "plotlyServerURL": "https://plot.ly"
       },
       "data": [
        {
         "name": "Toutes énergies",
         "type": "scatter",
         "x": [
          "2018-02-01T00:00:00",
          "2018-03-01T00:00:00",
          "2018-04-01T00:00:00",
          "2018-05-01T00:00:00",
          "2018-06-01T00:00:00",
          "2018-07-01T00:00:00",
          "2018-08-01T00:00:00",
          "2018-09-01T00:00:00",
          "2018-10-01T00:00:00",
          "2018-11-01T00:00:00",
          "2018-12-01T00:00:00",
          "2019-01-01T00:00:00",
          "2019-02-01T00:00:00",
          "2019-03-01T00:00:00",
          "2019-04-01T00:00:00",
          "2019-05-01T00:00:00",
          "2019-06-01T00:00:00",
          "2019-07-01T00:00:00",
          "2019-08-01T00:00:00",
          "2019-09-01T00:00:00",
          "2019-10-01T00:00:00",
          "2019-11-01T00:00:00",
          "2019-12-01T00:00:00",
          "2020-01-01T00:00:00",
          "2020-02-01T00:00:00",
          "2020-03-01T00:00:00",
          "2020-04-01T00:00:00",
          "2020-05-01T00:00:00",
          "2020-06-01T00:00:00",
          "2020-07-01T00:00:00",
          "2020-08-01T00:00:00",
          "2020-09-01T00:00:00",
          "2020-10-01T00:00:00",
          "2020-11-01T00:00:00",
          "2020-12-01T00:00:00",
          "2021-01-01T00:00:00",
          "2021-02-01T00:00:00",
          "2021-03-01T00:00:00",
          "2021-04-01T00:00:00",
          "2021-05-01T00:00:00",
          "2021-06-01T00:00:00",
          "2021-07-01T00:00:00",
          "2021-08-01T00:00:00",
          "2021-09-01T00:00:00",
          "2021-10-01T00:00:00",
          "2021-11-01T00:00:00",
          "2021-12-01T00:00:00",
          "2022-01-01T00:00:00",
          "2022-02-01T00:00:00",
          "2022-03-01T00:00:00",
          "2022-04-01T00:00:00",
          "2022-05-01T00:00:00",
          "2022-06-01T00:00:00",
          "2022-07-01T00:00:00",
          "2022-08-01T00:00:00",
          "2022-09-01T00:00:00",
          "2022-10-01T00:00:00",
          "2022-11-01T00:00:00",
          "2022-12-01T00:00:00",
          "2023-01-01T00:00:00"
         ],
         "xaxis": "x",
         "y": [
          228881.666,
          234928.903,
          231239.507,
          231672.494,
          230455.884,
          229877.728,
          225690.194,
          231405.544,
          234235.48,
          229810.868,
          230343.665,
          228122.69,
          227508.448,
          228109.062,
          230372.549,
          232268.769,
          233257.624,
          228265.978,
          224697.601,
          224112.035,
          222749.478,
          219125.883,
          214341.34,
          221483.625,
          218616.44,
          197954.846,
          182163.671,
          195777.514,
          196534.136,
          198842.451,
          200296.296,
          200436.979,
          213857.699,
          205368.241,
          207184.627,
          212242.876,
          205770.481,
          208059.39,
          199838.293,
          211240.293,
          216448.73,
          217195.585,
          219093.721,
          220656.086,
          224729.081,
          214695.298,
          207039.614,
          205568.82,
          207450.31,
          201690.53,
          194102.15,
          194649.207,
          198767.698,
          194426.36,
          193881.029,
          193882.507,
          190869.331,
          184376.461,
          183834.882,
          186306.544
         ],
         "yaxis": "y"
        },
        {
         "name": "Electricité",
         "type": "scatter",
         "x": [
          "2018-02-01T00:00:00",
          "2018-03-01T00:00:00",
          "2018-04-01T00:00:00",
          "2018-05-01T00:00:00",
          "2018-06-01T00:00:00",
          "2018-07-01T00:00:00",
          "2018-08-01T00:00:00",
          "2018-09-01T00:00:00",
          "2018-10-01T00:00:00",
          "2018-11-01T00:00:00",
          "2018-12-01T00:00:00",
          "2019-01-01T00:00:00",
          "2019-02-01T00:00:00",
          "2019-03-01T00:00:00",
          "2019-04-01T00:00:00",
          "2019-05-01T00:00:00",
          "2019-06-01T00:00:00",
          "2019-07-01T00:00:00",
          "2019-08-01T00:00:00",
          "2019-09-01T00:00:00",
          "2019-10-01T00:00:00",
          "2019-11-01T00:00:00",
          "2019-12-01T00:00:00",
          "2020-01-01T00:00:00",
          "2020-02-01T00:00:00",
          "2020-03-01T00:00:00",
          "2020-04-01T00:00:00",
          "2020-05-01T00:00:00",
          "2020-06-01T00:00:00",
          "2020-07-01T00:00:00",
          "2020-08-01T00:00:00",
          "2020-09-01T00:00:00",
          "2020-10-01T00:00:00",
          "2020-11-01T00:00:00",
          "2020-12-01T00:00:00",
          "2021-01-01T00:00:00",
          "2021-02-01T00:00:00",
          "2021-03-01T00:00:00",
          "2021-04-01T00:00:00",
          "2021-05-01T00:00:00",
          "2021-06-01T00:00:00",
          "2021-07-01T00:00:00",
          "2021-08-01T00:00:00",
          "2021-09-01T00:00:00",
          "2021-10-01T00:00:00",
          "2021-11-01T00:00:00",
          "2021-12-01T00:00:00",
          "2022-01-01T00:00:00",
          "2022-02-01T00:00:00",
          "2022-03-01T00:00:00",
          "2022-04-01T00:00:00",
          "2022-05-01T00:00:00",
          "2022-06-01T00:00:00",
          "2022-07-01T00:00:00",
          "2022-08-01T00:00:00",
          "2022-09-01T00:00:00",
          "2022-10-01T00:00:00",
          "2022-11-01T00:00:00",
          "2022-12-01T00:00:00",
          "2023-01-01T00:00:00"
         ],
         "xaxis": "x2",
         "y": [
          109862.913,
          109193.488,
          108258.807,
          108257.69,
          108560.381,
          108925.333,
          103512.866,
          111327.521,
          109242.445,
          107839.162,
          109622.68,
          105248.855,
          108326.161,
          108818.524,
          108696.902,
          110551.237,
          108463.651,
          106924.716,
          103915.667,
          104101.682,
          104801.701,
          100286.058,
          97012.296,
          98530.064,
          99344.463,
          95585.481,
          95582.625,
          92673.803,
          90322.623,
          91264.951,
          93118.325,
          91256.336,
          103135.12,
          104250.715,
          98264.174,
          99507.464,
          96101.75,
          98582.709,
          96709.219,
          102540.671,
          105415.38,
          105252.157,
          107392.948,
          107428.968,
          107137.329,
          100693.67,
          92799.378,
          94083.069,
          94523.378,
          88498.499,
          86245.058,
          82944.854,
          88485.706,
          83298.665,
          82248.605,
          82279.82,
          84578.959,
          80202.975,
          80955.51,
          82718.874
         ],
         "yaxis": "y2"
        },
        {
         "name": "Pétrole",
         "type": "scatter",
         "x": [
          "2018-02-01T00:00:00",
          "2018-03-01T00:00:00",
          "2018-04-01T00:00:00",
          "2018-05-01T00:00:00",
          "2018-06-01T00:00:00",
          "2018-07-01T00:00:00",
          "2018-08-01T00:00:00",
          "2018-09-01T00:00:00",
          "2018-10-01T00:00:00",
          "2018-11-01T00:00:00",
          "2018-12-01T00:00:00",
          "2019-01-01T00:00:00",
          "2019-02-01T00:00:00",
          "2019-03-01T00:00:00",
          "2019-04-01T00:00:00",
          "2019-05-01T00:00:00",
          "2019-06-01T00:00:00",
          "2019-07-01T00:00:00",
          "2019-08-01T00:00:00",
          "2019-09-01T00:00:00",
          "2019-10-01T00:00:00",
          "2019-11-01T00:00:00",
          "2019-12-01T00:00:00",
          "2020-01-01T00:00:00",
          "2020-02-01T00:00:00",
          "2020-03-01T00:00:00",
          "2020-04-01T00:00:00",
          "2020-05-01T00:00:00",
          "2020-06-01T00:00:00",
          "2020-07-01T00:00:00",
          "2020-08-01T00:00:00",
          "2020-09-01T00:00:00",
          "2020-10-01T00:00:00",
          "2020-11-01T00:00:00",
          "2020-12-01T00:00:00",
          "2021-01-01T00:00:00",
          "2021-02-01T00:00:00",
          "2021-03-01T00:00:00",
          "2021-04-01T00:00:00",
          "2021-05-01T00:00:00",
          "2021-06-01T00:00:00",
          "2021-07-01T00:00:00",
          "2021-08-01T00:00:00",
          "2021-09-01T00:00:00",
          "2021-10-01T00:00:00",
          "2021-11-01T00:00:00",
          "2021-12-01T00:00:00",
          "2022-01-01T00:00:00",
          "2022-02-01T00:00:00",
          "2022-03-01T00:00:00",
          "2022-04-01T00:00:00",
          "2022-05-01T00:00:00",
          "2022-06-01T00:00:00",
          "2022-07-01T00:00:00",
          "2022-08-01T00:00:00",
          "2022-09-01T00:00:00",
          "2022-10-01T00:00:00",
          "2022-11-01T00:00:00",
          "2022-12-01T00:00:00",
          "2023-01-01T00:00:00"
         ],
         "xaxis": "x2",
         "y": [
          72166.127,
          75651.623,
          72965.079,
          75796.757,
          73099.629,
          69944.104,
          72155.165,
          71401.727,
          75905.132,
          73086.368,
          72127.924,
          75829.176,
          71632.332,
          71932.908,
          73793.99,
          72501.102,
          75078.124,
          73221.358,
          72940.285,
          73391.662,
          71084.55,
          72395.346,
          70065.339,
          74465.455,
          71697.11,
          60532.579,
          46035.97,
          59566.485,
          60557.862,
          62674.813,
          61793.411,
          62813.516,
          64593.964,
          56771.073,
          63136.704,
          66629.352,
          64242.623,
          65309.822,
          57811.71,
          62996.937,
          65436.035,
          67958.166,
          68238.529,
          67953.919,
          72589.911,
          69381.667,
          67984.826,
          68044.499,
          68642.138,
          66813.31,
          62980.73,
          64524.444,
          65108.172,
          66703.586,
          66587.301,
          67570.662,
          62504.364,
          66208.621,
          64049.098,
          67399.794
         ],
         "yaxis": "y2"
        },
        {
         "name": " Gaz naturel",
         "type": "scatter",
         "x": [
          "2018-02-01T00:00:00",
          "2018-03-01T00:00:00",
          "2018-04-01T00:00:00",
          "2018-05-01T00:00:00",
          "2018-06-01T00:00:00",
          "2018-07-01T00:00:00",
          "2018-08-01T00:00:00",
          "2018-09-01T00:00:00",
          "2018-10-01T00:00:00",
          "2018-11-01T00:00:00",
          "2018-12-01T00:00:00",
          "2019-01-01T00:00:00",
          "2019-02-01T00:00:00",
          "2019-03-01T00:00:00",
          "2019-04-01T00:00:00",
          "2019-05-01T00:00:00",
          "2019-06-01T00:00:00",
          "2019-07-01T00:00:00",
          "2019-08-01T00:00:00",
          "2019-09-01T00:00:00",
          "2019-10-01T00:00:00",
          "2019-11-01T00:00:00",
          "2019-12-01T00:00:00",
          "2020-01-01T00:00:00",
          "2020-02-01T00:00:00",
          "2020-03-01T00:00:00",
          "2020-04-01T00:00:00",
          "2020-05-01T00:00:00",
          "2020-06-01T00:00:00",
          "2020-07-01T00:00:00",
          "2020-08-01T00:00:00",
          "2020-09-01T00:00:00",
          "2020-10-01T00:00:00",
          "2020-11-01T00:00:00",
          "2020-12-01T00:00:00",
          "2021-01-01T00:00:00",
          "2021-02-01T00:00:00",
          "2021-03-01T00:00:00",
          "2021-04-01T00:00:00",
          "2021-05-01T00:00:00",
          "2021-06-01T00:00:00",
          "2021-07-01T00:00:00",
          "2021-08-01T00:00:00",
          "2021-09-01T00:00:00",
          "2021-10-01T00:00:00",
          "2021-11-01T00:00:00",
          "2021-12-01T00:00:00",
          "2022-01-01T00:00:00",
          "2022-02-01T00:00:00",
          "2022-03-01T00:00:00",
          "2022-04-01T00:00:00",
          "2022-05-01T00:00:00",
          "2022-06-01T00:00:00",
          "2022-07-01T00:00:00",
          "2022-08-01T00:00:00",
          "2022-09-01T00:00:00",
          "2022-10-01T00:00:00",
          "2022-11-01T00:00:00",
          "2022-12-01T00:00:00",
          "2023-01-01T00:00:00"
         ],
         "xaxis": "x2",
         "y": [
          35348.322,
          36853.096,
          36686.464,
          34437.387,
          34997.415,
          36412.976,
          37276.337,
          35671.63,
          36390.976,
          37068.355,
          36101.838,
          37114.64,
          36868.423,
          35291.709,
          37035.525,
          38141.854,
          37647.924,
          37490.469,
          36700.856,
          36572.173,
          37203.521,
          36367.637,
          36510.059,
          37127.883,
          36969.218,
          32695.006,
          32882.613,
          34829.117,
          38489.605,
          36655.707,
          36921.14,
          37171.013,
          37859.896,
          35082.21,
          34850.917,
          34922.827,
          35212.829,
          34174.645,
          35083.528,
          35791.437,
          35430.689,
          33824.271,
          33196.576,
          33821.877,
          34101.374,
          34547.217,
          35895.957,
          33091.691,
          32898.685,
          33955.894,
          36050.367,
          37758.164,
          35458.175,
          35054.936,
          35502.623,
          36179.013,
          35313.892,
          29181.879,
          29186.495,
          27755.924
         ],
         "yaxis": "y2"
        },
        {
         "name": "Combustibles minéraux solides",
         "type": "scatter",
         "x": [
          "2018-02-01T00:00:00",
          "2018-03-01T00:00:00",
          "2018-04-01T00:00:00",
          "2018-05-01T00:00:00",
          "2018-06-01T00:00:00",
          "2018-07-01T00:00:00",
          "2018-08-01T00:00:00",
          "2018-09-01T00:00:00",
          "2018-10-01T00:00:00",
          "2018-11-01T00:00:00",
          "2018-12-01T00:00:00",
          "2019-01-01T00:00:00",
          "2019-02-01T00:00:00",
          "2019-03-01T00:00:00",
          "2019-04-01T00:00:00",
          "2019-05-01T00:00:00",
          "2019-06-01T00:00:00",
          "2019-07-01T00:00:00",
          "2019-08-01T00:00:00",
          "2019-09-01T00:00:00",
          "2019-10-01T00:00:00",
          "2019-11-01T00:00:00",
          "2019-12-01T00:00:00",
          "2020-01-01T00:00:00",
          "2020-02-01T00:00:00",
          "2020-03-01T00:00:00",
          "2020-04-01T00:00:00",
          "2020-05-01T00:00:00",
          "2020-06-01T00:00:00",
          "2020-07-01T00:00:00",
          "2020-08-01T00:00:00",
          "2020-09-01T00:00:00",
          "2020-10-01T00:00:00",
          "2020-11-01T00:00:00",
          "2020-12-01T00:00:00",
          "2021-01-01T00:00:00",
          "2021-02-01T00:00:00",
          "2021-03-01T00:00:00",
          "2021-04-01T00:00:00",
          "2021-05-01T00:00:00",
          "2021-06-01T00:00:00",
          "2021-07-01T00:00:00",
          "2021-08-01T00:00:00",
          "2021-09-01T00:00:00",
          "2021-10-01T00:00:00",
          "2021-11-01T00:00:00",
          "2021-12-01T00:00:00",
          "2022-01-01T00:00:00",
          "2022-02-01T00:00:00",
          "2022-03-01T00:00:00",
          "2022-04-01T00:00:00",
          "2022-05-01T00:00:00",
          "2022-06-01T00:00:00",
          "2022-07-01T00:00:00",
          "2022-08-01T00:00:00",
          "2022-09-01T00:00:00",
          "2022-10-01T00:00:00",
          "2022-11-01T00:00:00",
          "2022-12-01T00:00:00",
          "2023-01-01T00:00:00"
         ],
         "xaxis": "x3",
         "y": [
          7120.263,
          8170.646,
          8264.403,
          8175.539,
          8552.09,
          9036.897,
          7902.993,
          8028.988,
          7795.703,
          7378.986,
          7759.926,
          6156.347,
          6649.976,
          7500.835,
          6722.89,
          6894.161,
          7526.626,
          6589.034,
          6883.03,
          6268.282,
          6001.273,
          6274.066,
          6660.949,
          7033.188,
          6610.37,
          5644.527,
          4694.267,
          5377.45,
          4416.211,
          5119.256,
          5286.944,
          5750.3,
          5161.252,
          5743.417,
          6809.496,
          6945.761,
          6462.274,
          6249.446,
          6397.33,
          6159.106,
          6360.864,
          6342.747,
          6444.915,
          7157.489,
          6802.958,
          6299.44,
          6514.809,
          6415.484,
          7075.835,
          7753.175,
          5527.056,
          5896.336,
          6078.007,
          5890.435,
          5983.497,
          4968.237,
          5280.126,
          5549.195,
          6027.773,
          5244.642
         ],
         "yaxis": "y3"
        }
       ],
       "layout": {
        "annotations": [
         {
          "showarrow": false,
          "text": "Crise liée au COVID-19",
          "x": "2020-03-11",
          "xanchor": "left",
          "xref": "x",
          "y": 1,
          "yanchor": "top",
          "yref": "y domain"
         },
         {
          "showarrow": false,
          "text": "Crise liée au COVID-19",
          "x": "2020-03-11",
          "xanchor": "left",
          "xref": "x2",
          "y": 1,
          "yanchor": "top",
          "yref": "y2 domain"
         },
         {
          "showarrow": false,
          "text": "Crise liée au COVID-19",
          "x": "2020-03-11",
          "xanchor": "left",
          "xref": "x3",
          "y": 1,
          "yanchor": "top",
          "yref": "y3 domain"
         },
         {
          "showarrow": false,
          "text": "Guerre en Ukraine",
          "x": "2022-02-24",
          "xanchor": "left",
          "xref": "x",
          "y": 1,
          "yanchor": "top",
          "yref": "y domain"
         },
         {
          "showarrow": false,
          "text": "Guerre en Ukraine",
          "x": "2022-02-24",
          "xanchor": "left",
          "xref": "x2",
          "y": 1,
          "yanchor": "top",
          "yref": "y2 domain"
         },
         {
          "showarrow": false,
          "text": "Guerre en Ukraine",
          "x": "2022-02-24",
          "xanchor": "left",
          "xref": "x3",
          "y": 1,
          "yanchor": "top",
          "yref": "y3 domain"
         }
        ],
        "height": 600,
        "legend": {
         "font": {
          "size": 24
         },
         "title": {
          "text": "Légende :"
         }
        },
        "shapes": [
         {
          "fillcolor": "red",
          "line": {
           "width": 0
          },
          "opacity": 0.1,
          "type": "rect",
          "x0": "2020-03-11",
          "x1": "2022-02-24",
          "xref": "x",
          "y0": 0,
          "y1": 1,
          "yref": "y domain"
         },
         {
          "fillcolor": "red",
          "line": {
           "width": 0
          },
          "opacity": 0.1,
          "type": "rect",
          "x0": "2020-03-11",
          "x1": "2022-02-24",
          "xref": "x2",
          "y0": 0,
          "y1": 1,
          "yref": "y2 domain"
         },
         {
          "fillcolor": "red",
          "line": {
           "width": 0
          },
          "opacity": 0.1,
          "type": "rect",
          "x0": "2020-03-11",
          "x1": "2022-02-24",
          "xref": "x3",
          "y0": 0,
          "y1": 1,
          "yref": "y3 domain"
         },
         {
          "fillcolor": "blue",
          "line": {
           "width": 0
          },
          "opacity": 0.1,
          "type": "rect",
          "x0": "2022-02-24",
          "x1": "2023-04-01",
          "xref": "x",
          "y0": 0,
          "y1": 1,
          "yref": "y domain"
         },
         {
          "fillcolor": "blue",
          "line": {
           "width": 0
          },
          "opacity": 0.1,
          "type": "rect",
          "x0": "2022-02-24",
          "x1": "2023-04-01",
          "xref": "x2",
          "y0": 0,
          "y1": 1,
          "yref": "y2 domain"
         },
         {
          "fillcolor": "blue",
          "line": {
           "width": 0
          },
          "opacity": 0.1,
          "type": "rect",
          "x0": "2022-02-24",
          "x1": "2023-04-01",
          "xref": "x3",
          "y0": 0,
          "y1": 1,
          "yref": "y3 domain"
         }
        ],
        "template": {
         "data": {
          "bar": [
           {
            "error_x": {
             "color": "rgb(36,36,36)"
            },
            "error_y": {
             "color": "rgb(36,36,36)"
            },
            "marker": {
             "line": {
              "color": "white",
              "width": 0.5
             },
             "pattern": {
              "fillmode": "overlay",
              "size": 10,
              "solidity": 0.2
             }
            },
            "type": "bar"
           }
          ],
          "barpolar": [
           {
            "marker": {
             "line": {
              "color": "white",
              "width": 0.5
             },
             "pattern": {
              "fillmode": "overlay",
              "size": 10,
              "solidity": 0.2
             }
            },
            "type": "barpolar"
           }
          ],
          "carpet": [
           {
            "aaxis": {
             "endlinecolor": "rgb(36,36,36)",
             "gridcolor": "white",
             "linecolor": "white",
             "minorgridcolor": "white",
             "startlinecolor": "rgb(36,36,36)"
            },
            "baxis": {
             "endlinecolor": "rgb(36,36,36)",
             "gridcolor": "white",
             "linecolor": "white",
             "minorgridcolor": "white",
             "startlinecolor": "rgb(36,36,36)"
            },
            "type": "carpet"
           }
          ],
          "choropleth": [
           {
            "colorbar": {
             "outlinewidth": 1,
             "tickcolor": "rgb(36,36,36)",
             "ticks": "outside"
            },
            "type": "choropleth"
           }
          ],
          "contour": [
           {
            "colorbar": {
             "outlinewidth": 1,
             "tickcolor": "rgb(36,36,36)",
             "ticks": "outside"
            },
            "colorscale": [
             [
              0,
              "#440154"
             ],
             [
              0.1111111111111111,
              "#482878"
             ],
             [
              0.2222222222222222,
              "#3e4989"
             ],
             [
              0.3333333333333333,
              "#31688e"
             ],
             [
              0.4444444444444444,
              "#26828e"
             ],
             [
              0.5555555555555556,
              "#1f9e89"
             ],
             [
              0.6666666666666666,
              "#35b779"
             ],
             [
              0.7777777777777778,
              "#6ece58"
             ],
             [
              0.8888888888888888,
              "#b5de2b"
             ],
             [
              1,
              "#fde725"
             ]
            ],
            "type": "contour"
           }
          ],
          "contourcarpet": [
           {
            "colorbar": {
             "outlinewidth": 1,
             "tickcolor": "rgb(36,36,36)",
             "ticks": "outside"
            },
            "type": "contourcarpet"
           }
          ],
          "heatmap": [
           {
            "colorbar": {
             "outlinewidth": 1,
             "tickcolor": "rgb(36,36,36)",
             "ticks": "outside"
            },
            "colorscale": [
             [
              0,
              "#440154"
             ],
             [
              0.1111111111111111,
              "#482878"
             ],
             [
              0.2222222222222222,
              "#3e4989"
             ],
             [
              0.3333333333333333,
              "#31688e"
             ],
             [
              0.4444444444444444,
              "#26828e"
             ],
             [
              0.5555555555555556,
              "#1f9e89"
             ],
             [
              0.6666666666666666,
              "#35b779"
             ],
             [
              0.7777777777777778,
              "#6ece58"
             ],
             [
              0.8888888888888888,
              "#b5de2b"
             ],
             [
              1,
              "#fde725"
             ]
            ],
            "type": "heatmap"
           }
          ],
          "heatmapgl": [
           {
            "colorbar": {
             "outlinewidth": 1,
             "tickcolor": "rgb(36,36,36)",
             "ticks": "outside"
            },
            "colorscale": [
             [
              0,
              "#440154"
             ],
             [
              0.1111111111111111,
              "#482878"
             ],
             [
              0.2222222222222222,
              "#3e4989"
             ],
             [
              0.3333333333333333,
              "#31688e"
             ],
             [
              0.4444444444444444,
              "#26828e"
             ],
             [
              0.5555555555555556,
              "#1f9e89"
             ],
             [
              0.6666666666666666,
              "#35b779"
             ],
             [
              0.7777777777777778,
              "#6ece58"
             ],
             [
              0.8888888888888888,
              "#b5de2b"
             ],
             [
              1,
              "#fde725"
             ]
            ],
            "type": "heatmapgl"
           }
          ],
          "histogram": [
           {
            "marker": {
             "line": {
              "color": "white",
              "width": 0.6
             }
            },
            "type": "histogram"
           }
          ],
          "histogram2d": [
           {
            "colorbar": {
             "outlinewidth": 1,
             "tickcolor": "rgb(36,36,36)",
             "ticks": "outside"
            },
            "colorscale": [
             [
              0,
              "#440154"
             ],
             [
              0.1111111111111111,
              "#482878"
             ],
             [
              0.2222222222222222,
              "#3e4989"
             ],
             [
              0.3333333333333333,
              "#31688e"
             ],
             [
              0.4444444444444444,
              "#26828e"
             ],
             [
              0.5555555555555556,
              "#1f9e89"
             ],
             [
              0.6666666666666666,
              "#35b779"
             ],
             [
              0.7777777777777778,
              "#6ece58"
             ],
             [
              0.8888888888888888,
              "#b5de2b"
             ],
             [
              1,
              "#fde725"
             ]
            ],
            "type": "histogram2d"
           }
          ],
          "histogram2dcontour": [
           {
            "colorbar": {
             "outlinewidth": 1,
             "tickcolor": "rgb(36,36,36)",
             "ticks": "outside"
            },
            "colorscale": [
             [
              0,
              "#440154"
             ],
             [
              0.1111111111111111,
              "#482878"
             ],
             [
              0.2222222222222222,
              "#3e4989"
             ],
             [
              0.3333333333333333,
              "#31688e"
             ],
             [
              0.4444444444444444,
              "#26828e"
             ],
             [
              0.5555555555555556,
              "#1f9e89"
             ],
             [
              0.6666666666666666,
              "#35b779"
             ],
             [
              0.7777777777777778,
              "#6ece58"
             ],
             [
              0.8888888888888888,
              "#b5de2b"
             ],
             [
              1,
              "#fde725"
             ]
            ],
            "type": "histogram2dcontour"
           }
          ],
          "mesh3d": [
           {
            "colorbar": {
             "outlinewidth": 1,
             "tickcolor": "rgb(36,36,36)",
             "ticks": "outside"
            },
            "type": "mesh3d"
           }
          ],
          "parcoords": [
           {
            "line": {
             "colorbar": {
              "outlinewidth": 1,
              "tickcolor": "rgb(36,36,36)",
              "ticks": "outside"
             }
            },
            "type": "parcoords"
           }
          ],
          "pie": [
           {
            "automargin": true,
            "type": "pie"
           }
          ],
          "scatter": [
           {
            "marker": {
             "colorbar": {
              "outlinewidth": 1,
              "tickcolor": "rgb(36,36,36)",
              "ticks": "outside"
             }
            },
            "type": "scatter"
           }
          ],
          "scatter3d": [
           {
            "line": {
             "colorbar": {
              "outlinewidth": 1,
              "tickcolor": "rgb(36,36,36)",
              "ticks": "outside"
             }
            },
            "marker": {
             "colorbar": {
              "outlinewidth": 1,
              "tickcolor": "rgb(36,36,36)",
              "ticks": "outside"
             }
            },
            "type": "scatter3d"
           }
          ],
          "scattercarpet": [
           {
            "marker": {
             "colorbar": {
              "outlinewidth": 1,
              "tickcolor": "rgb(36,36,36)",
              "ticks": "outside"
             }
            },
            "type": "scattercarpet"
           }
          ],
          "scattergeo": [
           {
            "marker": {
             "colorbar": {
              "outlinewidth": 1,
              "tickcolor": "rgb(36,36,36)",
              "ticks": "outside"
             }
            },
            "type": "scattergeo"
           }
          ],
          "scattergl": [
           {
            "marker": {
             "colorbar": {
              "outlinewidth": 1,
              "tickcolor": "rgb(36,36,36)",
              "ticks": "outside"
             }
            },
            "type": "scattergl"
           }
          ],
          "scattermapbox": [
           {
            "marker": {
             "colorbar": {
              "outlinewidth": 1,
              "tickcolor": "rgb(36,36,36)",
              "ticks": "outside"
             }
            },
            "type": "scattermapbox"
           }
          ],
          "scatterpolar": [
           {
            "marker": {
             "colorbar": {
              "outlinewidth": 1,
              "tickcolor": "rgb(36,36,36)",
              "ticks": "outside"
             }
            },
            "type": "scatterpolar"
           }
          ],
          "scatterpolargl": [
           {
            "marker": {
             "colorbar": {
              "outlinewidth": 1,
              "tickcolor": "rgb(36,36,36)",
              "ticks": "outside"
             }
            },
            "type": "scatterpolargl"
           }
          ],
          "scatterternary": [
           {
            "marker": {
             "colorbar": {
              "outlinewidth": 1,
              "tickcolor": "rgb(36,36,36)",
              "ticks": "outside"
             }
            },
            "type": "scatterternary"
           }
          ],
          "surface": [
           {
            "colorbar": {
             "outlinewidth": 1,
             "tickcolor": "rgb(36,36,36)",
             "ticks": "outside"
            },
            "colorscale": [
             [
              0,
              "#440154"
             ],
             [
              0.1111111111111111,
              "#482878"
             ],
             [
              0.2222222222222222,
              "#3e4989"
             ],
             [
              0.3333333333333333,
              "#31688e"
             ],
             [
              0.4444444444444444,
              "#26828e"
             ],
             [
              0.5555555555555556,
              "#1f9e89"
             ],
             [
              0.6666666666666666,
              "#35b779"
             ],
             [
              0.7777777777777778,
              "#6ece58"
             ],
             [
              0.8888888888888888,
              "#b5de2b"
             ],
             [
              1,
              "#fde725"
             ]
            ],
            "type": "surface"
           }
          ],
          "table": [
           {
            "cells": {
             "fill": {
              "color": "rgb(237,237,237)"
             },
             "line": {
              "color": "white"
             }
            },
            "header": {
             "fill": {
              "color": "rgb(217,217,217)"
             },
             "line": {
              "color": "white"
             }
            },
            "type": "table"
           }
          ]
         },
         "layout": {
          "annotationdefaults": {
           "arrowhead": 0,
           "arrowwidth": 1
          },
          "autotypenumbers": "strict",
          "coloraxis": {
           "colorbar": {
            "outlinewidth": 1,
            "tickcolor": "rgb(36,36,36)",
            "ticks": "outside"
           }
          },
          "colorscale": {
           "diverging": [
            [
             0,
             "rgb(103,0,31)"
            ],
            [
             0.1,
             "rgb(178,24,43)"
            ],
            [
             0.2,
             "rgb(214,96,77)"
            ],
            [
             0.3,
             "rgb(244,165,130)"
            ],
            [
             0.4,
             "rgb(253,219,199)"
            ],
            [
             0.5,
             "rgb(247,247,247)"
            ],
            [
             0.6,
             "rgb(209,229,240)"
            ],
            [
             0.7,
             "rgb(146,197,222)"
            ],
            [
             0.8,
             "rgb(67,147,195)"
            ],
            [
             0.9,
             "rgb(33,102,172)"
            ],
            [
             1,
             "rgb(5,48,97)"
            ]
           ],
           "sequential": [
            [
             0,
             "#440154"
            ],
            [
             0.1111111111111111,
             "#482878"
            ],
            [
             0.2222222222222222,
             "#3e4989"
            ],
            [
             0.3333333333333333,
             "#31688e"
            ],
            [
             0.4444444444444444,
             "#26828e"
            ],
            [
             0.5555555555555556,
             "#1f9e89"
            ],
            [
             0.6666666666666666,
             "#35b779"
            ],
            [
             0.7777777777777778,
             "#6ece58"
            ],
            [
             0.8888888888888888,
             "#b5de2b"
            ],
            [
             1,
             "#fde725"
            ]
           ],
           "sequentialminus": [
            [
             0,
             "#440154"
            ],
            [
             0.1111111111111111,
             "#482878"
            ],
            [
             0.2222222222222222,
             "#3e4989"
            ],
            [
             0.3333333333333333,
             "#31688e"
            ],
            [
             0.4444444444444444,
             "#26828e"
            ],
            [
             0.5555555555555556,
             "#1f9e89"
            ],
            [
             0.6666666666666666,
             "#35b779"
            ],
            [
             0.7777777777777778,
             "#6ece58"
            ],
            [
             0.8888888888888888,
             "#b5de2b"
            ],
            [
             1,
             "#fde725"
            ]
           ]
          },
          "colorway": [
           "#1F77B4",
           "#FF7F0E",
           "#2CA02C",
           "#D62728",
           "#9467BD",
           "#8C564B",
           "#E377C2",
           "#7F7F7F",
           "#BCBD22",
           "#17BECF"
          ],
          "font": {
           "color": "rgb(36,36,36)"
          },
          "geo": {
           "bgcolor": "white",
           "lakecolor": "white",
           "landcolor": "white",
           "showlakes": true,
           "showland": true,
           "subunitcolor": "white"
          },
          "hoverlabel": {
           "align": "left"
          },
          "hovermode": "closest",
          "mapbox": {
           "style": "light"
          },
          "paper_bgcolor": "white",
          "plot_bgcolor": "white",
          "polar": {
           "angularaxis": {
            "gridcolor": "rgb(232,232,232)",
            "linecolor": "rgb(36,36,36)",
            "showgrid": false,
            "showline": true,
            "ticks": "outside"
           },
           "bgcolor": "white",
           "radialaxis": {
            "gridcolor": "rgb(232,232,232)",
            "linecolor": "rgb(36,36,36)",
            "showgrid": false,
            "showline": true,
            "ticks": "outside"
           }
          },
          "scene": {
           "xaxis": {
            "backgroundcolor": "white",
            "gridcolor": "rgb(232,232,232)",
            "gridwidth": 2,
            "linecolor": "rgb(36,36,36)",
            "showbackground": true,
            "showgrid": false,
            "showline": true,
            "ticks": "outside",
            "zeroline": false,
            "zerolinecolor": "rgb(36,36,36)"
           },
           "yaxis": {
            "backgroundcolor": "white",
            "gridcolor": "rgb(232,232,232)",
            "gridwidth": 2,
            "linecolor": "rgb(36,36,36)",
            "showbackground": true,
            "showgrid": false,
            "showline": true,
            "ticks": "outside",
            "zeroline": false,
            "zerolinecolor": "rgb(36,36,36)"
           },
           "zaxis": {
            "backgroundcolor": "white",
            "gridcolor": "rgb(232,232,232)",
            "gridwidth": 2,
            "linecolor": "rgb(36,36,36)",
            "showbackground": true,
            "showgrid": false,
            "showline": true,
            "ticks": "outside",
            "zeroline": false,
            "zerolinecolor": "rgb(36,36,36)"
           }
          },
          "shapedefaults": {
           "fillcolor": "black",
           "line": {
            "width": 0
           },
           "opacity": 0.3
          },
          "ternary": {
           "aaxis": {
            "gridcolor": "rgb(232,232,232)",
            "linecolor": "rgb(36,36,36)",
            "showgrid": false,
            "showline": true,
            "ticks": "outside"
           },
           "baxis": {
            "gridcolor": "rgb(232,232,232)",
            "linecolor": "rgb(36,36,36)",
            "showgrid": false,
            "showline": true,
            "ticks": "outside"
           },
           "bgcolor": "white",
           "caxis": {
            "gridcolor": "rgb(232,232,232)",
            "linecolor": "rgb(36,36,36)",
            "showgrid": false,
            "showline": true,
            "ticks": "outside"
           }
          },
          "title": {
           "x": 0.05
          },
          "xaxis": {
           "automargin": true,
           "gridcolor": "rgb(232,232,232)",
           "linecolor": "rgb(36,36,36)",
           "showgrid": false,
           "showline": true,
           "ticks": "outside",
           "title": {
            "standoff": 15
           },
           "zeroline": false,
           "zerolinecolor": "rgb(36,36,36)"
          },
          "yaxis": {
           "automargin": true,
           "gridcolor": "rgb(232,232,232)",
           "linecolor": "rgb(36,36,36)",
           "showgrid": false,
           "showline": true,
           "ticks": "outside",
           "title": {
            "standoff": 15
           },
           "zeroline": false,
           "zerolinecolor": "rgb(36,36,36)"
          }
         }
        },
        "title": {
         "font": {
          "size": 24
         },
         "text": "Consommation d'énergies de 2018 à 2023",
         "x": 0.5,
         "xanchor": "center",
         "y": 0.95,
         "yanchor": "top"
        },
        "width": 1000,
        "xaxis": {
         "anchor": "y",
         "domain": [
          0,
          1
         ],
         "matches": "x3",
         "showticklabels": false
        },
        "xaxis2": {
         "anchor": "y2",
         "domain": [
          0,
          1
         ],
         "matches": "x3",
         "showticklabels": false
        },
        "xaxis3": {
         "anchor": "y3",
         "domain": [
          0,
          1
         ],
         "title": {
          "text": "Période en année"
         }
        },
        "yaxis": {
         "anchor": "x",
         "domain": [
          0.7333333333333333,
          1
         ]
        },
        "yaxis2": {
         "anchor": "x2",
         "domain": [
          0.36666666666666664,
          0.6333333333333333
         ],
         "title": {
          "text": "Consommation d'énergies (en GWh)"
         }
        },
        "yaxis3": {
         "anchor": "x3",
         "domain": [
          0,
          0.26666666666666666
         ]
        }
       }
      }
     },
     "metadata": {},
     "output_type": "display_data"
    }
   ],
   "source": [
    "fig = make_subplots(rows=3, cols=1, shared_xaxes=True)\n",
    "\n",
    "fig.add_trace(go.Scatter(x=synth_ener.index, y=synth_ener['8. Consommation primaire CVS-CVC-CJO toutes énergies (en GWh)'], name='Toutes énergies'), row=1, col=1)\n",
    "fig.add_trace(go.Scatter(x=synth_ener.index, y=synth_ener[\"8.4 Consommation d'électricité primaire et d'équivalent primaire d'électricité nucléaire CVS-CVC-CJO (en GWh)\"], name=\"Electricité\"), row=2, col=1)\n",
    "fig.add_trace(go.Scatter(x=synth_ener.index, y=synth_ener[\"8.2 Consommation de pétrole (brut et raffiné) CVS-CVC-CJO (en GWh)\"], name=\"Pétrole\"), row=2, col=1)\n",
    "\n",
    "fig.add_trace(go.Scatter(x=synth_ener.index, y=synth_ener['8.3 Consommation de gaz naturel CVS-CVC-CJO (en GWh)'], name=' Gaz naturel'), row=2, col=1)\n",
    "fig.add_trace(go.Scatter(x=synth_ener.index, y=synth_ener['8.1 Consommation de combustibles minéraux solides CVS-CVC-CJO (en GWh)'], name='Combustibles minéraux solides'), row=3, col=1)\n",
    "\n",
    "fig.add_vrect(x0='2020-03-11', x1='2022-02-24', line_width=0, fillcolor=\"red\", opacity=0.1, annotation_text='Crise liée au COVID-19', annotation_position='inside top left')\n",
    "fig.add_vrect(x0='2022-02-24', x1='2023-04-01', line_width=0, fillcolor=\"blue\", opacity=0.1, annotation_text='Guerre en Ukraine', annotation_position='inside top left')\n",
    "   \n",
    "fig.update_yaxes(title_text=\"Consommation d'énergies (en GWh)\", row=2, col=1)\n",
    "fig.update_layout(title={\n",
    "        'text': \"Consommation d'énergies de 2018 à 2023\",\n",
    "        'y':0.95,\n",
    "        'x':0.5,\n",
    "        'xanchor': 'center',\n",
    "        'yanchor': 'top'},\n",
    "        legend_title_text = \"Légende :\", width=1000, height=600, template='simple_white',legend_font_size=24, title_font_size=24)\n",
    "fig.update_xaxes(title_text=\"Période en année\", row=3, col=1)\n",
    "\n",
    "\n",
    "fig.show()"
   ]
  },
  {
   "cell_type": "code",
   "execution_count": null,
   "id": "a235b2dd",
   "metadata": {},
   "outputs": [],
   "source": []
  },
  {
   "cell_type": "code",
   "execution_count": null,
   "id": "6e29c6c3",
   "metadata": {},
   "outputs": [],
   "source": []
  }
 ],
 "metadata": {
  "kernelspec": {
   "display_name": "Python 3 (ipykernel)",
   "language": "python",
   "name": "python3"
  },
  "language_info": {
   "codemirror_mode": {
    "name": "ipython",
    "version": 3
   },
   "file_extension": ".py",
   "mimetype": "text/x-python",
   "name": "python",
   "nbconvert_exporter": "python",
   "pygments_lexer": "ipython3",
   "version": "3.9.12"
  }
 },
 "nbformat": 4,
 "nbformat_minor": 5
}
